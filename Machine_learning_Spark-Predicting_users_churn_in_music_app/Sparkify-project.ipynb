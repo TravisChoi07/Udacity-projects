{
 "cells": [
  {
   "cell_type": "markdown",
   "metadata": {},
   "source": [
    "# 项目名称：分析Sparkify软件用户数据，预测客户流失"
   ]
  },
  {
   "cell_type": "markdown",
   "metadata": {},
   "source": [
    "## 项目背景\n",
    "\n",
    "- 本项目数据集来自于Sparkify，Sparkify是一款听歌软件，拥有海量的用户，用户分为`会员用户`(每月付费，可免费听歌)、`普通用户`(不付费，有广告植入)。\n",
    "\n",
    "- 每次用户与产品互动时(如听歌、登录登出、点赞、看广告、服务升级降级等)，均会产生数据记录，本项目的数据集即为这些记录的汇总。\n",
    "- 公司通过会员用户的付费盈利，通过分析数据集，观察和总结用户行为，进而挖掘隐藏在数据背后的信息，以便推出相关决策，维持和增加会员用户的数量，最终增加公司盈利水平。"
   ]
  },
  {
   "cell_type": "markdown",
   "metadata": {},
   "source": [
    "## 项目目标"
   ]
  },
  {
   "cell_type": "markdown",
   "metadata": {
    "ExecuteTime": {
     "end_time": "2020-02-12T02:32:22.016019Z",
     "start_time": "2020-02-12T02:32:21.837780Z"
    }
   },
   "source": [
    "- 观察和分析用户数据，关注用户取消关注的行为(取关或删除Sparkify，不再产生用户互动数据记录，不再有转化为付费会员的可能)，并从其行为数据信息中提取相关特征，进而对后期潜在的取关行为进行预测。"
   ]
  },
  {
   "cell_type": "markdown",
   "metadata": {},
   "source": [
    "## 主要应用\n",
    "- `spark:` pyspark.sql, pyspark.ml\n",
    "- `python:` pandas, numpy, matplotlib\n",
    "- `SQL`"
   ]
  },
  {
   "cell_type": "markdown",
   "metadata": {},
   "source": [
    "## 项目目录"
   ]
  },
  {
   "cell_type": "markdown",
   "metadata": {
    "toc": true
   },
   "source": [
    "<h1>目录<span class=\"tocSkip\"></span></h1>\n",
    "<div class=\"toc\"><ul class=\"toc-item\"><li><span><a href=\"#项目名称：分析Sparkify软件用户数据，预测客户流失\" data-toc-modified-id=\"项目名称：分析Sparkify软件用户数据，预测客户流失-0\"><span class=\"toc-item-num\">0&nbsp;&nbsp;</span>项目名称：分析Sparkify软件用户数据，预测客户流失</a></span><ul class=\"toc-item\"><li><span><a href=\"#项目背景\" data-toc-modified-id=\"项目背景-0.1\"><span class=\"toc-item-num\">0.1&nbsp;&nbsp;</span>项目背景</a></span></li><li><span><a href=\"#项目目标\" data-toc-modified-id=\"项目目标-0.2\"><span class=\"toc-item-num\">0.2&nbsp;&nbsp;</span>项目目标</a></span></li><li><span><a href=\"#主要应用\" data-toc-modified-id=\"主要应用-0.3\"><span class=\"toc-item-num\">0.3&nbsp;&nbsp;</span>主要应用</a></span></li><li><span><a href=\"#项目目录\" data-toc-modified-id=\"项目目录-0.4\"><span class=\"toc-item-num\">0.4&nbsp;&nbsp;</span>项目目录</a></span></li><li><span><a href=\"#数据字典\" data-toc-modified-id=\"数据字典-0.5\"><span class=\"toc-item-num\">0.5&nbsp;&nbsp;</span>数据字典</a></span></li></ul></li><li><span><a href=\"#数据评估和清洗\" data-toc-modified-id=\"数据评估和清洗-1\"><span class=\"toc-item-num\">1&nbsp;&nbsp;</span>数据评估和清洗</a></span><ul class=\"toc-item\"><li><span><a href=\"#数据加载\" data-toc-modified-id=\"数据加载-1.1\"><span class=\"toc-item-num\">1.1&nbsp;&nbsp;</span>数据加载</a></span></li><li><span><a href=\"#数据查看\" data-toc-modified-id=\"数据查看-1.2\"><span class=\"toc-item-num\">1.2&nbsp;&nbsp;</span>数据查看</a></span></li><li><span><a href=\"#数据清洗\" data-toc-modified-id=\"数据清洗-1.3\"><span class=\"toc-item-num\">1.3&nbsp;&nbsp;</span>数据清洗</a></span><ul class=\"toc-item\"><li><span><a href=\"#缺失值\" data-toc-modified-id=\"缺失值-1.3.1\"><span class=\"toc-item-num\">1.3.1&nbsp;&nbsp;</span>缺失值</a></span></li><li><span><a href=\"#时间戳\" data-toc-modified-id=\"时间戳-1.3.2\"><span class=\"toc-item-num\">1.3.2&nbsp;&nbsp;</span>时间戳</a></span><ul class=\"toc-item\"><li><span><a href=\"#格式转换\" data-toc-modified-id=\"格式转换-1.3.2.1\"><span class=\"toc-item-num\">1.3.2.1&nbsp;&nbsp;</span>格式转换</a></span></li><li><span><a href=\"#增加列\" data-toc-modified-id=\"增加列-1.3.2.2\"><span class=\"toc-item-num\">1.3.2.2&nbsp;&nbsp;</span>增加列</a></span></li></ul></li><li><span><a href=\"#数据格式\" data-toc-modified-id=\"数据格式-1.3.3\"><span class=\"toc-item-num\">1.3.3&nbsp;&nbsp;</span>数据格式</a></span></li><li><span><a href=\"#定义客户流失\" data-toc-modified-id=\"定义客户流失-1.3.4\"><span class=\"toc-item-num\">1.3.4&nbsp;&nbsp;</span>定义客户流失</a></span><ul class=\"toc-item\"><li><span><a href=\"#查看流失客户\" data-toc-modified-id=\"查看流失客户-1.3.4.1\"><span class=\"toc-item-num\">1.3.4.1&nbsp;&nbsp;</span>查看流失客户</a></span></li><li><span><a href=\"#查看具体行为\" data-toc-modified-id=\"查看具体行为-1.3.4.2\"><span class=\"toc-item-num\">1.3.4.2&nbsp;&nbsp;</span>查看具体行为</a></span></li><li><span><a href=\"#创建Churn列\" data-toc-modified-id=\"创建Churn列-1.3.4.3\"><span class=\"toc-item-num\">1.3.4.3&nbsp;&nbsp;</span>创建Churn列</a></span></li><li><span><a href=\"#创建cancel列\" data-toc-modified-id=\"创建cancel列-1.3.4.4\"><span class=\"toc-item-num\">1.3.4.4&nbsp;&nbsp;</span>创建cancel列</a></span></li><li><span><a href=\"#创建label列\" data-toc-modified-id=\"创建label列-1.3.4.5\"><span class=\"toc-item-num\">1.3.4.5&nbsp;&nbsp;</span>创建label列</a></span></li></ul></li><li><span><a href=\"#数据聚合\" data-toc-modified-id=\"数据聚合-1.3.5\"><span class=\"toc-item-num\">1.3.5&nbsp;&nbsp;</span>数据聚合</a></span><ul class=\"toc-item\"><li><span><a href=\"#定义函数\" data-toc-modified-id=\"定义函数-1.3.5.1\"><span class=\"toc-item-num\">1.3.5.1&nbsp;&nbsp;</span>定义函数</a></span></li><li><span><a href=\"#注册天数\" data-toc-modified-id=\"注册天数-1.3.5.2\"><span class=\"toc-item-num\">1.3.5.2&nbsp;&nbsp;</span>注册天数</a></span></li><li><span><a href=\"#length列\" data-toc-modified-id=\"length列-1.3.5.3\"><span class=\"toc-item-num\">1.3.5.3&nbsp;&nbsp;</span>length列</a></span></li><li><span><a href=\"#level列\" data-toc-modified-id=\"level列-1.3.5.4\"><span class=\"toc-item-num\">1.3.5.4&nbsp;&nbsp;</span>level列</a></span></li><li><span><a href=\"#method列\" data-toc-modified-id=\"method列-1.3.5.5\"><span class=\"toc-item-num\">1.3.5.5&nbsp;&nbsp;</span>method列</a></span></li><li><span><a href=\"#page列\" data-toc-modified-id=\"page列-1.3.5.6\"><span class=\"toc-item-num\">1.3.5.6&nbsp;&nbsp;</span>page列</a></span></li><li><span><a href=\"#DataFrame聚合\" data-toc-modified-id=\"DataFrame聚合-1.3.5.7\"><span class=\"toc-item-num\">1.3.5.7&nbsp;&nbsp;</span>DataFrame聚合</a></span></li></ul></li></ul></li></ul></li><li><span><a href=\"#探索性数据分析\" data-toc-modified-id=\"探索性数据分析-2\"><span class=\"toc-item-num\">2&nbsp;&nbsp;</span>探索性数据分析</a></span><ul class=\"toc-item\"><li><span><a href=\"#定义函数\" data-toc-modified-id=\"定义函数-2.1\"><span class=\"toc-item-num\">2.1&nbsp;&nbsp;</span>定义函数</a></span></li><li><span><a href=\"#听歌时刻\" data-toc-modified-id=\"听歌时刻-2.2\"><span class=\"toc-item-num\">2.2&nbsp;&nbsp;</span>听歌时刻</a></span></li><li><span><a href=\"#性别\" data-toc-modified-id=\"性别-2.3\"><span class=\"toc-item-num\">2.3&nbsp;&nbsp;</span>性别</a></span></li><li><span><a href=\"#注册天数\" data-toc-modified-id=\"注册天数-2.4\"><span class=\"toc-item-num\">2.4&nbsp;&nbsp;</span>注册天数</a></span></li><li><span><a href=\"#听歌时长\" data-toc-modified-id=\"听歌时长-2.5\"><span class=\"toc-item-num\">2.5&nbsp;&nbsp;</span>听歌时长</a></span></li><li><span><a href=\"#用户等级\" data-toc-modified-id=\"用户等级-2.6\"><span class=\"toc-item-num\">2.6&nbsp;&nbsp;</span>用户等级</a></span></li><li><span><a href=\"#获取方式\" data-toc-modified-id=\"获取方式-2.7\"><span class=\"toc-item-num\">2.7&nbsp;&nbsp;</span>获取方式</a></span></li><li><span><a href=\"#用户操作页面\" data-toc-modified-id=\"用户操作页面-2.8\"><span class=\"toc-item-num\">2.8&nbsp;&nbsp;</span>用户操作页面</a></span><ul class=\"toc-item\"><li><span><a href=\"#添加好友\" data-toc-modified-id=\"添加好友-2.8.1\"><span class=\"toc-item-num\">2.8.1&nbsp;&nbsp;</span>添加好友</a></span></li><li><span><a href=\"#添加至播放列表\" data-toc-modified-id=\"添加至播放列表-2.8.2\"><span class=\"toc-item-num\">2.8.2&nbsp;&nbsp;</span>添加至播放列表</a></span></li><li><span><a href=\"#页面出错\" data-toc-modified-id=\"页面出错-2.8.3\"><span class=\"toc-item-num\">2.8.3&nbsp;&nbsp;</span>页面出错</a></span></li><li><span><a href=\"#查看帮助\" data-toc-modified-id=\"查看帮助-2.8.4\"><span class=\"toc-item-num\">2.8.4&nbsp;&nbsp;</span>查看帮助</a></span></li><li><span><a href=\"#广告\" data-toc-modified-id=\"广告-2.8.5\"><span class=\"toc-item-num\">2.8.5&nbsp;&nbsp;</span>广告</a></span></li><li><span><a href=\"#保存设置\" data-toc-modified-id=\"保存设置-2.8.6\"><span class=\"toc-item-num\">2.8.6&nbsp;&nbsp;</span>保存设置</a></span></li><li><span><a href=\"#升级降级\" data-toc-modified-id=\"升级降级-2.8.7\"><span class=\"toc-item-num\">2.8.7&nbsp;&nbsp;</span>升级降级</a></span></li><li><span><a href=\"#踩和赞\" data-toc-modified-id=\"踩和赞-2.8.8\"><span class=\"toc-item-num\">2.8.8&nbsp;&nbsp;</span>踩和赞</a></span></li></ul></li><li><span><a href=\"#数据保存\" data-toc-modified-id=\"数据保存-2.9\"><span class=\"toc-item-num\">2.9&nbsp;&nbsp;</span>数据保存</a></span></li></ul></li><li><span><a href=\"#特征工程\" data-toc-modified-id=\"特征工程-3\"><span class=\"toc-item-num\">3&nbsp;&nbsp;</span>特征工程</a></span><ul class=\"toc-item\"><li><span><a href=\"#数据加载\" data-toc-modified-id=\"数据加载-3.1\"><span class=\"toc-item-num\">3.1&nbsp;&nbsp;</span>数据加载</a></span><ul class=\"toc-item\"><li><span><a href=\"#标签转换\" data-toc-modified-id=\"标签转换-3.1.1\"><span class=\"toc-item-num\">3.1.1&nbsp;&nbsp;</span>标签转换</a></span></li><li><span><a href=\"#向量转换\" data-toc-modified-id=\"向量转换-3.1.2\"><span class=\"toc-item-num\">3.1.2&nbsp;&nbsp;</span>向量转换</a></span></li><li><span><a href=\"#标准化\" data-toc-modified-id=\"标准化-3.1.3\"><span class=\"toc-item-num\">3.1.3&nbsp;&nbsp;</span>标准化</a></span></li></ul></li></ul></li><li><span><a href=\"#机器学习建模\" data-toc-modified-id=\"机器学习建模-4\"><span class=\"toc-item-num\">4&nbsp;&nbsp;</span>机器学习建模</a></span><ul class=\"toc-item\"><li><span><a href=\"#拆分数据集\" data-toc-modified-id=\"拆分数据集-4.1\"><span class=\"toc-item-num\">4.1&nbsp;&nbsp;</span>拆分数据集</a></span></li><li><span><a href=\"#天真预测器\" data-toc-modified-id=\"天真预测器-4.2\"><span class=\"toc-item-num\">4.2&nbsp;&nbsp;</span>天真预测器</a></span><ul class=\"toc-item\"><li><span><a href=\"#预测1\" data-toc-modified-id=\"预测1-4.2.1\"><span class=\"toc-item-num\">4.2.1&nbsp;&nbsp;</span>预测1</a></span></li><li><span><a href=\"#预测2\" data-toc-modified-id=\"预测2-4.2.2\"><span class=\"toc-item-num\">4.2.2&nbsp;&nbsp;</span>预测2</a></span></li></ul></li><li><span><a href=\"#定义函数\" data-toc-modified-id=\"定义函数-4.3\"><span class=\"toc-item-num\">4.3&nbsp;&nbsp;</span>定义函数</a></span></li><li><span><a href=\"#监督学习\" data-toc-modified-id=\"监督学习-4.4\"><span class=\"toc-item-num\">4.4&nbsp;&nbsp;</span>监督学习</a></span><ul class=\"toc-item\"><li><span><a href=\"#决策树\" data-toc-modified-id=\"决策树-4.4.1\"><span class=\"toc-item-num\">4.4.1&nbsp;&nbsp;</span>决策树</a></span></li><li><span><a href=\"#逻辑回归\" data-toc-modified-id=\"逻辑回归-4.4.2\"><span class=\"toc-item-num\">4.4.2&nbsp;&nbsp;</span>逻辑回归</a></span></li><li><span><a href=\"#随机森林\" data-toc-modified-id=\"随机森林-4.4.3\"><span class=\"toc-item-num\">4.4.3&nbsp;&nbsp;</span>随机森林</a></span></li><li><span><a href=\"#支持向量机\" data-toc-modified-id=\"支持向量机-4.4.4\"><span class=\"toc-item-num\">4.4.4&nbsp;&nbsp;</span>支持向量机</a></span></li><li><span><a href=\"#提升树\" data-toc-modified-id=\"提升树-4.4.5\"><span class=\"toc-item-num\">4.4.5&nbsp;&nbsp;</span>提升树</a></span></li></ul></li></ul></li><li><span><a href=\"#项目总结\" data-toc-modified-id=\"项目总结-5\"><span class=\"toc-item-num\">5&nbsp;&nbsp;</span>项目总结</a></span><ul class=\"toc-item\"><li><span><a href=\"#模型总结\" data-toc-modified-id=\"模型总结-5.1\"><span class=\"toc-item-num\">5.1&nbsp;&nbsp;</span>模型总结</a></span></li><li><span><a href=\"#项目回顾\" data-toc-modified-id=\"项目回顾-5.2\"><span class=\"toc-item-num\">5.2&nbsp;&nbsp;</span>项目回顾</a></span></li><li><span><a href=\"#局限性\" data-toc-modified-id=\"局限性-5.3\"><span class=\"toc-item-num\">5.3&nbsp;&nbsp;</span>局限性</a></span></li></ul></li></ul></div>"
   ]
  },
  {
   "cell_type": "markdown",
   "metadata": {},
   "source": [
    "## 数据字典"
   ]
  },
  {
   "cell_type": "raw",
   "metadata": {
    "ExecuteTime": {
     "end_time": "2020-02-16T00:23:06.603852Z",
     "start_time": "2020-02-16T00:23:06.591189Z"
    }
   },
   "source": [
    " |-- artist:艺术家、歌手名\n",
    " |-- auth: 登录状态、属性\n",
    " |-- firstName: 用户名\n",
    " |-- gender: 性别\n",
    " |-- itemInSession: 存储位置\n",
    " |-- lastName: 用户姓\n",
    " |-- length: 活动时长\n",
    " |-- level: 用户等级\n",
    " |-- location: 地域\n",
    " |-- method: 获取方式\n",
    " |-- page: 操作页面\n",
    " |-- registration: 注册状态\n",
    " |-- sessionId: 存储Id\n",
    " |-- song: 歌曲名\n",
    " |-- status: 网络状态码\n",
    " |-- ts: 时间戳\n",
    " |-- userAgent: 用户代理、终端系统\n",
    " |-- userId: 用户Id"
   ]
  },
  {
   "cell_type": "markdown",
   "metadata": {},
   "source": [
    "# 数据评估和清洗"
   ]
  },
  {
   "cell_type": "markdown",
   "metadata": {},
   "source": [
    "## 数据加载"
   ]
  },
  {
   "cell_type": "code",
   "execution_count": 237,
   "metadata": {
    "ExecuteTime": {
     "end_time": "2020-02-18T11:32:10.443519Z",
     "start_time": "2020-02-18T11:32:10.426011Z"
    }
   },
   "outputs": [],
   "source": [
    "#导入标准库\n",
    "\n",
    "from pyspark.sql import SparkSession,Window\n",
    "\n",
    "from pyspark.sql.functions import avg,col,concat,concat_ws,count,desc,lit,min,max,split,stddev,udf\n",
    "from pyspark.sql.functions import sum as Fsum\n",
    "from pyspark.sql.types import IntegerType,FloatType\n",
    "from pyspark.ml.feature import CountVectorizer,IDF,Normalizer,PCA,RegexTokenizer,StandardScaler,\\\n",
    "                                VectorAssembler,MinMaxScaler,StringIndexer\n",
    "\n",
    "from pyspark.ml import Pipeline\n",
    "from pyspark.ml.evaluation import MulticlassClassificationEvaluator\n",
    "from pyspark.ml.tuning import CrossValidator,ParamGridBuilder\n",
    "\n",
    "from pyspark.ml.classification import DecisionTreeClassifier,LogisticRegression,RandomForestClassifier,GBTClassifier,LinearSVC\n",
    "\n",
    "import datetime\n",
    "import numpy as np\n",
    "import pandas as pd\n",
    "import seaborn as sns\n",
    "import matplotlib.pyplot as plt\n",
    "%matplotlib inline"
   ]
  },
  {
   "cell_type": "code",
   "execution_count": 238,
   "metadata": {
    "ExecuteTime": {
     "end_time": "2020-02-18T11:32:10.460134Z",
     "start_time": "2020-02-18T11:32:10.448274Z"
    }
   },
   "outputs": [],
   "source": [
    "# create a Spark session\n",
    "spark = SparkSession.builder \\\n",
    "    .master(\"local\") \\\n",
    "    .appName(\"Sparkify project\") \\\n",
    "    .getOrCreate()"
   ]
  },
  {
   "cell_type": "code",
   "execution_count": 239,
   "metadata": {
    "ExecuteTime": {
     "end_time": "2020-02-18T11:32:12.122502Z",
     "start_time": "2020-02-18T11:32:10.463648Z"
    }
   },
   "outputs": [],
   "source": [
    "df = spark.read.json('mini_sparkify_event_data.json')"
   ]
  },
  {
   "cell_type": "markdown",
   "metadata": {},
   "source": [
    "## 数据查看"
   ]
  },
  {
   "cell_type": "code",
   "execution_count": 240,
   "metadata": {
    "ExecuteTime": {
     "end_time": "2020-02-18T11:32:12.142767Z",
     "start_time": "2020-02-18T11:32:12.126518Z"
    }
   },
   "outputs": [
    {
     "name": "stdout",
     "output_type": "stream",
     "text": [
      "root\n",
      " |-- artist: string (nullable = true)\n",
      " |-- auth: string (nullable = true)\n",
      " |-- firstName: string (nullable = true)\n",
      " |-- gender: string (nullable = true)\n",
      " |-- itemInSession: long (nullable = true)\n",
      " |-- lastName: string (nullable = true)\n",
      " |-- length: double (nullable = true)\n",
      " |-- level: string (nullable = true)\n",
      " |-- location: string (nullable = true)\n",
      " |-- method: string (nullable = true)\n",
      " |-- page: string (nullable = true)\n",
      " |-- registration: long (nullable = true)\n",
      " |-- sessionId: long (nullable = true)\n",
      " |-- song: string (nullable = true)\n",
      " |-- status: long (nullable = true)\n",
      " |-- ts: long (nullable = true)\n",
      " |-- userAgent: string (nullable = true)\n",
      " |-- userId: string (nullable = true)\n",
      "\n"
     ]
    }
   ],
   "source": [
    "df.printSchema()"
   ]
  },
  {
   "cell_type": "code",
   "execution_count": 241,
   "metadata": {
    "ExecuteTime": {
     "end_time": "2020-02-18T11:32:12.212671Z",
     "start_time": "2020-02-18T11:32:12.147715Z"
    }
   },
   "outputs": [
    {
     "data": {
      "text/plain": [
       "Row(artist='Martha Tilston', auth='Logged In', firstName='Colin', gender='M', itemInSession=50, lastName='Freeman', length=277.89016, level='paid', location='Bakersfield, CA', method='PUT', page='NextSong', registration=1538173362000, sessionId=29, song='Rockpools', status=200, ts=1538352117000, userAgent='Mozilla/5.0 (Windows NT 6.1; WOW64; rv:31.0) Gecko/20100101 Firefox/31.0', userId='30')"
      ]
     },
     "execution_count": 241,
     "metadata": {},
     "output_type": "execute_result"
    }
   ],
   "source": [
    "df.head()"
   ]
  },
  {
   "cell_type": "markdown",
   "metadata": {},
   "source": [
    "## 数据清洗"
   ]
  },
  {
   "cell_type": "markdown",
   "metadata": {},
   "source": [
    "### 缺失值"
   ]
  },
  {
   "cell_type": "code",
   "execution_count": 242,
   "metadata": {
    "ExecuteTime": {
     "end_time": "2020-02-18T11:32:13.129737Z",
     "start_time": "2020-02-18T11:32:12.214869Z"
    }
   },
   "outputs": [
    {
     "data": {
      "text/plain": [
       "286500"
      ]
     },
     "execution_count": 242,
     "metadata": {},
     "output_type": "execute_result"
    }
   ],
   "source": [
    "df.count() #总行数286500"
   ]
  },
  {
   "cell_type": "code",
   "execution_count": 243,
   "metadata": {
    "ExecuteTime": {
     "end_time": "2020-02-18T11:32:13.139697Z",
     "start_time": "2020-02-18T11:32:13.133265Z"
    }
   },
   "outputs": [],
   "source": [
    "# 定义函数check_items(),用于快速查看数据列\n",
    "def check_items(df,column,top=5):\n",
    "    print('-------------------------------')\n",
    "    print('Number of different items:',df.select(column).dropDuplicates().count())\n",
    "    return df.select(column).dropDuplicates().sort(column).show(top)"
   ]
  },
  {
   "cell_type": "code",
   "execution_count": 244,
   "metadata": {
    "ExecuteTime": {
     "end_time": "2020-02-18T11:33:19.060089Z",
     "start_time": "2020-02-18T11:32:13.143640Z"
    }
   },
   "outputs": [
    {
     "name": "stdout",
     "output_type": "stream",
     "text": [
      "-------------------------------\n",
      "Number of different items: 17656\n",
      "+--------------------+\n",
      "|              artist|\n",
      "+--------------------+\n",
      "|                null|\n",
      "|                 !!!|\n",
      "|        & And Oceans|\n",
      "|'N Sync/Phil Collins|\n",
      "|        'Til Tuesday|\n",
      "+--------------------+\n",
      "only showing top 5 rows\n",
      "\n",
      "None\n",
      "-------------------------------\n",
      "Number of different items: 4\n",
      "+----------+\n",
      "|      auth|\n",
      "+----------+\n",
      "| Cancelled|\n",
      "|     Guest|\n",
      "| Logged In|\n",
      "|Logged Out|\n",
      "+----------+\n",
      "\n",
      "None\n",
      "-------------------------------\n",
      "Number of different items: 190\n",
      "+---------+\n",
      "|firstName|\n",
      "+---------+\n",
      "|     null|\n",
      "| Adelaida|\n",
      "|   Adrian|\n",
      "|  Adriana|\n",
      "|   Adriel|\n",
      "+---------+\n",
      "only showing top 5 rows\n",
      "\n",
      "None\n",
      "-------------------------------\n",
      "Number of different items: 3\n",
      "+------+\n",
      "|gender|\n",
      "+------+\n",
      "|  null|\n",
      "|     F|\n",
      "|     M|\n",
      "+------+\n",
      "\n",
      "None\n",
      "-------------------------------\n",
      "Number of different items: 1322\n",
      "+-------------+\n",
      "|itemInSession|\n",
      "+-------------+\n",
      "|            0|\n",
      "|            1|\n",
      "|            2|\n",
      "|            3|\n",
      "|            4|\n",
      "+-------------+\n",
      "only showing top 5 rows\n",
      "\n",
      "None\n",
      "-------------------------------\n",
      "Number of different items: 174\n",
      "+---------+\n",
      "| lastName|\n",
      "+---------+\n",
      "|     null|\n",
      "|    Adams|\n",
      "|  Aguilar|\n",
      "|Alexander|\n",
      "|    Allen|\n",
      "+---------+\n",
      "only showing top 5 rows\n",
      "\n",
      "None\n",
      "-------------------------------\n",
      "Number of different items: 14866\n",
      "+-------+\n",
      "| length|\n",
      "+-------+\n",
      "|   null|\n",
      "|0.78322|\n",
      "|2.16771|\n",
      "|4.04853|\n",
      "| 4.8322|\n",
      "+-------+\n",
      "only showing top 5 rows\n",
      "\n",
      "None\n",
      "-------------------------------\n",
      "Number of different items: 2\n",
      "+-----+\n",
      "|level|\n",
      "+-----+\n",
      "| free|\n",
      "| paid|\n",
      "+-----+\n",
      "\n",
      "None\n",
      "-------------------------------\n",
      "Number of different items: 115\n",
      "+--------------------+\n",
      "|            location|\n",
      "+--------------------+\n",
      "|                null|\n",
      "|          Albany, OR|\n",
      "|Albany-Schenectad...|\n",
      "|      Alexandria, LA|\n",
      "|Allentown-Bethleh...|\n",
      "+--------------------+\n",
      "only showing top 5 rows\n",
      "\n",
      "None\n",
      "-------------------------------\n",
      "Number of different items: 2\n",
      "+------+\n",
      "|method|\n",
      "+------+\n",
      "|   GET|\n",
      "|   PUT|\n",
      "+------+\n",
      "\n",
      "None\n",
      "-------------------------------\n",
      "Number of different items: 22\n",
      "+--------------------+\n",
      "|                page|\n",
      "+--------------------+\n",
      "|               About|\n",
      "|          Add Friend|\n",
      "|     Add to Playlist|\n",
      "|              Cancel|\n",
      "|Cancellation Conf...|\n",
      "+--------------------+\n",
      "only showing top 5 rows\n",
      "\n",
      "None\n",
      "-------------------------------\n",
      "Number of different items: 226\n",
      "+-------------+\n",
      "| registration|\n",
      "+-------------+\n",
      "|         null|\n",
      "|1521380675000|\n",
      "|1526739206000|\n",
      "|1526838391000|\n",
      "|1528403713000|\n",
      "+-------------+\n",
      "only showing top 5 rows\n",
      "\n",
      "None\n",
      "-------------------------------\n",
      "Number of different items: 2354\n",
      "+---------+\n",
      "|sessionId|\n",
      "+---------+\n",
      "|        1|\n",
      "|        2|\n",
      "|        3|\n",
      "|        4|\n",
      "|        5|\n",
      "+---------+\n",
      "only showing top 5 rows\n",
      "\n",
      "None\n",
      "-------------------------------\n",
      "Number of different items: 58481\n",
      "+--------------------+\n",
      "|                song|\n",
      "+--------------------+\n",
      "|                null|\n",
      "|\u001c",
      "ÃÂg ÃÂtti Gr...|\n",
      "| I Will Not Reap ...|\n",
      "|              !@*$%#|\n",
      "|#!*@ You Tonight ...|\n",
      "+--------------------+\n",
      "only showing top 5 rows\n",
      "\n",
      "None\n",
      "-------------------------------\n",
      "Number of different items: 3\n",
      "+------+\n",
      "|status|\n",
      "+------+\n",
      "|   200|\n",
      "|   307|\n",
      "|   404|\n",
      "+------+\n",
      "\n",
      "None\n",
      "-------------------------------\n",
      "Number of different items: 277447\n",
      "+-------------+\n",
      "|           ts|\n",
      "+-------------+\n",
      "|1538352117000|\n",
      "|1538352180000|\n",
      "|1538352394000|\n",
      "|1538352416000|\n",
      "|1538352676000|\n",
      "+-------------+\n",
      "only showing top 5 rows\n",
      "\n",
      "None\n",
      "-------------------------------\n",
      "Number of different items: 57\n",
      "+--------------------+\n",
      "|           userAgent|\n",
      "+--------------------+\n",
      "|                null|\n",
      "|\"Mozilla/5.0 (Mac...|\n",
      "|\"Mozilla/5.0 (Mac...|\n",
      "|\"Mozilla/5.0 (Mac...|\n",
      "|\"Mozilla/5.0 (Mac...|\n",
      "+--------------------+\n",
      "only showing top 5 rows\n",
      "\n",
      "None\n",
      "-------------------------------\n",
      "Number of different items: 226\n",
      "+------+\n",
      "|userId|\n",
      "+------+\n",
      "|      |\n",
      "|    10|\n",
      "|   100|\n",
      "|100001|\n",
      "|100002|\n",
      "+------+\n",
      "only showing top 5 rows\n",
      "\n",
      "None\n"
     ]
    }
   ],
   "source": [
    "# 查看所有数据列的概况\n",
    "columns = df.columns\n",
    "for column in columns:   \n",
    "    print(check_items(df,column))"
   ]
  },
  {
   "cell_type": "markdown",
   "metadata": {},
   "source": [
    "`通过check数据列，发现其中artist、firstName、gender、lastName、length、location、registration、song、userAgent列存在Nan值，但也发现page列并无Nan值，为了最大程度跟踪用户行为，暂且不能随意删除这部分数据。`\n",
    "\n",
    "`另外，发现userId列存在名称为空的情况，此部分对后期分析无意义，接下来尝试删除这些空项的所在行，且需留意page等不具有Nan值列的变化。`"
   ]
  },
  {
   "cell_type": "code",
   "execution_count": 245,
   "metadata": {
    "ExecuteTime": {
     "end_time": "2020-02-18T11:33:19.093532Z",
     "start_time": "2020-02-18T11:33:19.062902Z"
    }
   },
   "outputs": [],
   "source": [
    "df = df.where(df.userId != '') #仅保留userId列不为空值的行"
   ]
  },
  {
   "cell_type": "code",
   "execution_count": 246,
   "metadata": {
    "ExecuteTime": {
     "end_time": "2020-02-18T11:34:26.283293Z",
     "start_time": "2020-02-18T11:33:19.096019Z"
    }
   },
   "outputs": [
    {
     "name": "stdout",
     "output_type": "stream",
     "text": [
      "-------------------------------\n",
      "Number of different items: 17656\n",
      "+--------------------+\n",
      "|              artist|\n",
      "+--------------------+\n",
      "|                null|\n",
      "|                 !!!|\n",
      "|        & And Oceans|\n",
      "|'N Sync/Phil Collins|\n",
      "|        'Til Tuesday|\n",
      "+--------------------+\n",
      "only showing top 5 rows\n",
      "\n",
      "None\n",
      "-------------------------------\n",
      "Number of different items: 2\n",
      "+---------+\n",
      "|     auth|\n",
      "+---------+\n",
      "|Cancelled|\n",
      "|Logged In|\n",
      "+---------+\n",
      "\n",
      "None\n",
      "-------------------------------\n",
      "Number of different items: 189\n",
      "+---------+\n",
      "|firstName|\n",
      "+---------+\n",
      "| Adelaida|\n",
      "|   Adrian|\n",
      "|  Adriana|\n",
      "|   Adriel|\n",
      "|  Ainsley|\n",
      "+---------+\n",
      "only showing top 5 rows\n",
      "\n",
      "None\n",
      "-------------------------------\n",
      "Number of different items: 2\n",
      "+------+\n",
      "|gender|\n",
      "+------+\n",
      "|     F|\n",
      "|     M|\n",
      "+------+\n",
      "\n",
      "None\n",
      "-------------------------------\n",
      "Number of different items: 1311\n",
      "+-------------+\n",
      "|itemInSession|\n",
      "+-------------+\n",
      "|            0|\n",
      "|            1|\n",
      "|            2|\n",
      "|            3|\n",
      "|            4|\n",
      "+-------------+\n",
      "only showing top 5 rows\n",
      "\n",
      "None\n",
      "-------------------------------\n",
      "Number of different items: 173\n",
      "+---------+\n",
      "| lastName|\n",
      "+---------+\n",
      "|    Adams|\n",
      "|  Aguilar|\n",
      "|Alexander|\n",
      "|    Allen|\n",
      "| Atkinson|\n",
      "+---------+\n",
      "only showing top 5 rows\n",
      "\n",
      "None\n",
      "-------------------------------\n",
      "Number of different items: 14866\n",
      "+-------+\n",
      "| length|\n",
      "+-------+\n",
      "|   null|\n",
      "|0.78322|\n",
      "|2.16771|\n",
      "|4.04853|\n",
      "| 4.8322|\n",
      "+-------+\n",
      "only showing top 5 rows\n",
      "\n",
      "None\n",
      "-------------------------------\n",
      "Number of different items: 2\n",
      "+-----+\n",
      "|level|\n",
      "+-----+\n",
      "| free|\n",
      "| paid|\n",
      "+-----+\n",
      "\n",
      "None\n",
      "-------------------------------\n",
      "Number of different items: 114\n",
      "+--------------------+\n",
      "|            location|\n",
      "+--------------------+\n",
      "|          Albany, OR|\n",
      "|Albany-Schenectad...|\n",
      "|      Alexandria, LA|\n",
      "|Allentown-Bethleh...|\n",
      "|       Anchorage, AK|\n",
      "+--------------------+\n",
      "only showing top 5 rows\n",
      "\n",
      "None\n",
      "-------------------------------\n",
      "Number of different items: 2\n",
      "+------+\n",
      "|method|\n",
      "+------+\n",
      "|   GET|\n",
      "|   PUT|\n",
      "+------+\n",
      "\n",
      "None\n",
      "-------------------------------\n",
      "Number of different items: 19\n",
      "+--------------------+\n",
      "|                page|\n",
      "+--------------------+\n",
      "|               About|\n",
      "|          Add Friend|\n",
      "|     Add to Playlist|\n",
      "|              Cancel|\n",
      "|Cancellation Conf...|\n",
      "+--------------------+\n",
      "only showing top 5 rows\n",
      "\n",
      "None\n",
      "-------------------------------\n",
      "Number of different items: 225\n",
      "+-------------+\n",
      "| registration|\n",
      "+-------------+\n",
      "|1521380675000|\n",
      "|1526739206000|\n",
      "|1526838391000|\n",
      "|1528403713000|\n",
      "|1528560242000|\n",
      "+-------------+\n",
      "only showing top 5 rows\n",
      "\n",
      "None\n",
      "-------------------------------\n",
      "Number of different items: 2312\n",
      "+---------+\n",
      "|sessionId|\n",
      "+---------+\n",
      "|        1|\n",
      "|        2|\n",
      "|        3|\n",
      "|        4|\n",
      "|        5|\n",
      "+---------+\n",
      "only showing top 5 rows\n",
      "\n",
      "None\n",
      "-------------------------------\n",
      "Number of different items: 58481\n",
      "+--------------------+\n",
      "|                song|\n",
      "+--------------------+\n",
      "|                null|\n",
      "|\u001c",
      "ÃÂg ÃÂtti Gr...|\n",
      "| I Will Not Reap ...|\n",
      "|              !@*$%#|\n",
      "|#!*@ You Tonight ...|\n",
      "+--------------------+\n",
      "only showing top 5 rows\n",
      "\n",
      "None\n",
      "-------------------------------\n",
      "Number of different items: 3\n",
      "+------+\n",
      "|status|\n",
      "+------+\n",
      "|   200|\n",
      "|   307|\n",
      "|   404|\n",
      "+------+\n",
      "\n",
      "None\n",
      "-------------------------------\n",
      "Number of different items: 269770\n",
      "+-------------+\n",
      "|           ts|\n",
      "+-------------+\n",
      "|1538352117000|\n",
      "|1538352180000|\n",
      "|1538352394000|\n",
      "|1538352416000|\n",
      "|1538352676000|\n",
      "+-------------+\n",
      "only showing top 5 rows\n",
      "\n",
      "None\n",
      "-------------------------------\n",
      "Number of different items: 56\n",
      "+--------------------+\n",
      "|           userAgent|\n",
      "+--------------------+\n",
      "|\"Mozilla/5.0 (Mac...|\n",
      "|\"Mozilla/5.0 (Mac...|\n",
      "|\"Mozilla/5.0 (Mac...|\n",
      "|\"Mozilla/5.0 (Mac...|\n",
      "|\"Mozilla/5.0 (Mac...|\n",
      "+--------------------+\n",
      "only showing top 5 rows\n",
      "\n",
      "None\n",
      "-------------------------------\n",
      "Number of different items: 225\n",
      "+------+\n",
      "|userId|\n",
      "+------+\n",
      "|    10|\n",
      "|   100|\n",
      "|100001|\n",
      "|100002|\n",
      "|100003|\n",
      "+------+\n",
      "only showing top 5 rows\n",
      "\n",
      "None\n"
     ]
    }
   ],
   "source": [
    "# 再次check数据列概况\n",
    "for column in columns:   \n",
    "    print(check_items(df,column))"
   ]
  },
  {
   "cell_type": "code",
   "execution_count": 247,
   "metadata": {
    "ExecuteTime": {
     "end_time": "2020-02-18T11:34:27.384539Z",
     "start_time": "2020-02-18T11:34:26.285799Z"
    }
   },
   "outputs": [
    {
     "data": {
      "text/plain": [
       "278154"
      ]
     },
     "execution_count": 247,
     "metadata": {},
     "output_type": "execute_result"
    }
   ],
   "source": [
    "df.count() #总行数278154，去掉了8346行 (286500-278154)"
   ]
  },
  {
   "cell_type": "markdown",
   "metadata": {},
   "source": [
    "`通过再次check数据列，发现userId列存在名称为空的行已完全删除，此外列artist、length、song仍存在Nan值，为用户切换page时出现的正常Nan值，但仍有效的记录了用户行为，需要保留这部分数据。`\n",
    "\n",
    "\n"
   ]
  },
  {
   "cell_type": "markdown",
   "metadata": {},
   "source": [
    "### 时间戳"
   ]
  },
  {
   "cell_type": "markdown",
   "metadata": {},
   "source": [
    "#### 格式转换"
   ]
  },
  {
   "cell_type": "code",
   "execution_count": 248,
   "metadata": {
    "ExecuteTime": {
     "end_time": "2020-02-18T11:34:27.393001Z",
     "start_time": "2020-02-18T11:34:27.387050Z"
    }
   },
   "outputs": [],
   "source": [
    "#自定义函数，将时间戳转换为时间格式\n",
    "get_time = udf(lambda x : datetime.datetime.fromtimestamp(x/1000).strftime('%Y-%m-%d %H:%M:%S'))"
   ]
  },
  {
   "cell_type": "code",
   "execution_count": 249,
   "metadata": {
    "ExecuteTime": {
     "end_time": "2020-02-18T11:34:27.423060Z",
     "start_time": "2020-02-18T11:34:27.395597Z"
    }
   },
   "outputs": [],
   "source": [
    "#注册时间转换\n",
    "df = df.withColumn('regist_time',get_time(df.registration))\n",
    "#听歌时间转换\n",
    "df = df.withColumn('using_time',get_time(df.ts))"
   ]
  },
  {
   "cell_type": "code",
   "execution_count": 250,
   "metadata": {
    "ExecuteTime": {
     "end_time": "2020-02-18T11:34:28.327559Z",
     "start_time": "2020-02-18T11:34:27.425724Z"
    }
   },
   "outputs": [
    {
     "data": {
      "text/plain": [
       "Row(artist='Martha Tilston', auth='Logged In', firstName='Colin', gender='M', itemInSession=50, lastName='Freeman', length=277.89016, level='paid', location='Bakersfield, CA', method='PUT', page='NextSong', registration=1538173362000, sessionId=29, song='Rockpools', status=200, ts=1538352117000, userAgent='Mozilla/5.0 (Windows NT 6.1; WOW64; rv:31.0) Gecko/20100101 Firefox/31.0', userId='30', regist_time='2018-09-29 06:22:42', using_time='2018-10-01 08:01:57')"
      ]
     },
     "execution_count": 250,
     "metadata": {},
     "output_type": "execute_result"
    }
   ],
   "source": [
    "df.head()"
   ]
  },
  {
   "cell_type": "markdown",
   "metadata": {},
   "source": [
    "#### 增加列"
   ]
  },
  {
   "cell_type": "code",
   "execution_count": 251,
   "metadata": {
    "ExecuteTime": {
     "end_time": "2020-02-18T11:34:28.336390Z",
     "start_time": "2020-02-18T11:34:28.330631Z"
    }
   },
   "outputs": [],
   "source": [
    "#自定义函数，将时间戳转换为小时、年\n",
    "get_hour = udf(lambda x : datetime.datetime.fromtimestamp(x/1000).hour,IntegerType())\n",
    "get_year = udf(lambda x : datetime.datetime.fromtimestamp(x/1000).year,IntegerType())"
   ]
  },
  {
   "cell_type": "code",
   "execution_count": 252,
   "metadata": {
    "ExecuteTime": {
     "end_time": "2020-02-18T11:34:28.380244Z",
     "start_time": "2020-02-18T11:34:28.340265Z"
    }
   },
   "outputs": [],
   "source": [
    "#将转换后的hour、register_year添加为列\n",
    "df = df.withColumn('hour',get_hour(df.ts))\n",
    "df = df.withColumn('register_year',get_year(df.ts))"
   ]
  },
  {
   "cell_type": "code",
   "execution_count": 253,
   "metadata": {
    "ExecuteTime": {
     "end_time": "2020-02-18T11:34:29.630287Z",
     "start_time": "2020-02-18T11:34:28.382461Z"
    }
   },
   "outputs": [
    {
     "data": {
      "text/plain": [
       "Row(artist='Martha Tilston', auth='Logged In', firstName='Colin', gender='M', itemInSession=50, lastName='Freeman', length=277.89016, level='paid', location='Bakersfield, CA', method='PUT', page='NextSong', registration=1538173362000, sessionId=29, song='Rockpools', status=200, ts=1538352117000, userAgent='Mozilla/5.0 (Windows NT 6.1; WOW64; rv:31.0) Gecko/20100101 Firefox/31.0', userId='30', regist_time='2018-09-29 06:22:42', using_time='2018-10-01 08:01:57', hour=8, register_year=2018)"
      ]
     },
     "execution_count": 253,
     "metadata": {},
     "output_type": "execute_result"
    }
   ],
   "source": [
    "df.head()"
   ]
  },
  {
   "cell_type": "code",
   "execution_count": 254,
   "metadata": {
    "ExecuteTime": {
     "end_time": "2020-02-18T11:37:28.813261Z",
     "start_time": "2020-02-18T11:34:29.688563Z"
    }
   },
   "outputs": [
    {
     "name": "stdout",
     "output_type": "stream",
     "text": [
      "-------------------------------\n",
      "Number of different items: 24\n",
      "+----+\n",
      "|hour|\n",
      "+----+\n",
      "|   0|\n",
      "|   1|\n",
      "|   2|\n",
      "|   3|\n",
      "|   4|\n",
      "+----+\n",
      "only showing top 5 rows\n",
      "\n",
      "-------------------------------\n",
      "Number of different items: 1\n",
      "+-------------+\n",
      "|register_year|\n",
      "+-------------+\n",
      "|         2018|\n",
      "+-------------+\n",
      "\n"
     ]
    }
   ],
   "source": [
    "#查看新增列情况\n",
    "for col in ['hour','register_year']:\n",
    "    check_items(df,col)"
   ]
  },
  {
   "cell_type": "markdown",
   "metadata": {},
   "source": [
    "### 数据格式"
   ]
  },
  {
   "cell_type": "code",
   "execution_count": 255,
   "metadata": {
    "ExecuteTime": {
     "end_time": "2020-02-18T11:37:28.844273Z",
     "start_time": "2020-02-18T11:37:28.824231Z"
    }
   },
   "outputs": [
    {
     "data": {
      "text/plain": [
       "DataFrame[artist: string, auth: string, firstName: string, gender: string, itemInSession: bigint, lastName: string, length: float, level: string, location: string, method: string, page: string, registration: bigint, sessionId: bigint, song: string, status: bigint, ts: bigint, userAgent: string, userId: string, regist_time: string, using_time: string, hour: int, register_year: int]"
      ]
     },
     "execution_count": 255,
     "metadata": {},
     "output_type": "execute_result"
    }
   ],
   "source": [
    "#将length列的数据格式更改为float\n",
    "df = df.withColumn('length',df.length.cast('float'))\n",
    "df"
   ]
  },
  {
   "cell_type": "markdown",
   "metadata": {},
   "source": [
    "### 定义客户流失"
   ]
  },
  {
   "cell_type": "code",
   "execution_count": 256,
   "metadata": {
    "ExecuteTime": {
     "end_time": "2020-02-18T11:37:30.844215Z",
     "start_time": "2020-02-18T11:37:28.846658Z"
    }
   },
   "outputs": [
    {
     "data": {
      "text/plain": [
       "225"
      ]
     },
     "execution_count": 256,
     "metadata": {},
     "output_type": "execute_result"
    }
   ],
   "source": [
    "df.select('userId').dropDuplicates().count() #总客户数量225个"
   ]
  },
  {
   "cell_type": "code",
   "execution_count": 257,
   "metadata": {
    "ExecuteTime": {
     "end_time": "2020-02-18T11:37:30.866609Z",
     "start_time": "2020-02-18T11:37:30.847181Z"
    }
   },
   "outputs": [],
   "source": [
    "#建立临时表，用于SQL查询\n",
    "df.createOrReplaceTempView('sql_table')"
   ]
  },
  {
   "cell_type": "markdown",
   "metadata": {},
   "source": [
    "#### 查看流失客户"
   ]
  },
  {
   "cell_type": "code",
   "execution_count": 258,
   "metadata": {
    "ExecuteTime": {
     "end_time": "2020-02-18T11:37:32.178566Z",
     "start_time": "2020-02-18T11:37:30.868883Z"
    },
    "scrolled": true
   },
   "outputs": [
    {
     "name": "stdout",
     "output_type": "stream",
     "text": [
      "+------+--------------------+-----+\n",
      "|userId|                page|level|\n",
      "+------+--------------------+-----+\n",
      "|    87|Cancellation Conf...| paid|\n",
      "|    73|Cancellation Conf...| paid|\n",
      "|    70|Cancellation Conf...| paid|\n",
      "|    58|Cancellation Conf...| paid|\n",
      "|    54|Cancellation Conf...| paid|\n",
      "|    53|Cancellation Conf...| paid|\n",
      "|    51|Cancellation Conf...| paid|\n",
      "|    32|Cancellation Conf...| paid|\n",
      "+------+--------------------+-----+\n",
      "only showing top 8 rows\n",
      "\n"
     ]
    }
   ],
   "source": [
    "#使用 Cancellation Confirmation 事件来定义客户流失\n",
    "\n",
    "cancel_user = spark.sql('''\n",
    "                        SELECT userId,page,level\n",
    "                        FROM sql_table\n",
    "                        WHERE page == 'Cancellation Confirmation'\n",
    "                        ORDER BY userId DESC\n",
    "                        ''')\n",
    "cancel_user.show(8)"
   ]
  },
  {
   "cell_type": "code",
   "execution_count": 259,
   "metadata": {
    "ExecuteTime": {
     "end_time": "2020-02-18T11:37:34.823376Z",
     "start_time": "2020-02-18T11:37:32.181238Z"
    }
   },
   "outputs": [
    {
     "data": {
      "text/plain": [
       "52"
      ]
     },
     "execution_count": 259,
     "metadata": {},
     "output_type": "execute_result"
    }
   ],
   "source": [
    "cancel_user.count()  #共有52个客户流失"
   ]
  },
  {
   "cell_type": "markdown",
   "metadata": {},
   "source": [
    "#### 查看具体行为"
   ]
  },
  {
   "cell_type": "code",
   "execution_count": 260,
   "metadata": {
    "ExecuteTime": {
     "end_time": "2020-02-18T11:37:36.105902Z",
     "start_time": "2020-02-18T11:37:34.826427Z"
    }
   },
   "outputs": [
    {
     "data": {
      "text/plain": [
       "[Row(userId='73', page='Home', level='free'),\n",
       " Row(userId='73', page='NextSong', level='free'),\n",
       " Row(userId='73', page='NextSong', level='free'),\n",
       " Row(userId='73', page='Thumbs Down', level='free'),\n",
       " Row(userId='73', page='NextSong', level='free'),\n",
       " Row(userId='73', page='NextSong', level='free'),\n",
       " Row(userId='73', page='NextSong', level='free'),\n",
       " Row(userId='73', page='NextSong', level='free'),\n",
       " Row(userId='73', page='NextSong', level='free'),\n",
       " Row(userId='73', page='NextSong', level='free'),\n",
       " Row(userId='73', page='NextSong', level='free'),\n",
       " Row(userId='73', page='NextSong', level='free'),\n",
       " Row(userId='73', page='NextSong', level='free'),\n",
       " Row(userId='73', page='NextSong', level='free'),\n",
       " Row(userId='73', page='Upgrade', level='free'),\n",
       " Row(userId='73', page='Submit Upgrade', level='free'),\n",
       " Row(userId='73', page='Home', level='paid'),\n",
       " Row(userId='73', page='NextSong', level='paid'),\n",
       " Row(userId='73', page='NextSong', level='paid'),\n",
       " Row(userId='73', page='NextSong', level='paid'),\n",
       " Row(userId='73', page='NextSong', level='paid'),\n",
       " Row(userId='73', page='Add Friend', level='paid'),\n",
       " Row(userId='73', page='Add Friend', level='paid'),\n",
       " Row(userId='73', page='NextSong', level='paid'),\n",
       " Row(userId='73', page='NextSong', level='paid'),\n",
       " Row(userId='73', page='Add to Playlist', level='paid'),\n",
       " Row(userId='73', page='NextSong', level='paid'),\n",
       " Row(userId='73', page='NextSong', level='paid'),\n",
       " Row(userId='73', page='NextSong', level='paid'),\n",
       " Row(userId='73', page='NextSong', level='paid'),\n",
       " Row(userId='73', page='NextSong', level='paid'),\n",
       " Row(userId='73', page='NextSong', level='paid'),\n",
       " Row(userId='73', page='NextSong', level='paid'),\n",
       " Row(userId='73', page='NextSong', level='paid'),\n",
       " Row(userId='73', page='NextSong', level='paid'),\n",
       " Row(userId='73', page='NextSong', level='paid'),\n",
       " Row(userId='73', page='NextSong', level='paid'),\n",
       " Row(userId='73', page='NextSong', level='paid'),\n",
       " Row(userId='73', page='Logout', level='paid'),\n",
       " Row(userId='73', page='Home', level='paid'),\n",
       " Row(userId='73', page='NextSong', level='paid'),\n",
       " Row(userId='73', page='NextSong', level='paid'),\n",
       " Row(userId='73', page='NextSong', level='paid'),\n",
       " Row(userId='73', page='NextSong', level='paid'),\n",
       " Row(userId='73', page='NextSong', level='paid'),\n",
       " Row(userId='73', page='NextSong', level='paid'),\n",
       " Row(userId='73', page='NextSong', level='paid'),\n",
       " Row(userId='73', page='Help', level='paid'),\n",
       " Row(userId='73', page='NextSong', level='paid'),\n",
       " Row(userId='73', page='NextSong', level='paid'),\n",
       " Row(userId='73', page='NextSong', level='paid'),\n",
       " Row(userId='73', page='NextSong', level='paid'),\n",
       " Row(userId='73', page='NextSong', level='paid'),\n",
       " Row(userId='73', page='NextSong', level='paid'),\n",
       " Row(userId='73', page='NextSong', level='paid'),\n",
       " Row(userId='73', page='NextSong', level='paid'),\n",
       " Row(userId='73', page='NextSong', level='paid'),\n",
       " Row(userId='73', page='NextSong', level='paid'),\n",
       " Row(userId='73', page='Roll Advert', level='paid'),\n",
       " Row(userId='73', page='NextSong', level='paid'),\n",
       " Row(userId='73', page='NextSong', level='paid'),\n",
       " Row(userId='73', page='NextSong', level='paid'),\n",
       " Row(userId='73', page='NextSong', level='paid'),\n",
       " Row(userId='73', page='NextSong', level='paid'),\n",
       " Row(userId='73', page='NextSong', level='paid'),\n",
       " Row(userId='73', page='NextSong', level='paid'),\n",
       " Row(userId='73', page='NextSong', level='paid'),\n",
       " Row(userId='73', page='NextSong', level='paid'),\n",
       " Row(userId='73', page='Add Friend', level='paid'),\n",
       " Row(userId='73', page='NextSong', level='paid'),\n",
       " Row(userId='73', page='NextSong', level='paid'),\n",
       " Row(userId='73', page='NextSong', level='paid'),\n",
       " Row(userId='73', page='NextSong', level='paid'),\n",
       " Row(userId='73', page='NextSong', level='paid'),\n",
       " Row(userId='73', page='NextSong', level='paid'),\n",
       " Row(userId='73', page='NextSong', level='paid'),\n",
       " Row(userId='73', page='NextSong', level='paid'),\n",
       " Row(userId='73', page='NextSong', level='paid'),\n",
       " Row(userId='73', page='Thumbs Up', level='paid'),\n",
       " Row(userId='73', page='NextSong', level='paid'),\n",
       " Row(userId='73', page='NextSong', level='paid'),\n",
       " Row(userId='73', page='NextSong', level='paid'),\n",
       " Row(userId='73', page='NextSong', level='paid'),\n",
       " Row(userId='73', page='Help', level='paid'),\n",
       " Row(userId='73', page='NextSong', level='paid'),\n",
       " Row(userId='73', page='NextSong', level='paid'),\n",
       " Row(userId='73', page='NextSong', level='paid'),\n",
       " Row(userId='73', page='NextSong', level='paid'),\n",
       " Row(userId='73', page='NextSong', level='paid'),\n",
       " Row(userId='73', page='NextSong', level='paid'),\n",
       " Row(userId='73', page='NextSong', level='paid'),\n",
       " Row(userId='73', page='NextSong', level='paid'),\n",
       " Row(userId='73', page='NextSong', level='paid'),\n",
       " Row(userId='73', page='NextSong', level='paid'),\n",
       " Row(userId='73', page='Thumbs Down', level='paid'),\n",
       " Row(userId='73', page='NextSong', level='paid'),\n",
       " Row(userId='73', page='NextSong', level='paid'),\n",
       " Row(userId='73', page='NextSong', level='paid'),\n",
       " Row(userId='73', page='NextSong', level='paid'),\n",
       " Row(userId='73', page='NextSong', level='paid'),\n",
       " Row(userId='73', page='NextSong', level='paid'),\n",
       " Row(userId='73', page='NextSong', level='paid'),\n",
       " Row(userId='73', page='NextSong', level='paid'),\n",
       " Row(userId='73', page='NextSong', level='paid'),\n",
       " Row(userId='73', page='NextSong', level='paid'),\n",
       " Row(userId='73', page='NextSong', level='paid'),\n",
       " Row(userId='73', page='Logout', level='paid'),\n",
       " Row(userId='73', page='Home', level='paid'),\n",
       " Row(userId='73', page='NextSong', level='paid'),\n",
       " Row(userId='73', page='NextSong', level='paid'),\n",
       " Row(userId='73', page='NextSong', level='paid'),\n",
       " Row(userId='73', page='NextSong', level='paid'),\n",
       " Row(userId='73', page='NextSong', level='paid'),\n",
       " Row(userId='73', page='NextSong', level='paid'),\n",
       " Row(userId='73', page='NextSong', level='paid'),\n",
       " Row(userId='73', page='NextSong', level='paid'),\n",
       " Row(userId='73', page='NextSong', level='paid'),\n",
       " Row(userId='73', page='NextSong', level='paid'),\n",
       " Row(userId='73', page='NextSong', level='paid'),\n",
       " Row(userId='73', page='NextSong', level='paid'),\n",
       " Row(userId='73', page='NextSong', level='paid'),\n",
       " Row(userId='73', page='NextSong', level='paid'),\n",
       " Row(userId='73', page='Thumbs Up', level='paid'),\n",
       " Row(userId='73', page='NextSong', level='paid'),\n",
       " Row(userId='73', page='NextSong', level='paid'),\n",
       " Row(userId='73', page='NextSong', level='paid'),\n",
       " Row(userId='73', page='NextSong', level='paid'),\n",
       " Row(userId='73', page='NextSong', level='paid'),\n",
       " Row(userId='73', page='Add to Playlist', level='paid'),\n",
       " Row(userId='73', page='NextSong', level='paid'),\n",
       " Row(userId='73', page='NextSong', level='paid'),\n",
       " Row(userId='73', page='NextSong', level='paid'),\n",
       " Row(userId='73', page='NextSong', level='paid'),\n",
       " Row(userId='73', page='NextSong', level='paid'),\n",
       " Row(userId='73', page='NextSong', level='paid'),\n",
       " Row(userId='73', page='NextSong', level='paid'),\n",
       " Row(userId='73', page='NextSong', level='paid'),\n",
       " Row(userId='73', page='NextSong', level='paid'),\n",
       " Row(userId='73', page='NextSong', level='paid'),\n",
       " Row(userId='73', page='NextSong', level='paid'),\n",
       " Row(userId='73', page='Add to Playlist', level='paid'),\n",
       " Row(userId='73', page='NextSong', level='paid'),\n",
       " Row(userId='73', page='NextSong', level='paid'),\n",
       " Row(userId='73', page='NextSong', level='paid'),\n",
       " Row(userId='73', page='NextSong', level='paid'),\n",
       " Row(userId='73', page='Add to Playlist', level='paid'),\n",
       " Row(userId='73', page='NextSong', level='paid'),\n",
       " Row(userId='73', page='NextSong', level='paid'),\n",
       " Row(userId='73', page='NextSong', level='paid'),\n",
       " Row(userId='73', page='NextSong', level='paid'),\n",
       " Row(userId='73', page='NextSong', level='paid'),\n",
       " Row(userId='73', page='NextSong', level='paid'),\n",
       " Row(userId='73', page='NextSong', level='paid'),\n",
       " Row(userId='73', page='NextSong', level='paid'),\n",
       " Row(userId='73', page='Thumbs Up', level='paid'),\n",
       " Row(userId='73', page='NextSong', level='paid'),\n",
       " Row(userId='73', page='NextSong', level='paid'),\n",
       " Row(userId='73', page='Add to Playlist', level='paid'),\n",
       " Row(userId='73', page='NextSong', level='paid'),\n",
       " Row(userId='73', page='Thumbs Up', level='paid'),\n",
       " Row(userId='73', page='NextSong', level='paid'),\n",
       " Row(userId='73', page='NextSong', level='paid'),\n",
       " Row(userId='73', page='Add to Playlist', level='paid'),\n",
       " Row(userId='73', page='NextSong', level='paid'),\n",
       " Row(userId='73', page='Error', level='paid'),\n",
       " Row(userId='73', page='NextSong', level='paid'),\n",
       " Row(userId='73', page='NextSong', level='paid'),\n",
       " Row(userId='73', page='Help', level='paid'),\n",
       " Row(userId='73', page='NextSong', level='paid'),\n",
       " Row(userId='73', page='NextSong', level='paid'),\n",
       " Row(userId='73', page='NextSong', level='paid'),\n",
       " Row(userId='73', page='NextSong', level='paid'),\n",
       " Row(userId='73', page='NextSong', level='paid'),\n",
       " Row(userId='73', page='NextSong', level='paid'),\n",
       " Row(userId='73', page='NextSong', level='paid'),\n",
       " Row(userId='73', page='NextSong', level='paid'),\n",
       " Row(userId='73', page='NextSong', level='paid'),\n",
       " Row(userId='73', page='NextSong', level='paid'),\n",
       " Row(userId='73', page='Thumbs Up', level='paid'),\n",
       " Row(userId='73', page='NextSong', level='paid'),\n",
       " Row(userId='73', page='NextSong', level='paid'),\n",
       " Row(userId='73', page='NextSong', level='paid'),\n",
       " Row(userId='73', page='NextSong', level='paid'),\n",
       " Row(userId='73', page='NextSong', level='paid'),\n",
       " Row(userId='73', page='NextSong', level='paid'),\n",
       " Row(userId='73', page='NextSong', level='paid'),\n",
       " Row(userId='73', page='NextSong', level='paid'),\n",
       " Row(userId='73', page='Thumbs Down', level='paid'),\n",
       " Row(userId='73', page='NextSong', level='paid'),\n",
       " Row(userId='73', page='NextSong', level='paid'),\n",
       " Row(userId='73', page='NextSong', level='paid'),\n",
       " Row(userId='73', page='NextSong', level='paid'),\n",
       " Row(userId='73', page='Logout', level='paid'),\n",
       " Row(userId='73', page='Home', level='paid'),\n",
       " Row(userId='73', page='Add Friend', level='paid'),\n",
       " Row(userId='73', page='NextSong', level='paid'),\n",
       " Row(userId='73', page='Thumbs Up', level='paid'),\n",
       " Row(userId='73', page='NextSong', level='paid'),\n",
       " Row(userId='73', page='Thumbs Up', level='paid'),\n",
       " Row(userId='73', page='NextSong', level='paid'),\n",
       " Row(userId='73', page='NextSong', level='paid'),\n",
       " Row(userId='73', page='Thumbs Up', level='paid'),\n",
       " Row(userId='73', page='NextSong', level='paid'),\n",
       " Row(userId='73', page='NextSong', level='paid'),\n",
       " Row(userId='73', page='NextSong', level='paid'),\n",
       " Row(userId='73', page='NextSong', level='paid'),\n",
       " Row(userId='73', page='NextSong', level='paid'),\n",
       " Row(userId='73', page='NextSong', level='paid'),\n",
       " Row(userId='73', page='NextSong', level='paid'),\n",
       " Row(userId='73', page='NextSong', level='paid'),\n",
       " Row(userId='73', page='NextSong', level='paid'),\n",
       " Row(userId='73', page='NextSong', level='paid'),\n",
       " Row(userId='73', page='Thumbs Up', level='paid'),\n",
       " Row(userId='73', page='NextSong', level='paid'),\n",
       " Row(userId='73', page='NextSong', level='paid'),\n",
       " Row(userId='73', page='NextSong', level='paid'),\n",
       " Row(userId='73', page='NextSong', level='paid'),\n",
       " Row(userId='73', page='NextSong', level='paid'),\n",
       " Row(userId='73', page='NextSong', level='paid'),\n",
       " Row(userId='73', page='NextSong', level='paid'),\n",
       " Row(userId='73', page='NextSong', level='paid'),\n",
       " Row(userId='73', page='NextSong', level='paid'),\n",
       " Row(userId='73', page='NextSong', level='paid'),\n",
       " Row(userId='73', page='NextSong', level='paid'),\n",
       " Row(userId='73', page='NextSong', level='paid'),\n",
       " Row(userId='73', page='Logout', level='paid'),\n",
       " Row(userId='73', page='Home', level='paid'),\n",
       " Row(userId='73', page='NextSong', level='paid'),\n",
       " Row(userId='73', page='NextSong', level='paid'),\n",
       " Row(userId='73', page='NextSong', level='paid'),\n",
       " Row(userId='73', page='NextSong', level='paid'),\n",
       " Row(userId='73', page='NextSong', level='paid'),\n",
       " Row(userId='73', page='NextSong', level='paid'),\n",
       " Row(userId='73', page='NextSong', level='paid'),\n",
       " Row(userId='73', page='Logout', level='paid'),\n",
       " Row(userId='73', page='Home', level='paid'),\n",
       " Row(userId='73', page='NextSong', level='paid'),\n",
       " Row(userId='73', page='NextSong', level='paid'),\n",
       " Row(userId='73', page='NextSong', level='paid'),\n",
       " Row(userId='73', page='NextSong', level='paid'),\n",
       " Row(userId='73', page='NextSong', level='paid'),\n",
       " Row(userId='73', page='NextSong', level='paid'),\n",
       " Row(userId='73', page='NextSong', level='paid'),\n",
       " Row(userId='73', page='NextSong', level='paid'),\n",
       " Row(userId='73', page='Thumbs Down', level='paid'),\n",
       " Row(userId='73', page='Home', level='paid'),\n",
       " Row(userId='73', page='NextSong', level='paid'),\n",
       " Row(userId='73', page='Home', level='paid'),\n",
       " Row(userId='73', page='NextSong', level='paid'),\n",
       " Row(userId='73', page='NextSong', level='paid'),\n",
       " Row(userId='73', page='NextSong', level='paid'),\n",
       " Row(userId='73', page='NextSong', level='paid'),\n",
       " Row(userId='73', page='NextSong', level='paid'),\n",
       " Row(userId='73', page='NextSong', level='paid'),\n",
       " Row(userId='73', page='NextSong', level='paid'),\n",
       " Row(userId='73', page='NextSong', level='paid'),\n",
       " Row(userId='73', page='NextSong', level='paid'),\n",
       " Row(userId='73', page='NextSong', level='paid'),\n",
       " Row(userId='73', page='NextSong', level='paid'),\n",
       " Row(userId='73', page='NextSong', level='paid'),\n",
       " Row(userId='73', page='NextSong', level='paid'),\n",
       " Row(userId='73', page='NextSong', level='paid'),\n",
       " Row(userId='73', page='NextSong', level='paid'),\n",
       " Row(userId='73', page='Thumbs Up', level='paid'),\n",
       " Row(userId='73', page='NextSong', level='paid'),\n",
       " Row(userId='73', page='Help', level='paid'),\n",
       " Row(userId='73', page='NextSong', level='paid'),\n",
       " Row(userId='73', page='NextSong', level='paid'),\n",
       " Row(userId='73', page='NextSong', level='paid'),\n",
       " Row(userId='73', page='NextSong', level='paid'),\n",
       " Row(userId='73', page='Thumbs Down', level='paid'),\n",
       " Row(userId='73', page='NextSong', level='paid'),\n",
       " Row(userId='73', page='NextSong', level='paid'),\n",
       " Row(userId='73', page='NextSong', level='paid'),\n",
       " Row(userId='73', page='Home', level='paid'),\n",
       " Row(userId='73', page='NextSong', level='paid'),\n",
       " Row(userId='73', page='NextSong', level='paid'),\n",
       " Row(userId='73', page='NextSong', level='paid'),\n",
       " Row(userId='73', page='NextSong', level='paid'),\n",
       " Row(userId='73', page='NextSong', level='paid'),\n",
       " Row(userId='73', page='Thumbs Down', level='paid'),\n",
       " Row(userId='73', page='Logout', level='paid'),\n",
       " Row(userId='73', page='Home', level='paid'),\n",
       " Row(userId='73', page='NextSong', level='paid'),\n",
       " Row(userId='73', page='Add Friend', level='paid'),\n",
       " Row(userId='73', page='NextSong', level='paid'),\n",
       " Row(userId='73', page='NextSong', level='paid'),\n",
       " Row(userId='73', page='NextSong', level='paid'),\n",
       " Row(userId='73', page='NextSong', level='paid'),\n",
       " Row(userId='73', page='Add to Playlist', level='paid'),\n",
       " Row(userId='73', page='NextSong', level='paid'),\n",
       " Row(userId='73', page='NextSong', level='paid'),\n",
       " Row(userId='73', page='NextSong', level='paid'),\n",
       " Row(userId='73', page='NextSong', level='paid'),\n",
       " Row(userId='73', page='NextSong', level='paid'),\n",
       " Row(userId='73', page='NextSong', level='paid'),\n",
       " Row(userId='73', page='NextSong', level='paid'),\n",
       " Row(userId='73', page='NextSong', level='paid'),\n",
       " Row(userId='73', page='NextSong', level='paid'),\n",
       " Row(userId='73', page='NextSong', level='paid'),\n",
       " Row(userId='73', page='NextSong', level='paid'),\n",
       " Row(userId='73', page='NextSong', level='paid'),\n",
       " Row(userId='73', page='NextSong', level='paid'),\n",
       " Row(userId='73', page='NextSong', level='paid'),\n",
       " Row(userId='73', page='Home', level='paid'),\n",
       " Row(userId='73', page='NextSong', level='paid'),\n",
       " Row(userId='73', page='NextSong', level='paid'),\n",
       " Row(userId='73', page='NextSong', level='paid'),\n",
       " Row(userId='73', page='NextSong', level='paid'),\n",
       " Row(userId='73', page='Add to Playlist', level='paid'),\n",
       " Row(userId='73', page='NextSong', level='paid'),\n",
       " Row(userId='73', page='NextSong', level='paid'),\n",
       " Row(userId='73', page='NextSong', level='paid'),\n",
       " Row(userId='73', page='NextSong', level='paid'),\n",
       " Row(userId='73', page='NextSong', level='paid'),\n",
       " Row(userId='73', page='NextSong', level='paid'),\n",
       " Row(userId='73', page='NextSong', level='paid'),\n",
       " Row(userId='73', page='NextSong', level='paid'),\n",
       " Row(userId='73', page='NextSong', level='paid'),\n",
       " Row(userId='73', page='NextSong', level='paid'),\n",
       " Row(userId='73', page='NextSong', level='paid'),\n",
       " Row(userId='73', page='NextSong', level='paid'),\n",
       " Row(userId='73', page='NextSong', level='paid'),\n",
       " Row(userId='73', page='NextSong', level='paid'),\n",
       " Row(userId='73', page='NextSong', level='paid'),\n",
       " Row(userId='73', page='NextSong', level='paid'),\n",
       " Row(userId='73', page='NextSong', level='paid'),\n",
       " Row(userId='73', page='NextSong', level='paid'),\n",
       " Row(userId='73', page='NextSong', level='paid'),\n",
       " Row(userId='73', page='NextSong', level='paid'),\n",
       " Row(userId='73', page='NextSong', level='paid'),\n",
       " Row(userId='73', page='NextSong', level='paid'),\n",
       " Row(userId='73', page='NextSong', level='paid'),\n",
       " Row(userId='73', page='NextSong', level='paid'),\n",
       " Row(userId='73', page='Add Friend', level='paid'),\n",
       " Row(userId='73', page='Add Friend', level='paid'),\n",
       " Row(userId='73', page='Add Friend', level='paid'),\n",
       " Row(userId='73', page='Add Friend', level='paid'),\n",
       " Row(userId='73', page='Add Friend', level='paid'),\n",
       " Row(userId='73', page='Add Friend', level='paid'),\n",
       " Row(userId='73', page='NextSong', level='paid'),\n",
       " Row(userId='73', page='NextSong', level='paid'),\n",
       " Row(userId='73', page='NextSong', level='paid'),\n",
       " Row(userId='73', page='NextSong', level='paid'),\n",
       " Row(userId='73', page='NextSong', level='paid'),\n",
       " Row(userId='73', page='NextSong', level='paid'),\n",
       " Row(userId='73', page='NextSong', level='paid'),\n",
       " Row(userId='73', page='NextSong', level='paid'),\n",
       " Row(userId='73', page='NextSong', level='paid'),\n",
       " Row(userId='73', page='NextSong', level='paid'),\n",
       " Row(userId='73', page='NextSong', level='paid'),\n",
       " Row(userId='73', page='NextSong', level='paid'),\n",
       " Row(userId='73', page='Thumbs Down', level='paid'),\n",
       " Row(userId='73', page='NextSong', level='paid'),\n",
       " Row(userId='73', page='NextSong', level='paid'),\n",
       " Row(userId='73', page='NextSong', level='paid'),\n",
       " Row(userId='73', page='Settings', level='paid'),\n",
       " Row(userId='73', page='Save Settings', level='paid'),\n",
       " Row(userId='73', page='Home', level='paid'),\n",
       " Row(userId='73', page='Settings', level='paid'),\n",
       " Row(userId='73', page='NextSong', level='paid'),\n",
       " Row(userId='73', page='NextSong', level='paid'),\n",
       " Row(userId='73', page='NextSong', level='paid'),\n",
       " Row(userId='73', page='NextSong', level='paid'),\n",
       " Row(userId='73', page='About', level='paid'),\n",
       " Row(userId='73', page='NextSong', level='paid'),\n",
       " Row(userId='73', page='NextSong', level='paid'),\n",
       " Row(userId='73', page='Add to Playlist', level='paid'),\n",
       " Row(userId='73', page='NextSong', level='paid'),\n",
       " Row(userId='73', page='NextSong', level='paid'),\n",
       " Row(userId='73', page='NextSong', level='paid'),\n",
       " Row(userId='73', page='NextSong', level='paid'),\n",
       " Row(userId='73', page='NextSong', level='paid'),\n",
       " Row(userId='73', page='NextSong', level='paid'),\n",
       " Row(userId='73', page='NextSong', level='paid'),\n",
       " Row(userId='73', page='NextSong', level='paid'),\n",
       " Row(userId='73', page='NextSong', level='paid'),\n",
       " Row(userId='73', page='NextSong', level='paid'),\n",
       " Row(userId='73', page='NextSong', level='paid'),\n",
       " Row(userId='73', page='NextSong', level='paid'),\n",
       " Row(userId='73', page='NextSong', level='paid'),\n",
       " Row(userId='73', page='NextSong', level='paid'),\n",
       " Row(userId='73', page='NextSong', level='paid'),\n",
       " Row(userId='73', page='NextSong', level='paid'),\n",
       " Row(userId='73', page='NextSong', level='paid'),\n",
       " Row(userId='73', page='Thumbs Up', level='paid'),\n",
       " Row(userId='73', page='NextSong', level='paid'),\n",
       " Row(userId='73', page='NextSong', level='paid'),\n",
       " Row(userId='73', page='NextSong', level='paid'),\n",
       " Row(userId='73', page='NextSong', level='paid'),\n",
       " Row(userId='73', page='NextSong', level='paid'),\n",
       " Row(userId='73', page='NextSong', level='paid'),\n",
       " Row(userId='73', page='NextSong', level='paid'),\n",
       " Row(userId='73', page='NextSong', level='paid'),\n",
       " Row(userId='73', page='NextSong', level='paid'),\n",
       " Row(userId='73', page='NextSong', level='paid'),\n",
       " Row(userId='73', page='NextSong', level='paid'),\n",
       " Row(userId='73', page='NextSong', level='paid'),\n",
       " Row(userId='73', page='NextSong', level='paid'),\n",
       " Row(userId='73', page='NextSong', level='paid'),\n",
       " Row(userId='73', page='NextSong', level='paid'),\n",
       " Row(userId='73', page='NextSong', level='paid'),\n",
       " Row(userId='73', page='Home', level='paid'),\n",
       " Row(userId='73', page='NextSong', level='paid'),\n",
       " Row(userId='73', page='NextSong', level='paid'),\n",
       " Row(userId='73', page='NextSong', level='paid'),\n",
       " Row(userId='73', page='NextSong', level='paid'),\n",
       " Row(userId='73', page='NextSong', level='paid'),\n",
       " Row(userId='73', page='NextSong', level='paid'),\n",
       " Row(userId='73', page='NextSong', level='paid'),\n",
       " Row(userId='73', page='NextSong', level='paid'),\n",
       " Row(userId='73', page='NextSong', level='paid'),\n",
       " Row(userId='73', page='NextSong', level='paid'),\n",
       " Row(userId='73', page='NextSong', level='paid'),\n",
       " Row(userId='73', page='NextSong', level='paid'),\n",
       " Row(userId='73', page='NextSong', level='paid'),\n",
       " Row(userId='73', page='NextSong', level='paid'),\n",
       " Row(userId='73', page='NextSong', level='paid'),\n",
       " Row(userId='73', page='NextSong', level='paid'),\n",
       " Row(userId='73', page='NextSong', level='paid'),\n",
       " Row(userId='73', page='Thumbs Up', level='paid'),\n",
       " Row(userId='73', page='NextSong', level='paid'),\n",
       " Row(userId='73', page='NextSong', level='paid'),\n",
       " Row(userId='73', page='Thumbs Up', level='paid'),\n",
       " Row(userId='73', page='Add to Playlist', level='paid'),\n",
       " Row(userId='73', page='NextSong', level='paid'),\n",
       " Row(userId='73', page='NextSong', level='paid'),\n",
       " Row(userId='73', page='NextSong', level='paid'),\n",
       " Row(userId='73', page='NextSong', level='paid'),\n",
       " Row(userId='73', page='NextSong', level='paid'),\n",
       " Row(userId='73', page='NextSong', level='paid'),\n",
       " Row(userId='73', page='NextSong', level='paid'),\n",
       " Row(userId='73', page='NextSong', level='paid'),\n",
       " Row(userId='73', page='NextSong', level='paid'),\n",
       " Row(userId='73', page='NextSong', level='paid'),\n",
       " Row(userId='73', page='Thumbs Up', level='paid'),\n",
       " Row(userId='73', page='NextSong', level='paid'),\n",
       " Row(userId='73', page='NextSong', level='paid'),\n",
       " Row(userId='73', page='NextSong', level='paid'),\n",
       " Row(userId='73', page='NextSong', level='paid'),\n",
       " Row(userId='73', page='Add to Playlist', level='paid'),\n",
       " Row(userId='73', page='NextSong', level='paid'),\n",
       " Row(userId='73', page='NextSong', level='paid'),\n",
       " Row(userId='73', page='NextSong', level='paid'),\n",
       " Row(userId='73', page='NextSong', level='paid'),\n",
       " Row(userId='73', page='NextSong', level='paid'),\n",
       " Row(userId='73', page='Logout', level='paid'),\n",
       " Row(userId='73', page='Home', level='paid'),\n",
       " Row(userId='73', page='NextSong', level='paid'),\n",
       " Row(userId='73', page='NextSong', level='paid'),\n",
       " Row(userId='73', page='NextSong', level='paid'),\n",
       " Row(userId='73', page='NextSong', level='paid'),\n",
       " Row(userId='73', page='NextSong', level='paid'),\n",
       " Row(userId='73', page='NextSong', level='paid'),\n",
       " Row(userId='73', page='Downgrade', level='paid'),\n",
       " Row(userId='73', page='Cancel', level='paid'),\n",
       " Row(userId='73', page='Cancellation Confirmation', level='paid')]"
      ]
     },
     "execution_count": 260,
     "metadata": {},
     "output_type": "execute_result"
    }
   ],
   "source": [
    "spark.sql('''\n",
    "        SELECT userId,page,level\n",
    "        FROM sql_table\n",
    "        WHERE userId == '73'\n",
    "        ''').collect()"
   ]
  },
  {
   "cell_type": "raw",
   "metadata": {},
   "source": [
    "通过记录查询，确认伴随page='Cancel'出现的page = Cancellation Confirmation为用户最后一条活动信息，之后彻底取消关注Sparkify听歌软件，该客户确认流失。"
   ]
  },
  {
   "cell_type": "markdown",
   "metadata": {},
   "source": [
    "#### 创建Churn列\n",
    "按照用户行为是否存在Cancellation Confirmation事件，做0-1分类\n",
    "进而执行探索性数据分析，观察留存用户和流失用户的行为。首先把这两类用户的数据聚合到一起，观察固定时间内某个特定动作出现的次数或者播放音乐的数量。"
   ]
  },
  {
   "cell_type": "code",
   "execution_count": 261,
   "metadata": {
    "ExecuteTime": {
     "end_time": "2020-02-18T11:37:38.533122Z",
     "start_time": "2020-02-18T11:37:36.108618Z"
    }
   },
   "outputs": [],
   "source": [
    "# 流失的用户userId列表\n",
    "cancel_user_list = list(cancel_user.select('userId').toPandas().values[:,0])"
   ]
  },
  {
   "cell_type": "code",
   "execution_count": 262,
   "metadata": {
    "ExecuteTime": {
     "end_time": "2020-02-18T11:37:38.539985Z",
     "start_time": "2020-02-18T11:37:38.535698Z"
    }
   },
   "outputs": [],
   "source": [
    "#定义函数，将存在Cancellation Confirmation事件的用户标签为1，其余为0\n",
    "churn_label = udf(lambda x : 1 if x in(cancel_user_list) else 0)"
   ]
  },
  {
   "cell_type": "code",
   "execution_count": 263,
   "metadata": {
    "ExecuteTime": {
     "end_time": "2020-02-18T11:37:38.560627Z",
     "start_time": "2020-02-18T11:37:38.543339Z"
    }
   },
   "outputs": [],
   "source": [
    "df = df.withColumn('churn',churn_label(df.userId))"
   ]
  },
  {
   "cell_type": "code",
   "execution_count": 264,
   "metadata": {
    "ExecuteTime": {
     "end_time": "2020-02-18T11:37:39.795192Z",
     "start_time": "2020-02-18T11:37:38.563097Z"
    }
   },
   "outputs": [
    {
     "name": "stdout",
     "output_type": "stream",
     "text": [
      "+------+--------+-----+\n",
      "|userId|    page|churn|\n",
      "+------+--------+-----+\n",
      "|    51|    Home|    1|\n",
      "|    51|NextSong|    1|\n",
      "|    51|NextSong|    1|\n",
      "+------+--------+-----+\n",
      "only showing top 3 rows\n",
      "\n"
     ]
    }
   ],
   "source": [
    "#选取某一流失用户查看效果\n",
    "df.select('userId','page','churn').where(df.userId== '51').show(3)"
   ]
  },
  {
   "cell_type": "code",
   "execution_count": 265,
   "metadata": {
    "ExecuteTime": {
     "end_time": "2020-02-18T11:37:41.027509Z",
     "start_time": "2020-02-18T11:37:39.798293Z"
    }
   },
   "outputs": [
    {
     "name": "stdout",
     "output_type": "stream",
     "text": [
      "+------+---------+-----+\n",
      "|userId|     page|churn|\n",
      "+------+---------+-----+\n",
      "|    52| NextSong|    0|\n",
      "|    52|Thumbs Up|    0|\n",
      "|    52| NextSong|    0|\n",
      "+------+---------+-----+\n",
      "only showing top 3 rows\n",
      "\n"
     ]
    }
   ],
   "source": [
    "#选取某一未流失用户查看效果\n",
    "df.select('userId','page','churn').where(df.userId== '52').show(3)"
   ]
  },
  {
   "cell_type": "markdown",
   "metadata": {},
   "source": [
    "#### 创建cancel列"
   ]
  },
  {
   "cell_type": "code",
   "execution_count": 266,
   "metadata": {
    "ExecuteTime": {
     "end_time": "2020-02-18T11:37:41.964836Z",
     "start_time": "2020-02-18T11:37:41.030194Z"
    },
    "scrolled": false
   },
   "outputs": [
    {
     "data": {
      "text/plain": [
       "Row(artist='Martha Tilston', auth='Logged In', firstName='Colin', gender='M', itemInSession=50, lastName='Freeman', length=277.8901672363281, level='paid', location='Bakersfield, CA', method='PUT', page='NextSong', registration=1538173362000, sessionId=29, song='Rockpools', status=200, ts=1538352117000, userAgent='Mozilla/5.0 (Windows NT 6.1; WOW64; rv:31.0) Gecko/20100101 Firefox/31.0', userId='30', regist_time='2018-09-29 06:22:42', using_time='2018-10-01 08:01:57', hour=8, register_year=2018, churn='0', cancel=0)"
      ]
     },
     "execution_count": 266,
     "metadata": {},
     "output_type": "execute_result"
    }
   ],
   "source": [
    "#定义函数，使标签对应值为0-1\n",
    "cancel_label = udf(lambda x : 1 if x=='Cancellation Confirmation' else 0, IntegerType())\n",
    "\n",
    "#新增标签列cancel\n",
    "df = df.withColumn('cancel',cancel_label('page'))\n",
    "df.head()"
   ]
  },
  {
   "cell_type": "markdown",
   "metadata": {},
   "source": [
    "#### 创建label列"
   ]
  },
  {
   "cell_type": "code",
   "execution_count": 267,
   "metadata": {
    "ExecuteTime": {
     "end_time": "2020-02-18T11:37:43.833108Z",
     "start_time": "2020-02-18T11:37:41.968179Z"
    }
   },
   "outputs": [
    {
     "name": "stdout",
     "output_type": "stream",
     "text": [
      "+------+-----+\n",
      "|userId|label|\n",
      "+------+-----+\n",
      "|100010|    0|\n",
      "|200002|    0|\n",
      "|   125|    1|\n",
      "+------+-----+\n",
      "only showing top 3 rows\n",
      "\n"
     ]
    }
   ],
   "source": [
    "#将cancel列加和，并新增列\n",
    "df_label = df.groupby('userId').agg(Fsum(df.cancel))\n",
    "df_label = df_label.withColumnRenamed('sum(cancel)','label')\n",
    "df_label.show(3)"
   ]
  },
  {
   "cell_type": "code",
   "execution_count": 268,
   "metadata": {
    "ExecuteTime": {
     "end_time": "2020-02-18T11:37:48.326938Z",
     "start_time": "2020-02-18T11:37:43.836052Z"
    }
   },
   "outputs": [
    {
     "name": "stdout",
     "output_type": "stream",
     "text": [
      "225\n",
      "52\n"
     ]
    }
   ],
   "source": [
    "#核验标签\n",
    "print(df_label.count())\n",
    "print(df_label.where(df_label.label=='1').count())"
   ]
  },
  {
   "cell_type": "markdown",
   "metadata": {},
   "source": [
    "### 数据聚合"
   ]
  },
  {
   "cell_type": "code",
   "execution_count": 269,
   "metadata": {
    "ExecuteTime": {
     "end_time": "2020-02-18T11:37:49.712563Z",
     "start_time": "2020-02-18T11:37:48.329857Z"
    },
    "scrolled": false
   },
   "outputs": [
    {
     "name": "stdout",
     "output_type": "stream",
     "text": [
      "+------+------+---------+-----+------+--------+-------------+-------------+----+------+-----+\n",
      "|userId|gender|   length|level|method|    page|           ts| registration|hour|cancel|churn|\n",
      "+------+------+---------+-----+------+--------+-------------+-------------+----+------+-----+\n",
      "|    30|     M|277.89017| paid|   PUT|NextSong|1538352117000|1538173362000|   8|     0|    0|\n",
      "|     9|     M|236.09424| free|   PUT|NextSong|1538352180000|1538331630000|   8|     0|    0|\n",
      "|    30|     M| 282.8273| paid|   PUT|NextSong|1538352394000|1538173362000|   8|     0|    0|\n",
      "|     9|     M|  262.713| free|   PUT|NextSong|1538352416000|1538331630000|   8|     0|    0|\n",
      "|    30|     M|223.60771| paid|   PUT|NextSong|1538352676000|1538173362000|   8|     0|    0|\n",
      "+------+------+---------+-----+------+--------+-------------+-------------+----+------+-----+\n",
      "only showing top 5 rows\n",
      "\n"
     ]
    }
   ],
   "source": [
    "#通过上述数据观察，提取用户关键属性和行为信息\n",
    "df = df.select('userId','gender','length','level','method','page','ts','registration','hour','cancel','churn')\n",
    "df.show(5)"
   ]
  },
  {
   "cell_type": "markdown",
   "metadata": {},
   "source": [
    "#### 定义函数"
   ]
  },
  {
   "cell_type": "code",
   "execution_count": 270,
   "metadata": {
    "ExecuteTime": {
     "end_time": "2020-02-18T11:37:49.732472Z",
     "start_time": "2020-02-18T11:37:49.715833Z"
    }
   },
   "outputs": [],
   "source": [
    "# 定义函数，用于统计每一列中不同value的数量，并返回新的DataFrame\n",
    "def numvalues_to_df(column,val):\n",
    "    \n",
    "    def_p = udf(lambda x : 1 if x==val else 0)\n",
    "    col_name = val+'s'\n",
    "    re_one = 'sum('+col_name+')'\n",
    "    re_two = col_name.lower()\n",
    "\n",
    "    df_1 = df.withColumn(col_name,def_p(col(column)))\n",
    "    df_1 = df_1.groupBy('userId').agg(Fsum(col(col_name))).withColumnRenamed(re_one,re_two)\n",
    "    \n",
    "    return df_1"
   ]
  },
  {
   "cell_type": "code",
   "execution_count": 271,
   "metadata": {
    "ExecuteTime": {
     "end_time": "2020-02-18T11:37:49.753790Z",
     "start_time": "2020-02-18T11:37:49.735529Z"
    }
   },
   "outputs": [],
   "source": [
    "# 快速查看DataFrame概况\n",
    "def check_df(df,top=3):\n",
    "    print('----------------------')\n",
    "    print('Total rows:',df.count())\n",
    "    return df.show(top)"
   ]
  },
  {
   "cell_type": "code",
   "execution_count": 272,
   "metadata": {
    "ExecuteTime": {
     "end_time": "2020-02-18T11:37:51.301960Z",
     "start_time": "2020-02-18T11:37:49.757196Z"
    }
   },
   "outputs": [
    {
     "data": {
      "text/plain": [
       "Row(userId='30', gender='M', length=277.8901672363281, level='paid', method='PUT', page='NextSong', ts=1538352117000, registration=1538173362000, hour=8, cancel=0, churn='0')"
      ]
     },
     "execution_count": 272,
     "metadata": {},
     "output_type": "execute_result"
    }
   ],
   "source": [
    "df.head()"
   ]
  },
  {
   "cell_type": "markdown",
   "metadata": {},
   "source": [
    "#### 注册天数"
   ]
  },
  {
   "cell_type": "code",
   "execution_count": 273,
   "metadata": {
    "ExecuteTime": {
     "end_time": "2020-02-18T11:37:51.395141Z",
     "start_time": "2020-02-18T11:37:51.304839Z"
    }
   },
   "outputs": [],
   "source": [
    "# 增加列，表示注册至今或至流失的天数\n",
    "from pyspark.sql.functions import col\n",
    "df_days = df.withColumn('time_from_register_ts',df.ts-df.registration)\\\n",
    "                    .groupby('userId').agg({'time_from_register_ts':'max'})\\\n",
    "                    .withColumnRenamed('max(time_from_register_ts)','alive_ts')\\\n",
    "                    .withColumn('alive_days',col('alive_ts')/1000/60/60/24)"
   ]
  },
  {
   "cell_type": "code",
   "execution_count": 274,
   "metadata": {
    "ExecuteTime": {
     "end_time": "2020-02-18T11:37:54.881043Z",
     "start_time": "2020-02-18T11:37:51.397724Z"
    }
   },
   "outputs": [
    {
     "name": "stdout",
     "output_type": "stream",
     "text": [
      "----------------------\n",
      "Total rows: 225\n",
      "+------+----------+-----------------+\n",
      "|userId|  alive_ts|       alive_days|\n",
      "+------+----------+-----------------+\n",
      "|100010|4807612000|55.64365740740741|\n",
      "|200002|6054448000|70.07462962962963|\n",
      "|   125|6161779000|71.31688657407408|\n",
      "+------+----------+-----------------+\n",
      "only showing top 3 rows\n",
      "\n"
     ]
    }
   ],
   "source": [
    "check_df(df_days)"
   ]
  },
  {
   "cell_type": "markdown",
   "metadata": {},
   "source": [
    "#### length列"
   ]
  },
  {
   "cell_type": "code",
   "execution_count": 275,
   "metadata": {
    "ExecuteTime": {
     "end_time": "2020-02-18T11:37:54.913152Z",
     "start_time": "2020-02-18T11:37:54.891284Z"
    }
   },
   "outputs": [],
   "source": [
    "#取length均值，形成新列\n",
    "df_length = df.groupBy('userId').agg(avg(col('length'))).withColumnRenamed('avg(length)','avg_length')"
   ]
  },
  {
   "cell_type": "code",
   "execution_count": 276,
   "metadata": {
    "ExecuteTime": {
     "end_time": "2020-02-18T11:37:58.263157Z",
     "start_time": "2020-02-18T11:37:54.915479Z"
    }
   },
   "outputs": [
    {
     "name": "stdout",
     "output_type": "stream",
     "text": [
      "----------------------\n",
      "Total rows: 225\n",
      "+------+------------------+\n",
      "|userId|        avg_length|\n",
      "+------+------------------+\n",
      "|100010|243.42144478537818|\n",
      "|200002| 242.9169919065727|\n",
      "|   125| 261.1391372680664|\n",
      "+------+------------------+\n",
      "only showing top 3 rows\n",
      "\n"
     ]
    }
   ],
   "source": [
    "check_df(df_length)"
   ]
  },
  {
   "cell_type": "markdown",
   "metadata": {},
   "source": [
    "#### level列"
   ]
  },
  {
   "cell_type": "code",
   "execution_count": 277,
   "metadata": {
    "ExecuteTime": {
     "end_time": "2020-02-18T11:38:00.081980Z",
     "start_time": "2020-02-18T11:37:58.265577Z"
    }
   },
   "outputs": [
    {
     "name": "stdout",
     "output_type": "stream",
     "text": [
      "+------+-----+\n",
      "|userId|level|\n",
      "+------+-----+\n",
      "|    10| paid|\n",
      "|   100| paid|\n",
      "|   100| free|\n",
      "|100001| free|\n",
      "|100002| paid|\n",
      "+------+-----+\n",
      "only showing top 5 rows\n",
      "\n"
     ]
    }
   ],
   "source": [
    "#发现同一个userId会对应多个level,说明有的用户曾经付费过，后来仍然流失了，后期将该这部分用户统一规划为paid\n",
    "df.select('userId','level').dropDuplicates().sort('userId').show(5)"
   ]
  },
  {
   "cell_type": "code",
   "execution_count": 278,
   "metadata": {
    "ExecuteTime": {
     "end_time": "2020-02-18T11:38:01.401968Z",
     "start_time": "2020-02-18T11:38:00.084864Z"
    }
   },
   "outputs": [
    {
     "data": {
      "text/plain": [
       "[Row(userId='100009', level='free', page='NextSong'),\n",
       " Row(userId='100009', level='free', page='NextSong'),\n",
       " Row(userId='100009', level='free', page='Thumbs Up'),\n",
       " Row(userId='100009', level='free', page='NextSong'),\n",
       " Row(userId='100009', level='free', page='NextSong'),\n",
       " Row(userId='100009', level='free', page='NextSong'),\n",
       " Row(userId='100009', level='free', page='NextSong'),\n",
       " Row(userId='100009', level='free', page='NextSong'),\n",
       " Row(userId='100009', level='free', page='NextSong'),\n",
       " Row(userId='100009', level='free', page='NextSong'),\n",
       " Row(userId='100009', level='free', page='Roll Advert'),\n",
       " Row(userId='100009', level='free', page='Roll Advert'),\n",
       " Row(userId='100009', level='free', page='NextSong'),\n",
       " Row(userId='100009', level='free', page='Roll Advert'),\n",
       " Row(userId='100009', level='free', page='NextSong'),\n",
       " Row(userId='100009', level='free', page='NextSong'),\n",
       " Row(userId='100009', level='free', page='NextSong'),\n",
       " Row(userId='100009', level='free', page='NextSong'),\n",
       " Row(userId='100009', level='free', page='NextSong'),\n",
       " Row(userId='100009', level='free', page='NextSong'),\n",
       " Row(userId='100009', level='free', page='NextSong'),\n",
       " Row(userId='100009', level='free', page='Upgrade'),\n",
       " Row(userId='100009', level='free', page='NextSong'),\n",
       " Row(userId='100009', level='free', page='NextSong'),\n",
       " Row(userId='100009', level='free', page='Settings'),\n",
       " Row(userId='100009', level='free', page='NextSong'),\n",
       " Row(userId='100009', level='free', page='NextSong'),\n",
       " Row(userId='100009', level='free', page='Logout'),\n",
       " Row(userId='100009', level='free', page='Home'),\n",
       " Row(userId='100009', level='free', page='NextSong'),\n",
       " Row(userId='100009', level='free', page='NextSong'),\n",
       " Row(userId='100009', level='free', page='Roll Advert'),\n",
       " Row(userId='100009', level='free', page='NextSong'),\n",
       " Row(userId='100009', level='free', page='NextSong'),\n",
       " Row(userId='100009', level='free', page='NextSong'),\n",
       " Row(userId='100009', level='free', page='NextSong'),\n",
       " Row(userId='100009', level='free', page='Roll Advert'),\n",
       " Row(userId='100009', level='free', page='Roll Advert'),\n",
       " Row(userId='100009', level='free', page='NextSong'),\n",
       " Row(userId='100009', level='free', page='Thumbs Down'),\n",
       " Row(userId='100009', level='free', page='NextSong'),\n",
       " Row(userId='100009', level='free', page='NextSong'),\n",
       " Row(userId='100009', level='free', page='NextSong'),\n",
       " Row(userId='100009', level='free', page='Logout'),\n",
       " Row(userId='100009', level='free', page='Home'),\n",
       " Row(userId='100009', level='free', page='NextSong'),\n",
       " Row(userId='100009', level='free', page='Thumbs Up'),\n",
       " Row(userId='100009', level='free', page='NextSong'),\n",
       " Row(userId='100009', level='free', page='NextSong'),\n",
       " Row(userId='100009', level='free', page='Add to Playlist'),\n",
       " Row(userId='100009', level='free', page='NextSong'),\n",
       " Row(userId='100009', level='free', page='NextSong'),\n",
       " Row(userId='100009', level='free', page='Logout'),\n",
       " Row(userId='100009', level='free', page='Home'),\n",
       " Row(userId='100009', level='free', page='NextSong'),\n",
       " Row(userId='100009', level='free', page='NextSong'),\n",
       " Row(userId='100009', level='free', page='Logout'),\n",
       " Row(userId='100009', level='free', page='Home'),\n",
       " Row(userId='100009', level='free', page='NextSong'),\n",
       " Row(userId='100009', level='free', page='NextSong'),\n",
       " Row(userId='100009', level='free', page='Logout'),\n",
       " Row(userId='100009', level='free', page='Home'),\n",
       " Row(userId='100009', level='free', page='NextSong'),\n",
       " Row(userId='100009', level='free', page='NextSong'),\n",
       " Row(userId='100009', level='free', page='NextSong'),\n",
       " Row(userId='100009', level='free', page='NextSong'),\n",
       " Row(userId='100009', level='free', page='NextSong'),\n",
       " Row(userId='100009', level='free', page='NextSong'),\n",
       " Row(userId='100009', level='free', page='Roll Advert'),\n",
       " Row(userId='100009', level='free', page='NextSong'),\n",
       " Row(userId='100009', level='free', page='NextSong'),\n",
       " Row(userId='100009', level='free', page='NextSong'),\n",
       " Row(userId='100009', level='free', page='Roll Advert'),\n",
       " Row(userId='100009', level='free', page='Roll Advert'),\n",
       " Row(userId='100009', level='free', page='NextSong'),\n",
       " Row(userId='100009', level='free', page='NextSong'),\n",
       " Row(userId='100009', level='free', page='NextSong'),\n",
       " Row(userId='100009', level='free', page='NextSong'),\n",
       " Row(userId='100009', level='free', page='NextSong'),\n",
       " Row(userId='100009', level='free', page='NextSong'),\n",
       " Row(userId='100009', level='free', page='Roll Advert'),\n",
       " Row(userId='100009', level='free', page='NextSong'),\n",
       " Row(userId='100009', level='free', page='NextSong'),\n",
       " Row(userId='100009', level='free', page='Thumbs Down'),\n",
       " Row(userId='100009', level='free', page='NextSong'),\n",
       " Row(userId='100009', level='free', page='Logout'),\n",
       " Row(userId='100009', level='free', page='Home'),\n",
       " Row(userId='100009', level='free', page='NextSong'),\n",
       " Row(userId='100009', level='free', page='NextSong'),\n",
       " Row(userId='100009', level='free', page='NextSong'),\n",
       " Row(userId='100009', level='free', page='NextSong'),\n",
       " Row(userId='100009', level='free', page='NextSong'),\n",
       " Row(userId='100009', level='free', page='Help'),\n",
       " Row(userId='100009', level='free', page='Home'),\n",
       " Row(userId='100009', level='free', page='NextSong'),\n",
       " Row(userId='100009', level='free', page='NextSong'),\n",
       " Row(userId='100009', level='free', page='NextSong'),\n",
       " Row(userId='100009', level='free', page='Thumbs Down'),\n",
       " Row(userId='100009', level='free', page='NextSong'),\n",
       " Row(userId='100009', level='free', page='NextSong'),\n",
       " Row(userId='100009', level='free', page='NextSong'),\n",
       " Row(userId='100009', level='free', page='NextSong'),\n",
       " Row(userId='100009', level='free', page='NextSong'),\n",
       " Row(userId='100009', level='free', page='NextSong'),\n",
       " Row(userId='100009', level='free', page='NextSong'),\n",
       " Row(userId='100009', level='free', page='Roll Advert'),\n",
       " Row(userId='100009', level='free', page='NextSong'),\n",
       " Row(userId='100009', level='free', page='Roll Advert'),\n",
       " Row(userId='100009', level='free', page='NextSong'),\n",
       " Row(userId='100009', level='free', page='NextSong'),\n",
       " Row(userId='100009', level='free', page='NextSong'),\n",
       " Row(userId='100009', level='free', page='NextSong'),\n",
       " Row(userId='100009', level='free', page='NextSong'),\n",
       " Row(userId='100009', level='free', page='NextSong'),\n",
       " Row(userId='100009', level='free', page='NextSong'),\n",
       " Row(userId='100009', level='free', page='NextSong'),\n",
       " Row(userId='100009', level='free', page='NextSong'),\n",
       " Row(userId='100009', level='free', page='NextSong'),\n",
       " Row(userId='100009', level='free', page='Home'),\n",
       " Row(userId='100009', level='free', page='NextSong'),\n",
       " Row(userId='100009', level='free', page='Roll Advert'),\n",
       " Row(userId='100009', level='free', page='NextSong'),\n",
       " Row(userId='100009', level='free', page='Roll Advert'),\n",
       " Row(userId='100009', level='free', page='NextSong'),\n",
       " Row(userId='100009', level='free', page='Roll Advert'),\n",
       " Row(userId='100009', level='free', page='NextSong'),\n",
       " Row(userId='100009', level='free', page='NextSong'),\n",
       " Row(userId='100009', level='free', page='Add Friend'),\n",
       " Row(userId='100009', level='free', page='NextSong'),\n",
       " Row(userId='100009', level='free', page='Roll Advert'),\n",
       " Row(userId='100009', level='free', page='NextSong'),\n",
       " Row(userId='100009', level='free', page='Add to Playlist'),\n",
       " Row(userId='100009', level='free', page='NextSong'),\n",
       " Row(userId='100009', level='free', page='NextSong'),\n",
       " Row(userId='100009', level='free', page='NextSong'),\n",
       " Row(userId='100009', level='free', page='Thumbs Up'),\n",
       " Row(userId='100009', level='free', page='NextSong'),\n",
       " Row(userId='100009', level='free', page='NextSong'),\n",
       " Row(userId='100009', level='free', page='NextSong'),\n",
       " Row(userId='100009', level='free', page='NextSong'),\n",
       " Row(userId='100009', level='free', page='Upgrade'),\n",
       " Row(userId='100009', level='free', page='Submit Upgrade'),\n",
       " Row(userId='100009', level='paid', page='Home'),\n",
       " Row(userId='100009', level='paid', page='NextSong'),\n",
       " Row(userId='100009', level='paid', page='NextSong'),\n",
       " Row(userId='100009', level='paid', page='NextSong'),\n",
       " Row(userId='100009', level='paid', page='NextSong'),\n",
       " Row(userId='100009', level='paid', page='NextSong'),\n",
       " Row(userId='100009', level='paid', page='NextSong'),\n",
       " Row(userId='100009', level='paid', page='NextSong'),\n",
       " Row(userId='100009', level='paid', page='NextSong'),\n",
       " Row(userId='100009', level='paid', page='NextSong'),\n",
       " Row(userId='100009', level='paid', page='NextSong'),\n",
       " Row(userId='100009', level='paid', page='Home'),\n",
       " Row(userId='100009', level='paid', page='NextSong'),\n",
       " Row(userId='100009', level='paid', page='NextSong'),\n",
       " Row(userId='100009', level='paid', page='NextSong'),\n",
       " Row(userId='100009', level='paid', page='NextSong'),\n",
       " Row(userId='100009', level='paid', page='NextSong'),\n",
       " Row(userId='100009', level='paid', page='NextSong'),\n",
       " Row(userId='100009', level='paid', page='NextSong'),\n",
       " Row(userId='100009', level='paid', page='NextSong'),\n",
       " Row(userId='100009', level='paid', page='NextSong'),\n",
       " Row(userId='100009', level='paid', page='NextSong'),\n",
       " Row(userId='100009', level='paid', page='NextSong'),\n",
       " Row(userId='100009', level='paid', page='NextSong'),\n",
       " Row(userId='100009', level='paid', page='NextSong'),\n",
       " Row(userId='100009', level='paid', page='NextSong'),\n",
       " Row(userId='100009', level='paid', page='Settings'),\n",
       " Row(userId='100009', level='paid', page='Save Settings'),\n",
       " Row(userId='100009', level='paid', page='Settings'),\n",
       " Row(userId='100009', level='paid', page='Home'),\n",
       " Row(userId='100009', level='paid', page='Downgrade'),\n",
       " Row(userId='100009', level='paid', page='NextSong'),\n",
       " Row(userId='100009', level='paid', page='NextSong'),\n",
       " Row(userId='100009', level='paid', page='NextSong'),\n",
       " Row(userId='100009', level='paid', page='NextSong'),\n",
       " Row(userId='100009', level='paid', page='NextSong'),\n",
       " Row(userId='100009', level='paid', page='NextSong'),\n",
       " Row(userId='100009', level='paid', page='NextSong'),\n",
       " Row(userId='100009', level='paid', page='Add to Playlist'),\n",
       " Row(userId='100009', level='paid', page='NextSong'),\n",
       " Row(userId='100009', level='paid', page='Help'),\n",
       " Row(userId='100009', level='paid', page='NextSong'),\n",
       " Row(userId='100009', level='paid', page='Add Friend'),\n",
       " Row(userId='100009', level='paid', page='Add Friend'),\n",
       " Row(userId='100009', level='paid', page='NextSong'),\n",
       " Row(userId='100009', level='paid', page='NextSong'),\n",
       " Row(userId='100009', level='paid', page='Downgrade'),\n",
       " Row(userId='100009', level='paid', page='NextSong'),\n",
       " Row(userId='100009', level='paid', page='NextSong'),\n",
       " Row(userId='100009', level='paid', page='NextSong'),\n",
       " Row(userId='100009', level='paid', page='NextSong'),\n",
       " Row(userId='100009', level='paid', page='NextSong'),\n",
       " Row(userId='100009', level='paid', page='NextSong'),\n",
       " Row(userId='100009', level='paid', page='NextSong'),\n",
       " Row(userId='100009', level='paid', page='NextSong'),\n",
       " Row(userId='100009', level='paid', page='NextSong'),\n",
       " Row(userId='100009', level='paid', page='NextSong'),\n",
       " Row(userId='100009', level='paid', page='NextSong'),\n",
       " Row(userId='100009', level='paid', page='Logout'),\n",
       " Row(userId='100009', level='paid', page='Home'),\n",
       " Row(userId='100009', level='paid', page='NextSong'),\n",
       " Row(userId='100009', level='paid', page='NextSong'),\n",
       " Row(userId='100009', level='paid', page='NextSong'),\n",
       " Row(userId='100009', level='paid', page='NextSong'),\n",
       " Row(userId='100009', level='paid', page='NextSong'),\n",
       " Row(userId='100009', level='paid', page='NextSong'),\n",
       " Row(userId='100009', level='paid', page='NextSong'),\n",
       " Row(userId='100009', level='paid', page='NextSong'),\n",
       " Row(userId='100009', level='paid', page='NextSong'),\n",
       " Row(userId='100009', level='paid', page='NextSong'),\n",
       " Row(userId='100009', level='paid', page='NextSong'),\n",
       " Row(userId='100009', level='paid', page='NextSong'),\n",
       " Row(userId='100009', level='paid', page='NextSong'),\n",
       " Row(userId='100009', level='paid', page='NextSong'),\n",
       " Row(userId='100009', level='paid', page='NextSong'),\n",
       " Row(userId='100009', level='paid', page='Settings'),\n",
       " Row(userId='100009', level='paid', page='NextSong'),\n",
       " Row(userId='100009', level='paid', page='NextSong'),\n",
       " Row(userId='100009', level='paid', page='NextSong'),\n",
       " Row(userId='100009', level='paid', page='NextSong'),\n",
       " Row(userId='100009', level='paid', page='NextSong'),\n",
       " Row(userId='100009', level='paid', page='NextSong'),\n",
       " Row(userId='100009', level='paid', page='NextSong'),\n",
       " Row(userId='100009', level='paid', page='NextSong'),\n",
       " Row(userId='100009', level='paid', page='NextSong'),\n",
       " Row(userId='100009', level='paid', page='NextSong'),\n",
       " Row(userId='100009', level='paid', page='NextSong'),\n",
       " Row(userId='100009', level='paid', page='NextSong'),\n",
       " Row(userId='100009', level='paid', page='NextSong'),\n",
       " Row(userId='100009', level='paid', page='NextSong'),\n",
       " Row(userId='100009', level='paid', page='NextSong'),\n",
       " Row(userId='100009', level='paid', page='NextSong'),\n",
       " Row(userId='100009', level='paid', page='Add to Playlist'),\n",
       " Row(userId='100009', level='paid', page='NextSong'),\n",
       " Row(userId='100009', level='paid', page='NextSong'),\n",
       " Row(userId='100009', level='paid', page='NextSong'),\n",
       " Row(userId='100009', level='paid', page='NextSong'),\n",
       " Row(userId='100009', level='paid', page='NextSong'),\n",
       " Row(userId='100009', level='paid', page='NextSong'),\n",
       " Row(userId='100009', level='paid', page='NextSong'),\n",
       " Row(userId='100009', level='paid', page='Help'),\n",
       " Row(userId='100009', level='paid', page='NextSong'),\n",
       " Row(userId='100009', level='paid', page='NextSong'),\n",
       " Row(userId='100009', level='paid', page='Downgrade'),\n",
       " Row(userId='100009', level='paid', page='NextSong'),\n",
       " Row(userId='100009', level='paid', page='NextSong'),\n",
       " Row(userId='100009', level='paid', page='NextSong'),\n",
       " Row(userId='100009', level='paid', page='NextSong'),\n",
       " Row(userId='100009', level='paid', page='NextSong'),\n",
       " Row(userId='100009', level='paid', page='Logout'),\n",
       " Row(userId='100009', level='paid', page='Home'),\n",
       " Row(userId='100009', level='paid', page='NextSong'),\n",
       " Row(userId='100009', level='paid', page='NextSong'),\n",
       " Row(userId='100009', level='paid', page='NextSong'),\n",
       " Row(userId='100009', level='paid', page='NextSong'),\n",
       " Row(userId='100009', level='paid', page='NextSong'),\n",
       " Row(userId='100009', level='paid', page='NextSong'),\n",
       " Row(userId='100009', level='paid', page='NextSong'),\n",
       " Row(userId='100009', level='paid', page='NextSong'),\n",
       " Row(userId='100009', level='paid', page='NextSong'),\n",
       " Row(userId='100009', level='paid', page='NextSong'),\n",
       " Row(userId='100009', level='paid', page='NextSong'),\n",
       " Row(userId='100009', level='paid', page='NextSong'),\n",
       " Row(userId='100009', level='paid', page='Add to Playlist'),\n",
       " Row(userId='100009', level='paid', page='NextSong'),\n",
       " Row(userId='100009', level='paid', page='Thumbs Up'),\n",
       " Row(userId='100009', level='paid', page='NextSong'),\n",
       " Row(userId='100009', level='paid', page='NextSong'),\n",
       " Row(userId='100009', level='paid', page='NextSong'),\n",
       " Row(userId='100009', level='paid', page='NextSong'),\n",
       " Row(userId='100009', level='paid', page='Thumbs Up'),\n",
       " Row(userId='100009', level='paid', page='NextSong'),\n",
       " Row(userId='100009', level='paid', page='NextSong'),\n",
       " Row(userId='100009', level='paid', page='NextSong'),\n",
       " Row(userId='100009', level='paid', page='NextSong'),\n",
       " Row(userId='100009', level='paid', page='NextSong'),\n",
       " Row(userId='100009', level='paid', page='NextSong'),\n",
       " Row(userId='100009', level='paid', page='NextSong'),\n",
       " Row(userId='100009', level='paid', page='NextSong'),\n",
       " Row(userId='100009', level='paid', page='NextSong'),\n",
       " Row(userId='100009', level='paid', page='NextSong'),\n",
       " Row(userId='100009', level='paid', page='NextSong'),\n",
       " Row(userId='100009', level='paid', page='NextSong'),\n",
       " Row(userId='100009', level='paid', page='NextSong'),\n",
       " Row(userId='100009', level='paid', page='NextSong'),\n",
       " Row(userId='100009', level='paid', page='NextSong'),\n",
       " Row(userId='100009', level='paid', page='NextSong'),\n",
       " Row(userId='100009', level='paid', page='NextSong'),\n",
       " Row(userId='100009', level='paid', page='NextSong'),\n",
       " Row(userId='100009', level='paid', page='NextSong'),\n",
       " Row(userId='100009', level='paid', page='NextSong'),\n",
       " Row(userId='100009', level='paid', page='NextSong'),\n",
       " Row(userId='100009', level='paid', page='NextSong'),\n",
       " Row(userId='100009', level='paid', page='NextSong'),\n",
       " Row(userId='100009', level='paid', page='NextSong'),\n",
       " Row(userId='100009', level='paid', page='Add Friend'),\n",
       " Row(userId='100009', level='paid', page='NextSong'),\n",
       " Row(userId='100009', level='paid', page='About'),\n",
       " Row(userId='100009', level='paid', page='NextSong'),\n",
       " Row(userId='100009', level='paid', page='Thumbs Up'),\n",
       " Row(userId='100009', level='paid', page='NextSong'),\n",
       " Row(userId='100009', level='paid', page='NextSong'),\n",
       " Row(userId='100009', level='paid', page='Thumbs Up'),\n",
       " Row(userId='100009', level='paid', page='NextSong'),\n",
       " Row(userId='100009', level='paid', page='NextSong'),\n",
       " Row(userId='100009', level='paid', page='NextSong'),\n",
       " Row(userId='100009', level='paid', page='NextSong'),\n",
       " Row(userId='100009', level='paid', page='NextSong'),\n",
       " Row(userId='100009', level='paid', page='Home'),\n",
       " Row(userId='100009', level='paid', page='NextSong'),\n",
       " Row(userId='100009', level='paid', page='NextSong'),\n",
       " Row(userId='100009', level='paid', page='NextSong'),\n",
       " Row(userId='100009', level='paid', page='NextSong'),\n",
       " Row(userId='100009', level='paid', page='NextSong'),\n",
       " Row(userId='100009', level='paid', page='NextSong'),\n",
       " Row(userId='100009', level='paid', page='NextSong'),\n",
       " Row(userId='100009', level='paid', page='NextSong'),\n",
       " Row(userId='100009', level='paid', page='NextSong'),\n",
       " Row(userId='100009', level='paid', page='NextSong'),\n",
       " Row(userId='100009', level='paid', page='NextSong'),\n",
       " Row(userId='100009', level='paid', page='Thumbs Up'),\n",
       " Row(userId='100009', level='paid', page='NextSong'),\n",
       " Row(userId='100009', level='paid', page='NextSong'),\n",
       " Row(userId='100009', level='paid', page='Add to Playlist'),\n",
       " Row(userId='100009', level='paid', page='NextSong'),\n",
       " Row(userId='100009', level='paid', page='NextSong'),\n",
       " Row(userId='100009', level='paid', page='NextSong'),\n",
       " Row(userId='100009', level='paid', page='Thumbs Up'),\n",
       " Row(userId='100009', level='paid', page='NextSong'),\n",
       " Row(userId='100009', level='paid', page='NextSong'),\n",
       " Row(userId='100009', level='paid', page='NextSong'),\n",
       " Row(userId='100009', level='paid', page='NextSong'),\n",
       " Row(userId='100009', level='paid', page='NextSong'),\n",
       " Row(userId='100009', level='paid', page='NextSong'),\n",
       " Row(userId='100009', level='paid', page='NextSong'),\n",
       " Row(userId='100009', level='paid', page='NextSong'),\n",
       " Row(userId='100009', level='paid', page='NextSong'),\n",
       " Row(userId='100009', level='paid', page='NextSong'),\n",
       " Row(userId='100009', level='paid', page='NextSong'),\n",
       " Row(userId='100009', level='paid', page='NextSong'),\n",
       " Row(userId='100009', level='paid', page='NextSong'),\n",
       " Row(userId='100009', level='paid', page='NextSong'),\n",
       " Row(userId='100009', level='paid', page='NextSong'),\n",
       " Row(userId='100009', level='paid', page='NextSong'),\n",
       " Row(userId='100009', level='paid', page='NextSong'),\n",
       " Row(userId='100009', level='paid', page='NextSong'),\n",
       " Row(userId='100009', level='paid', page='NextSong'),\n",
       " Row(userId='100009', level='paid', page='NextSong'),\n",
       " Row(userId='100009', level='paid', page='NextSong'),\n",
       " Row(userId='100009', level='paid', page='NextSong'),\n",
       " Row(userId='100009', level='paid', page='NextSong'),\n",
       " Row(userId='100009', level='paid', page='NextSong'),\n",
       " Row(userId='100009', level='paid', page='NextSong'),\n",
       " Row(userId='100009', level='paid', page='NextSong'),\n",
       " Row(userId='100009', level='paid', page='NextSong'),\n",
       " Row(userId='100009', level='paid', page='NextSong'),\n",
       " Row(userId='100009', level='paid', page='NextSong'),\n",
       " Row(userId='100009', level='paid', page='NextSong'),\n",
       " Row(userId='100009', level='paid', page='NextSong'),\n",
       " Row(userId='100009', level='paid', page='NextSong'),\n",
       " Row(userId='100009', level='paid', page='Home'),\n",
       " Row(userId='100009', level='paid', page='Add Friend'),\n",
       " Row(userId='100009', level='paid', page='NextSong'),\n",
       " Row(userId='100009', level='paid', page='NextSong'),\n",
       " Row(userId='100009', level='paid', page='NextSong'),\n",
       " Row(userId='100009', level='paid', page='NextSong'),\n",
       " Row(userId='100009', level='paid', page='NextSong'),\n",
       " Row(userId='100009', level='paid', page='NextSong'),\n",
       " Row(userId='100009', level='paid', page='NextSong'),\n",
       " Row(userId='100009', level='paid', page='NextSong'),\n",
       " Row(userId='100009', level='paid', page='NextSong'),\n",
       " Row(userId='100009', level='paid', page='NextSong'),\n",
       " Row(userId='100009', level='paid', page='NextSong'),\n",
       " Row(userId='100009', level='paid', page='NextSong'),\n",
       " Row(userId='100009', level='paid', page='NextSong'),\n",
       " Row(userId='100009', level='paid', page='Add to Playlist'),\n",
       " Row(userId='100009', level='paid', page='NextSong'),\n",
       " Row(userId='100009', level='paid', page='NextSong'),\n",
       " Row(userId='100009', level='paid', page='NextSong'),\n",
       " Row(userId='100009', level='paid', page='NextSong'),\n",
       " Row(userId='100009', level='paid', page='NextSong'),\n",
       " Row(userId='100009', level='paid', page='NextSong'),\n",
       " Row(userId='100009', level='paid', page='NextSong'),\n",
       " Row(userId='100009', level='paid', page='NextSong'),\n",
       " Row(userId='100009', level='paid', page='NextSong'),\n",
       " Row(userId='100009', level='paid', page='NextSong'),\n",
       " Row(userId='100009', level='paid', page='NextSong'),\n",
       " Row(userId='100009', level='paid', page='NextSong'),\n",
       " Row(userId='100009', level='paid', page='NextSong'),\n",
       " Row(userId='100009', level='paid', page='NextSong'),\n",
       " Row(userId='100009', level='paid', page='Logout'),\n",
       " Row(userId='100009', level='paid', page='Home'),\n",
       " Row(userId='100009', level='paid', page='NextSong'),\n",
       " Row(userId='100009', level='paid', page='NextSong'),\n",
       " Row(userId='100009', level='paid', page='NextSong'),\n",
       " Row(userId='100009', level='paid', page='NextSong'),\n",
       " Row(userId='100009', level='paid', page='NextSong'),\n",
       " Row(userId='100009', level='paid', page='NextSong'),\n",
       " Row(userId='100009', level='paid', page='Thumbs Up'),\n",
       " Row(userId='100009', level='paid', page='NextSong'),\n",
       " Row(userId='100009', level='paid', page='NextSong'),\n",
       " Row(userId='100009', level='paid', page='NextSong'),\n",
       " Row(userId='100009', level='paid', page='Add to Playlist'),\n",
       " Row(userId='100009', level='paid', page='NextSong'),\n",
       " Row(userId='100009', level='paid', page='NextSong'),\n",
       " Row(userId='100009', level='paid', page='Add to Playlist'),\n",
       " Row(userId='100009', level='paid', page='NextSong'),\n",
       " Row(userId='100009', level='paid', page='NextSong'),\n",
       " Row(userId='100009', level='paid', page='NextSong'),\n",
       " Row(userId='100009', level='paid', page='NextSong'),\n",
       " Row(userId='100009', level='paid', page='NextSong'),\n",
       " Row(userId='100009', level='paid', page='NextSong'),\n",
       " Row(userId='100009', level='paid', page='NextSong'),\n",
       " Row(userId='100009', level='paid', page='NextSong'),\n",
       " Row(userId='100009', level='paid', page='NextSong'),\n",
       " Row(userId='100009', level='paid', page='NextSong'),\n",
       " Row(userId='100009', level='paid', page='NextSong'),\n",
       " Row(userId='100009', level='paid', page='NextSong'),\n",
       " Row(userId='100009', level='paid', page='NextSong'),\n",
       " Row(userId='100009', level='paid', page='NextSong'),\n",
       " Row(userId='100009', level='paid', page='NextSong'),\n",
       " Row(userId='100009', level='paid', page='NextSong'),\n",
       " Row(userId='100009', level='paid', page='NextSong'),\n",
       " Row(userId='100009', level='paid', page='NextSong'),\n",
       " Row(userId='100009', level='paid', page='NextSong'),\n",
       " Row(userId='100009', level='paid', page='NextSong'),\n",
       " Row(userId='100009', level='paid', page='NextSong'),\n",
       " Row(userId='100009', level='paid', page='NextSong'),\n",
       " Row(userId='100009', level='paid', page='NextSong'),\n",
       " Row(userId='100009', level='paid', page='NextSong'),\n",
       " Row(userId='100009', level='paid', page='NextSong'),\n",
       " Row(userId='100009', level='paid', page='NextSong'),\n",
       " Row(userId='100009', level='paid', page='NextSong'),\n",
       " Row(userId='100009', level='paid', page='NextSong'),\n",
       " Row(userId='100009', level='paid', page='NextSong'),\n",
       " Row(userId='100009', level='paid', page='NextSong'),\n",
       " Row(userId='100009', level='paid', page='NextSong'),\n",
       " Row(userId='100009', level='paid', page='Home'),\n",
       " Row(userId='100009', level='paid', page='NextSong'),\n",
       " Row(userId='100009', level='paid', page='NextSong'),\n",
       " Row(userId='100009', level='paid', page='NextSong'),\n",
       " Row(userId='100009', level='paid', page='NextSong'),\n",
       " Row(userId='100009', level='paid', page='NextSong'),\n",
       " Row(userId='100009', level='paid', page='NextSong'),\n",
       " Row(userId='100009', level='paid', page='NextSong'),\n",
       " Row(userId='100009', level='paid', page='NextSong'),\n",
       " Row(userId='100009', level='paid', page='NextSong'),\n",
       " Row(userId='100009', level='paid', page='NextSong'),\n",
       " Row(userId='100009', level='paid', page='NextSong'),\n",
       " Row(userId='100009', level='paid', page='NextSong'),\n",
       " Row(userId='100009', level='paid', page='Downgrade'),\n",
       " Row(userId='100009', level='paid', page='NextSong'),\n",
       " Row(userId='100009', level='paid', page='NextSong'),\n",
       " Row(userId='100009', level='paid', page='NextSong'),\n",
       " Row(userId='100009', level='paid', page='NextSong'),\n",
       " Row(userId='100009', level='paid', page='NextSong'),\n",
       " Row(userId='100009', level='paid', page='NextSong'),\n",
       " Row(userId='100009', level='paid', page='NextSong'),\n",
       " Row(userId='100009', level='paid', page='Roll Advert'),\n",
       " Row(userId='100009', level='paid', page='NextSong'),\n",
       " Row(userId='100009', level='paid', page='Thumbs Down'),\n",
       " Row(userId='100009', level='paid', page='NextSong'),\n",
       " Row(userId='100009', level='paid', page='Downgrade'),\n",
       " Row(userId='100009', level='paid', page='Submit Downgrade'),\n",
       " Row(userId='100009', level='free', page='Home'),\n",
       " Row(userId='100009', level='free', page='NextSong'),\n",
       " Row(userId='100009', level='free', page='Thumbs Down'),\n",
       " Row(userId='100009', level='free', page='NextSong'),\n",
       " Row(userId='100009', level='free', page='NextSong'),\n",
       " Row(userId='100009', level='free', page='NextSong'),\n",
       " Row(userId='100009', level='free', page='NextSong'),\n",
       " Row(userId='100009', level='free', page='NextSong'),\n",
       " Row(userId='100009', level='free', page='NextSong'),\n",
       " Row(userId='100009', level='free', page='NextSong'),\n",
       " Row(userId='100009', level='free', page='NextSong'),\n",
       " Row(userId='100009', level='free', page='NextSong'),\n",
       " Row(userId='100009', level='free', page='NextSong'),\n",
       " Row(userId='100009', level='free', page='Thumbs Up'),\n",
       " Row(userId='100009', level='free', page='NextSong'),\n",
       " Row(userId='100009', level='free', page='NextSong'),\n",
       " Row(userId='100009', level='free', page='Logout'),\n",
       " Row(userId='100009', level='free', page='Home'),\n",
       " Row(userId='100009', level='free', page='NextSong'),\n",
       " Row(userId='100009', level='free', page='Roll Advert'),\n",
       " Row(userId='100009', level='free', page='NextSong'),\n",
       " Row(userId='100009', level='free', page='NextSong'),\n",
       " Row(userId='100009', level='free', page='Thumbs Up'),\n",
       " Row(userId='100009', level='free', page='Home'),\n",
       " Row(userId='100009', level='free', page='NextSong'),\n",
       " Row(userId='100009', level='free', page='NextSong'),\n",
       " Row(userId='100009', level='free', page='Roll Advert'),\n",
       " Row(userId='100009', level='free', page='NextSong'),\n",
       " Row(userId='100009', level='free', page='NextSong'),\n",
       " Row(userId='100009', level='free', page='NextSong'),\n",
       " Row(userId='100009', level='free', page='NextSong'),\n",
       " Row(userId='100009', level='free', page='NextSong'),\n",
       " Row(userId='100009', level='free', page='NextSong'),\n",
       " Row(userId='100009', level='free', page='Roll Advert'),\n",
       " Row(userId='100009', level='free', page='NextSong'),\n",
       " Row(userId='100009', level='free', page='Add to Playlist'),\n",
       " Row(userId='100009', level='free', page='NextSong'),\n",
       " Row(userId='100009', level='free', page='NextSong'),\n",
       " Row(userId='100009', level='free', page='NextSong'),\n",
       " Row(userId='100009', level='free', page='NextSong'),\n",
       " Row(userId='100009', level='free', page='NextSong'),\n",
       " Row(userId='100009', level='free', page='Help'),\n",
       " Row(userId='100009', level='free', page='NextSong'),\n",
       " Row(userId='100009', level='free', page='Thumbs Up'),\n",
       " Row(userId='100009', level='free', page='NextSong'),\n",
       " Row(userId='100009', level='free', page='NextSong'),\n",
       " Row(userId='100009', level='free', page='NextSong'),\n",
       " Row(userId='100009', level='free', page='Roll Advert'),\n",
       " Row(userId='100009', level='free', page='NextSong'),\n",
       " Row(userId='100009', level='free', page='Roll Advert'),\n",
       " Row(userId='100009', level='free', page='NextSong'),\n",
       " Row(userId='100009', level='free', page='NextSong'),\n",
       " Row(userId='100009', level='free', page='Add Friend'),\n",
       " Row(userId='100009', level='free', page='Add Friend'),\n",
       " Row(userId='100009', level='free', page='NextSong'),\n",
       " Row(userId='100009', level='free', page='NextSong'),\n",
       " Row(userId='100009', level='free', page='Roll Advert'),\n",
       " Row(userId='100009', level='free', page='NextSong'),\n",
       " Row(userId='100009', level='free', page='Thumbs Up'),\n",
       " Row(userId='100009', level='free', page='NextSong'),\n",
       " Row(userId='100009', level='free', page='NextSong'),\n",
       " Row(userId='100009', level='free', page='NextSong'),\n",
       " Row(userId='100009', level='free', page='NextSong'),\n",
       " Row(userId='100009', level='free', page='Roll Advert'),\n",
       " Row(userId='100009', level='free', page='NextSong'),\n",
       " Row(userId='100009', level='free', page='NextSong'),\n",
       " Row(userId='100009', level='free', page='NextSong'),\n",
       " Row(userId='100009', level='free', page='NextSong'),\n",
       " Row(userId='100009', level='free', page='NextSong'),\n",
       " Row(userId='100009', level='free', page='NextSong'),\n",
       " Row(userId='100009', level='free', page='NextSong'),\n",
       " Row(userId='100009', level='free', page='NextSong'),\n",
       " Row(userId='100009', level='free', page='NextSong'),\n",
       " Row(userId='100009', level='free', page='NextSong'),\n",
       " Row(userId='100009', level='free', page='Roll Advert'),\n",
       " Row(userId='100009', level='free', page='NextSong'),\n",
       " Row(userId='100009', level='free', page='NextSong'),\n",
       " Row(userId='100009', level='free', page='NextSong'),\n",
       " Row(userId='100009', level='free', page='Roll Advert'),\n",
       " Row(userId='100009', level='free', page='NextSong'),\n",
       " Row(userId='100009', level='free', page='Roll Advert'),\n",
       " Row(userId='100009', level='free', page='NextSong'),\n",
       " Row(userId='100009', level='free', page='NextSong'),\n",
       " Row(userId='100009', level='free', page='NextSong'),\n",
       " Row(userId='100009', level='free', page='NextSong'),\n",
       " Row(userId='100009', level='free', page='NextSong'),\n",
       " Row(userId='100009', level='free', page='NextSong'),\n",
       " Row(userId='100009', level='free', page='NextSong'),\n",
       " Row(userId='100009', level='free', page='Thumbs Up'),\n",
       " Row(userId='100009', level='free', page='Upgrade'),\n",
       " Row(userId='100009', level='free', page='NextSong'),\n",
       " Row(userId='100009', level='free', page='NextSong'),\n",
       " Row(userId='100009', level='free', page='NextSong'),\n",
       " Row(userId='100009', level='free', page='NextSong'),\n",
       " Row(userId='100009', level='free', page='Roll Advert'),\n",
       " Row(userId='100009', level='free', page='NextSong'),\n",
       " Row(userId='100009', level='free', page='NextSong'),\n",
       " Row(userId='100009', level='free', page='Thumbs Up'),\n",
       " Row(userId='100009', level='free', page='NextSong'),\n",
       " Row(userId='100009', level='free', page='NextSong'),\n",
       " Row(userId='100009', level='free', page='NextSong'),\n",
       " Row(userId='100009', level='free', page='Thumbs Up'),\n",
       " Row(userId='100009', level='free', page='NextSong'),\n",
       " Row(userId='100009', level='free', page='Roll Advert'),\n",
       " Row(userId='100009', level='free', page='NextSong'),\n",
       " Row(userId='100009', level='free', page='NextSong'),\n",
       " Row(userId='100009', level='free', page='NextSong'),\n",
       " Row(userId='100009', level='free', page='NextSong'),\n",
       " Row(userId='100009', level='free', page='NextSong'),\n",
       " Row(userId='100009', level='free', page='Roll Advert'),\n",
       " Row(userId='100009', level='free', page='Roll Advert'),\n",
       " Row(userId='100009', level='free', page='NextSong'),\n",
       " Row(userId='100009', level='free', page='Thumbs Up'),\n",
       " Row(userId='100009', level='free', page='NextSong'),\n",
       " Row(userId='100009', level='free', page='NextSong'),\n",
       " Row(userId='100009', level='free', page='NextSong'),\n",
       " Row(userId='100009', level='free', page='Thumbs Up'),\n",
       " Row(userId='100009', level='free', page='Add to Playlist'),\n",
       " Row(userId='100009', level='free', page='NextSong'),\n",
       " Row(userId='100009', level='free', page='NextSong'),\n",
       " Row(userId='100009', level='free', page='NextSong'),\n",
       " Row(userId='100009', level='free', page='Help'),\n",
       " Row(userId='100009', level='free', page='Help'),\n",
       " Row(userId='100009', level='free', page='Logout'),\n",
       " Row(userId='100009', level='free', page='Home'),\n",
       " Row(userId='100009', level='free', page='NextSong'),\n",
       " Row(userId='100009', level='free', page='NextSong'),\n",
       " Row(userId='100009', level='free', page='NextSong'),\n",
       " Row(userId='100009', level='free', page='Roll Advert'),\n",
       " Row(userId='100009', level='free', page='NextSong'),\n",
       " Row(userId='100009', level='free', page='Thumbs Up'),\n",
       " Row(userId='100009', level='free', page='NextSong'),\n",
       " Row(userId='100009', level='free', page='Logout'),\n",
       " Row(userId='100009', level='free', page='Home'),\n",
       " Row(userId='100009', level='free', page='NextSong'),\n",
       " Row(userId='100009', level='free', page='Thumbs Up'),\n",
       " Row(userId='100009', level='free', page='NextSong'),\n",
       " Row(userId='100009', level='free', page='Roll Advert'),\n",
       " Row(userId='100009', level='free', page='NextSong'),\n",
       " Row(userId='100009', level='free', page='NextSong'),\n",
       " Row(userId='100009', level='free', page='NextSong'),\n",
       " Row(userId='100009', level='free', page='NextSong'),\n",
       " Row(userId='100009', level='free', page='NextSong'),\n",
       " Row(userId='100009', level='free', page='Logout'),\n",
       " Row(userId='100009', level='free', page='Home'),\n",
       " Row(userId='100009', level='free', page='NextSong'),\n",
       " Row(userId='100009', level='free', page='Roll Advert'),\n",
       " Row(userId='100009', level='free', page='NextSong'),\n",
       " Row(userId='100009', level='free', page='NextSong'),\n",
       " Row(userId='100009', level='free', page='NextSong'),\n",
       " Row(userId='100009', level='free', page='Thumbs Up'),\n",
       " Row(userId='100009', level='free', page='NextSong'),\n",
       " Row(userId='100009', level='free', page='NextSong'),\n",
       " Row(userId='100009', level='free', page='NextSong'),\n",
       " Row(userId='100009', level='free', page='Roll Advert'),\n",
       " Row(userId='100009', level='free', page='NextSong'),\n",
       " Row(userId='100009', level='free', page='NextSong'),\n",
       " Row(userId='100009', level='free', page='NextSong'),\n",
       " Row(userId='100009', level='free', page='Roll Advert'),\n",
       " Row(userId='100009', level='free', page='NextSong'),\n",
       " Row(userId='100009', level='free', page='NextSong'),\n",
       " Row(userId='100009', level='free', page='NextSong'),\n",
       " Row(userId='100009', level='free', page='Thumbs Up'),\n",
       " Row(userId='100009', level='free', page='NextSong'),\n",
       " Row(userId='100009', level='free', page='NextSong'),\n",
       " Row(userId='100009', level='free', page='NextSong'),\n",
       " Row(userId='100009', level='free', page='Roll Advert'),\n",
       " Row(userId='100009', level='free', page='NextSong'),\n",
       " Row(userId='100009', level='free', page='NextSong'),\n",
       " Row(userId='100009', level='free', page='Thumbs Down'),\n",
       " Row(userId='100009', level='free', page='NextSong'),\n",
       " Row(userId='100009', level='free', page='NextSong'),\n",
       " Row(userId='100009', level='free', page='NextSong'),\n",
       " Row(userId='100009', level='free', page='NextSong'),\n",
       " Row(userId='100009', level='free', page='NextSong'),\n",
       " Row(userId='100009', level='free', page='NextSong'),\n",
       " Row(userId='100009', level='free', page='Add to Playlist'),\n",
       " Row(userId='100009', level='free', page='NextSong'),\n",
       " Row(userId='100009', level='free', page='NextSong'),\n",
       " Row(userId='100009', level='free', page='Roll Advert'),\n",
       " Row(userId='100009', level='free', page='NextSong'),\n",
       " Row(userId='100009', level='free', page='NextSong'),\n",
       " Row(userId='100009', level='free', page='NextSong'),\n",
       " Row(userId='100009', level='free', page='Roll Advert'),\n",
       " Row(userId='100009', level='free', page='NextSong'),\n",
       " Row(userId='100009', level='free', page='NextSong'),\n",
       " Row(userId='100009', level='free', page='Upgrade'),\n",
       " Row(userId='100009', level='free', page='NextSong'),\n",
       " Row(userId='100009', level='free', page='Thumbs Down'),\n",
       " Row(userId='100009', level='free', page='NextSong'),\n",
       " Row(userId='100009', level='free', page='NextSong'),\n",
       " Row(userId='100009', level='free', page='NextSong'),\n",
       " Row(userId='100009', level='free', page='NextSong'),\n",
       " Row(userId='100009', level='free', page='NextSong'),\n",
       " Row(userId='100009', level='free', page='Roll Advert'),\n",
       " Row(userId='100009', level='free', page='NextSong'),\n",
       " Row(userId='100009', level='free', page='NextSong'),\n",
       " Row(userId='100009', level='free', page='NextSong'),\n",
       " Row(userId='100009', level='free', page='Roll Advert'),\n",
       " Row(userId='100009', level='free', page='NextSong'),\n",
       " Row(userId='100009', level='free', page='Roll Advert'),\n",
       " Row(userId='100009', level='free', page='NextSong'),\n",
       " Row(userId='100009', level='free', page='Thumbs Down'),\n",
       " Row(userId='100009', level='free', page='Cancel'),\n",
       " Row(userId='100009', level='free', page='Cancellation Confirmation')]"
      ]
     },
     "execution_count": 278,
     "metadata": {},
     "output_type": "execute_result"
    }
   ],
   "source": [
    "#实例观察，发现Sumbit Upgrade为付费标志页面\n",
    "df.select('userId','level','page').where(df.userId == '100009').collect()"
   ]
  },
  {
   "cell_type": "code",
   "execution_count": 279,
   "metadata": {
    "ExecuteTime": {
     "end_time": "2020-02-18T11:38:01.425658Z",
     "start_time": "2020-02-18T11:38:01.404913Z"
    }
   },
   "outputs": [],
   "source": [
    "#定义函数，使满足条件的标签对应值0-1\n",
    "level_state = udf(lambda x : 1 if x=='Submit Upgrade' else 0, IntegerType())\n",
    "df = df.withColumn('level_paid',level_state('page'))"
   ]
  },
  {
   "cell_type": "code",
   "execution_count": 280,
   "metadata": {
    "ExecuteTime": {
     "end_time": "2020-02-18T11:38:01.442955Z",
     "start_time": "2020-02-18T11:38:01.429501Z"
    }
   },
   "outputs": [],
   "source": [
    "#定义函数，增加paid列，表示曾为付费用户\n",
    "df_paid = df.groupby('userId').agg({'level_paid':'max'}).withColumnRenamed('max(level_paid)','paid')"
   ]
  },
  {
   "cell_type": "code",
   "execution_count": 281,
   "metadata": {
    "ExecuteTime": {
     "end_time": "2020-02-18T11:38:05.034929Z",
     "start_time": "2020-02-18T11:38:01.445701Z"
    }
   },
   "outputs": [
    {
     "name": "stdout",
     "output_type": "stream",
     "text": [
      "225\n",
      "+------+----+\n",
      "|userId|paid|\n",
      "+------+----+\n",
      "|100010|   0|\n",
      "|200002|   1|\n",
      "|   125|   0|\n",
      "+------+----+\n",
      "only showing top 3 rows\n",
      "\n"
     ]
    }
   ],
   "source": [
    "print(df_paid.count())\n",
    "df_paid.show(3)"
   ]
  },
  {
   "cell_type": "markdown",
   "metadata": {},
   "source": [
    "#### method列"
   ]
  },
  {
   "cell_type": "code",
   "execution_count": 282,
   "metadata": {
    "ExecuteTime": {
     "end_time": "2020-02-18T11:38:08.745990Z",
     "start_time": "2020-02-18T11:38:05.037556Z"
    }
   },
   "outputs": [
    {
     "name": "stdout",
     "output_type": "stream",
     "text": [
      "-------------------------------\n",
      "Number of different items: 2\n",
      "+------+\n",
      "|method|\n",
      "+------+\n",
      "|   GET|\n",
      "|   PUT|\n",
      "+------+\n",
      "\n"
     ]
    }
   ],
   "source": [
    "check_items(df,'method')"
   ]
  },
  {
   "cell_type": "code",
   "execution_count": 283,
   "metadata": {
    "ExecuteTime": {
     "end_time": "2020-02-18T11:38:10.899843Z",
     "start_time": "2020-02-18T11:38:08.748747Z"
    }
   },
   "outputs": [
    {
     "data": {
      "text/plain": [
       "449"
      ]
     },
     "execution_count": 283,
     "metadata": {},
     "output_type": "execute_result"
    }
   ],
   "source": [
    "df.select('userId','method').dropDuplicates().count()"
   ]
  },
  {
   "cell_type": "code",
   "execution_count": 284,
   "metadata": {
    "ExecuteTime": {
     "end_time": "2020-02-18T11:38:10.964111Z",
     "start_time": "2020-02-18T11:38:10.902675Z"
    }
   },
   "outputs": [],
   "source": [
    "df_put = numvalues_to_df('method','PUT')\n",
    "df_get = numvalues_to_df('method','GET')"
   ]
  },
  {
   "cell_type": "code",
   "execution_count": 285,
   "metadata": {
    "ExecuteTime": {
     "end_time": "2020-02-18T11:38:18.105103Z",
     "start_time": "2020-02-18T11:38:10.965984Z"
    }
   },
   "outputs": [
    {
     "name": "stdout",
     "output_type": "stream",
     "text": [
      "----------------------\n",
      "Total rows: 225\n",
      "+------+-----+\n",
      "|userId| puts|\n",
      "+------+-----+\n",
      "|100010|313.0|\n",
      "|200002|432.0|\n",
      "|   125|  9.0|\n",
      "+------+-----+\n",
      "only showing top 3 rows\n",
      "\n",
      "----------------------\n",
      "Total rows: 225\n",
      "+------+----+\n",
      "|userId|gets|\n",
      "+------+----+\n",
      "|100010|68.0|\n",
      "|200002|42.0|\n",
      "|   125| 2.0|\n",
      "+------+----+\n",
      "only showing top 3 rows\n",
      "\n"
     ]
    },
    {
     "data": {
      "text/plain": [
       "(None, None)"
      ]
     },
     "execution_count": 285,
     "metadata": {},
     "output_type": "execute_result"
    }
   ],
   "source": [
    "check_df(df_put),check_df(df_get)"
   ]
  },
  {
   "cell_type": "markdown",
   "metadata": {},
   "source": [
    "#### page列"
   ]
  },
  {
   "cell_type": "code",
   "execution_count": 286,
   "metadata": {
    "ExecuteTime": {
     "end_time": "2020-02-18T11:38:19.855824Z",
     "start_time": "2020-02-18T11:38:18.108152Z"
    },
    "scrolled": true
   },
   "outputs": [
    {
     "name": "stdout",
     "output_type": "stream",
     "text": [
      "+--------------------+------+\n",
      "|                page| count|\n",
      "+--------------------+------+\n",
      "|               About|   495|\n",
      "|          Add Friend|  4277|\n",
      "|     Add to Playlist|  6526|\n",
      "|              Cancel|    52|\n",
      "|Cancellation Conf...|    52|\n",
      "|           Downgrade|  2055|\n",
      "|               Error|   252|\n",
      "|                Help|  1454|\n",
      "|                Home| 10082|\n",
      "|              Logout|  3226|\n",
      "|            NextSong|228108|\n",
      "|         Roll Advert|  3933|\n",
      "|       Save Settings|   310|\n",
      "|            Settings|  1514|\n",
      "|    Submit Downgrade|    63|\n",
      "|      Submit Upgrade|   159|\n",
      "|         Thumbs Down|  2546|\n",
      "|           Thumbs Up| 12551|\n",
      "|             Upgrade|   499|\n",
      "+--------------------+------+\n",
      "\n"
     ]
    }
   ],
   "source": [
    "df.groupby('page').count().sort('page').show()"
   ]
  },
  {
   "cell_type": "code",
   "execution_count": 287,
   "metadata": {
    "ExecuteTime": {
     "end_time": "2020-02-18T11:38:21.342299Z",
     "start_time": "2020-02-18T11:38:19.858976Z"
    }
   },
   "outputs": [
    {
     "name": "stdout",
     "output_type": "stream",
     "text": [
      "+------+------+------+-----+------+-------+-------------+-------------+----+------+-----+----------+\n",
      "|userId|gender|length|level|method|   page|           ts| registration|hour|cancel|churn|level_paid|\n",
      "+------+------+------+-----+------+-------+-------------+-------------+----+------+-----+----------+\n",
      "|     9|     M|  null| free|   GET|Upgrade|1538360042000|1538331630000|  10|     0|    0|         0|\n",
      "|     9|     M|  null| free|   GET|Upgrade|1538360044000|1538331630000|  10|     0|    0|         0|\n",
      "|    78|     F|  null| free|   GET|Upgrade|1538370301000|1538304455000|  13|     0|    0|         0|\n",
      "+------+------+------+-----+------+-------+-------------+-------------+----+------+-----+----------+\n",
      "only showing top 3 rows\n",
      "\n"
     ]
    }
   ],
   "source": [
    "df.where(df.page == 'Upgrade').show(3)"
   ]
  },
  {
   "cell_type": "code",
   "execution_count": 288,
   "metadata": {
    "ExecuteTime": {
     "end_time": "2020-02-18T11:38:22.882570Z",
     "start_time": "2020-02-18T11:38:21.346203Z"
    }
   },
   "outputs": [
    {
     "data": {
      "text/plain": [
       "[Row(userId='9', gender='M', length=None, level='free', method='GET', page='Roll Advert', ts=1538353150000, registration=1538331630000, hour=8, cancel=0, churn='0', level_paid=0),\n",
       " Row(userId='9', gender='M', length=None, level='free', method='PUT', page='Thumbs Up', ts=1538353376000, registration=1538331630000, hour=8, cancel=0, churn='0', level_paid=0),\n",
       " Row(userId='9', gender='M', length=None, level='free', method='PUT', page='Thumbs Down', ts=1538355306000, registration=1538331630000, hour=8, cancel=0, churn='0', level_paid=0),\n",
       " Row(userId='9', gender='M', length=None, level='free', method='GET', page='Home', ts=1538355504000, registration=1538331630000, hour=8, cancel=0, churn='0', level_paid=0),\n",
       " Row(userId='9', gender='M', length=None, level='free', method='PUT', page='Logout', ts=1538355687000, registration=1538331630000, hour=9, cancel=0, churn='0', level_paid=0),\n",
       " Row(userId='9', gender='M', length=None, level='free', method='GET', page='Home', ts=1538355855000, registration=1538331630000, hour=9, cancel=0, churn='0', level_paid=0),\n",
       " Row(userId='9', gender='M', length=None, level='free', method='PUT', page='Thumbs Up', ts=1538357160000, registration=1538331630000, hour=9, cancel=0, churn='0', level_paid=0),\n",
       " Row(userId='9', gender='M', length=None, level='free', method='GET', page='Roll Advert', ts=1538358779000, registration=1538331630000, hour=9, cancel=0, churn='0', level_paid=0),\n",
       " Row(userId='9', gender='M', length=None, level='free', method='PUT', page='Add to Playlist', ts=1538359261000, registration=1538331630000, hour=10, cancel=0, churn='0', level_paid=0),\n",
       " Row(userId='9', gender='M', length=None, level='free', method='GET', page='Upgrade', ts=1538360042000, registration=1538331630000, hour=10, cancel=0, churn='0', level_paid=0),\n",
       " Row(userId='9', gender='M', length=None, level='free', method='GET', page='Upgrade', ts=1538360044000, registration=1538331630000, hour=10, cancel=0, churn='0', level_paid=0),\n",
       " Row(userId='9', gender='M', length=None, level='free', method='GET', page='Roll Advert', ts=1538360228000, registration=1538331630000, hour=10, cancel=0, churn='0', level_paid=0),\n",
       " Row(userId='9', gender='M', length=None, level='free', method='GET', page='Home', ts=1538484594000, registration=1538331630000, hour=20, cancel=0, churn='0', level_paid=0),\n",
       " Row(userId='9', gender='M', length=None, level='free', method='PUT', page='Add to Playlist', ts=1538484619000, registration=1538331630000, hour=20, cancel=0, churn='0', level_paid=0),\n",
       " Row(userId='9', gender='M', length=None, level='free', method='PUT', page='Thumbs Up', ts=1538484629000, registration=1538331630000, hour=20, cancel=0, churn='0', level_paid=0),\n",
       " Row(userId='9', gender='M', length=None, level='free', method='PUT', page='Add to Playlist', ts=1538484629000, registration=1538331630000, hour=20, cancel=0, churn='0', level_paid=0),\n",
       " Row(userId='9', gender='M', length=None, level='free', method='GET', page='Roll Advert', ts=1538485211000, registration=1538331630000, hour=21, cancel=0, churn='0', level_paid=0),\n",
       " Row(userId='9', gender='M', length=None, level='free', method='GET', page='Roll Advert', ts=1538485372000, registration=1538331630000, hour=21, cancel=0, churn='0', level_paid=0),\n",
       " Row(userId='9', gender='M', length=None, level='free', method='PUT', page='Thumbs Up', ts=1538485489000, registration=1538331630000, hour=21, cancel=0, churn='0', level_paid=0),\n",
       " Row(userId='9', gender='M', length=None, level='free', method='GET', page='Roll Advert', ts=1538485750000, registration=1538331630000, hour=21, cancel=0, churn='0', level_paid=0),\n",
       " Row(userId='9', gender='M', length=None, level='free', method='PUT', page='Logout', ts=1538486017000, registration=1538331630000, hour=21, cancel=0, churn='0', level_paid=0),\n",
       " Row(userId='9', gender='M', length=None, level='free', method='GET', page='Home', ts=1538486137000, registration=1538331630000, hour=21, cancel=0, churn='0', level_paid=0),\n",
       " Row(userId='9', gender='M', length=None, level='free', method='GET', page='Home', ts=1538487422000, registration=1538331630000, hour=21, cancel=0, churn='0', level_paid=0),\n",
       " Row(userId='9', gender='M', length=None, level='free', method='GET', page='Roll Advert', ts=1538488420000, registration=1538331630000, hour=21, cancel=0, churn='0', level_paid=0),\n",
       " Row(userId='9', gender='M', length=None, level='free', method='PUT', page='Add to Playlist', ts=1538489283000, registration=1538331630000, hour=22, cancel=0, churn='0', level_paid=0),\n",
       " Row(userId='9', gender='M', length=None, level='free', method='GET', page='Error', ts=1538489751000, registration=1538331630000, hour=22, cancel=0, churn='0', level_paid=0),\n",
       " Row(userId='9', gender='M', length=None, level='free', method='GET', page='Home', ts=1538489763000, registration=1538331630000, hour=22, cancel=0, churn='0', level_paid=0),\n",
       " Row(userId='9', gender='M', length=None, level='free', method='GET', page='Roll Advert', ts=1538490268000, registration=1538331630000, hour=22, cancel=0, churn='0', level_paid=0),\n",
       " Row(userId='9', gender='M', length=None, level='free', method='GET', page='Roll Advert', ts=1538490526000, registration=1538331630000, hour=22, cancel=0, churn='0', level_paid=0),\n",
       " Row(userId='9', gender='M', length=None, level='free', method='PUT', page='Thumbs Down', ts=1538491720000, registration=1538331630000, hour=22, cancel=0, churn='0', level_paid=0),\n",
       " Row(userId='9', gender='M', length=None, level='free', method='GET', page='Roll Advert', ts=1538519109000, registration=1538331630000, hour=6, cancel=0, churn='0', level_paid=0),\n",
       " Row(userId='9', gender='M', length=None, level='free', method='GET', page='Upgrade', ts=1538520865000, registration=1538331630000, hour=6, cancel=0, churn='0', level_paid=0),\n",
       " Row(userId='9', gender='M', length=None, level='free', method='PUT', page='Thumbs Up', ts=1538521039000, registration=1538331630000, hour=6, cancel=0, churn='0', level_paid=0),\n",
       " Row(userId='9', gender='M', length=None, level='free', method='GET', page='Home', ts=1538522491000, registration=1538331630000, hour=7, cancel=0, churn='0', level_paid=0),\n",
       " Row(userId='9', gender='M', length=None, level='free', method='GET', page='Settings', ts=1538522991000, registration=1538331630000, hour=7, cancel=0, churn='0', level_paid=0),\n",
       " Row(userId='9', gender='M', length=None, level='free', method='GET', page='Help', ts=1538522996000, registration=1538331630000, hour=7, cancel=0, churn='0', level_paid=0),\n",
       " Row(userId='9', gender='M', length=None, level='free', method='GET', page='Home', ts=1538523011000, registration=1538331630000, hour=7, cancel=0, churn='0', level_paid=0),\n",
       " Row(userId='9', gender='M', length=None, level='free', method='PUT', page='Add Friend', ts=1538523012000, registration=1538331630000, hour=7, cancel=0, churn='0', level_paid=0),\n",
       " Row(userId='9', gender='M', length=None, level='free', method='GET', page='About', ts=1538523027000, registration=1538331630000, hour=7, cancel=0, churn='0', level_paid=0),\n",
       " Row(userId='9', gender='M', length=None, level='free', method='GET', page='Home', ts=1538524680000, registration=1538331630000, hour=7, cancel=0, churn='0', level_paid=0),\n",
       " Row(userId='9', gender='M', length=None, level='free', method='PUT', page='Logout', ts=1538527654000, registration=1538331630000, hour=8, cancel=0, churn='0', level_paid=0),\n",
       " Row(userId='9', gender='M', length=None, level='free', method='GET', page='Home', ts=1538527675000, registration=1538331630000, hour=8, cancel=0, churn='0', level_paid=0),\n",
       " Row(userId='9', gender='M', length=None, level='free', method='PUT', page='Thumbs Up', ts=1538528117000, registration=1538331630000, hour=8, cancel=0, churn='0', level_paid=0),\n",
       " Row(userId='9', gender='M', length=None, level='free', method='GET', page='Home', ts=1538838085000, registration=1538331630000, hour=23, cancel=0, churn='0', level_paid=0),\n",
       " Row(userId='9', gender='M', length=None, level='free', method='GET', page='Home', ts=1538839052000, registration=1538331630000, hour=23, cancel=0, churn='0', level_paid=0),\n",
       " Row(userId='9', gender='M', length=None, level='free', method='GET', page='Upgrade', ts=1538839065000, registration=1538331630000, hour=23, cancel=0, churn='0', level_paid=0),\n",
       " Row(userId='9', gender='M', length=None, level='free', method='PUT', page='Submit Upgrade', ts=1538839066000, registration=1538331630000, hour=23, cancel=0, churn='0', level_paid=1),\n",
       " Row(userId='9', gender='M', length=None, level='paid', method='GET', page='Home', ts=1538839070000, registration=1538331630000, hour=23, cancel=0, churn='0', level_paid=0),\n",
       " Row(userId='9', gender='M', length=None, level='paid', method='PUT', page='Thumbs Up', ts=1538839627000, registration=1538331630000, hour=23, cancel=0, churn='0', level_paid=0),\n",
       " Row(userId='9', gender='M', length=None, level='paid', method='GET', page='Home', ts=1538839827000, registration=1538331630000, hour=23, cancel=0, churn='0', level_paid=0),\n",
       " Row(userId='9', gender='M', length=None, level='paid', method='PUT', page='Thumbs Up', ts=1538843114000, registration=1538331630000, hour=0, cancel=0, churn='0', level_paid=0),\n",
       " Row(userId='9', gender='M', length=None, level='paid', method='PUT', page='Logout', ts=1538844376000, registration=1538331630000, hour=0, cancel=0, churn='0', level_paid=0),\n",
       " Row(userId='9', gender='M', length=None, level='paid', method='GET', page='Home', ts=1538844401000, registration=1538331630000, hour=0, cancel=0, churn='0', level_paid=0),\n",
       " Row(userId='9', gender='M', length=None, level='paid', method='GET', page='Help', ts=1538899062000, registration=1538331630000, hour=15, cancel=0, churn='0', level_paid=0),\n",
       " Row(userId='9', gender='M', length=None, level='paid', method='PUT', page='Logout', ts=1538899452000, registration=1538331630000, hour=16, cancel=0, churn='0', level_paid=0),\n",
       " Row(userId='9', gender='M', length=None, level='paid', method='GET', page='Home', ts=1538899515000, registration=1538331630000, hour=16, cancel=0, churn='0', level_paid=0),\n",
       " Row(userId='9', gender='M', length=None, level='paid', method='PUT', page='Thumbs Up', ts=1538900485000, registration=1538331630000, hour=16, cancel=0, churn='0', level_paid=0),\n",
       " Row(userId='9', gender='M', length=None, level='paid', method='PUT', page='Thumbs Up', ts=1538901947000, registration=1538331630000, hour=16, cancel=0, churn='0', level_paid=0),\n",
       " Row(userId='9', gender='M', length=None, level='paid', method='PUT', page='Thumbs Up', ts=1538902185000, registration=1538331630000, hour=16, cancel=0, churn='0', level_paid=0),\n",
       " Row(userId='9', gender='M', length=None, level='paid', method='GET', page='Downgrade', ts=1538903551000, registration=1538331630000, hour=17, cancel=0, churn='0', level_paid=0),\n",
       " Row(userId='9', gender='M', length=None, level='paid', method='PUT', page='Logout', ts=1538903552000, registration=1538331630000, hour=17, cancel=0, churn='0', level_paid=0),\n",
       " Row(userId='9', gender='M', length=None, level='paid', method='GET', page='Home', ts=1538903643000, registration=1538331630000, hour=17, cancel=0, churn='0', level_paid=0),\n",
       " Row(userId='9', gender='M', length=None, level='paid', method='GET', page='Settings', ts=1538905869000, registration=1538331630000, hour=17, cancel=0, churn='0', level_paid=0),\n",
       " Row(userId='9', gender='M', length=None, level='paid', method='GET', page='Home', ts=1538909954000, registration=1538331630000, hour=18, cancel=0, churn='0', level_paid=0),\n",
       " Row(userId='9', gender='M', length=None, level='paid', method='PUT', page='Thumbs Up', ts=1538912571000, registration=1538331630000, hour=19, cancel=0, churn='0', level_paid=0),\n",
       " Row(userId='9', gender='M', length=None, level='paid', method='PUT', page='Thumbs Up', ts=1538914802000, registration=1538331630000, hour=20, cancel=0, churn='0', level_paid=0),\n",
       " Row(userId='9', gender='M', length=None, level='paid', method='PUT', page='Add Friend', ts=1538915020000, registration=1538331630000, hour=20, cancel=0, churn='0', level_paid=0),\n",
       " Row(userId='9', gender='M', length=None, level='paid', method='PUT', page='Add Friend', ts=1538915021000, registration=1538331630000, hour=20, cancel=0, churn='0', level_paid=0),\n",
       " Row(userId='9', gender='M', length=None, level='paid', method='PUT', page='Thumbs Up', ts=1538916989000, registration=1538331630000, hour=20, cancel=0, churn='0', level_paid=0),\n",
       " Row(userId='9', gender='M', length=None, level='paid', method='PUT', page='Add to Playlist', ts=1538917003000, registration=1538331630000, hour=20, cancel=0, churn='0', level_paid=0),\n",
       " Row(userId='9', gender='M', length=None, level='paid', method='PUT', page='Thumbs Up', ts=1538919396000, registration=1538331630000, hour=21, cancel=0, churn='0', level_paid=0),\n",
       " Row(userId='9', gender='M', length=None, level='paid', method='PUT', page='Thumbs Up', ts=1538919827000, registration=1538331630000, hour=21, cancel=0, churn='0', level_paid=0),\n",
       " Row(userId='9', gender='M', length=None, level='paid', method='PUT', page='Add to Playlist', ts=1538920047000, registration=1538331630000, hour=21, cancel=0, churn='0', level_paid=0),\n",
       " Row(userId='9', gender='M', length=None, level='paid', method='PUT', page='Thumbs Up', ts=1538923024000, registration=1538331630000, hour=22, cancel=0, churn='0', level_paid=0),\n",
       " Row(userId='9', gender='M', length=None, level='paid', method='PUT', page='Thumbs Up', ts=1538924019000, registration=1538331630000, hour=22, cancel=0, churn='0', level_paid=0),\n",
       " Row(userId='9', gender='M', length=None, level='paid', method='GET', page='Downgrade', ts=1538924565000, registration=1538331630000, hour=23, cancel=0, churn='0', level_paid=0),\n",
       " Row(userId='9', gender='M', length=None, level='paid', method='PUT', page='Thumbs Down', ts=1538925374000, registration=1538331630000, hour=23, cancel=0, churn='0', level_paid=0),\n",
       " Row(userId='9', gender='M', length=None, level='paid', method='PUT', page='Thumbs Up', ts=1538926850000, registration=1538331630000, hour=23, cancel=0, churn='0', level_paid=0),\n",
       " Row(userId='9', gender='M', length=None, level='paid', method='PUT', page='Thumbs Up', ts=1538928769000, registration=1538331630000, hour=0, cancel=0, churn='0', level_paid=0),\n",
       " Row(userId='9', gender='M', length=None, level='paid', method='GET', page='Settings', ts=1538929677000, registration=1538331630000, hour=0, cancel=0, churn='0', level_paid=0),\n",
       " Row(userId='9', gender='M', length=None, level='paid', method='PUT', page='Thumbs Up', ts=1538930362000, registration=1538331630000, hour=0, cancel=0, churn='0', level_paid=0),\n",
       " Row(userId='9', gender='M', length=None, level='paid', method='PUT', page='Add to Playlist', ts=1538930618000, registration=1538331630000, hour=0, cancel=0, churn='0', level_paid=0),\n",
       " Row(userId='9', gender='M', length=None, level='paid', method='PUT', page='Add to Playlist', ts=1538932182000, registration=1538331630000, hour=1, cancel=0, churn='0', level_paid=0),\n",
       " Row(userId='9', gender='M', length=None, level='paid', method='PUT', page='Thumbs Up', ts=1538933187000, registration=1538331630000, hour=1, cancel=0, churn='0', level_paid=0),\n",
       " Row(userId='9', gender='M', length=None, level='paid', method='PUT', page='Thumbs Up', ts=1538934808000, registration=1538331630000, hour=1, cancel=0, churn='0', level_paid=0),\n",
       " Row(userId='9', gender='M', length=None, level='paid', method='GET', page='Downgrade', ts=1538936534000, registration=1538331630000, hour=2, cancel=0, churn='0', level_paid=0),\n",
       " Row(userId='9', gender='M', length=None, level='paid', method='GET', page='Home', ts=1538939071000, registration=1538331630000, hour=3, cancel=0, churn='0', level_paid=0),\n",
       " Row(userId='9', gender='M', length=None, level='paid', method='PUT', page='Thumbs Down', ts=1538939632000, registration=1538331630000, hour=3, cancel=0, churn='0', level_paid=0),\n",
       " Row(userId='9', gender='M', length=None, level='paid', method='PUT', page='Thumbs Down', ts=1538940767000, registration=1538331630000, hour=3, cancel=0, churn='0', level_paid=0),\n",
       " Row(userId='9', gender='M', length=None, level='paid', method='GET', page='About', ts=1538941141000, registration=1538331630000, hour=3, cancel=0, churn='0', level_paid=0),\n",
       " Row(userId='9', gender='M', length=None, level='paid', method='GET', page='About', ts=1538943074000, registration=1538331630000, hour=4, cancel=0, churn='0', level_paid=0),\n",
       " Row(userId='9', gender='M', length=None, level='paid', method='PUT', page='Thumbs Up', ts=1538943292000, registration=1538331630000, hour=4, cancel=0, churn='0', level_paid=0),\n",
       " Row(userId='9', gender='M', length=None, level='paid', method='PUT', page='Thumbs Down', ts=1538944241000, registration=1538331630000, hour=4, cancel=0, churn='0', level_paid=0),\n",
       " Row(userId='9', gender='M', length=None, level='paid', method='PUT', page='Thumbs Up', ts=1538946176000, registration=1538331630000, hour=5, cancel=0, churn='0', level_paid=0),\n",
       " Row(userId='9', gender='M', length=None, level='paid', method='GET', page='Home', ts=1538946957000, registration=1538331630000, hour=5, cancel=0, churn='0', level_paid=0),\n",
       " Row(userId='9', gender='M', length=None, level='paid', method='PUT', page='Thumbs Up', ts=1538947601000, registration=1538331630000, hour=5, cancel=0, churn='0', level_paid=0),\n",
       " Row(userId='9', gender='M', length=None, level='paid', method='GET', page='Home', ts=1539541278000, registration=1538331630000, hour=2, cancel=0, churn='0', level_paid=0),\n",
       " Row(userId='9', gender='M', length=None, level='paid', method='GET', page='Help', ts=1539542074000, registration=1538331630000, hour=2, cancel=0, churn='0', level_paid=0),\n",
       " Row(userId='9', gender='M', length=None, level='paid', method='PUT', page='Thumbs Up', ts=1539542386000, registration=1538331630000, hour=2, cancel=0, churn='0', level_paid=0),\n",
       " Row(userId='9', gender='M', length=None, level='paid', method='PUT', page='Add Friend', ts=1539544364000, registration=1538331630000, hour=3, cancel=0, churn='0', level_paid=0),\n",
       " Row(userId='9', gender='M', length=None, level='paid', method='PUT', page='Add Friend', ts=1539546530000, registration=1538331630000, hour=3, cancel=0, churn='0', level_paid=0),\n",
       " Row(userId='9', gender='M', length=None, level='paid', method='PUT', page='Add to Playlist', ts=1539546704000, registration=1538331630000, hour=3, cancel=0, churn='0', level_paid=0),\n",
       " Row(userId='9', gender='M', length=None, level='paid', method='PUT', page='Thumbs Up', ts=1539546705000, registration=1538331630000, hour=3, cancel=0, churn='0', level_paid=0),\n",
       " Row(userId='9', gender='M', length=None, level='paid', method='PUT', page='Thumbs Down', ts=1539546957000, registration=1538331630000, hour=3, cancel=0, churn='0', level_paid=0),\n",
       " Row(userId='9', gender='M', length=None, level='paid', method='PUT', page='Thumbs Up', ts=1539547547000, registration=1538331630000, hour=4, cancel=0, churn='0', level_paid=0),\n",
       " Row(userId='9', gender='M', length=None, level='paid', method='PUT', page='Add to Playlist', ts=1539547587000, registration=1538331630000, hour=4, cancel=0, churn='0', level_paid=0),\n",
       " Row(userId='9', gender='M', length=None, level='paid', method='PUT', page='Thumbs Up', ts=1539548453000, registration=1538331630000, hour=4, cancel=0, churn='0', level_paid=0),\n",
       " Row(userId='9', gender='M', length=None, level='paid', method='PUT', page='Add to Playlist', ts=1539549087000, registration=1538331630000, hour=4, cancel=0, churn='0', level_paid=0),\n",
       " Row(userId='9', gender='M', length=None, level='paid', method='GET', page='Home', ts=1539549240000, registration=1538331630000, hour=4, cancel=0, churn='0', level_paid=0),\n",
       " Row(userId='9', gender='M', length=None, level='paid', method='PUT', page='Logout', ts=1539550145000, registration=1538331630000, hour=4, cancel=0, churn='0', level_paid=0),\n",
       " Row(userId='9', gender='M', length=None, level='paid', method='GET', page='Home', ts=1539550174000, registration=1538331630000, hour=4, cancel=0, churn='0', level_paid=0),\n",
       " Row(userId='9', gender='M', length=None, level='paid', method='GET', page='Home', ts=1539552627000, registration=1538331630000, hour=5, cancel=0, churn='0', level_paid=0),\n",
       " Row(userId='9', gender='M', length=None, level='paid', method='PUT', page='Add Friend', ts=1539554274000, registration=1538331630000, hour=5, cancel=0, churn='0', level_paid=0),\n",
       " Row(userId='9', gender='M', length=None, level='paid', method='PUT', page='Thumbs Up', ts=1539555270000, registration=1538331630000, hour=6, cancel=0, churn='0', level_paid=0),\n",
       " Row(userId='9', gender='M', length=None, level='paid', method='PUT', page='Add to Playlist', ts=1539556443000, registration=1538331630000, hour=6, cancel=0, churn='0', level_paid=0),\n",
       " Row(userId='9', gender='M', length=None, level='paid', method='GET', page='Downgrade', ts=1539561369000, registration=1538331630000, hour=7, cancel=0, churn='0', level_paid=0),\n",
       " Row(userId='9', gender='M', length=None, level='paid', method='GET', page='Downgrade', ts=1539561384000, registration=1538331630000, hour=7, cancel=0, churn='0', level_paid=0),\n",
       " Row(userId='9', gender='M', length=None, level='paid', method='PUT', page='Thumbs Up', ts=1539565278000, registration=1538331630000, hour=9, cancel=0, churn='0', level_paid=0),\n",
       " Row(userId='9', gender='M', length=None, level='paid', method='PUT', page='Thumbs Down', ts=1539566553000, registration=1538331630000, hour=9, cancel=0, churn='0', level_paid=0),\n",
       " Row(userId='9', gender='M', length=None, level='paid', method='PUT', page='Thumbs Up', ts=1539566848000, registration=1538331630000, hour=9, cancel=0, churn='0', level_paid=0),\n",
       " Row(userId='9', gender='M', length=None, level='paid', method='PUT', page='Add to Playlist', ts=1539569164000, registration=1538331630000, hour=10, cancel=0, churn='0', level_paid=0),\n",
       " Row(userId='9', gender='M', length=None, level='paid', method='PUT', page='Add to Playlist', ts=1539571040000, registration=1538331630000, hour=10, cancel=0, churn='0', level_paid=0),\n",
       " Row(userId='9', gender='M', length=None, level='paid', method='PUT', page='Thumbs Up', ts=1539573638000, registration=1538331630000, hour=11, cancel=0, churn='0', level_paid=0),\n",
       " Row(userId='9', gender='M', length=None, level='paid', method='PUT', page='Logout', ts=1539574192000, registration=1538331630000, hour=11, cancel=0, churn='0', level_paid=0),\n",
       " Row(userId='9', gender='M', length=None, level='paid', method='GET', page='Home', ts=1539574253000, registration=1538331630000, hour=11, cancel=0, churn='0', level_paid=0),\n",
       " Row(userId='9', gender='M', length=None, level='paid', method='GET', page='Home', ts=1539577359000, registration=1538331630000, hour=12, cancel=0, churn='0', level_paid=0),\n",
       " Row(userId='9', gender='M', length=None, level='paid', method='GET', page='Home', ts=1539677914000, registration=1538331630000, hour=16, cancel=0, churn='0', level_paid=0),\n",
       " Row(userId='9', gender='M', length=None, level='paid', method='GET', page='Downgrade', ts=1539679168000, registration=1538331630000, hour=16, cancel=0, churn='0', level_paid=0),\n",
       " Row(userId='9', gender='M', length=None, level='paid', method='PUT', page='Thumbs Up', ts=1539680729000, registration=1538331630000, hour=17, cancel=0, churn='0', level_paid=0),\n",
       " Row(userId='9', gender='M', length=None, level='paid', method='GET', page='Settings', ts=1539688367000, registration=1538331630000, hour=19, cancel=0, churn='0', level_paid=0),\n",
       " Row(userId='9', gender='M', length=None, level='paid', method='PUT', page='Thumbs Up', ts=1539690558000, registration=1538331630000, hour=19, cancel=0, churn='0', level_paid=0),\n",
       " Row(userId='9', gender='M', length=None, level='paid', method='GET', page='Home', ts=1539691084000, registration=1538331630000, hour=19, cancel=0, churn='0', level_paid=0),\n",
       " Row(userId='9', gender='M', length=None, level='paid', method='GET', page='Error', ts=1539695059000, registration=1538331630000, hour=21, cancel=0, churn='0', level_paid=0),\n",
       " Row(userId='9', gender='M', length=None, level='paid', method='GET', page='Downgrade', ts=1539695328000, registration=1538331630000, hour=21, cancel=0, churn='0', level_paid=0),\n",
       " Row(userId='9', gender='M', length=None, level='paid', method='PUT', page='Thumbs Down', ts=1539696464000, registration=1538331630000, hour=21, cancel=0, churn='0', level_paid=0),\n",
       " Row(userId='9', gender='M', length=None, level='paid', method='GET', page='Home', ts=1539698356000, registration=1538331630000, hour=21, cancel=0, churn='0', level_paid=0),\n",
       " Row(userId='9', gender='M', length=None, level='paid', method='PUT', page='Thumbs Down', ts=1539698606000, registration=1538331630000, hour=22, cancel=0, churn='0', level_paid=0),\n",
       " Row(userId='9', gender='M', length=None, level='paid', method='PUT', page='Thumbs Up', ts=1539698821000, registration=1538331630000, hour=22, cancel=0, churn='0', level_paid=0),\n",
       " Row(userId='9', gender='M', length=None, level='paid', method='GET', page='Home', ts=1539699873000, registration=1538331630000, hour=22, cancel=0, churn='0', level_paid=0),\n",
       " Row(userId='9', gender='M', length=None, level='paid', method='PUT', page='Add to Playlist', ts=1539700595000, registration=1538331630000, hour=22, cancel=0, churn='0', level_paid=0),\n",
       " Row(userId='9', gender='M', length=None, level='paid', method='PUT', page='Add to Playlist', ts=1539700851000, registration=1538331630000, hour=22, cancel=0, churn='0', level_paid=0),\n",
       " Row(userId='9', gender='M', length=None, level='paid', method='PUT', page='Thumbs Down', ts=1539702214000, registration=1538331630000, hour=23, cancel=0, churn='0', level_paid=0),\n",
       " Row(userId='9', gender='M', length=None, level='paid', method='PUT', page='Thumbs Up', ts=1539703749000, registration=1538331630000, hour=23, cancel=0, churn='0', level_paid=0),\n",
       " Row(userId='9', gender='M', length=None, level='paid', method='PUT', page='Logout', ts=1539709675000, registration=1538331630000, hour=1, cancel=0, churn='0', level_paid=0),\n",
       " Row(userId='9', gender='M', length=None, level='paid', method='GET', page='Home', ts=1539709701000, registration=1538331630000, hour=1, cancel=0, churn='0', level_paid=0),\n",
       " Row(userId='9', gender='M', length=None, level='paid', method='PUT', page='Thumbs Up', ts=1539711313000, registration=1538331630000, hour=1, cancel=0, churn='0', level_paid=0),\n",
       " Row(userId='9', gender='M', length=None, level='paid', method='PUT', page='Thumbs Up', ts=1539713992000, registration=1538331630000, hour=2, cancel=0, churn='0', level_paid=0),\n",
       " Row(userId='9', gender='M', length=None, level='paid', method='GET', page='Home', ts=1539714540000, registration=1538331630000, hour=2, cancel=0, churn='0', level_paid=0),\n",
       " Row(userId='9', gender='M', length=None, level='paid', method='PUT', page='Thumbs Down', ts=1539716989000, registration=1538331630000, hour=3, cancel=0, churn='0', level_paid=0),\n",
       " Row(userId='9', gender='M', length=None, level='paid', method='GET', page='Help', ts=1539717027000, registration=1538331630000, hour=3, cancel=0, churn='0', level_paid=0),\n",
       " Row(userId='9', gender='M', length=None, level='paid', method='PUT', page='Add to Playlist', ts=1539717218000, registration=1538331630000, hour=3, cancel=0, churn='0', level_paid=0),\n",
       " Row(userId='9', gender='M', length=None, level='paid', method='PUT', page='Add to Playlist', ts=1539717856000, registration=1538331630000, hour=3, cancel=0, churn='0', level_paid=0),\n",
       " Row(userId='9', gender='M', length=None, level='paid', method='GET', page='Home', ts=1539874691000, registration=1538331630000, hour=22, cancel=0, churn='0', level_paid=0),\n",
       " Row(userId='9', gender='M', length=None, level='paid', method='PUT', page='Add to Playlist', ts=1539878356000, registration=1538331630000, hour=23, cancel=0, churn='0', level_paid=0),\n",
       " Row(userId='9', gender='M', length=None, level='paid', method='PUT', page='Thumbs Up', ts=1539881491000, registration=1538331630000, hour=0, cancel=0, churn='0', level_paid=0),\n",
       " Row(userId='9', gender='M', length=None, level='paid', method='PUT', page='Add to Playlist', ts=1539884375000, registration=1538331630000, hour=1, cancel=0, churn='0', level_paid=0),\n",
       " Row(userId='9', gender='M', length=None, level='paid', method='PUT', page='Add to Playlist', ts=1539888291000, registration=1538331630000, hour=2, cancel=0, churn='0', level_paid=0),\n",
       " Row(userId='9', gender='M', length=None, level='paid', method='PUT', page='Thumbs Up', ts=1539889176000, registration=1538331630000, hour=2, cancel=0, churn='0', level_paid=0),\n",
       " Row(userId='9', gender='M', length=None, level='paid', method='PUT', page='Thumbs Down', ts=1539895717000, registration=1538331630000, hour=4, cancel=0, churn='0', level_paid=0),\n",
       " Row(userId='9', gender='M', length=None, level='paid', method='PUT', page='Add to Playlist', ts=1539895961000, registration=1538331630000, hour=4, cancel=0, churn='0', level_paid=0),\n",
       " Row(userId='9', gender='M', length=None, level='paid', method='GET', page='Home', ts=1539896259000, registration=1538331630000, hour=4, cancel=0, churn='0', level_paid=0),\n",
       " Row(userId='9', gender='M', length=None, level='paid', method='PUT', page='Thumbs Up', ts=1539897593000, registration=1538331630000, hour=5, cancel=0, churn='0', level_paid=0),\n",
       " Row(userId='9', gender='M', length=None, level='paid', method='GET', page='Downgrade', ts=1539898712000, registration=1538331630000, hour=5, cancel=0, churn='0', level_paid=0),\n",
       " Row(userId='9', gender='M', length=None, level='paid', method='GET', page='Home', ts=1539901583000, registration=1538331630000, hour=6, cancel=0, churn='0', level_paid=0),\n",
       " Row(userId='9', gender='M', length=None, level='paid', method='GET', page='Home', ts=1539903264000, registration=1538331630000, hour=6, cancel=0, churn='0', level_paid=0),\n",
       " Row(userId='9', gender='M', length=None, level='paid', method='PUT', page='Thumbs Up', ts=1539904022000, registration=1538331630000, hour=7, cancel=0, churn='0', level_paid=0),\n",
       " Row(userId='9', gender='M', length=None, level='paid', method='GET', page='Home', ts=1539906516000, registration=1538331630000, hour=7, cancel=0, churn='0', level_paid=0),\n",
       " Row(userId='9', gender='M', length=None, level='paid', method='PUT', page='Thumbs Up', ts=1539906741000, registration=1538331630000, hour=7, cancel=0, churn='0', level_paid=0),\n",
       " Row(userId='9', gender='M', length=None, level='paid', method='PUT', page='Add to Playlist', ts=1539907653000, registration=1538331630000, hour=8, cancel=0, churn='0', level_paid=0),\n",
       " Row(userId='9', gender='M', length=None, level='paid', method='PUT', page='Thumbs Up', ts=1539909104000, registration=1538331630000, hour=8, cancel=0, churn='0', level_paid=0),\n",
       " Row(userId='9', gender='M', length=None, level='paid', method='PUT', page='Add to Playlist', ts=1539911556000, registration=1538331630000, hour=9, cancel=0, churn='0', level_paid=0),\n",
       " Row(userId='9', gender='M', length=None, level='paid', method='GET', page='Home', ts=1539913181000, registration=1538331630000, hour=9, cancel=0, churn='0', level_paid=0),\n",
       " Row(userId='9', gender='M', length=None, level='paid', method='GET', page='Home', ts=1540352753000, registration=1538331630000, hour=11, cancel=0, churn='0', level_paid=0),\n",
       " Row(userId='9', gender='M', length=None, level='paid', method='GET', page='Home', ts=1540358363000, registration=1538331630000, hour=13, cancel=0, churn='0', level_paid=0),\n",
       " Row(userId='9', gender='M', length=None, level='paid', method='PUT', page='Thumbs Down', ts=1540359053000, registration=1538331630000, hour=13, cancel=0, churn='0', level_paid=0),\n",
       " Row(userId='9', gender='M', length=None, level='paid', method='PUT', page='Thumbs Up', ts=1540362536000, registration=1538331630000, hour=14, cancel=0, churn='0', level_paid=0),\n",
       " Row(userId='9', gender='M', length=None, level='paid', method='GET', page='About', ts=1540365450000, registration=1538331630000, hour=15, cancel=0, churn='0', level_paid=0),\n",
       " Row(userId='9', gender='M', length=None, level='paid', method='GET', page='Home', ts=1540365459000, registration=1538331630000, hour=15, cancel=0, churn='0', level_paid=0),\n",
       " Row(userId='9', gender='M', length=None, level='paid', method='PUT', page='Thumbs Down', ts=1540366220000, registration=1538331630000, hour=15, cancel=0, churn='0', level_paid=0),\n",
       " Row(userId='9', gender='M', length=None, level='paid', method='PUT', page='Thumbs Down', ts=1540375642000, registration=1538331630000, hour=18, cancel=0, churn='0', level_paid=0),\n",
       " Row(userId='9', gender='M', length=None, level='paid', method='PUT', page='Logout', ts=1540375865000, registration=1538331630000, hour=18, cancel=0, churn='0', level_paid=0),\n",
       " Row(userId='9', gender='M', length=None, level='paid', method='GET', page='Home', ts=1540375886000, registration=1538331630000, hour=18, cancel=0, churn='0', level_paid=0),\n",
       " Row(userId='9', gender='M', length=None, level='paid', method='GET', page='About', ts=1540376198000, registration=1538331630000, hour=18, cancel=0, churn='0', level_paid=0),\n",
       " Row(userId='9', gender='M', length=None, level='paid', method='GET', page='Home', ts=1540381409000, registration=1538331630000, hour=19, cancel=0, churn='0', level_paid=0),\n",
       " Row(userId='9', gender='M', length=None, level='paid', method='GET', page='Home', ts=1540482000000, registration=1538331630000, hour=23, cancel=0, churn='0', level_paid=0),\n",
       " Row(userId='9', gender='M', length=None, level='paid', method='PUT', page='Thumbs Up', ts=1540485475000, registration=1538331630000, hour=0, cancel=0, churn='0', level_paid=0),\n",
       " Row(userId='9', gender='M', length=None, level='paid', method='GET', page='Home', ts=1540486887000, registration=1538331630000, hour=1, cancel=0, churn='0', level_paid=0),\n",
       " Row(userId='9', gender='M', length=None, level='paid', method='PUT', page='Thumbs Up', ts=1540487063000, registration=1538331630000, hour=1, cancel=0, churn='0', level_paid=0),\n",
       " Row(userId='9', gender='M', length=None, level='paid', method='GET', page='Downgrade', ts=1540706004000, registration=1538331630000, hour=13, cancel=0, churn='0', level_paid=0),\n",
       " Row(userId='9', gender='M', length=None, level='paid', method='GET', page='Downgrade', ts=1540706006000, registration=1538331630000, hour=13, cancel=0, churn='0', level_paid=0),\n",
       " Row(userId='9', gender='M', length=None, level='paid', method='PUT', page='Submit Downgrade', ts=1540706007000, registration=1538331630000, hour=13, cancel=0, churn='0', level_paid=0),\n",
       " Row(userId='9', gender='M', length=None, level='free', method='GET', page='Home', ts=1540706033000, registration=1538331630000, hour=13, cancel=0, churn='0', level_paid=0),\n",
       " Row(userId='9', gender='M', length=None, level='free', method='PUT', page='Add to Playlist', ts=1540706431000, registration=1538331630000, hour=14, cancel=0, churn='0', level_paid=0),\n",
       " Row(userId='9', gender='M', length=None, level='free', method='PUT', page='Thumbs Up', ts=1540940454000, registration=1538331630000, hour=7, cancel=0, churn='0', level_paid=0),\n",
       " Row(userId='9', gender='M', length=None, level='free', method='PUT', page='Add to Playlist', ts=1540942722000, registration=1538331630000, hour=7, cancel=0, churn='0', level_paid=0),\n",
       " Row(userId='9', gender='M', length=None, level='free', method='PUT', page='Thumbs Up', ts=1540942723000, registration=1538331630000, hour=7, cancel=0, churn='0', level_paid=0),\n",
       " Row(userId='9', gender='M', length=None, level='free', method='PUT', page='Thumbs Up', ts=1540942930000, registration=1538331630000, hour=7, cancel=0, churn='0', level_paid=0),\n",
       " Row(userId='9', gender='M', length=None, level='free', method='GET', page='Roll Advert', ts=1540944117000, registration=1538331630000, hour=8, cancel=0, churn='0', level_paid=0),\n",
       " Row(userId='9', gender='M', length=None, level='free', method='PUT', page='Thumbs Up', ts=1540945123000, registration=1538331630000, hour=8, cancel=0, churn='0', level_paid=0),\n",
       " Row(userId='9', gender='M', length=None, level='free', method='PUT', page='Add Friend', ts=1540946726000, registration=1538331630000, hour=8, cancel=0, churn='0', level_paid=0),\n",
       " Row(userId='9', gender='M', length=None, level='free', method='PUT', page='Add Friend', ts=1540946727000, registration=1538331630000, hour=8, cancel=0, churn='0', level_paid=0),\n",
       " Row(userId='9', gender='M', length=None, level='free', method='PUT', page='Add Friend', ts=1540946728000, registration=1538331630000, hour=8, cancel=0, churn='0', level_paid=0),\n",
       " Row(userId='9', gender='M', length=None, level='free', method='GET', page='Home', ts=1540946759000, registration=1538331630000, hour=8, cancel=0, churn='0', level_paid=0),\n",
       " Row(userId='9', gender='M', length=None, level='free', method='GET', page='Roll Advert', ts=1540947701000, registration=1538331630000, hour=9, cancel=0, churn='0', level_paid=0),\n",
       " Row(userId='9', gender='M', length=None, level='free', method='GET', page='Roll Advert', ts=1540949668000, registration=1538331630000, hour=9, cancel=0, churn='0', level_paid=0),\n",
       " Row(userId='9', gender='M', length=None, level='free', method='GET', page='Roll Advert', ts=1540950749000, registration=1538331630000, hour=9, cancel=0, churn='0', level_paid=0),\n",
       " Row(userId='9', gender='M', length=None, level='free', method='GET', page='Roll Advert', ts=1540950942000, registration=1538331630000, hour=9, cancel=0, churn='0', level_paid=0),\n",
       " Row(userId='9', gender='M', length=None, level='free', method='PUT', page='Thumbs Down', ts=1540951604000, registration=1538331630000, hour=10, cancel=0, churn='0', level_paid=0),\n",
       " Row(userId='9', gender='M', length=None, level='free', method='GET', page='Roll Advert', ts=1540953182000, registration=1538331630000, hour=10, cancel=0, churn='0', level_paid=0),\n",
       " Row(userId='9', gender='M', length=None, level='free', method='PUT', page='Add Friend', ts=1540953762000, registration=1538331630000, hour=10, cancel=0, churn='0', level_paid=0),\n",
       " Row(userId='9', gender='M', length=None, level='free', method='PUT', page='Add to Playlist', ts=1540954266000, registration=1538331630000, hour=10, cancel=0, churn='0', level_paid=0),\n",
       " Row(userId='9', gender='M', length=None, level='free', method='PUT', page='Thumbs Up', ts=1540954553000, registration=1538331630000, hour=10, cancel=0, churn='0', level_paid=0),\n",
       " Row(userId='9', gender='M', length=None, level='free', method='GET', page='Upgrade', ts=1540956243000, registration=1538331630000, hour=11, cancel=0, churn='0', level_paid=0),\n",
       " Row(userId='9', gender='M', length=None, level='free', method='GET', page='Upgrade', ts=1540956302000, registration=1538331630000, hour=11, cancel=0, churn='0', level_paid=0),\n",
       " Row(userId='9', gender='M', length=None, level='free', method='PUT', page='Submit Upgrade', ts=1540956303000, registration=1538331630000, hour=11, cancel=0, churn='0', level_paid=1),\n",
       " Row(userId='9', gender='M', length=None, level='paid', method='GET', page='Home', ts=1540956312000, registration=1538331630000, hour=11, cancel=0, churn='0', level_paid=0),\n",
       " Row(userId='9', gender='M', length=None, level='paid', method='PUT', page='Thumbs Up', ts=1540957477000, registration=1538331630000, hour=11, cancel=0, churn='0', level_paid=0),\n",
       " Row(userId='9', gender='M', length=None, level='paid', method='GET', page='Help', ts=1540965168000, registration=1538331630000, hour=13, cancel=0, churn='0', level_paid=0),\n",
       " Row(userId='9', gender='M', length=None, level='paid', method='GET', page='Error', ts=1540965421000, registration=1538331630000, hour=13, cancel=0, churn='0', level_paid=0),\n",
       " Row(userId='9', gender='M', length=None, level='paid', method='GET', page='Home', ts=1540965429000, registration=1538331630000, hour=13, cancel=0, churn='0', level_paid=0),\n",
       " Row(userId='9', gender='M', length=None, level='paid', method='PUT', page='Thumbs Up', ts=1540965618000, registration=1538331630000, hour=14, cancel=0, churn='0', level_paid=0),\n",
       " Row(userId='9', gender='M', length=None, level='paid', method='GET', page='Help', ts=1540967662000, registration=1538331630000, hour=14, cancel=0, churn='0', level_paid=0),\n",
       " Row(userId='9', gender='M', length=None, level='paid', method='PUT', page='Thumbs Up', ts=1540969089000, registration=1538331630000, hour=14, cancel=0, churn='0', level_paid=0),\n",
       " Row(userId='9', gender='M', length=None, level='paid', method='PUT', page='Logout', ts=1540969370000, registration=1538331630000, hour=15, cancel=0, churn='0', level_paid=0),\n",
       " Row(userId='9', gender='M', length=None, level='paid', method='GET', page='Home', ts=1541036941000, registration=1538331630000, hour=9, cancel=0, churn='0', level_paid=0),\n",
       " Row(userId='9', gender='M', length=None, level='paid', method='GET', page='Home', ts=1541038414000, registration=1538331630000, hour=10, cancel=0, churn='0', level_paid=0),\n",
       " Row(userId='9', gender='M', length=None, level='paid', method='PUT', page='Thumbs Up', ts=1541039502000, registration=1538331630000, hour=10, cancel=0, churn='0', level_paid=0),\n",
       " Row(userId='9', gender='M', length=None, level='paid', method='PUT', page='Thumbs Up', ts=1541043788000, registration=1538331630000, hour=11, cancel=0, churn='0', level_paid=0),\n",
       " Row(userId='9', gender='M', length=None, level='paid', method='GET', page='Settings', ts=1541046334000, registration=1538331630000, hour=12, cancel=0, churn='0', level_paid=0),\n",
       " Row(userId='9', gender='M', length=None, level='paid', method='GET', page='Home', ts=1541046353000, registration=1538331630000, hour=12, cancel=0, churn='0', level_paid=0),\n",
       " Row(userId='9', gender='M', length=None, level='paid', method='GET', page='Downgrade', ts=1541046989000, registration=1538331630000, hour=12, cancel=0, churn='0', level_paid=0),\n",
       " Row(userId='9', gender='M', length=None, level='paid', method='PUT', page='Logout', ts=1541046990000, registration=1538331630000, hour=12, cancel=0, churn='0', level_paid=0),\n",
       " Row(userId='9', gender='M', length=None, level='paid', method='GET', page='Home', ts=1541047047000, registration=1538331630000, hour=12, cancel=0, churn='0', level_paid=0),\n",
       " Row(userId='9', gender='M', length=None, level='paid', method='GET', page='Help', ts=1541048136000, registration=1538331630000, hour=12, cancel=0, churn='0', level_paid=0),\n",
       " Row(userId='9', gender='M', length=None, level='paid', method='PUT', page='Thumbs Up', ts=1541051289000, registration=1538331630000, hour=13, cancel=0, churn='0', level_paid=0),\n",
       " Row(userId='9', gender='M', length=None, level='paid', method='GET', page='Home', ts=1541053695000, registration=1538331630000, hour=14, cancel=0, churn='0', level_paid=0),\n",
       " Row(userId='9', gender='M', length=None, level='paid', method='GET', page='About', ts=1541057187000, registration=1538331630000, hour=15, cancel=0, churn='0', level_paid=0),\n",
       " Row(userId='9', gender='M', length=None, level='paid', method='PUT', page='Thumbs Up', ts=1541059989000, registration=1538331630000, hour=16, cancel=0, churn='0', level_paid=0),\n",
       " Row(userId='9', gender='M', length=None, level='paid', method='PUT', page='Add to Playlist', ts=1541060839000, registration=1538331630000, hour=16, cancel=0, churn='0', level_paid=0),\n",
       " Row(userId='9', gender='M', length=None, level='paid', method='GET', page='Downgrade', ts=1541061642000, registration=1538331630000, hour=16, cancel=0, churn='0', level_paid=0),\n",
       " Row(userId='9', gender='M', length=None, level='paid', method='PUT', page='Thumbs Up', ts=1541062166000, registration=1538331630000, hour=16, cancel=0, churn='0', level_paid=0),\n",
       " Row(userId='9', gender='M', length=None, level='paid', method='PUT', page='Add to Playlist', ts=1541062466000, registration=1538331630000, hour=16, cancel=0, churn='0', level_paid=0),\n",
       " Row(userId='9', gender='M', length=None, level='paid', method='PUT', page='Add Friend', ts=1541063408000, registration=1538331630000, hour=17, cancel=0, churn='0', level_paid=0),\n",
       " Row(userId='9', gender='M', length=None, level='paid', method='GET', page='Help', ts=1541067309000, registration=1538331630000, hour=18, cancel=0, churn='0', level_paid=0),\n",
       " Row(userId='9', gender='M', length=None, level='paid', method='GET', page='Help', ts=1541067824000, registration=1538331630000, hour=18, cancel=0, churn='0', level_paid=0),\n",
       " Row(userId='9', gender='M', length=None, level='paid', method='PUT', page='Logout', ts=1541068361000, registration=1538331630000, hour=18, cancel=0, churn='0', level_paid=0),\n",
       " Row(userId='9', gender='M', length=None, level='paid', method='GET', page='Home', ts=1541068381000, registration=1538331630000, hour=18, cancel=0, churn='0', level_paid=0),\n",
       " Row(userId='9', gender='M', length=None, level='paid', method='PUT', page='Thumbs Up', ts=1541169652000, registration=1538331630000, hour=22, cancel=0, churn='0', level_paid=0),\n",
       " Row(userId='9', gender='M', length=None, level='paid', method='PUT', page='Thumbs Up', ts=1541170621000, registration=1538331630000, hour=22, cancel=0, churn='0', level_paid=0),\n",
       " Row(userId='9', gender='M', length=None, level='paid', method='GET', page='Downgrade', ts=1541171073000, registration=1538331630000, hour=23, cancel=0, churn='0', level_paid=0),\n",
       " Row(userId='9', gender='M', length=None, level='paid', method='PUT', page='Thumbs Down', ts=1541171942000, registration=1538331630000, hour=23, cancel=0, churn='0', level_paid=0),\n",
       " Row(userId='9', gender='M', length=None, level='paid', method='PUT', page='Thumbs Up', ts=1541173064000, registration=1538331630000, hour=23, cancel=0, churn='0', level_paid=0),\n",
       " Row(userId='9', gender='M', length=None, level='paid', method='PUT', page='Add to Playlist', ts=1541173084000, registration=1538331630000, hour=23, cancel=0, churn='0', level_paid=0),\n",
       " Row(userId='9', gender='M', length=None, level='paid', method='GET', page='Home', ts=1541173570000, registration=1538331630000, hour=23, cancel=0, churn='0', level_paid=0),\n",
       " Row(userId='9', gender='M', length=None, level='paid', method='PUT', page='Thumbs Down', ts=1541174140000, registration=1538331630000, hour=23, cancel=0, churn='0', level_paid=0),\n",
       " Row(userId='9', gender='M', length=None, level='paid', method='PUT', page='Thumbs Down', ts=1541175784000, registration=1538331630000, hour=0, cancel=0, churn='0', level_paid=0),\n",
       " Row(userId='9', gender='M', length=None, level='paid', method='PUT', page='Logout', ts=1541177935000, registration=1538331630000, hour=0, cancel=0, churn='0', level_paid=0),\n",
       " Row(userId='9', gender='M', length=None, level='paid', method='GET', page='Home', ts=1541177977000, registration=1538331630000, hour=0, cancel=0, churn='0', level_paid=0),\n",
       " Row(userId='9', gender='M', length=None, level='paid', method='GET', page='Downgrade', ts=1541178357000, registration=1538331630000, hour=1, cancel=0, churn='0', level_paid=0),\n",
       " Row(userId='9', gender='M', length=None, level='paid', method='PUT', page='Thumbs Up', ts=1541178647000, registration=1538331630000, hour=1, cancel=0, churn='0', level_paid=0),\n",
       " Row(userId='9', gender='M', length=None, level='paid', method='PUT', page='Add to Playlist', ts=1541181688000, registration=1538331630000, hour=2, cancel=0, churn='0', level_paid=0),\n",
       " Row(userId='9', gender='M', length=None, level='paid', method='PUT', page='Add Friend', ts=1541184729000, registration=1538331630000, hour=2, cancel=0, churn='0', level_paid=0),\n",
       " Row(userId='9', gender='M', length=None, level='paid', method='PUT', page='Thumbs Up', ts=1541185212000, registration=1538331630000, hour=3, cancel=0, churn='0', level_paid=0),\n",
       " Row(userId='9', gender='M', length=None, level='paid', method='PUT', page='Thumbs Up', ts=1541186719000, registration=1538331630000, hour=3, cancel=0, churn='0', level_paid=0),\n",
       " Row(userId='9', gender='M', length=None, level='paid', method='PUT', page='Thumbs Up', ts=1541196514000, registration=1538331630000, hour=6, cancel=0, churn='0', level_paid=0),\n",
       " Row(userId='9', gender='M', length=None, level='paid', method='PUT', page='Thumbs Up', ts=1541197148000, registration=1538331630000, hour=6, cancel=0, churn='0', level_paid=0),\n",
       " Row(userId='9', gender='M', length=None, level='paid', method='PUT', page='Logout', ts=1541197559000, registration=1538331630000, hour=6, cancel=0, churn='0', level_paid=0),\n",
       " Row(userId='9', gender='M', length=None, level='paid', method='GET', page='Home', ts=1541197705000, registration=1538331630000, hour=6, cancel=0, churn='0', level_paid=0),\n",
       " Row(userId='9', gender='M', length=None, level='paid', method='PUT', page='Thumbs Up', ts=1541198759000, registration=1538331630000, hour=6, cancel=0, churn='0', level_paid=0),\n",
       " Row(userId='9', gender='M', length=None, level='paid', method='PUT', page='Thumbs Up', ts=1541198952000, registration=1538331630000, hour=6, cancel=0, churn='0', level_paid=0),\n",
       " Row(userId='9', gender='M', length=None, level='paid', method='PUT', page='Add to Playlist', ts=1541199752000, registration=1538331630000, hour=7, cancel=0, churn='0', level_paid=0),\n",
       " Row(userId='9', gender='M', length=None, level='paid', method='GET', page='Home', ts=1541202395000, registration=1538331630000, hour=7, cancel=0, churn='0', level_paid=0),\n",
       " Row(userId='9', gender='M', length=None, level='paid', method='PUT', page='Add to Playlist', ts=1541439473000, registration=1538331630000, hour=1, cancel=0, churn='0', level_paid=0),\n",
       " Row(userId='9', gender='M', length=None, level='paid', method='PUT', page='Add to Playlist', ts=1541440273000, registration=1538331630000, hour=1, cancel=0, churn='0', level_paid=0),\n",
       " Row(userId='9', gender='M', length=None, level='paid', method='GET', page='About', ts=1541441283000, registration=1538331630000, hour=2, cancel=0, churn='0', level_paid=0),\n",
       " Row(userId='9', gender='M', length=None, level='paid', method='GET', page='Settings', ts=1541469687000, registration=1538331630000, hour=10, cancel=0, churn='0', level_paid=0),\n",
       " Row(userId='9', gender='M', length=None, level='paid', method='PUT', page='Thumbs Up', ts=1541475193000, registration=1538331630000, hour=11, cancel=0, churn='0', level_paid=0),\n",
       " Row(userId='9', gender='M', length=None, level='paid', method='GET', page='Home', ts=1541475287000, registration=1538331630000, hour=11, cancel=0, churn='0', level_paid=0),\n",
       " Row(userId='9', gender='M', length=None, level='paid', method='GET', page='Home', ts=1541664807000, registration=1538331630000, hour=16, cancel=0, churn='0', level_paid=0),\n",
       " Row(userId='9', gender='M', length=None, level='paid', method='PUT', page='Add to Playlist', ts=1541665182000, registration=1538331630000, hour=16, cancel=0, churn='0', level_paid=0),\n",
       " Row(userId='9', gender='M', length=None, level='paid', method='GET', page='Help', ts=1541667359000, registration=1538331630000, hour=16, cancel=0, churn='0', level_paid=0),\n",
       " Row(userId='9', gender='M', length=None, level='paid', method='GET', page='Home', ts=1541669132000, registration=1538331630000, hour=17, cancel=0, churn='0', level_paid=0),\n",
       " Row(userId='9', gender='M', length=None, level='paid', method='PUT', page='Add Friend', ts=1541669778000, registration=1538331630000, hour=17, cancel=0, churn='0', level_paid=0),\n",
       " Row(userId='9', gender='M', length=None, level='paid', method='PUT', page='Add Friend', ts=1541669779000, registration=1538331630000, hour=17, cancel=0, churn='0', level_paid=0),\n",
       " Row(userId='9', gender='M', length=None, level='paid', method='PUT', page='Thumbs Up', ts=1541671529000, registration=1538331630000, hour=18, cancel=0, churn='0', level_paid=0),\n",
       " Row(userId='9', gender='M', length=None, level='paid', method='PUT', page='Thumbs Up', ts=1542031790000, registration=1538331630000, hour=22, cancel=0, churn='0', level_paid=0),\n",
       " Row(userId='9', gender='M', length=None, level='paid', method='GET', page='Help', ts=1542032954000, registration=1538331630000, hour=22, cancel=0, churn='0', level_paid=0),\n",
       " Row(userId='9', gender='M', length=None, level='paid', method='PUT', page='Logout', ts=1542034224000, registration=1538331630000, hour=22, cancel=0, churn='0', level_paid=0),\n",
       " Row(userId='9', gender='M', length=None, level='paid', method='GET', page='Home', ts=1542034272000, registration=1538331630000, hour=22, cancel=0, churn='0', level_paid=0),\n",
       " Row(userId='9', gender='M', length=None, level='paid', method='PUT', page='Add Friend', ts=1542035006000, registration=1538331630000, hour=23, cancel=0, churn='0', level_paid=0),\n",
       " Row(userId='9', gender='M', length=None, level='paid', method='PUT', page='Add to Playlist', ts=1542036897000, registration=1538331630000, hour=23, cancel=0, churn='0', level_paid=0),\n",
       " Row(userId='9', gender='M', length=None, level='paid', method='PUT', page='Add Friend', ts=1542038386000, registration=1538331630000, hour=23, cancel=0, churn='0', level_paid=0),\n",
       " Row(userId='9', gender='M', length=None, level='paid', method='GET', page='Home', ts=1542187994000, registration=1538331630000, hour=17, cancel=0, churn='0', level_paid=0),\n",
       " Row(userId='9', gender='M', length=None, level='paid', method='GET', page='Home', ts=1542192557000, registration=1538331630000, hour=18, cancel=0, churn='0', level_paid=0),\n",
       " Row(userId='9', gender='M', length=None, level='paid', method='PUT', page='Thumbs Up', ts=1542193144000, registration=1538331630000, hour=18, cancel=0, churn='0', level_paid=0),\n",
       " Row(userId='9', gender='M', length=None, level='paid', method='PUT', page='Thumbs Down', ts=1542196998000, registration=1538331630000, hour=20, cancel=0, churn='0', level_paid=0),\n",
       " Row(userId='9', gender='M', length=None, level='paid', method='PUT', page='Thumbs Up', ts=1542199762000, registration=1538331630000, hour=20, cancel=0, churn='0', level_paid=0),\n",
       " Row(userId='9', gender='M', length=None, level='paid', method='PUT', page='Logout', ts=1542203775000, registration=1538331630000, hour=21, cancel=0, churn='0', level_paid=0),\n",
       " Row(userId='9', gender='M', length=None, level='paid', method='GET', page='Home', ts=1542203818000, registration=1538331630000, hour=21, cancel=0, churn='0', level_paid=0),\n",
       " Row(userId='9', gender='M', length=None, level='paid', method='PUT', page='Thumbs Up', ts=1542204504000, registration=1538331630000, hour=22, cancel=0, churn='0', level_paid=0),\n",
       " Row(userId='9', gender='M', length=None, level='paid', method='PUT', page='Logout', ts=1542204717000, registration=1538331630000, hour=22, cancel=0, churn='0', level_paid=0),\n",
       " Row(userId='9', gender='M', length=None, level='paid', method='GET', page='Home', ts=1542204783000, registration=1538331630000, hour=22, cancel=0, churn='0', level_paid=0),\n",
       " Row(userId='9', gender='M', length=None, level='paid', method='PUT', page='Add to Playlist', ts=1542209487000, registration=1538331630000, hour=23, cancel=0, churn='0', level_paid=0),\n",
       " Row(userId='9', gender='M', length=None, level='paid', method='PUT', page='Add to Playlist', ts=1542211235000, registration=1538331630000, hour=0, cancel=0, churn='0', level_paid=0),\n",
       " Row(userId='9', gender='M', length=None, level='paid', method='PUT', page='Add to Playlist', ts=1542217363000, registration=1538331630000, hour=1, cancel=0, churn='0', level_paid=0),\n",
       " Row(userId='9', gender='M', length=None, level='paid', method='PUT', page='Add to Playlist', ts=1542218571000, registration=1538331630000, hour=2, cancel=0, churn='0', level_paid=0),\n",
       " Row(userId='9', gender='M', length=None, level='paid', method='GET', page='Home', ts=1542241100000, registration=1538331630000, hour=8, cancel=0, churn='0', level_paid=0),\n",
       " Row(userId='9', gender='M', length=None, level='paid', method='PUT', page='Add to Playlist', ts=1542241152000, registration=1538331630000, hour=8, cancel=0, churn='0', level_paid=0),\n",
       " Row(userId='9', gender='M', length=None, level='paid', method='GET', page='Downgrade', ts=1542241893000, registration=1538331630000, hour=8, cancel=0, churn='0', level_paid=0),\n",
       " Row(userId='9', gender='M', length=None, level='paid', method='GET', page='Downgrade', ts=1542241918000, registration=1538331630000, hour=8, cancel=0, churn='0', level_paid=0),\n",
       " Row(userId='9', gender='M', length=None, level='paid', method='GET', page='Downgrade', ts=1542242015000, registration=1538331630000, hour=8, cancel=0, churn='0', level_paid=0),\n",
       " Row(userId='9', gender='M', length=None, level='paid', method='PUT', page='Add to Playlist', ts=1542242997000, registration=1538331630000, hour=8, cancel=0, churn='0', level_paid=0),\n",
       " Row(userId='9', gender='M', length=None, level='paid', method='PUT', page='Logout', ts=1542244164000, registration=1538331630000, hour=9, cancel=0, churn='0', level_paid=0),\n",
       " Row(userId='9', gender='M', length=None, level='paid', method='GET', page='Home', ts=1542244174000, registration=1538331630000, hour=9, cancel=0, churn='0', level_paid=0),\n",
       " Row(userId='9', gender='M', length=None, level='paid', method='PUT', page='Add to Playlist', ts=1542245098000, registration=1538331630000, hour=9, cancel=0, churn='0', level_paid=0),\n",
       " Row(userId='9', gender='M', length=None, level='paid', method='PUT', page='Thumbs Up', ts=1542248246000, registration=1538331630000, hour=10, cancel=0, churn='0', level_paid=0),\n",
       " Row(userId='9', gender='M', length=None, level='paid', method='PUT', page='Add Friend', ts=1542249777000, registration=1538331630000, hour=10, cancel=0, churn='0', level_paid=0),\n",
       " Row(userId='9', gender='M', length=None, level='paid', method='PUT', page='Add Friend', ts=1542249778000, registration=1538331630000, hour=10, cancel=0, churn='0', level_paid=0),\n",
       " Row(userId='9', gender='M', length=None, level='paid', method='GET', page='Downgrade', ts=1542250156000, registration=1538331630000, hour=10, cancel=0, churn='0', level_paid=0),\n",
       " Row(userId='9', gender='M', length=None, level='paid', method='GET', page='Downgrade', ts=1542250165000, registration=1538331630000, hour=10, cancel=0, churn='0', level_paid=0),\n",
       " Row(userId='9', gender='M', length=None, level='paid', method='PUT', page='Logout', ts=1542250166000, registration=1538331630000, hour=10, cancel=0, churn='0', level_paid=0),\n",
       " Row(userId='9', gender='M', length=None, level='paid', method='GET', page='Home', ts=1542250181000, registration=1538331630000, hour=10, cancel=0, churn='0', level_paid=0),\n",
       " Row(userId='9', gender='M', length=None, level='paid', method='PUT', page='Add to Playlist', ts=1542251852000, registration=1538331630000, hour=11, cancel=0, churn='0', level_paid=0),\n",
       " Row(userId='9', gender='M', length=None, level='paid', method='PUT', page='Add to Playlist', ts=1542253623000, registration=1538331630000, hour=11, cancel=0, churn='0', level_paid=0),\n",
       " Row(userId='9', gender='M', length=None, level='paid', method='PUT', page='Thumbs Up', ts=1542255059000, registration=1538331630000, hour=12, cancel=0, churn='0', level_paid=0),\n",
       " Row(userId='9', gender='M', length=None, level='paid', method='PUT', page='Add to Playlist', ts=1542257738000, registration=1538331630000, hour=12, cancel=0, churn='0', level_paid=0),\n",
       " Row(userId='9', gender='M', length=None, level='paid', method='PUT', page='Thumbs Down', ts=1542257879000, registration=1538331630000, hour=12, cancel=0, churn='0', level_paid=0),\n",
       " Row(userId='9', gender='M', length=None, level='paid', method='PUT', page='Add to Playlist', ts=1542258778000, registration=1538331630000, hour=13, cancel=0, churn='0', level_paid=0),\n",
       " Row(userId='9', gender='M', length=None, level='paid', method='PUT', page='Logout', ts=1542259746000, registration=1538331630000, hour=13, cancel=0, churn='0', level_paid=0),\n",
       " Row(userId='9', gender='M', length=None, level='paid', method='GET', page='Home', ts=1542259817000, registration=1538331630000, hour=13, cancel=0, churn='0', level_paid=0),\n",
       " Row(userId='9', gender='M', length=None, level='paid', method='PUT', page='Add Friend', ts=1542261117000, registration=1538331630000, hour=13, cancel=0, churn='0', level_paid=0),\n",
       " Row(userId='9', gender='M', length=None, level='paid', method='PUT', page='Add Friend', ts=1542261118000, registration=1538331630000, hour=13, cancel=0, churn='0', level_paid=0),\n",
       " Row(userId='9', gender='M', length=None, level='paid', method='PUT', page='Add Friend', ts=1542261119000, registration=1538331630000, hour=13, cancel=0, churn='0', level_paid=0),\n",
       " Row(userId='9', gender='M', length=None, level='paid', method='PUT', page='Thumbs Up', ts=1542262662000, registration=1538331630000, hour=14, cancel=0, churn='0', level_paid=0),\n",
       " Row(userId='9', gender='M', length=None, level='paid', method='PUT', page='Add to Playlist', ts=1542265762000, registration=1538331630000, hour=15, cancel=0, churn='0', level_paid=0),\n",
       " Row(userId='9', gender='M', length=None, level='paid', method='PUT', page='Add to Playlist', ts=1542266660000, registration=1538331630000, hour=15, cancel=0, churn='0', level_paid=0),\n",
       " Row(userId='9', gender='M', length=None, level='paid', method='PUT', page='Add Friend', ts=1542267678000, registration=1538331630000, hour=15, cancel=0, churn='0', level_paid=0),\n",
       " Row(userId='9', gender='M', length=None, level='paid', method='PUT', page='Add Friend', ts=1542267679000, registration=1538331630000, hour=15, cancel=0, churn='0', level_paid=0),\n",
       " Row(userId='9', gender='M', length=None, level='paid', method='PUT', page='Thumbs Up', ts=1542268896000, registration=1538331630000, hour=16, cancel=0, churn='0', level_paid=0),\n",
       " Row(userId='9', gender='M', length=None, level='paid', method='PUT', page='Thumbs Down', ts=1542269450000, registration=1538331630000, hour=16, cancel=0, churn='0', level_paid=0),\n",
       " Row(userId='9', gender='M', length=None, level='paid', method='PUT', page='Thumbs Up', ts=1542269887000, registration=1538331630000, hour=16, cancel=0, churn='0', level_paid=0),\n",
       " Row(userId='9', gender='M', length=None, level='paid', method='GET', page='Home', ts=1542271816000, registration=1538331630000, hour=16, cancel=0, churn='0', level_paid=0),\n",
       " Row(userId='9', gender='M', length=None, level='paid', method='PUT', page='Thumbs Up', ts=1542274120000, registration=1538331630000, hour=17, cancel=0, churn='0', level_paid=0),\n",
       " Row(userId='9', gender='M', length=None, level='paid', method='GET', page='Home', ts=1542274361000, registration=1538331630000, hour=17, cancel=0, churn='0', level_paid=0),\n",
       " Row(userId='9', gender='M', length=None, level='paid', method='GET', page='Home', ts=1542305169000, registration=1538331630000, hour=2, cancel=0, churn='0', level_paid=0),\n",
       " Row(userId='9', gender='M', length=None, level='paid', method='PUT', page='Add Friend', ts=1542305170000, registration=1538331630000, hour=2, cancel=0, churn='0', level_paid=0),\n",
       " Row(userId='9', gender='M', length=None, level='paid', method='PUT', page='Add to Playlist', ts=1542305950000, registration=1538331630000, hour=2, cancel=0, churn='0', level_paid=0),\n",
       " Row(userId='9', gender='M', length=None, level='paid', method='PUT', page='Thumbs Up', ts=1542307614000, registration=1538331630000, hour=2, cancel=0, churn='0', level_paid=0),\n",
       " Row(userId='9', gender='M', length=None, level='paid', method='GET', page='Home', ts=1542308709000, registration=1538331630000, hour=3, cancel=0, churn='0', level_paid=0),\n",
       " Row(userId='9', gender='M', length=None, level='paid', method='PUT', page='Thumbs Up', ts=1542309129000, registration=1538331630000, hour=3, cancel=0, churn='0', level_paid=0),\n",
       " Row(userId='9', gender='M', length=None, level='paid', method='PUT', page='Thumbs Up', ts=1542315268000, registration=1538331630000, hour=4, cancel=0, churn='0', level_paid=0),\n",
       " Row(userId='9', gender='M', length=None, level='paid', method='GET', page='Help', ts=1542316411000, registration=1538331630000, hour=5, cancel=0, churn='0', level_paid=0),\n",
       " Row(userId='9', gender='M', length=None, level='paid', method='PUT', page='Thumbs Up', ts=1542317116000, registration=1538331630000, hour=5, cancel=0, churn='0', level_paid=0),\n",
       " Row(userId='9', gender='M', length=None, level='paid', method='GET', page='Home', ts=1542319220000, registration=1538331630000, hour=6, cancel=0, churn='0', level_paid=0),\n",
       " Row(userId='9', gender='M', length=None, level='paid', method='GET', page='Downgrade', ts=1542319709000, registration=1538331630000, hour=6, cancel=0, churn='0', level_paid=0),\n",
       " Row(userId='9', gender='M', length=None, level='paid', method='GET', page='Downgrade', ts=1542320117000, registration=1538331630000, hour=6, cancel=0, churn='0', level_paid=0),\n",
       " Row(userId='9', gender='M', length=None, level='paid', method='GET', page='Home', ts=1542320890000, registration=1538331630000, hour=6, cancel=0, churn='0', level_paid=0),\n",
       " Row(userId='9', gender='M', length=None, level='paid', method='GET', page='Downgrade', ts=1542321139000, registration=1538331630000, hour=6, cancel=0, churn='0', level_paid=0),\n",
       " Row(userId='9', gender='M', length=None, level='paid', method='PUT', page='Add Friend', ts=1542322104000, registration=1538331630000, hour=6, cancel=0, churn='0', level_paid=0),\n",
       " Row(userId='9', gender='M', length=None, level='paid', method='PUT', page='Logout', ts=1542324974000, registration=1538331630000, hour=7, cancel=0, churn='0', level_paid=0),\n",
       " Row(userId='9', gender='M', length=None, level='paid', method='GET', page='Home', ts=1542325830000, registration=1538331630000, hour=7, cancel=0, churn='0', level_paid=0),\n",
       " Row(userId='9', gender='M', length=None, level='paid', method='PUT', page='Add to Playlist', ts=1542328086000, registration=1538331630000, hour=8, cancel=0, churn='0', level_paid=0),\n",
       " Row(userId='9', gender='M', length=None, level='paid', method='GET', page='Home', ts=1542328879000, registration=1538331630000, hour=8, cancel=0, churn='0', level_paid=0),\n",
       " Row(userId='9', gender='M', length=None, level='paid', method='GET', page='About', ts=1542328881000, registration=1538331630000, hour=8, cancel=0, churn='0', level_paid=0),\n",
       " Row(userId='9', gender='M', length=None, level='paid', method='PUT', page='Logout', ts=1542328882000, registration=1538331630000, hour=8, cancel=0, churn='0', level_paid=0),\n",
       " Row(userId='9', gender='M', length=None, level='paid', method='GET', page='Home', ts=1542329110000, registration=1538331630000, hour=8, cancel=0, churn='0', level_paid=0),\n",
       " Row(userId='9', gender='M', length=None, level='paid', method='PUT', page='Thumbs Up', ts=1542332858000, registration=1538331630000, hour=9, cancel=0, churn='0', level_paid=0),\n",
       " Row(userId='9', gender='M', length=None, level='paid', method='PUT', page='Logout', ts=1542336525000, registration=1538331630000, hour=10, cancel=0, churn='0', level_paid=0),\n",
       " Row(userId='9', gender='M', length=None, level='paid', method='GET', page='Home', ts=1542423857000, registration=1538331630000, hour=11, cancel=0, churn='0', level_paid=0),\n",
       " Row(userId='9', gender='M', length=None, level='paid', method='PUT', page='Thumbs Up', ts=1542427303000, registration=1538331630000, hour=12, cancel=0, churn='0', level_paid=0),\n",
       " Row(userId='9', gender='M', length=None, level='paid', method='PUT', page='Add to Playlist', ts=1542427317000, registration=1538331630000, hour=12, cancel=0, churn='0', level_paid=0),\n",
       " Row(userId='9', gender='M', length=None, level='paid', method='PUT', page='Thumbs Up', ts=1542427797000, registration=1538331630000, hour=12, cancel=0, churn='0', level_paid=0),\n",
       " Row(userId='9', gender='M', length=None, level='paid', method='PUT', page='Add to Playlist', ts=1542428286000, registration=1538331630000, hour=12, cancel=0, churn='0', level_paid=0),\n",
       " Row(userId='9', gender='M', length=None, level='paid', method='PUT', page='Logout', ts=1542429865000, registration=1538331630000, hour=12, cancel=0, churn='0', level_paid=0),\n",
       " Row(userId='9', gender='M', length=None, level='paid', method='GET', page='Home', ts=1542429881000, registration=1538331630000, hour=12, cancel=0, churn='0', level_paid=0),\n",
       " Row(userId='9', gender='M', length=None, level='paid', method='PUT', page='Logout', ts=1542432790000, registration=1538331630000, hour=13, cancel=0, churn='0', level_paid=0),\n",
       " Row(userId='9', gender='M', length=None, level='paid', method='GET', page='Home', ts=1542537420000, registration=1538331630000, hour=18, cancel=0, churn='0', level_paid=0),\n",
       " Row(userId='9', gender='M', length=None, level='paid', method='PUT', page='Logout', ts=1542538421000, registration=1538331630000, hour=18, cancel=0, churn='0', level_paid=0),\n",
       " Row(userId='9', gender='M', length=None, level='paid', method='GET', page='Home', ts=1542538499000, registration=1538331630000, hour=18, cancel=0, churn='0', level_paid=0),\n",
       " Row(userId='9', gender='M', length=None, level='paid', method='PUT', page='Add to Playlist', ts=1542541753000, registration=1538331630000, hour=19, cancel=0, churn='0', level_paid=0),\n",
       " Row(userId='9', gender='M', length=None, level='paid', method='PUT', page='Thumbs Up', ts=1542545325000, registration=1538331630000, hour=20, cancel=0, churn='0', level_paid=0),\n",
       " Row(userId='9', gender='M', length=None, level='paid', method='GET', page='Downgrade', ts=1542545751000, registration=1538331630000, hour=20, cancel=0, churn='0', level_paid=0),\n",
       " Row(userId='9', gender='M', length=None, level='paid', method='PUT', page='Thumbs Down', ts=1542546386000, registration=1538331630000, hour=21, cancel=0, churn='0', level_paid=0),\n",
       " Row(userId='9', gender='M', length=None, level='paid', method='PUT', page='Thumbs Up', ts=1542548503000, registration=1538331630000, hour=21, cancel=0, churn='0', level_paid=0),\n",
       " Row(userId='9', gender='M', length=None, level='paid', method='PUT', page='Thumbs Up', ts=1542548774000, registration=1538331630000, hour=21, cancel=0, churn='0', level_paid=0),\n",
       " Row(userId='9', gender='M', length=None, level='paid', method='PUT', page='Add to Playlist', ts=1542548808000, registration=1538331630000, hour=21, cancel=0, churn='0', level_paid=0),\n",
       " Row(userId='9', gender='M', length=None, level='paid', method='GET', page='Help', ts=1542548920000, registration=1538331630000, hour=21, cancel=0, churn='0', level_paid=0),\n",
       " Row(userId='9', gender='M', length=None, level='paid', method='GET', page='Downgrade', ts=1542550029000, registration=1538331630000, hour=22, cancel=0, churn='0', level_paid=0),\n",
       " Row(userId='9', gender='M', length=None, level='paid', method='GET', page='Home', ts=1542550077000, registration=1538331630000, hour=22, cancel=0, churn='0', level_paid=0),\n",
       " Row(userId='9', gender='M', length=None, level='paid', method='GET', page='Home', ts=1542572915000, registration=1538331630000, hour=4, cancel=0, churn='0', level_paid=0),\n",
       " Row(userId='9', gender='M', length=None, level='paid', method='PUT', page='Thumbs Up', ts=1542574577000, registration=1538331630000, hour=4, cancel=0, churn='0', level_paid=0),\n",
       " Row(userId='9', gender='M', length=None, level='paid', method='GET', page='Downgrade', ts=1542577433000, registration=1538331630000, hour=5, cancel=0, churn='0', level_paid=0),\n",
       " Row(userId='9', gender='M', length=None, level='paid', method='GET', page='Downgrade', ts=1542577498000, registration=1538331630000, hour=5, cancel=0, churn='0', level_paid=0),\n",
       " Row(userId='9', gender='M', length=None, level='paid', method='PUT', page='Add to Playlist', ts=1542578633000, registration=1538331630000, hour=6, cancel=0, churn='0', level_paid=0),\n",
       " Row(userId='9', gender='M', length=None, level='paid', method='PUT', page='Add to Playlist', ts=1542578926000, registration=1538331630000, hour=6, cancel=0, churn='0', level_paid=0),\n",
       " Row(userId='9', gender='M', length=None, level='paid', method='PUT', page='Logout', ts=1542580586000, registration=1538331630000, hour=6, cancel=0, churn='0', level_paid=0),\n",
       " Row(userId='9', gender='M', length=None, level='paid', method='GET', page='Home', ts=1542580606000, registration=1538331630000, hour=6, cancel=0, churn='0', level_paid=0),\n",
       " Row(userId='9', gender='M', length=None, level='paid', method='PUT', page='Add to Playlist', ts=1542581279000, registration=1538331630000, hour=6, cancel=0, churn='0', level_paid=0),\n",
       " Row(userId='9', gender='M', length=None, level='paid', method='PUT', page='Add to Playlist', ts=1542581413000, registration=1538331630000, hour=6, cancel=0, churn='0', level_paid=0),\n",
       " Row(userId='9', gender='M', length=None, level='paid', method='GET', page='Help', ts=1542582239000, registration=1538331630000, hour=7, cancel=0, churn='0', level_paid=0),\n",
       " Row(userId='9', gender='M', length=None, level='paid', method='GET', page='Home', ts=1542583237000, registration=1538331630000, hour=7, cancel=0, churn='0', level_paid=0),\n",
       " Row(userId='9', gender='M', length=None, level='paid', method='PUT', page='Thumbs Up', ts=1542586150000, registration=1538331630000, hour=8, cancel=0, churn='0', level_paid=0),\n",
       " Row(userId='9', gender='M', length=None, level='paid', method='PUT', page='Add Friend', ts=1542586533000, registration=1538331630000, hour=8, cancel=0, churn='0', level_paid=0),\n",
       " Row(userId='9', gender='M', length=None, level='paid', method='PUT', page='Add Friend', ts=1542586534000, registration=1538331630000, hour=8, cancel=0, churn='0', level_paid=0),\n",
       " Row(userId='9', gender='M', length=None, level='paid', method='PUT', page='Logout', ts=1542588574000, registration=1538331630000, hour=8, cancel=0, churn='0', level_paid=0),\n",
       " Row(userId='9', gender='M', length=None, level='paid', method='GET', page='Home', ts=1542588680000, registration=1538331630000, hour=8, cancel=0, churn='0', level_paid=0),\n",
       " Row(userId='9', gender='M', length=None, level='paid', method='PUT', page='Add to Playlist', ts=1542642865000, registration=1538331630000, hour=23, cancel=0, churn='0', level_paid=0),\n",
       " Row(userId='9', gender='M', length=None, level='paid', method='PUT', page='Add Friend', ts=1542643221000, registration=1538331630000, hour=0, cancel=0, churn='0', level_paid=0),\n",
       " Row(userId='9', gender='M', length=None, level='paid', method='GET', page='Downgrade', ts=1542644257000, registration=1538331630000, hour=0, cancel=0, churn='0', level_paid=0),\n",
       " Row(userId='9', gender='M', length=None, level='paid', method='PUT', page='Thumbs Down', ts=1542646229000, registration=1538331630000, hour=0, cancel=0, churn='0', level_paid=0),\n",
       " Row(userId='9', gender='M', length=None, level='paid', method='GET', page='Home', ts=1542647294000, registration=1538331630000, hour=1, cancel=0, churn='0', level_paid=0),\n",
       " Row(userId='9', gender='M', length=None, level='paid', method='PUT', page='Thumbs Down', ts=1542660154000, registration=1538331630000, hour=4, cancel=0, churn='0', level_paid=0),\n",
       " Row(userId='9', gender='M', length=None, level='paid', method='PUT', page='Add to Playlist', ts=1542662500000, registration=1538331630000, hour=5, cancel=0, churn='0', level_paid=0),\n",
       " Row(userId='9', gender='M', length=None, level='paid', method='GET', page='About', ts=1542664560000, registration=1538331630000, hour=5, cancel=0, churn='0', level_paid=0),\n",
       " Row(userId='9', gender='M', length=None, level='paid', method='GET', page='Home', ts=1542664595000, registration=1538331630000, hour=5, cancel=0, churn='0', level_paid=0),\n",
       " Row(userId='9', gender='M', length=None, level='paid', method='GET', page='Settings', ts=1542664751000, registration=1538331630000, hour=5, cancel=0, churn='0', level_paid=0),\n",
       " Row(userId='9', gender='M', length=None, level='paid', method='PUT', page='Add Friend', ts=1542665055000, registration=1538331630000, hour=6, cancel=0, churn='0', level_paid=0),\n",
       " Row(userId='9', gender='M', length=None, level='paid', method='PUT', page='Add Friend', ts=1542665056000, registration=1538331630000, hour=6, cancel=0, churn='0', level_paid=0),\n",
       " Row(userId='9', gender='M', length=None, level='paid', method='PUT', page='Add Friend', ts=1542665057000, registration=1538331630000, hour=6, cancel=0, churn='0', level_paid=0),\n",
       " Row(userId='9', gender='M', length=None, level='paid', method='PUT', page='Logout', ts=1542666457000, registration=1538331630000, hour=6, cancel=0, churn='0', level_paid=0),\n",
       " Row(userId='9', gender='M', length=None, level='paid', method='GET', page='Home', ts=1542666552000, registration=1538331630000, hour=6, cancel=0, churn='0', level_paid=0),\n",
       " Row(userId='9', gender='M', length=None, level='paid', method='PUT', page='Add Friend', ts=1542666553000, registration=1538331630000, hour=6, cancel=0, churn='0', level_paid=0),\n",
       " Row(userId='9', gender='M', length=None, level='paid', method='GET', page='Downgrade', ts=1542668126000, registration=1538331630000, hour=6, cancel=0, churn='0', level_paid=0),\n",
       " Row(userId='9', gender='M', length=None, level='paid', method='PUT', page='Thumbs Up', ts=1542668555000, registration=1538331630000, hour=7, cancel=0, churn='0', level_paid=0),\n",
       " Row(userId='9', gender='M', length=None, level='paid', method='GET', page='Home', ts=1542669246000, registration=1538331630000, hour=7, cancel=0, churn='0', level_paid=0),\n",
       " Row(userId='9', gender='M', length=None, level='paid', method='PUT', page='Thumbs Down', ts=1542669416000, registration=1538331630000, hour=7, cancel=0, churn='0', level_paid=0),\n",
       " Row(userId='9', gender='M', length=None, level='paid', method='PUT', page='Add to Playlist', ts=1542673208000, registration=1538331630000, hour=8, cancel=0, churn='0', level_paid=0),\n",
       " Row(userId='9', gender='M', length=None, level='paid', method='PUT', page='Thumbs Down', ts=1542676637000, registration=1538331630000, hour=9, cancel=0, churn='0', level_paid=0),\n",
       " Row(userId='9', gender='M', length=None, level='paid', method='GET', page='Home', ts=1542676993000, registration=1538331630000, hour=9, cancel=0, churn='0', level_paid=0),\n",
       " Row(userId='9', gender='M', length=None, level='paid', method='PUT', page='Add to Playlist', ts=1542679239000, registration=1538331630000, hour=10, cancel=0, churn='0', level_paid=0),\n",
       " Row(userId='9', gender='M', length=None, level='paid', method='GET', page='Home', ts=1542679623000, registration=1538331630000, hour=10, cancel=0, churn='0', level_paid=0),\n",
       " Row(userId='9', gender='M', length=None, level='paid', method='PUT', page='Thumbs Up', ts=1542680167000, registration=1538331630000, hour=10, cancel=0, churn='0', level_paid=0),\n",
       " Row(userId='9', gender='M', length=None, level='paid', method='GET', page='Settings', ts=1542682738000, registration=1538331630000, hour=10, cancel=0, churn='0', level_paid=0),\n",
       " Row(userId='9', gender='M', length=None, level='paid', method='PUT', page='Save Settings', ts=1542682739000, registration=1538331630000, hour=10, cancel=0, churn='0', level_paid=0),\n",
       " Row(userId='9', gender='M', length=None, level='paid', method='GET', page='Home', ts=1542682807000, registration=1538331630000, hour=11, cancel=0, churn='0', level_paid=0),\n",
       " Row(userId='9', gender='M', length=None, level='paid', method='PUT', page='Thumbs Up', ts=1542687184000, registration=1538331630000, hour=12, cancel=0, churn='0', level_paid=0),\n",
       " Row(userId='9', gender='M', length=None, level='paid', method='PUT', page='Thumbs Up', ts=1542688920000, registration=1538331630000, hour=12, cancel=0, churn='0', level_paid=0),\n",
       " Row(userId='9', gender='M', length=None, level='paid', method='PUT', page='Add to Playlist', ts=1542690530000, registration=1538331630000, hour=13, cancel=0, churn='0', level_paid=0),\n",
       " Row(userId='9', gender='M', length=None, level='paid', method='PUT', page='Add to Playlist', ts=1542691547000, registration=1538331630000, hour=13, cancel=0, churn='0', level_paid=0),\n",
       " Row(userId='9', gender='M', length=None, level='paid', method='GET', page='Home', ts=1542693791000, registration=1538331630000, hour=14, cancel=0, churn='0', level_paid=0),\n",
       " Row(userId='9', gender='M', length=None, level='paid', method='PUT', page='Thumbs Down', ts=1542697742000, registration=1538331630000, hour=15, cancel=0, churn='0', level_paid=0),\n",
       " Row(userId='9', gender='M', length=None, level='paid', method='PUT', page='Add to Playlist', ts=1542701137000, registration=1538331630000, hour=16, cancel=0, churn='0', level_paid=0),\n",
       " Row(userId='9', gender='M', length=None, level='paid', method='PUT', page='Thumbs Up', ts=1542992609000, registration=1538331630000, hour=1, cancel=0, churn='0', level_paid=0),\n",
       " Row(userId='9', gender='M', length=None, level='paid', method='PUT', page='Thumbs Up', ts=1542994637000, registration=1538331630000, hour=1, cancel=0, churn='0', level_paid=0),\n",
       " Row(userId='9', gender='M', length=None, level='paid', method='GET', page='Home', ts=1542995132000, registration=1538331630000, hour=1, cancel=0, churn='0', level_paid=0),\n",
       " Row(userId='9', gender='M', length=None, level='paid', method='GET', page='Home', ts=1542995306000, registration=1538331630000, hour=1, cancel=0, churn='0', level_paid=0),\n",
       " Row(userId='9', gender='M', length=None, level='paid', method='PUT', page='Add Friend', ts=1542995307000, registration=1538331630000, hour=1, cancel=0, churn='0', level_paid=0),\n",
       " Row(userId='9', gender='M', length=None, level='paid', method='PUT', page='Add Friend', ts=1542995308000, registration=1538331630000, hour=1, cancel=0, churn='0', level_paid=0),\n",
       " Row(userId='9', gender='M', length=None, level='paid', method='GET', page='Home', ts=1542996373000, registration=1538331630000, hour=2, cancel=0, churn='0', level_paid=0),\n",
       " Row(userId='9', gender='M', length=None, level='paid', method='GET', page='Settings', ts=1542996374000, registration=1538331630000, hour=2, cancel=0, churn='0', level_paid=0),\n",
       " Row(userId='9', gender='M', length=None, level='paid', method='GET', page='Home', ts=1542996901000, registration=1538331630000, hour=2, cancel=0, churn='0', level_paid=0),\n",
       " Row(userId='9', gender='M', length=None, level='paid', method='PUT', page='Thumbs Up', ts=1542997728000, registration=1538331630000, hour=2, cancel=0, churn='0', level_paid=0),\n",
       " Row(userId='9', gender='M', length=None, level='paid', method='PUT', page='Thumbs Up', ts=1542998802000, registration=1538331630000, hour=2, cancel=0, churn='0', level_paid=0),\n",
       " Row(userId='9', gender='M', length=None, level='paid', method='PUT', page='Thumbs Up', ts=1543002170000, registration=1538331630000, hour=3, cancel=0, churn='0', level_paid=0),\n",
       " Row(userId='9', gender='M', length=None, level='paid', method='PUT', page='Logout', ts=1543003021000, registration=1538331630000, hour=3, cancel=0, churn='0', level_paid=0),\n",
       " Row(userId='9', gender='M', length=None, level='paid', method='GET', page='Home', ts=1543003028000, registration=1538331630000, hour=3, cancel=0, churn='0', level_paid=0),\n",
       " Row(userId='9', gender='M', length=None, level='paid', method='PUT', page='Thumbs Up', ts=1543003226000, registration=1538331630000, hour=4, cancel=0, churn='0', level_paid=0),\n",
       " Row(userId='9', gender='M', length=None, level='paid', method='PUT', page='Add to Playlist', ts=1543004270000, registration=1538331630000, hour=4, cancel=0, churn='0', level_paid=0),\n",
       " Row(userId='9', gender='M', length=None, level='paid', method='PUT', page='Thumbs Up', ts=1543010235000, registration=1538331630000, hour=5, cancel=0, churn='0', level_paid=0),\n",
       " Row(userId='9', gender='M', length=None, level='paid', method='PUT', page='Add to Playlist', ts=1543010254000, registration=1538331630000, hour=5, cancel=0, churn='0', level_paid=0),\n",
       " Row(userId='9', gender='M', length=None, level='paid', method='PUT', page='Thumbs Down', ts=1543010940000, registration=1538331630000, hour=6, cancel=0, churn='0', level_paid=0),\n",
       " Row(userId='9', gender='M', length=None, level='paid', method='GET', page='Downgrade', ts=1543011976000, registration=1538331630000, hour=6, cancel=0, churn='0', level_paid=0),\n",
       " Row(userId='9', gender='M', length=None, level='paid', method='GET', page='Home', ts=1543011991000, registration=1538331630000, hour=6, cancel=0, churn='0', level_paid=0),\n",
       " Row(userId='9', gender='M', length=None, level='paid', method='PUT', page='Add Friend', ts=1543017193000, registration=1538331630000, hour=7, cancel=0, churn='0', level_paid=0),\n",
       " Row(userId='9', gender='M', length=None, level='paid', method='GET', page='Home', ts=1543018280000, registration=1538331630000, hour=8, cancel=0, churn='0', level_paid=0),\n",
       " Row(userId='9', gender='M', length=None, level='paid', method='GET', page='Home', ts=1543019411000, registration=1538331630000, hour=8, cancel=0, churn='0', level_paid=0),\n",
       " Row(userId='9', gender='M', length=None, level='paid', method='PUT', page='Add to Playlist', ts=1543020601000, registration=1538331630000, hour=8, cancel=0, churn='0', level_paid=0),\n",
       " Row(userId='9', gender='M', length=None, level='paid', method='PUT', page='Logout', ts=1543242660000, registration=1538331630000, hour=22, cancel=0, churn='0', level_paid=0),\n",
       " Row(userId='9', gender='M', length=None, level='paid', method='GET', page='Home', ts=1543242714000, registration=1538331630000, hour=22, cancel=0, churn='0', level_paid=0),\n",
       " Row(userId='9', gender='M', length=None, level='paid', method='GET', page='Downgrade', ts=1543243903000, registration=1538331630000, hour=22, cancel=0, churn='0', level_paid=0),\n",
       " Row(userId='9', gender='M', length=None, level='paid', method='GET', page='Home', ts=1543243906000, registration=1538331630000, hour=22, cancel=0, churn='0', level_paid=0),\n",
       " Row(userId='9', gender='M', length=None, level='paid', method='GET', page='Settings', ts=1543247565000, registration=1538331630000, hour=23, cancel=0, churn='0', level_paid=0),\n",
       " Row(userId='9', gender='M', length=None, level='paid', method='PUT', page='Thumbs Up', ts=1543250286000, registration=1538331630000, hour=0, cancel=0, churn='0', level_paid=0),\n",
       " Row(userId='9', gender='M', length=None, level='paid', method='GET', page='Home', ts=1543250751000, registration=1538331630000, hour=0, cancel=0, churn='0', level_paid=0),\n",
       " Row(userId='9', gender='M', length=None, level='paid', method='PUT', page='Thumbs Down', ts=1543252547000, registration=1538331630000, hour=1, cancel=0, churn='0', level_paid=0),\n",
       " Row(userId='9', gender='M', length=None, level='paid', method='PUT', page='Add to Playlist', ts=1543254567000, registration=1538331630000, hour=1, cancel=0, churn='0', level_paid=0),\n",
       " Row(userId='9', gender='M', length=None, level='paid', method='PUT', page='Logout', ts=1543255226000, registration=1538331630000, hour=2, cancel=0, churn='0', level_paid=0),\n",
       " Row(userId='9', gender='M', length=None, level='paid', method='GET', page='Home', ts=1543255301000, registration=1538331630000, hour=2, cancel=0, churn='0', level_paid=0),\n",
       " Row(userId='9', gender='M', length=None, level='paid', method='PUT', page='Thumbs Up', ts=1543256243000, registration=1538331630000, hour=2, cancel=0, churn='0', level_paid=0),\n",
       " Row(userId='9', gender='M', length=None, level='paid', method='PUT', page='Add Friend', ts=1543256932000, registration=1538331630000, hour=2, cancel=0, churn='0', level_paid=0),\n",
       " Row(userId='9', gender='M', length=None, level='paid', method='PUT', page='Thumbs Up', ts=1543259346000, registration=1538331630000, hour=3, cancel=0, churn='0', level_paid=0),\n",
       " Row(userId='9', gender='M', length=None, level='paid', method='GET', page='Settings', ts=1543261783000, registration=1538331630000, hour=3, cancel=0, churn='0', level_paid=0),\n",
       " Row(userId='9', gender='M', length=None, level='paid', method='GET', page='Home', ts=1543262444000, registration=1538331630000, hour=4, cancel=0, churn='0', level_paid=0),\n",
       " Row(userId='9', gender='M', length=None, level='paid', method='PUT', page='Thumbs Up', ts=1543265876000, registration=1538331630000, hour=4, cancel=0, churn='0', level_paid=0),\n",
       " Row(userId='9', gender='M', length=None, level='paid', method='PUT', page='Logout', ts=1543268812000, registration=1538331630000, hour=5, cancel=0, churn='0', level_paid=0),\n",
       " Row(userId='9', gender='M', length=None, level='paid', method='GET', page='Home', ts=1543268922000, registration=1538331630000, hour=5, cancel=0, churn='0', level_paid=0),\n",
       " Row(userId='9', gender='M', length=None, level='paid', method='GET', page='Downgrade', ts=1543272760000, registration=1538331630000, hour=6, cancel=0, churn='0', level_paid=0),\n",
       " Row(userId='9', gender='M', length=None, level='paid', method='GET', page='Home', ts=1543272787000, registration=1538331630000, hour=6, cancel=0, churn='0', level_paid=0),\n",
       " Row(userId='9', gender='M', length=None, level='paid', method='PUT', page='Add Friend', ts=1543272788000, registration=1538331630000, hour=6, cancel=0, churn='0', level_paid=0),\n",
       " Row(userId='9', gender='M', length=None, level='paid', method='PUT', page='Thumbs Up', ts=1543286657000, registration=1538331630000, hour=10, cancel=0, churn='0', level_paid=0),\n",
       " Row(userId='9', gender='M', length=None, level='paid', method='PUT', page='Thumbs Up', ts=1543290762000, registration=1538331630000, hour=11, cancel=0, churn='0', level_paid=0),\n",
       " Row(userId='9', gender='M', length=None, level='paid', method='PUT', page='Add to Playlist', ts=1543308108000, registration=1538331630000, hour=16, cancel=0, churn='0', level_paid=0),\n",
       " Row(userId='9', gender='M', length=None, level='paid', method='PUT', page='Add to Playlist', ts=1543308480000, registration=1538331630000, hour=16, cancel=0, churn='0', level_paid=0),\n",
       " Row(userId='9', gender='M', length=None, level='paid', method='PUT', page='Thumbs Down', ts=1543309182000, registration=1538331630000, hour=16, cancel=0, churn='0', level_paid=0),\n",
       " Row(userId='9', gender='M', length=None, level='paid', method='GET', page='Home', ts=1543311635000, registration=1538331630000, hour=17, cancel=0, churn='0', level_paid=0),\n",
       " Row(userId='9', gender='M', length=None, level='paid', method='PUT', page='Add to Playlist', ts=1543314098000, registration=1538331630000, hour=18, cancel=0, churn='0', level_paid=0),\n",
       " Row(userId='9', gender='M', length=None, level='paid', method='PUT', page='Thumbs Up', ts=1543314177000, registration=1538331630000, hour=18, cancel=0, churn='0', level_paid=0),\n",
       " Row(userId='9', gender='M', length=None, level='paid', method='PUT', page='Thumbs Up', ts=1543314810000, registration=1538331630000, hour=18, cancel=0, churn='0', level_paid=0),\n",
       " Row(userId='9', gender='M', length=None, level='paid', method='PUT', page='Add Friend', ts=1543315659000, registration=1538331630000, hour=18, cancel=0, churn='0', level_paid=0),\n",
       " Row(userId='9', gender='M', length=None, level='paid', method='PUT', page='Add Friend', ts=1543315660000, registration=1538331630000, hour=18, cancel=0, churn='0', level_paid=0),\n",
       " Row(userId='9', gender='M', length=None, level='paid', method='PUT', page='Add Friend', ts=1543315661000, registration=1538331630000, hour=18, cancel=0, churn='0', level_paid=0),\n",
       " Row(userId='9', gender='M', length=None, level='paid', method='GET', page='Home', ts=1543316057000, registration=1538331630000, hour=18, cancel=0, churn='0', level_paid=0),\n",
       " Row(userId='9', gender='M', length=None, level='paid', method='PUT', page='Add to Playlist', ts=1543317764000, registration=1538331630000, hour=19, cancel=0, churn='0', level_paid=0),\n",
       " Row(userId='9', gender='M', length=None, level='paid', method='GET', page='Home', ts=1543317991000, registration=1538331630000, hour=19, cancel=0, churn='0', level_paid=0),\n",
       " Row(userId='9', gender='M', length=None, level='paid', method='PUT', page='Add to Playlist', ts=1543318532000, registration=1538331630000, hour=19, cancel=0, churn='0', level_paid=0),\n",
       " Row(userId='9', gender='M', length=None, level='paid', method='GET', page='Help', ts=1543319317000, registration=1538331630000, hour=19, cancel=0, churn='0', level_paid=0),\n",
       " Row(userId='9', gender='M', length=None, level='paid', method='GET', page='Settings', ts=1543319750000, registration=1538331630000, hour=19, cancel=0, churn='0', level_paid=0),\n",
       " Row(userId='9', gender='M', length=None, level='paid', method='PUT', page='Thumbs Up', ts=1543326111000, registration=1538331630000, hour=21, cancel=0, churn='0', level_paid=0),\n",
       " Row(userId='9', gender='M', length=None, level='paid', method='PUT', page='Add to Playlist', ts=1543326213000, registration=1538331630000, hour=21, cancel=0, churn='0', level_paid=0),\n",
       " Row(userId='9', gender='M', length=None, level='paid', method='PUT', page='Thumbs Up', ts=1543332800000, registration=1538331630000, hour=23, cancel=0, churn='0', level_paid=0),\n",
       " Row(userId='9', gender='M', length=None, level='paid', method='GET', page='Home', ts=1543333582000, registration=1538331630000, hour=23, cancel=0, churn='0', level_paid=0),\n",
       " Row(userId='9', gender='M', length=None, level='paid', method='PUT', page='Thumbs Up', ts=1543333784000, registration=1538331630000, hour=23, cancel=0, churn='0', level_paid=0),\n",
       " Row(userId='9', gender='M', length=None, level='paid', method='GET', page='Downgrade', ts=1543334273000, registration=1538331630000, hour=23, cancel=0, churn='0', level_paid=0),\n",
       " Row(userId='9', gender='M', length=None, level='paid', method='PUT', page='Add to Playlist', ts=1543338189000, registration=1538331630000, hour=1, cancel=0, churn='0', level_paid=0),\n",
       " Row(userId='9', gender='M', length=None, level='paid', method='GET', page='Home', ts=1543587552000, registration=1538331630000, hour=22, cancel=0, churn='0', level_paid=0)]"
      ]
     },
     "execution_count": 288,
     "metadata": {},
     "output_type": "execute_result"
    }
   ],
   "source": [
    "df.where(df.userId=='9').where(df.page != 'NextSong').collect()"
   ]
  },
  {
   "cell_type": "markdown",
   "metadata": {},
   "source": [
    "经观察实例发现以下几点：\n",
    "- Downgrade和Upgrade两项出现时，并不一定伴随着Submit Downgrade和Submit Upgrade出现，前者出现或为随着时间或积分而自动产生，而仅当后两者出现时，level的状态才会发生改变，后两者更具分析意义\n",
    "- Settings和Save Setting并不同时出现，前者数量明显多，或为用户不经意打开或者浏览app功能，而后者表示用户保存设置，此交互行为在一定意义上体现出客户对app使用的深入和个性化导入，从而更具分析意义。\n",
    "- Cancel和Cancellation Confirmation同时出现，均代表客户注销\n",
    "- 此外About、Home、Logout均为日常操作常规界面，其数据记录的情况类似于Setting，相对不具有分析意义。"
   ]
  },
  {
   "cell_type": "code",
   "execution_count": 289,
   "metadata": {
    "ExecuteTime": {
     "end_time": "2020-02-18T11:38:24.486530Z",
     "start_time": "2020-02-18T11:38:22.884811Z"
    }
   },
   "outputs": [
    {
     "data": {
      "text/plain": [
       "['About',\n",
       " 'Add Friend',\n",
       " 'Add to Playlist',\n",
       " 'Cancel',\n",
       " 'Cancellation Confirmation',\n",
       " 'Downgrade',\n",
       " 'Error',\n",
       " 'Help',\n",
       " 'Home',\n",
       " 'Logout',\n",
       " 'NextSong',\n",
       " 'Roll Advert',\n",
       " 'Save Settings',\n",
       " 'Settings',\n",
       " 'Submit Downgrade',\n",
       " 'Submit Upgrade',\n",
       " 'Thumbs Down',\n",
       " 'Thumbs Up',\n",
       " 'Upgrade']"
      ]
     },
     "execution_count": 289,
     "metadata": {},
     "output_type": "execute_result"
    }
   ],
   "source": [
    "# 获取page列中不同value的列表\n",
    "list(sorted(df.select('page').dropDuplicates().toPandas().values[:,0]))"
   ]
  },
  {
   "cell_type": "code",
   "execution_count": 290,
   "metadata": {
    "ExecuteTime": {
     "end_time": "2020-02-18T11:38:24.769945Z",
     "start_time": "2020-02-18T11:38:24.490665Z"
    }
   },
   "outputs": [],
   "source": [
    "#合成新的DataFrame\n",
    "df_add_friend = numvalues_to_df('page','Add Friend')\n",
    "df_add_playlist = numvalues_to_df('page','Add to Playlist')\n",
    "df_cancel_confirm = numvalues_to_df('page','Cancellation Confirmation')\n",
    "df_error = numvalues_to_df('page','Error')\n",
    "df_help = numvalues_to_df('page','Help')\n",
    "df_nextsong = numvalues_to_df('page','NextSong')\n",
    "df_advert = numvalues_to_df('page','Roll Advert')\n",
    "df_save_set = numvalues_to_df('page','Save Settings')\n",
    "df_submit_dg = numvalues_to_df('page','Submit Downgrade')\n",
    "df_submit_up = numvalues_to_df('page','Submit Upgrade')\n",
    "df_thumb_down = numvalues_to_df('page','Thumbs Down')\n",
    "df_thumb_up = numvalues_to_df('page','Thumbs Up')"
   ]
  },
  {
   "cell_type": "code",
   "execution_count": 291,
   "metadata": {
    "ExecuteTime": {
     "end_time": "2020-02-18T11:39:06.584274Z",
     "start_time": "2020-02-18T11:38:24.771668Z"
    },
    "scrolled": true
   },
   "outputs": [
    {
     "name": "stdout",
     "output_type": "stream",
     "text": [
      "----------------------\n",
      "Total rows: 225\n",
      "+------+-----------+\n",
      "|userId|add friends|\n",
      "+------+-----------+\n",
      "|100010|        4.0|\n",
      "|200002|        4.0|\n",
      "|   125|        0.0|\n",
      "+------+-----------+\n",
      "only showing top 3 rows\n",
      "\n",
      "----------------------\n",
      "Total rows: 225\n",
      "+------+----------------+\n",
      "|userId|add to playlists|\n",
      "+------+----------------+\n",
      "|100010|             7.0|\n",
      "|200002|             8.0|\n",
      "|   125|             0.0|\n",
      "+------+----------------+\n",
      "only showing top 3 rows\n",
      "\n",
      "----------------------\n",
      "Total rows: 225\n",
      "+------+--------------------------+\n",
      "|userId|cancellation confirmations|\n",
      "+------+--------------------------+\n",
      "|100010|                       0.0|\n",
      "|200002|                       0.0|\n",
      "|   125|                       1.0|\n",
      "+------+--------------------------+\n",
      "only showing top 3 rows\n",
      "\n",
      "----------------------\n",
      "Total rows: 225\n",
      "+------+------+\n",
      "|userId|errors|\n",
      "+------+------+\n",
      "|100010|   0.0|\n",
      "|200002|   0.0|\n",
      "|   125|   0.0|\n",
      "+------+------+\n",
      "only showing top 3 rows\n",
      "\n",
      "----------------------\n",
      "Total rows: 225\n",
      "+------+-----+\n",
      "|userId|helps|\n",
      "+------+-----+\n",
      "|100010|  2.0|\n",
      "|200002|  2.0|\n",
      "|   125|  0.0|\n",
      "+------+-----+\n",
      "only showing top 3 rows\n",
      "\n",
      "----------------------\n",
      "Total rows: 225\n",
      "+------+---------+\n",
      "|userId|nextsongs|\n",
      "+------+---------+\n",
      "|100010|    275.0|\n",
      "|200002|    387.0|\n",
      "|   125|      8.0|\n",
      "+------+---------+\n",
      "only showing top 3 rows\n",
      "\n",
      "----------------------\n",
      "Total rows: 225\n",
      "+------+------------+\n",
      "|userId|roll adverts|\n",
      "+------+------------+\n",
      "|100010|        52.0|\n",
      "|200002|         7.0|\n",
      "|   125|         1.0|\n",
      "+------+------------+\n",
      "only showing top 3 rows\n",
      "\n",
      "----------------------\n",
      "Total rows: 225\n",
      "+------+--------------+\n",
      "|userId|save settingss|\n",
      "+------+--------------+\n",
      "|100010|           0.0|\n",
      "|200002|           0.0|\n",
      "|   125|           0.0|\n",
      "+------+--------------+\n",
      "only showing top 3 rows\n",
      "\n",
      "----------------------\n",
      "Total rows: 225\n",
      "+------+-----------------+\n",
      "|userId|submit downgrades|\n",
      "+------+-----------------+\n",
      "|100010|              0.0|\n",
      "|200002|              0.0|\n",
      "|   125|              0.0|\n",
      "+------+-----------------+\n",
      "only showing top 3 rows\n",
      "\n",
      "----------------------\n",
      "Total rows: 225\n",
      "+------+---------------+\n",
      "|userId|submit upgrades|\n",
      "+------+---------------+\n",
      "|100010|            0.0|\n",
      "|200002|            1.0|\n",
      "|   125|            0.0|\n",
      "+------+---------------+\n",
      "only showing top 3 rows\n",
      "\n",
      "----------------------\n",
      "Total rows: 225\n",
      "+------+------------+\n",
      "|userId|thumbs downs|\n",
      "+------+------------+\n",
      "|100010|         5.0|\n",
      "|200002|         6.0|\n",
      "|   125|         0.0|\n",
      "+------+------------+\n",
      "only showing top 3 rows\n",
      "\n",
      "----------------------\n",
      "Total rows: 225\n",
      "+------+----------+\n",
      "|userId|thumbs ups|\n",
      "+------+----------+\n",
      "|100010|      17.0|\n",
      "|200002|      21.0|\n",
      "|   125|       0.0|\n",
      "+------+----------+\n",
      "only showing top 3 rows\n",
      "\n"
     ]
    }
   ],
   "source": [
    "#查看新创建DataFrame的概况\n",
    "df_list = (df_add_friend,df_add_playlist,df_cancel_confirm,df_error,df_help,df_nextsong,\\\n",
    "    df_advert,df_save_set,df_submit_dg,df_submit_up,df_thumb_down,df_thumb_up)\n",
    "\n",
    "for df_name in df_list:\n",
    "    check_df(df_name)"
   ]
  },
  {
   "cell_type": "markdown",
   "metadata": {},
   "source": [
    "#### DataFrame聚合"
   ]
  },
  {
   "cell_type": "code",
   "execution_count": 292,
   "metadata": {
    "ExecuteTime": {
     "end_time": "2020-02-18T11:39:06.600586Z",
     "start_time": "2020-02-18T11:39:06.586716Z"
    }
   },
   "outputs": [],
   "source": [
    "df_gender = df.select('userId','gender').dropDuplicates()"
   ]
  },
  {
   "cell_type": "code",
   "execution_count": 293,
   "metadata": {
    "ExecuteTime": {
     "end_time": "2020-02-18T11:39:06.610253Z",
     "start_time": "2020-02-18T11:39:06.603509Z"
    }
   },
   "outputs": [],
   "source": [
    "other_df_list = (df_length,df_days,df_paid,df_put,df_get,df_add_friend,df_add_playlist,df_cancel_confirm,\\\n",
    "               df_error,df_help,df_nextsong,df_advert,df_save_set,df_submit_dg,df_submit_up,\\\n",
    "               df_thumb_down,df_thumb_up,df_label)"
   ]
  },
  {
   "cell_type": "code",
   "execution_count": 294,
   "metadata": {
    "ExecuteTime": {
     "end_time": "2020-02-18T11:39:06.879189Z",
     "start_time": "2020-02-18T11:39:06.612873Z"
    }
   },
   "outputs": [],
   "source": [
    "df1 = df_gender\n",
    "for df_name in other_df_list:\n",
    "    df1 = df1.join(df_name,['userId'],'left')"
   ]
  },
  {
   "cell_type": "code",
   "execution_count": 295,
   "metadata": {
    "ExecuteTime": {
     "end_time": "2020-02-18T11:39:39.381955Z",
     "start_time": "2020-02-18T11:39:06.881507Z"
    }
   },
   "outputs": [
    {
     "data": {
      "text/plain": [
       "Row(userId='100010', gender='F', avg_length=243.42144478537818, alive_ts=4807612000, alive_days=55.64365740740741, paid=0, puts=313.0, gets=68.0, add friends=4.0, add to playlists=7.0, cancellation confirmations=0.0, errors=0.0, helps=2.0, nextsongs=275.0, roll adverts=52.0, save settingss=0.0, submit downgrades=0.0, submit upgrades=0.0, thumbs downs=5.0, thumbs ups=17.0, label=0)"
      ]
     },
     "execution_count": 295,
     "metadata": {},
     "output_type": "execute_result"
    }
   ],
   "source": [
    "df1.head()"
   ]
  },
  {
   "cell_type": "markdown",
   "metadata": {},
   "source": [
    "# 探索性数据分析"
   ]
  },
  {
   "cell_type": "markdown",
   "metadata": {},
   "source": [
    "## 定义函数"
   ]
  },
  {
   "cell_type": "code",
   "execution_count": 296,
   "metadata": {
    "ExecuteTime": {
     "end_time": "2020-02-18T11:39:39.402543Z",
     "start_time": "2020-02-18T11:39:39.396345Z"
    }
   },
   "outputs": [],
   "source": [
    "# 定义函数df_pd_count,用于从原DataFrame中分离出子DataFrame，便于后期plt可视化\n",
    "\n",
    "def df_pd_count(df,col_select,col_groupby,types):\n",
    "    df = df[(df[col_select] == types)].groupby(col_groupby)['userId'].count()\n",
    "    return pd.DataFrame({col_groupby:df.index,'count':df.values})"
   ]
  },
  {
   "cell_type": "code",
   "execution_count": 297,
   "metadata": {
    "ExecuteTime": {
     "end_time": "2020-02-18T11:39:39.415293Z",
     "start_time": "2020-02-18T11:39:39.405629Z"
    }
   },
   "outputs": [],
   "source": [
    "# 定义函数，绘制双柱状图\n",
    "\n",
    "def double_bar(df_0,df_1,a,b,idxname,label1,label2,fig_hight=8,rotation=90):\n",
    "    x = df_0[idxname]\n",
    "    \n",
    "    name_list = list(x)\n",
    "    ind= np.arange(len(x))\n",
    "    width=0.45\n",
    "\n",
    "    # 绘制图例主要部分\n",
    "    plt.figure(figsize=(fig_hight*2,fig_hight))\n",
    "    plt.bar(ind,a,width,label=label1)\n",
    "    plt.bar(ind+width,b,width,label=label2,tick_label=name_list)\n",
    "\n",
    "    # 定义坐标轴名称\n",
    "    plt.xlabel(idxname,fontsize=20)\n",
    "    plt.ylabel(idxname+'s count',fontsize=20)\n",
    "\n",
    "    # 定义轴刻度标签的位置、名称等\n",
    "    plt.xticks(ind+width/2,name_list,rotation=rotation)\n",
    "    plt.tick_params(labelsize=14)\n",
    "\n",
    "    plt.legend()\n",
    "    plt.show();"
   ]
  },
  {
   "cell_type": "code",
   "execution_count": 298,
   "metadata": {
    "ExecuteTime": {
     "end_time": "2020-02-18T11:39:39.429524Z",
     "start_time": "2020-02-18T11:39:39.418540Z"
    }
   },
   "outputs": [],
   "source": [
    "#定义函数，用于快速绘制柱状图，比较流失和未流失用户各特征的平均水平\n",
    "\n",
    "def draw_bar(df_2,select_col,fig_hight=5,rotation=360):\n",
    "    \n",
    "    df_groupby = df_2.groupby('label')[select_col].mean()\n",
    "    print(df_groupby)\n",
    "    \n",
    "    x = df_groupby.index\n",
    "    df_groupby.plot.bar(figsize=(fig_hight*2,fig_hight))\n",
    "    \n",
    "    # 定义轴刻度标签的位置、名称等\n",
    "    name_list = list(x)\n",
    "    plt.xticks(name_list,rotation=rotation);\n",
    "    plt.tick_params(labelsize=14)\n",
    "    \n",
    "    # 定义坐标轴名称\n",
    "    plt.xlabel('label',fontsize=20)\n",
    "    plt.ylabel('Average count',fontsize=20);"
   ]
  },
  {
   "cell_type": "code",
   "execution_count": 299,
   "metadata": {
    "ExecuteTime": {
     "end_time": "2020-02-18T11:39:39.439003Z",
     "start_time": "2020-02-18T11:39:39.432870Z"
    }
   },
   "outputs": [],
   "source": [
    "# 定义函数，用于新增列，计算用户行为频率\n",
    "\n",
    "def add_ratio_col(col_1,ratio_colname):\n",
    "    df_n[ratio_colname] = (df_n[col_1]/df_n['alive_days'])"
   ]
  },
  {
   "cell_type": "markdown",
   "metadata": {},
   "source": [
    "## 听歌时刻\n",
    "查看0-23h中，用户活动时刻-听歌数量分布情况"
   ]
  },
  {
   "cell_type": "code",
   "execution_count": 300,
   "metadata": {
    "ExecuteTime": {
     "end_time": "2020-02-18T11:40:15.048694Z",
     "start_time": "2020-02-18T11:39:39.443566Z"
    },
    "scrolled": true
   },
   "outputs": [
    {
     "name": "stdout",
     "output_type": "stream",
     "text": [
      "+----+--------+\n",
      "|hour|count(1)|\n",
      "+----+--------+\n",
      "|   0|   11636|\n",
      "|   1|   11460|\n",
      "|   2|   11124|\n",
      "|   3|   10930|\n",
      "|   4|   10856|\n",
      "|   5|   10458|\n",
      "|   6|   10122|\n",
      "|   7|    9630|\n",
      "|   8|    9062|\n",
      "|   9|    8388|\n",
      "|  10|    8336|\n",
      "|  11|    8355|\n",
      "|  12|    8147|\n",
      "|  13|    8178|\n",
      "|  14|    8054|\n",
      "|  15|    8091|\n",
      "|  16|    8253|\n",
      "|  17|    8498|\n",
      "|  18|    8882|\n",
      "|  19|    8830|\n",
      "|  20|    9326|\n",
      "|  21|    9644|\n",
      "|  22|   10494|\n",
      "|  23|   11354|\n",
      "+----+--------+\n",
      "\n"
     ]
    }
   ],
   "source": [
    "songs_in_hour = spark.sql('''\n",
    "                        SELECT hour,COUNT(*)\n",
    "                        FROM sql_table\n",
    "                        WHERE page == 'NextSong'\n",
    "                        GROUP BY hour\n",
    "                        ORDER BY hour\n",
    "                        ''')\n",
    "songs_in_hour.show(24)"
   ]
  },
  {
   "cell_type": "code",
   "execution_count": 301,
   "metadata": {
    "ExecuteTime": {
     "end_time": "2020-02-18T11:40:51.283571Z",
     "start_time": "2020-02-18T11:40:15.051477Z"
    }
   },
   "outputs": [
    {
     "data": {
      "text/html": [
       "<div>\n",
       "<style scoped>\n",
       "    .dataframe tbody tr th:only-of-type {\n",
       "        vertical-align: middle;\n",
       "    }\n",
       "\n",
       "    .dataframe tbody tr th {\n",
       "        vertical-align: top;\n",
       "    }\n",
       "\n",
       "    .dataframe thead th {\n",
       "        text-align: right;\n",
       "    }\n",
       "</style>\n",
       "<table border=\"1\" class=\"dataframe\">\n",
       "  <thead>\n",
       "    <tr style=\"text-align: right;\">\n",
       "      <th></th>\n",
       "      <th>hour</th>\n",
       "      <th>count(1)</th>\n",
       "    </tr>\n",
       "  </thead>\n",
       "  <tbody>\n",
       "    <tr>\n",
       "      <th>0</th>\n",
       "      <td>0</td>\n",
       "      <td>11636</td>\n",
       "    </tr>\n",
       "    <tr>\n",
       "      <th>1</th>\n",
       "      <td>1</td>\n",
       "      <td>11460</td>\n",
       "    </tr>\n",
       "    <tr>\n",
       "      <th>2</th>\n",
       "      <td>2</td>\n",
       "      <td>11124</td>\n",
       "    </tr>\n",
       "    <tr>\n",
       "      <th>3</th>\n",
       "      <td>3</td>\n",
       "      <td>10930</td>\n",
       "    </tr>\n",
       "    <tr>\n",
       "      <th>4</th>\n",
       "      <td>4</td>\n",
       "      <td>10856</td>\n",
       "    </tr>\n",
       "  </tbody>\n",
       "</table>\n",
       "</div>"
      ],
      "text/plain": [
       "   hour  count(1)\n",
       "0     0     11636\n",
       "1     1     11460\n",
       "2     2     11124\n",
       "3     3     10930\n",
       "4     4     10856"
      ]
     },
     "execution_count": 301,
     "metadata": {},
     "output_type": "execute_result"
    }
   ],
   "source": [
    "#将sql临时表转换为DataFrame\n",
    "songs_in_hour_pd = songs_in_hour.toPandas() \n",
    "songs_in_hour_pd.head()"
   ]
  },
  {
   "cell_type": "code",
   "execution_count": 302,
   "metadata": {
    "ExecuteTime": {
     "end_time": "2020-02-18T11:40:51.745744Z",
     "start_time": "2020-02-18T11:40:51.285618Z"
    },
    "scrolled": false
   },
   "outputs": [
    {
     "data": {
      "image/png": "[encoded data removed]",
      "text/plain": [
       "<Figure size 864x432 with 1 Axes>"
      ]
     },
     "metadata": {
      "needs_background": "light"
     },
     "output_type": "display_data"
    }
   ],
   "source": [
    "#绘制散点图，观察数据分布\n",
    "plt.figure(figsize=(12,6))\n",
    "plt.scatter(songs_in_hour_pd['hour'],songs_in_hour_pd['count(1)'])\n",
    "\n",
    "x_list = np.arange(0,24)\n",
    "plt.title('Songs count in hours',fontsize=18)\n",
    "plt.xlabel('Hour',fontsize=16)\n",
    "plt.ylabel('Songs count',fontsize=16)\n",
    "\n",
    "# 定义轴刻度标签的位置、名称等\n",
    "plt.tick_params(labelsize=14)\n",
    "plt.xticks(x_list);"
   ]
  },
  {
   "cell_type": "markdown",
   "metadata": {},
   "source": [
    "## 性别"
   ]
  },
  {
   "cell_type": "code",
   "execution_count": 303,
   "metadata": {
    "ExecuteTime": {
     "end_time": "2020-02-18T11:41:22.546159Z",
     "start_time": "2020-02-18T11:40:51.748729Z"
    }
   },
   "outputs": [
    {
     "data": {
      "text/plain": [
       "Row(userId='100010', gender='F', avg_length=243.42144478537818, alive_ts=4807612000, alive_days=55.64365740740741, paid=0, puts=313.0, gets=68.0, add friends=4.0, add to playlists=7.0, cancellation confirmations=0.0, errors=0.0, helps=2.0, nextsongs=275.0, roll adverts=52.0, save settingss=0.0, submit downgrades=0.0, submit upgrades=0.0, thumbs downs=5.0, thumbs ups=17.0, label=0)"
      ]
     },
     "execution_count": 303,
     "metadata": {},
     "output_type": "execute_result"
    }
   ],
   "source": [
    "df1.head()"
   ]
  },
  {
   "cell_type": "code",
   "execution_count": 304,
   "metadata": {
    "ExecuteTime": {
     "end_time": "2020-02-18T11:42:02.072586Z",
     "start_time": "2020-02-18T11:41:22.559900Z"
    },
    "scrolled": true
   },
   "outputs": [
    {
     "data": {
      "text/html": [
       "<div>\n",
       "<style scoped>\n",
       "    .dataframe tbody tr th:only-of-type {\n",
       "        vertical-align: middle;\n",
       "    }\n",
       "\n",
       "    .dataframe tbody tr th {\n",
       "        vertical-align: top;\n",
       "    }\n",
       "\n",
       "    .dataframe thead th {\n",
       "        text-align: right;\n",
       "    }\n",
       "</style>\n",
       "<table border=\"1\" class=\"dataframe\">\n",
       "  <thead>\n",
       "    <tr style=\"text-align: right;\">\n",
       "      <th></th>\n",
       "      <th>userId</th>\n",
       "      <th>gender</th>\n",
       "      <th>avg_length</th>\n",
       "      <th>alive_ts</th>\n",
       "      <th>alive_days</th>\n",
       "      <th>paid</th>\n",
       "      <th>puts</th>\n",
       "      <th>gets</th>\n",
       "      <th>add friends</th>\n",
       "      <th>add to playlists</th>\n",
       "      <th>...</th>\n",
       "      <th>errors</th>\n",
       "      <th>helps</th>\n",
       "      <th>nextsongs</th>\n",
       "      <th>roll adverts</th>\n",
       "      <th>save settingss</th>\n",
       "      <th>submit downgrades</th>\n",
       "      <th>submit upgrades</th>\n",
       "      <th>thumbs downs</th>\n",
       "      <th>thumbs ups</th>\n",
       "      <th>label</th>\n",
       "    </tr>\n",
       "  </thead>\n",
       "  <tbody>\n",
       "    <tr>\n",
       "      <th>0</th>\n",
       "      <td>100010</td>\n",
       "      <td>F</td>\n",
       "      <td>243.421445</td>\n",
       "      <td>4807612000</td>\n",
       "      <td>55.643657</td>\n",
       "      <td>0</td>\n",
       "      <td>313.0</td>\n",
       "      <td>68.0</td>\n",
       "      <td>4.0</td>\n",
       "      <td>7.0</td>\n",
       "      <td>...</td>\n",
       "      <td>0.0</td>\n",
       "      <td>2.0</td>\n",
       "      <td>275.0</td>\n",
       "      <td>52.0</td>\n",
       "      <td>0.0</td>\n",
       "      <td>0.0</td>\n",
       "      <td>0.0</td>\n",
       "      <td>5.0</td>\n",
       "      <td>17.0</td>\n",
       "      <td>0</td>\n",
       "    </tr>\n",
       "    <tr>\n",
       "      <th>1</th>\n",
       "      <td>200002</td>\n",
       "      <td>M</td>\n",
       "      <td>242.916992</td>\n",
       "      <td>6054448000</td>\n",
       "      <td>70.074630</td>\n",
       "      <td>1</td>\n",
       "      <td>432.0</td>\n",
       "      <td>42.0</td>\n",
       "      <td>4.0</td>\n",
       "      <td>8.0</td>\n",
       "      <td>...</td>\n",
       "      <td>0.0</td>\n",
       "      <td>2.0</td>\n",
       "      <td>387.0</td>\n",
       "      <td>7.0</td>\n",
       "      <td>0.0</td>\n",
       "      <td>0.0</td>\n",
       "      <td>1.0</td>\n",
       "      <td>6.0</td>\n",
       "      <td>21.0</td>\n",
       "      <td>0</td>\n",
       "    </tr>\n",
       "    <tr>\n",
       "      <th>2</th>\n",
       "      <td>125</td>\n",
       "      <td>M</td>\n",
       "      <td>261.139137</td>\n",
       "      <td>6161779000</td>\n",
       "      <td>71.316887</td>\n",
       "      <td>0</td>\n",
       "      <td>9.0</td>\n",
       "      <td>2.0</td>\n",
       "      <td>0.0</td>\n",
       "      <td>0.0</td>\n",
       "      <td>...</td>\n",
       "      <td>0.0</td>\n",
       "      <td>0.0</td>\n",
       "      <td>8.0</td>\n",
       "      <td>1.0</td>\n",
       "      <td>0.0</td>\n",
       "      <td>0.0</td>\n",
       "      <td>0.0</td>\n",
       "      <td>0.0</td>\n",
       "      <td>0.0</td>\n",
       "      <td>1</td>\n",
       "    </tr>\n",
       "    <tr>\n",
       "      <th>3</th>\n",
       "      <td>124</td>\n",
       "      <td>F</td>\n",
       "      <td>248.176537</td>\n",
       "      <td>11366431000</td>\n",
       "      <td>131.555914</td>\n",
       "      <td>0</td>\n",
       "      <td>4548.0</td>\n",
       "      <td>277.0</td>\n",
       "      <td>74.0</td>\n",
       "      <td>118.0</td>\n",
       "      <td>...</td>\n",
       "      <td>6.0</td>\n",
       "      <td>23.0</td>\n",
       "      <td>4079.0</td>\n",
       "      <td>4.0</td>\n",
       "      <td>6.0</td>\n",
       "      <td>0.0</td>\n",
       "      <td>0.0</td>\n",
       "      <td>41.0</td>\n",
       "      <td>171.0</td>\n",
       "      <td>0</td>\n",
       "    </tr>\n",
       "    <tr>\n",
       "      <th>4</th>\n",
       "      <td>51</td>\n",
       "      <td>M</td>\n",
       "      <td>247.880551</td>\n",
       "      <td>1680985000</td>\n",
       "      <td>19.455845</td>\n",
       "      <td>0</td>\n",
       "      <td>2338.0</td>\n",
       "      <td>126.0</td>\n",
       "      <td>28.0</td>\n",
       "      <td>52.0</td>\n",
       "      <td>...</td>\n",
       "      <td>1.0</td>\n",
       "      <td>12.0</td>\n",
       "      <td>2111.0</td>\n",
       "      <td>0.0</td>\n",
       "      <td>1.0</td>\n",
       "      <td>0.0</td>\n",
       "      <td>0.0</td>\n",
       "      <td>21.0</td>\n",
       "      <td>100.0</td>\n",
       "      <td>1</td>\n",
       "    </tr>\n",
       "  </tbody>\n",
       "</table>\n",
       "<p>5 rows × 21 columns</p>\n",
       "</div>"
      ],
      "text/plain": [
       "   userId gender  avg_length     alive_ts  alive_days  paid    puts   gets  \\\n",
       "0  100010      F  243.421445   4807612000   55.643657     0   313.0   68.0   \n",
       "1  200002      M  242.916992   6054448000   70.074630     1   432.0   42.0   \n",
       "2     125      M  261.139137   6161779000   71.316887     0     9.0    2.0   \n",
       "3     124      F  248.176537  11366431000  131.555914     0  4548.0  277.0   \n",
       "4      51      M  247.880551   1680985000   19.455845     0  2338.0  126.0   \n",
       "\n",
       "   add friends  add to playlists  ...    errors  helps  nextsongs  \\\n",
       "0          4.0               7.0  ...       0.0    2.0      275.0   \n",
       "1          4.0               8.0  ...       0.0    2.0      387.0   \n",
       "2          0.0               0.0  ...       0.0    0.0        8.0   \n",
       "3         74.0             118.0  ...       6.0   23.0     4079.0   \n",
       "4         28.0              52.0  ...       1.0   12.0     2111.0   \n",
       "\n",
       "   roll adverts  save settingss  submit downgrades  submit upgrades  \\\n",
       "0          52.0             0.0                0.0              0.0   \n",
       "1           7.0             0.0                0.0              1.0   \n",
       "2           1.0             0.0                0.0              0.0   \n",
       "3           4.0             6.0                0.0              0.0   \n",
       "4           0.0             1.0                0.0              0.0   \n",
       "\n",
       "   thumbs downs  thumbs ups  label  \n",
       "0           5.0        17.0      0  \n",
       "1           6.0        21.0      0  \n",
       "2           0.0         0.0      1  \n",
       "3          41.0       171.0      0  \n",
       "4          21.0       100.0      1  \n",
       "\n",
       "[5 rows x 21 columns]"
      ]
     },
     "execution_count": 304,
     "metadata": {},
     "output_type": "execute_result"
    }
   ],
   "source": [
    "df_n = df1.toPandas()\n",
    "df_n.head()"
   ]
  },
  {
   "cell_type": "code",
   "execution_count": 305,
   "metadata": {
    "ExecuteTime": {
     "end_time": "2020-02-18T11:42:02.096481Z",
     "start_time": "2020-02-18T11:42:02.078309Z"
    }
   },
   "outputs": [],
   "source": [
    "# 从df_n中分离出子DataFrame\n",
    "df_m = df_pd_count(df_n,'gender','label','M')\n",
    "df_f = df_pd_count(df_n,'gender','label','F')"
   ]
  },
  {
   "cell_type": "code",
   "execution_count": 306,
   "metadata": {
    "ExecuteTime": {
     "end_time": "2020-02-18T11:42:02.363421Z",
     "start_time": "2020-02-18T11:42:02.099049Z"
    },
    "scrolled": true
   },
   "outputs": [
    {
     "data": {
      "image/png": "[encoded data removed]",
      "text/plain": [
       "<Figure size 864x432 with 1 Axes>"
      ]
     },
     "metadata": {
      "needs_background": "light"
     },
     "output_type": "display_data"
    }
   ],
   "source": [
    "a2 = df_m['count']\n",
    "b2 = df_f['count']\n",
    "\n",
    "double_bar(df_m,df_f,a2,b2,'label','Male','Female',6,rotation=0)"
   ]
  },
  {
   "cell_type": "markdown",
   "metadata": {},
   "source": [
    "可以看出，相对而言男性客户流失比例较高,可作为区分特征之一。"
   ]
  },
  {
   "cell_type": "markdown",
   "metadata": {},
   "source": [
    "## 注册天数"
   ]
  },
  {
   "cell_type": "code",
   "execution_count": 307,
   "metadata": {
    "ExecuteTime": {
     "end_time": "2020-02-18T11:42:02.532617Z",
     "start_time": "2020-02-18T11:42:02.374249Z"
    }
   },
   "outputs": [
    {
     "name": "stdout",
     "output_type": "stream",
     "text": [
      "label\n",
      "0    86.620619\n",
      "1    57.305993\n",
      "Name: alive_days, dtype: float64\n"
     ]
    },
    {
     "data": {
      "image/png": "[encoded data removed]",
      "text/plain": [
       "<Figure size 720x360 with 1 Axes>"
      ]
     },
     "metadata": {
      "needs_background": "light"
     },
     "output_type": "display_data"
    }
   ],
   "source": [
    "draw_bar(df_n,'alive_days',fig_hight=5,rotation=360)"
   ]
  },
  {
   "cell_type": "markdown",
   "metadata": {},
   "source": [
    "由于未流失用户一直在使用app，如期比流失用户产生更多的数据量、具有更长的注册时间"
   ]
  },
  {
   "cell_type": "markdown",
   "metadata": {},
   "source": [
    "## 听歌时长"
   ]
  },
  {
   "cell_type": "code",
   "execution_count": 308,
   "metadata": {
    "ExecuteTime": {
     "end_time": "2020-02-18T11:42:02.676124Z",
     "start_time": "2020-02-18T11:42:02.536389Z"
    }
   },
   "outputs": [
    {
     "name": "stdout",
     "output_type": "stream",
     "text": [
      "label\n",
      "0    249.141254\n",
      "1    248.307865\n",
      "Name: avg_length, dtype: float64\n"
     ]
    },
    {
     "data": {
      "image/png": "[encoded data removed]",
      "text/plain": [
       "<Figure size 720x360 with 1 Axes>"
      ]
     },
     "metadata": {
      "needs_background": "light"
     },
     "output_type": "display_data"
    }
   ],
   "source": [
    "draw_bar(df_n,'avg_length',fig_hight=5,rotation=360)"
   ]
  },
  {
   "cell_type": "markdown",
   "metadata": {
    "ExecuteTime": {
     "end_time": "2020-02-17T00:37:37.171006Z",
     "start_time": "2020-02-17T00:37:37.163066Z"
    }
   },
   "source": [
    "经比较发现，流失客户和未流失客户的平均听歌时长基本相同，此特征无法对两列用户进行有效区别，不能作为区分特征之一。"
   ]
  },
  {
   "cell_type": "markdown",
   "metadata": {},
   "source": [
    "## 用户等级"
   ]
  },
  {
   "cell_type": "code",
   "execution_count": 309,
   "metadata": {
    "ExecuteTime": {
     "end_time": "2020-02-18T11:42:02.821453Z",
     "start_time": "2020-02-18T11:42:02.678816Z"
    },
    "scrolled": true
   },
   "outputs": [
    {
     "name": "stdout",
     "output_type": "stream",
     "text": [
      "label\n",
      "0    0.589595\n",
      "1    0.557692\n",
      "Name: paid, dtype: float64\n"
     ]
    },
    {
     "data": {
      "image/png": "[encoded data removed]",
      "text/plain": [
       "<Figure size 720x360 with 1 Axes>"
      ]
     },
     "metadata": {
      "needs_background": "light"
     },
     "output_type": "display_data"
    }
   ],
   "source": [
    "draw_bar(df_n,'paid',fig_hight=5,rotation=360)"
   ]
  },
  {
   "cell_type": "code",
   "execution_count": 310,
   "metadata": {
    "ExecuteTime": {
     "end_time": "2020-02-18T11:42:02.968972Z",
     "start_time": "2020-02-18T11:42:02.824653Z"
    },
    "scrolled": true
   },
   "outputs": [
    {
     "name": "stdout",
     "output_type": "stream",
     "text": [
      "paid\n",
      "0    23\n",
      "1    29\n",
      "Name: userId, dtype: int64\n"
     ]
    },
    {
     "data": {
      "image/png": "[encoded data removed]",
      "text/plain": [
       "<Figure size 720x360 with 1 Axes>"
      ]
     },
     "metadata": {
      "needs_background": "light"
     },
     "output_type": "display_data"
    }
   ],
   "source": [
    "df_groupby = df_n[df_n['label'] == 1].groupby('paid')['userId'].count()\n",
    "print(df_groupby)\n",
    "\n",
    "x = df_groupby.index\n",
    "df_groupby.plot.bar(figsize=(5*2,5))\n",
    "\n",
    "# 定义轴刻度标签的位置、名称等\n",
    "name_list = list(x)\n",
    "plt.xticks(name_list,rotation=360);\n",
    "plt.tick_params(labelsize=14)\n",
    "\n",
    "# 定义坐标轴名称\n",
    "plt.xlabel('Paid',fontsize=20)\n",
    "plt.ylabel('Average count',fontsize=20);"
   ]
  },
  {
   "cell_type": "raw",
   "metadata": {},
   "source": [
    "通过对比发现，在流失和未流失两类客户中，付费会员的比例基本相当(未流失0.59，流失0.56)，而且付费行为并未有效阻止客户流失，推测在软件的用户体验上还有待进一步改善。要重点关注付费用户的流失情况，并作为区分特征之一。"
   ]
  },
  {
   "cell_type": "markdown",
   "metadata": {},
   "source": [
    "## 获取方式"
   ]
  },
  {
   "cell_type": "code",
   "execution_count": 311,
   "metadata": {
    "ExecuteTime": {
     "end_time": "2020-02-18T11:42:03.117808Z",
     "start_time": "2020-02-18T11:42:02.971338Z"
    },
    "scrolled": true
   },
   "outputs": [
    {
     "name": "stdout",
     "output_type": "stream",
     "text": [
      "label\n",
      "0    1252.549133\n",
      "1     790.903846\n",
      "Name: puts, dtype: float64\n"
     ]
    },
    {
     "data": {
      "image/png": "[encoded data removed]",
      "text/plain": [
       "<Figure size 720x360 with 1 Axes>"
      ]
     },
     "metadata": {
      "needs_background": "light"
     },
     "output_type": "display_data"
    }
   ],
   "source": [
    "draw_bar(df_n,'puts',fig_hight=5,rotation=360)"
   ]
  },
  {
   "cell_type": "code",
   "execution_count": 312,
   "metadata": {
    "ExecuteTime": {
     "end_time": "2020-02-18T11:42:03.257656Z",
     "start_time": "2020-02-18T11:42:03.120624Z"
    }
   },
   "outputs": [
    {
     "name": "stdout",
     "output_type": "stream",
     "text": [
      "label\n",
      "0    95.947977\n",
      "1    71.865385\n",
      "Name: gets, dtype: float64\n"
     ]
    },
    {
     "data": {
      "image/png": "[encoded data removed]",
      "text/plain": [
       "<Figure size 720x360 with 1 Axes>"
      ]
     },
     "metadata": {
      "needs_background": "light"
     },
     "output_type": "display_data"
    }
   ],
   "source": [
    "draw_bar(df_n,'gets',fig_hight=5,rotation=360)"
   ]
  },
  {
   "cell_type": "raw",
   "metadata": {
    "ExecuteTime": {
     "end_time": "2020-02-17T02:03:07.889741Z",
     "start_time": "2020-02-17T02:03:07.882497Z"
    }
   },
   "source": [
    "通过观察发现，在puts和gets的平均数量上，未流失用户明显多于流失用户的，或与未流失用户的累计app使用时间更长有关。\n",
    "为了查看真实情况，将puts和gets与听歌数nextsongs相除获得比例，以大致排除使用时长对数据统计的影响。"
   ]
  },
  {
   "cell_type": "code",
   "execution_count": 313,
   "metadata": {
    "ExecuteTime": {
     "end_time": "2020-02-18T11:42:03.266240Z",
     "start_time": "2020-02-18T11:42:03.260459Z"
    }
   },
   "outputs": [],
   "source": [
    "# 新增2列,记录PUT和GET出现的频率\n",
    "\n",
    "add_ratio_col('puts','puts_freq')\n",
    "add_ratio_col('gets','gets_freq')"
   ]
  },
  {
   "cell_type": "code",
   "execution_count": 314,
   "metadata": {
    "ExecuteTime": {
     "end_time": "2020-02-18T11:42:03.415188Z",
     "start_time": "2020-02-18T11:42:03.269080Z"
    }
   },
   "outputs": [
    {
     "name": "stdout",
     "output_type": "stream",
     "text": [
      "label\n",
      "0    15.587496\n",
      "1    17.394502\n",
      "Name: puts_freq, dtype: float64\n"
     ]
    },
    {
     "data": {
      "image/png": "[encoded data removed]",
      "text/plain": [
       "<Figure size 720x360 with 1 Axes>"
      ]
     },
     "metadata": {
      "needs_background": "light"
     },
     "output_type": "display_data"
    }
   ],
   "source": [
    "draw_bar(df_n,'puts_freq',fig_hight=5,rotation=360)"
   ]
  },
  {
   "cell_type": "code",
   "execution_count": 315,
   "metadata": {
    "ExecuteTime": {
     "end_time": "2020-02-18T11:42:03.564516Z",
     "start_time": "2020-02-18T11:42:03.418201Z"
    },
    "scrolled": true
   },
   "outputs": [
    {
     "name": "stdout",
     "output_type": "stream",
     "text": [
      "label\n",
      "0    1.248665\n",
      "1    1.536713\n",
      "Name: gets_freq, dtype: float64\n"
     ]
    },
    {
     "data": {
      "image/png": "[encoded data removed]",
      "text/plain": [
       "<Figure size 720x360 with 1 Axes>"
      ]
     },
     "metadata": {
      "needs_background": "light"
     },
     "output_type": "display_data"
    }
   ],
   "source": [
    "draw_bar(df_n,'gets_freq',fig_hight=5,rotation=360)"
   ]
  },
  {
   "cell_type": "raw",
   "metadata": {},
   "source": [
    "通过进一步比较发现，流失和未流失用户在puts和gets实际比例的比较上，仅后者有较明显的区别，可以将gets_nextsong_ratio项作为用户区分的特征之一。而nextsongs由于未流失客户的使用app的时间长，所以nextsong必定数量较多，不能直接作为客观区分客户的依据。"
   ]
  },
  {
   "cell_type": "markdown",
   "metadata": {},
   "source": [
    "## 用户操作页面"
   ]
  },
  {
   "cell_type": "code",
   "execution_count": 316,
   "metadata": {
    "ExecuteTime": {
     "end_time": "2020-02-18T11:42:07.734484Z",
     "start_time": "2020-02-18T11:42:03.567315Z"
    }
   },
   "outputs": [
    {
     "name": "stdout",
     "output_type": "stream",
     "text": [
      "Total 19 types behaviors.\n",
      "\n",
      "+--------------------+--------+\n",
      "|                page|count(1)|\n",
      "+--------------------+--------+\n",
      "|               About|     495|\n",
      "|          Add Friend|    4277|\n",
      "|     Add to Playlist|    6526|\n",
      "|              Cancel|      52|\n",
      "|Cancellation Conf...|      52|\n",
      "|           Downgrade|    2055|\n",
      "|               Error|     252|\n",
      "|                Help|    1454|\n",
      "|                Home|   10082|\n",
      "|              Logout|    3226|\n",
      "|            NextSong|  228108|\n",
      "|         Roll Advert|    3933|\n",
      "|       Save Settings|     310|\n",
      "|            Settings|    1514|\n",
      "|    Submit Downgrade|      63|\n",
      "|      Submit Upgrade|     159|\n",
      "|         Thumbs Down|    2546|\n",
      "|           Thumbs Up|   12551|\n",
      "|             Upgrade|     499|\n",
      "+--------------------+--------+\n",
      "\n"
     ]
    }
   ],
   "source": [
    "# 查看用户行为记录概况\n",
    "users_log = spark.sql('''\n",
    "                        SELECT page,COUNT(*)\n",
    "                        FROM sql_table\n",
    "                        GROUP BY page\n",
    "                        ORDER By page\n",
    "                        ''')\n",
    "print(f'Total {users_log.count()} types behaviors.\\n')\n",
    "users_log.show()"
   ]
  },
  {
   "cell_type": "code",
   "execution_count": 317,
   "metadata": {
    "ExecuteTime": {
     "end_time": "2020-02-18T11:42:07.741474Z",
     "start_time": "2020-02-18T11:42:07.737212Z"
    }
   },
   "outputs": [],
   "source": [
    "#plt画图显示黑体中文字\n",
    "plt.rcParams['font.sans-serif'] = ['SimHei']\n",
    "plt.rcParams['axes.unicode_minus'] = False"
   ]
  },
  {
   "cell_type": "code",
   "execution_count": 318,
   "metadata": {
    "ExecuteTime": {
     "end_time": "2020-02-18T11:42:54.261910Z",
     "start_time": "2020-02-18T11:42:07.744650Z"
    },
    "scrolled": false
   },
   "outputs": [
    {
     "data": {
      "text/html": [
       "<div>\n",
       "<style scoped>\n",
       "    .dataframe tbody tr th:only-of-type {\n",
       "        vertical-align: middle;\n",
       "    }\n",
       "\n",
       "    .dataframe tbody tr th {\n",
       "        vertical-align: top;\n",
       "    }\n",
       "\n",
       "    .dataframe thead th {\n",
       "        text-align: right;\n",
       "    }\n",
       "</style>\n",
       "<table border=\"1\" class=\"dataframe\">\n",
       "  <thead>\n",
       "    <tr style=\"text-align: right;\">\n",
       "      <th></th>\n",
       "      <th>userId</th>\n",
       "      <th>gender</th>\n",
       "      <th>length</th>\n",
       "      <th>level</th>\n",
       "      <th>method</th>\n",
       "      <th>page</th>\n",
       "      <th>ts</th>\n",
       "      <th>registration</th>\n",
       "      <th>hour</th>\n",
       "      <th>cancel</th>\n",
       "      <th>churn</th>\n",
       "      <th>level_paid</th>\n",
       "    </tr>\n",
       "  </thead>\n",
       "  <tbody>\n",
       "    <tr>\n",
       "      <th>0</th>\n",
       "      <td>30</td>\n",
       "      <td>M</td>\n",
       "      <td>277.890167</td>\n",
       "      <td>paid</td>\n",
       "      <td>PUT</td>\n",
       "      <td>NextSong</td>\n",
       "      <td>1538352117000</td>\n",
       "      <td>1538173362000</td>\n",
       "      <td>8</td>\n",
       "      <td>0</td>\n",
       "      <td>0</td>\n",
       "      <td>0</td>\n",
       "    </tr>\n",
       "    <tr>\n",
       "      <th>1</th>\n",
       "      <td>9</td>\n",
       "      <td>M</td>\n",
       "      <td>236.094238</td>\n",
       "      <td>free</td>\n",
       "      <td>PUT</td>\n",
       "      <td>NextSong</td>\n",
       "      <td>1538352180000</td>\n",
       "      <td>1538331630000</td>\n",
       "      <td>8</td>\n",
       "      <td>0</td>\n",
       "      <td>0</td>\n",
       "      <td>0</td>\n",
       "    </tr>\n",
       "  </tbody>\n",
       "</table>\n",
       "</div>"
      ],
      "text/plain": [
       "  userId gender      length level method      page             ts  \\\n",
       "0     30      M  277.890167  paid    PUT  NextSong  1538352117000   \n",
       "1      9      M  236.094238  free    PUT  NextSong  1538352180000   \n",
       "\n",
       "    registration  hour  cancel churn  level_paid  \n",
       "0  1538173362000     8       0     0           0  \n",
       "1  1538331630000     8       0     0           0  "
      ]
     },
     "execution_count": 318,
     "metadata": {},
     "output_type": "execute_result"
    }
   ],
   "source": [
    "df_pd = df.toPandas()\n",
    "df_pd.head(2)"
   ]
  },
  {
   "cell_type": "code",
   "execution_count": 319,
   "metadata": {
    "ExecuteTime": {
     "end_time": "2020-02-18T11:42:54.495809Z",
     "start_time": "2020-02-18T11:42:54.264391Z"
    }
   },
   "outputs": [],
   "source": [
    "df_pd0 = df_pd_count(df_pd,'churn','page','0')\n",
    "df_pd1 = df_pd_count(df_pd,'churn','page','1')\n",
    "df_pd1.drop([3,4],axis=0,inplace=True)"
   ]
  },
  {
   "cell_type": "code",
   "execution_count": 320,
   "metadata": {
    "ExecuteTime": {
     "end_time": "2020-02-18T11:42:54.505488Z",
     "start_time": "2020-02-18T11:42:54.498756Z"
    }
   },
   "outputs": [],
   "source": [
    "# 应用2类用户行为的平均值进行对比观察\n",
    "a = df_pd0['count']/(225-52)\n",
    "b = df_pd1['count']/52"
   ]
  },
  {
   "cell_type": "code",
   "execution_count": 321,
   "metadata": {
    "ExecuteTime": {
     "end_time": "2020-02-18T11:42:54.816986Z",
     "start_time": "2020-02-18T11:42:54.509556Z"
    }
   },
   "outputs": [
    {
     "data": {
      "image/png": "[encoded data removed]",
      "text/plain": [
       "<Figure size 1152x576 with 1 Axes>"
      ]
     },
     "metadata": {
      "needs_background": "light"
     },
     "output_type": "display_data"
    }
   ],
   "source": [
    "double_bar(df_pd0,df_pd1,a,b,'page','未流失','',rotation=90)"
   ]
  },
  {
   "cell_type": "code",
   "execution_count": 322,
   "metadata": {
    "ExecuteTime": {
     "end_time": "2020-02-18T11:42:54.832376Z",
     "start_time": "2020-02-18T11:42:54.820188Z"
    }
   },
   "outputs": [],
   "source": [
    "# 为了更好的对比其他列的数据，现删除NextSong列数据，重新绘图比较\n",
    "df_pd00 = df_pd0.drop([8],axis=0)\n",
    "df_pd11 = df_pd1.drop([10],axis=0)\n",
    "\n",
    "x1 = df_pd00.page\n",
    "a1 = df_pd00['count']/(225-52)\n",
    "b1 = df_pd11['count']/52"
   ]
  },
  {
   "cell_type": "code",
   "execution_count": 323,
   "metadata": {
    "ExecuteTime": {
     "end_time": "2020-02-18T11:42:55.129706Z",
     "start_time": "2020-02-18T11:42:54.835631Z"
    },
    "scrolled": true
   },
   "outputs": [
    {
     "data": {
      "image/png": "[encoded data removed]",
      "text/plain": [
       "<Figure size 1152x576 with 1 Axes>"
      ]
     },
     "metadata": {
      "needs_background": "light"
     },
     "output_type": "display_data"
    }
   ],
   "source": [
    "double_bar(df_pd00,df_pd11,a1,b1,'page','未流失','流失',rotation=90)"
   ]
  },
  {
   "cell_type": "markdown",
   "metadata": {},
   "source": [
    "- 以上图表展示了用户查看页面的平均次数，并未考虑用户注册至今/流失的时长影响，即并未考虑用户行为的频率问题，有待进一步探索。\n",
    "- 上图如预期所示，大部分page项在数量统计上，未流失>流失，需特别关注其中未流失≈流失，甚至未流失<流失的page项，如Roll Advert、Upgrade。"
   ]
  },
  {
   "cell_type": "markdown",
   "metadata": {},
   "source": [
    "### 添加好友"
   ]
  },
  {
   "cell_type": "code",
   "execution_count": 324,
   "metadata": {
    "ExecuteTime": {
     "end_time": "2020-02-18T11:42:55.211609Z",
     "start_time": "2020-02-18T11:42:55.166937Z"
    }
   },
   "outputs": [
    {
     "data": {
      "text/html": [
       "<div>\n",
       "<style scoped>\n",
       "    .dataframe tbody tr th:only-of-type {\n",
       "        vertical-align: middle;\n",
       "    }\n",
       "\n",
       "    .dataframe tbody tr th {\n",
       "        vertical-align: top;\n",
       "    }\n",
       "\n",
       "    .dataframe thead th {\n",
       "        text-align: right;\n",
       "    }\n",
       "</style>\n",
       "<table border=\"1\" class=\"dataframe\">\n",
       "  <thead>\n",
       "    <tr style=\"text-align: right;\">\n",
       "      <th></th>\n",
       "      <th>userId</th>\n",
       "      <th>gender</th>\n",
       "      <th>avg_length</th>\n",
       "      <th>alive_ts</th>\n",
       "      <th>alive_days</th>\n",
       "      <th>paid</th>\n",
       "      <th>puts</th>\n",
       "      <th>gets</th>\n",
       "      <th>add friends</th>\n",
       "      <th>add to playlists</th>\n",
       "      <th>...</th>\n",
       "      <th>nextsongs</th>\n",
       "      <th>roll adverts</th>\n",
       "      <th>save settingss</th>\n",
       "      <th>submit downgrades</th>\n",
       "      <th>submit upgrades</th>\n",
       "      <th>thumbs downs</th>\n",
       "      <th>thumbs ups</th>\n",
       "      <th>label</th>\n",
       "      <th>puts_freq</th>\n",
       "      <th>gets_freq</th>\n",
       "    </tr>\n",
       "  </thead>\n",
       "  <tbody>\n",
       "    <tr>\n",
       "      <th>0</th>\n",
       "      <td>100010</td>\n",
       "      <td>F</td>\n",
       "      <td>243.421445</td>\n",
       "      <td>4807612000</td>\n",
       "      <td>55.643657</td>\n",
       "      <td>0</td>\n",
       "      <td>313.0</td>\n",
       "      <td>68.0</td>\n",
       "      <td>4.0</td>\n",
       "      <td>7.0</td>\n",
       "      <td>...</td>\n",
       "      <td>275.0</td>\n",
       "      <td>52.0</td>\n",
       "      <td>0.0</td>\n",
       "      <td>0.0</td>\n",
       "      <td>0.0</td>\n",
       "      <td>5.0</td>\n",
       "      <td>17.0</td>\n",
       "      <td>0</td>\n",
       "      <td>5.625080</td>\n",
       "      <td>1.222062</td>\n",
       "    </tr>\n",
       "    <tr>\n",
       "      <th>1</th>\n",
       "      <td>200002</td>\n",
       "      <td>M</td>\n",
       "      <td>242.916992</td>\n",
       "      <td>6054448000</td>\n",
       "      <td>70.074630</td>\n",
       "      <td>1</td>\n",
       "      <td>432.0</td>\n",
       "      <td>42.0</td>\n",
       "      <td>4.0</td>\n",
       "      <td>8.0</td>\n",
       "      <td>...</td>\n",
       "      <td>387.0</td>\n",
       "      <td>7.0</td>\n",
       "      <td>0.0</td>\n",
       "      <td>0.0</td>\n",
       "      <td>1.0</td>\n",
       "      <td>6.0</td>\n",
       "      <td>21.0</td>\n",
       "      <td>0</td>\n",
       "      <td>6.164856</td>\n",
       "      <td>0.599361</td>\n",
       "    </tr>\n",
       "    <tr>\n",
       "      <th>2</th>\n",
       "      <td>125</td>\n",
       "      <td>M</td>\n",
       "      <td>261.139137</td>\n",
       "      <td>6161779000</td>\n",
       "      <td>71.316887</td>\n",
       "      <td>0</td>\n",
       "      <td>9.0</td>\n",
       "      <td>2.0</td>\n",
       "      <td>0.0</td>\n",
       "      <td>0.0</td>\n",
       "      <td>...</td>\n",
       "      <td>8.0</td>\n",
       "      <td>1.0</td>\n",
       "      <td>0.0</td>\n",
       "      <td>0.0</td>\n",
       "      <td>0.0</td>\n",
       "      <td>0.0</td>\n",
       "      <td>0.0</td>\n",
       "      <td>1</td>\n",
       "      <td>0.126197</td>\n",
       "      <td>0.028044</td>\n",
       "    </tr>\n",
       "    <tr>\n",
       "      <th>3</th>\n",
       "      <td>124</td>\n",
       "      <td>F</td>\n",
       "      <td>248.176537</td>\n",
       "      <td>11366431000</td>\n",
       "      <td>131.555914</td>\n",
       "      <td>0</td>\n",
       "      <td>4548.0</td>\n",
       "      <td>277.0</td>\n",
       "      <td>74.0</td>\n",
       "      <td>118.0</td>\n",
       "      <td>...</td>\n",
       "      <td>4079.0</td>\n",
       "      <td>4.0</td>\n",
       "      <td>6.0</td>\n",
       "      <td>0.0</td>\n",
       "      <td>0.0</td>\n",
       "      <td>41.0</td>\n",
       "      <td>171.0</td>\n",
       "      <td>0</td>\n",
       "      <td>34.570852</td>\n",
       "      <td>2.105569</td>\n",
       "    </tr>\n",
       "    <tr>\n",
       "      <th>4</th>\n",
       "      <td>51</td>\n",
       "      <td>M</td>\n",
       "      <td>247.880551</td>\n",
       "      <td>1680985000</td>\n",
       "      <td>19.455845</td>\n",
       "      <td>0</td>\n",
       "      <td>2338.0</td>\n",
       "      <td>126.0</td>\n",
       "      <td>28.0</td>\n",
       "      <td>52.0</td>\n",
       "      <td>...</td>\n",
       "      <td>2111.0</td>\n",
       "      <td>0.0</td>\n",
       "      <td>1.0</td>\n",
       "      <td>0.0</td>\n",
       "      <td>0.0</td>\n",
       "      <td>21.0</td>\n",
       "      <td>100.0</td>\n",
       "      <td>1</td>\n",
       "      <td>120.169543</td>\n",
       "      <td>6.476203</td>\n",
       "    </tr>\n",
       "  </tbody>\n",
       "</table>\n",
       "<p>5 rows × 23 columns</p>\n",
       "</div>"
      ],
      "text/plain": [
       "   userId gender  avg_length     alive_ts  alive_days  paid    puts   gets  \\\n",
       "0  100010      F  243.421445   4807612000   55.643657     0   313.0   68.0   \n",
       "1  200002      M  242.916992   6054448000   70.074630     1   432.0   42.0   \n",
       "2     125      M  261.139137   6161779000   71.316887     0     9.0    2.0   \n",
       "3     124      F  248.176537  11366431000  131.555914     0  4548.0  277.0   \n",
       "4      51      M  247.880551   1680985000   19.455845     0  2338.0  126.0   \n",
       "\n",
       "   add friends  add to playlists    ...      nextsongs  roll adverts  \\\n",
       "0          4.0               7.0    ...          275.0          52.0   \n",
       "1          4.0               8.0    ...          387.0           7.0   \n",
       "2          0.0               0.0    ...            8.0           1.0   \n",
       "3         74.0             118.0    ...         4079.0           4.0   \n",
       "4         28.0              52.0    ...         2111.0           0.0   \n",
       "\n",
       "   save settingss  submit downgrades  submit upgrades  thumbs downs  \\\n",
       "0             0.0                0.0              0.0           5.0   \n",
       "1             0.0                0.0              1.0           6.0   \n",
       "2             0.0                0.0              0.0           0.0   \n",
       "3             6.0                0.0              0.0          41.0   \n",
       "4             1.0                0.0              0.0          21.0   \n",
       "\n",
       "   thumbs ups  label   puts_freq  gets_freq  \n",
       "0        17.0      0    5.625080   1.222062  \n",
       "1        21.0      0    6.164856   0.599361  \n",
       "2         0.0      1    0.126197   0.028044  \n",
       "3       171.0      0   34.570852   2.105569  \n",
       "4       100.0      1  120.169543   6.476203  \n",
       "\n",
       "[5 rows x 23 columns]"
      ]
     },
     "execution_count": 324,
     "metadata": {},
     "output_type": "execute_result"
    }
   ],
   "source": [
    "df_n.head()"
   ]
  },
  {
   "cell_type": "code",
   "execution_count": 325,
   "metadata": {
    "ExecuteTime": {
     "end_time": "2020-02-18T11:42:55.380901Z",
     "start_time": "2020-02-18T11:42:55.215698Z"
    }
   },
   "outputs": [
    {
     "name": "stdout",
     "output_type": "stream",
     "text": [
      "label\n",
      "0    0.261699\n",
      "1    0.270864\n",
      "Name: addfrd_freq, dtype: float64\n"
     ]
    },
    {
     "data": {
      "image/png": "[encoded data removed]",
      "text/plain": [
       "<Figure size 720x360 with 1 Axes>"
      ]
     },
     "metadata": {
      "needs_background": "light"
     },
     "output_type": "display_data"
    }
   ],
   "source": [
    "add_ratio_col('add friends','addfrd_freq')\n",
    "draw_bar(df_n,'addfrd_freq',fig_hight=5,rotation=360)"
   ]
  },
  {
   "cell_type": "raw",
   "metadata": {},
   "source": [
    "通过观察发现，未流失和流失用户添加好友的频率基本一致，后者稍微较多，可以作为区分特征之一。"
   ]
  },
  {
   "cell_type": "markdown",
   "metadata": {},
   "source": [
    "### 添加至播放列表"
   ]
  },
  {
   "cell_type": "code",
   "execution_count": 326,
   "metadata": {
    "ExecuteTime": {
     "end_time": "2020-02-18T11:42:55.536052Z",
     "start_time": "2020-02-18T11:42:55.383826Z"
    },
    "scrolled": true
   },
   "outputs": [
    {
     "name": "stdout",
     "output_type": "stream",
     "text": [
      "label\n",
      "0    0.393675\n",
      "1    0.448914\n",
      "Name: adlist_freq, dtype: float64\n"
     ]
    },
    {
     "data": {
      "image/png": "[encoded data removed]",
      "text/plain": [
       "<Figure size 720x360 with 1 Axes>"
      ]
     },
     "metadata": {
      "needs_background": "light"
     },
     "output_type": "display_data"
    }
   ],
   "source": [
    "add_ratio_col('add to playlists','adlist_freq')\n",
    "draw_bar(df_n,'adlist_freq',fig_hight=5,rotation=360)"
   ]
  },
  {
   "cell_type": "raw",
   "metadata": {
    "ExecuteTime": {
     "end_time": "2020-02-17T03:24:58.409177Z",
     "start_time": "2020-02-17T03:24:58.402153Z"
    }
   },
   "source": [
    "通过观察发现，未流失和流失用户添加歌曲至列表的频率，后者较多，可以作为区分特征之一。"
   ]
  },
  {
   "cell_type": "markdown",
   "metadata": {},
   "source": [
    "### 页面出错"
   ]
  },
  {
   "cell_type": "code",
   "execution_count": 327,
   "metadata": {
    "ExecuteTime": {
     "end_time": "2020-02-18T11:42:55.704363Z",
     "start_time": "2020-02-18T11:42:55.539367Z"
    }
   },
   "outputs": [
    {
     "name": "stdout",
     "output_type": "stream",
     "text": [
      "label\n",
      "0    0.016410\n",
      "1    0.011776\n",
      "Name: err_freq, dtype: float64\n"
     ]
    },
    {
     "data": {
      "image/png": "[encoded data removed]",
      "text/plain": [
       "<Figure size 720x360 with 1 Axes>"
      ]
     },
     "metadata": {
      "needs_background": "light"
     },
     "output_type": "display_data"
    }
   ],
   "source": [
    "add_ratio_col('errors','err_freq')\n",
    "draw_bar(df_n,'err_freq',fig_hight=5,rotation=360)"
   ]
  },
  {
   "cell_type": "raw",
   "metadata": {},
   "source": [
    "通过观察发现，未流失和流失用户网络错误的频率前者较多。但从逻辑上讲，出错多必定影响用户体验，从逻辑上讲，不适合作为区分特征之一。"
   ]
  },
  {
   "cell_type": "markdown",
   "metadata": {},
   "source": [
    "### 查看帮助"
   ]
  },
  {
   "cell_type": "code",
   "execution_count": 328,
   "metadata": {
    "ExecuteTime": {
     "end_time": "2020-02-18T11:42:55.864642Z",
     "start_time": "2020-02-18T11:42:55.707717Z"
    },
    "scrolled": true
   },
   "outputs": [
    {
     "name": "stdout",
     "output_type": "stream",
     "text": [
      "label\n",
      "0    0.088179\n",
      "1    0.099551\n",
      "Name: help_freq, dtype: float64\n"
     ]
    },
    {
     "data": {
      "image/png": "[encoded data removed]",
      "text/plain": [
       "<Figure size 720x360 with 1 Axes>"
      ]
     },
     "metadata": {
      "needs_background": "light"
     },
     "output_type": "display_data"
    }
   ],
   "source": [
    "add_ratio_col('helps','help_freq')\n",
    "draw_bar(df_n,'help_freq',fig_hight=5,rotation=360)"
   ]
  },
  {
   "cell_type": "raw",
   "metadata": {
    "ExecuteTime": {
     "end_time": "2020-02-17T03:17:44.443856Z",
     "start_time": "2020-02-17T03:17:44.436126Z"
    }
   },
   "source": [
    "通过观察发现，未流失和流失用户查看帮助的频率后者较多，或是因为流失客户对app的现有功能不满，有较多的求助情况，可以作为区分特征之一。"
   ]
  },
  {
   "cell_type": "markdown",
   "metadata": {},
   "source": [
    "### 广告"
   ]
  },
  {
   "cell_type": "code",
   "execution_count": 329,
   "metadata": {
    "ExecuteTime": {
     "end_time": "2020-02-18T11:42:56.020035Z",
     "start_time": "2020-02-18T11:42:55.868459Z"
    }
   },
   "outputs": [
    {
     "name": "stdout",
     "output_type": "stream",
     "text": [
      "label\n",
      "0    0.230538\n",
      "1    0.362443\n",
      "Name: ads_freq, dtype: float64\n"
     ]
    },
    {
     "data": {
      "image/png": "[encoded data removed]",
      "text/plain": [
       "<Figure size 720x360 with 1 Axes>"
      ]
     },
     "metadata": {
      "needs_background": "light"
     },
     "output_type": "display_data"
    }
   ],
   "source": [
    "add_ratio_col('roll adverts','ads_freq')\n",
    "draw_bar(df_n,'ads_freq',fig_hight=5,rotation=360)"
   ]
  },
  {
   "cell_type": "raw",
   "metadata": {},
   "source": [
    "通过观察发现，流失用户观看广告较多，频率明显高，此特征应重点关注，作为区分特征之一。"
   ]
  },
  {
   "cell_type": "markdown",
   "metadata": {},
   "source": [
    "### 保存设置"
   ]
  },
  {
   "cell_type": "code",
   "execution_count": 330,
   "metadata": {
    "ExecuteTime": {
     "end_time": "2020-02-18T11:42:56.198837Z",
     "start_time": "2020-02-18T11:42:56.022699Z"
    }
   },
   "outputs": [
    {
     "name": "stdout",
     "output_type": "stream",
     "text": [
      "label\n",
      "0    0.017649\n",
      "1    0.023523\n",
      "Name: set_freq, dtype: float64\n"
     ]
    },
    {
     "data": {
      "image/png": "[encoded data removed]",
      "text/plain": [
       "<Figure size 720x360 with 1 Axes>"
      ]
     },
     "metadata": {
      "needs_background": "light"
     },
     "output_type": "display_data"
    }
   ],
   "source": [
    "add_ratio_col('save settingss','set_freq')\n",
    "draw_bar(df_n,'set_freq',fig_hight=5,rotation=360)"
   ]
  },
  {
   "cell_type": "raw",
   "metadata": {},
   "source": [
    "通过观察发现，未流失和流失用户虽然前者Setting的次数多，但后者频率较高。从逻辑上讲，用户的Setting动作，在一定程度上讲，是其对app依赖和不满的综合体现，应将其作为区别特征之一"
   ]
  },
  {
   "cell_type": "markdown",
   "metadata": {},
   "source": [
    "### 升级降级"
   ]
  },
  {
   "cell_type": "code",
   "execution_count": 331,
   "metadata": {
    "ExecuteTime": {
     "end_time": "2020-02-18T11:42:56.361286Z",
     "start_time": "2020-02-18T11:42:56.202360Z"
    },
    "scrolled": true
   },
   "outputs": [
    {
     "name": "stdout",
     "output_type": "stream",
     "text": [
      "label\n",
      "0    0.009001\n",
      "1    0.014159\n",
      "Name: upgrd_freq, dtype: float64\n"
     ]
    },
    {
     "data": {
      "image/png": "[encoded data removed]",
      "text/plain": [
       "<Figure size 720x360 with 1 Axes>"
      ]
     },
     "metadata": {
      "needs_background": "light"
     },
     "output_type": "display_data"
    }
   ],
   "source": [
    "#升级\n",
    "add_ratio_col('submit upgrades','upgrd_freq')\n",
    "draw_bar(df_n,'upgrd_freq',fig_hight=5,rotation=360)"
   ]
  },
  {
   "cell_type": "code",
   "execution_count": 332,
   "metadata": {
    "ExecuteTime": {
     "end_time": "2020-02-18T11:42:56.518000Z",
     "start_time": "2020-02-18T11:42:56.364022Z"
    },
    "scrolled": true
   },
   "outputs": [
    {
     "name": "stdout",
     "output_type": "stream",
     "text": [
      "label\n",
      "0    0.003570\n",
      "1    0.002783\n",
      "Name: dwngrd_freq, dtype: float64\n"
     ]
    },
    {
     "data": {
      "image/png": "[encoded data removed]",
      "text/plain": [
       "<Figure size 720x360 with 1 Axes>"
      ]
     },
     "metadata": {
      "needs_background": "light"
     },
     "output_type": "display_data"
    }
   ],
   "source": [
    "#降级\n",
    "add_ratio_col('submit downgrades','dwngrd_freq')\n",
    "draw_bar(df_n,'dwngrd_freq',fig_hight=5,rotation=360)"
   ]
  },
  {
   "cell_type": "markdown",
   "metadata": {},
   "source": [
    "- 通过观察发现，未流失和流失用户，后者升级频率较高。从逻辑上讲，用户的升级动作，是其付费或参与活动体现，升级后应具备更好的用户体验，然而依然会流失，侧面说明app的体验有待改善，应将其作为区别特征之一。\n",
    "- 未流失和流失用户降级的频率，前者稍多,理论上降级务必影响用户体验，但实际并非如此。\n",
    "- 结合升降级来看，流失的客户主动升级多，主动降级少，可以推测该部分用户注重app体验，其更倾向通过升级来提高服务，而非通过降级来提高性价比，但最终仍然流失的原因，或为通过不断升级，其发现app体验并未达到其预期，导致最终放弃和注销产品。\n"
   ]
  },
  {
   "cell_type": "markdown",
   "metadata": {},
   "source": [
    "### 踩和赞"
   ]
  },
  {
   "cell_type": "code",
   "execution_count": 333,
   "metadata": {
    "ExecuteTime": {
     "end_time": "2020-02-18T11:42:56.695133Z",
     "start_time": "2020-02-18T11:42:56.521192Z"
    },
    "scrolled": true
   },
   "outputs": [
    {
     "name": "stdout",
     "output_type": "stream",
     "text": [
      "label\n",
      "0    0.145589\n",
      "1    0.209196\n",
      "Name: thmdwn_freq, dtype: float64\n"
     ]
    },
    {
     "data": {
      "image/png": "[encoded data removed]",
      "text/plain": [
       "<Figure size 720x360 with 1 Axes>"
      ]
     },
     "metadata": {
      "needs_background": "light"
     },
     "output_type": "display_data"
    }
   ],
   "source": [
    "#踩\n",
    "add_ratio_col('thumbs downs','thmdwn_freq')\n",
    "draw_bar(df_n,'thmdwn_freq',fig_hight=5,rotation=360)"
   ]
  },
  {
   "cell_type": "raw",
   "metadata": {},
   "source": [
    "明显看出，流失用户踩的频率高，应作为特征之一。"
   ]
  },
  {
   "cell_type": "code",
   "execution_count": 334,
   "metadata": {
    "ExecuteTime": {
     "end_time": "2020-02-18T11:42:56.881433Z",
     "start_time": "2020-02-18T11:42:56.697558Z"
    },
    "scrolled": true
   },
   "outputs": [
    {
     "name": "stdout",
     "output_type": "stream",
     "text": [
      "label\n",
      "0    0.770784\n",
      "1    0.759397\n",
      "Name: thmup_freq, dtype: float64\n"
     ]
    },
    {
     "data": {
      "image/png": "[encoded data removed]",
      "text/plain": [
       "<Figure size 720x360 with 1 Axes>"
      ]
     },
     "metadata": {
      "needs_background": "light"
     },
     "output_type": "display_data"
    }
   ],
   "source": [
    "#赞\n",
    "add_ratio_col('thumbs ups','thmup_freq')\n",
    "draw_bar(df_n,'thmup_freq',fig_hight=5,rotation=360)"
   ]
  },
  {
   "cell_type": "raw",
   "metadata": {},
   "source": [
    "通过观察发现，未流失和流失用户点赞的频率基本一致，前者稍微较多,不能作为区分特征。"
   ]
  },
  {
   "cell_type": "markdown",
   "metadata": {},
   "source": [
    "## 数据保存"
   ]
  },
  {
   "cell_type": "code",
   "execution_count": 335,
   "metadata": {
    "ExecuteTime": {
     "end_time": "2020-02-18T11:42:56.891596Z",
     "start_time": "2020-02-18T11:42:56.884569Z"
    }
   },
   "outputs": [
    {
     "data": {
      "text/plain": [
       "Index(['userId', 'gender', 'avg_length', 'alive_ts', 'alive_days', 'paid',\n",
       "       'puts', 'gets', 'add friends', 'add to playlists',\n",
       "       'cancellation confirmations', 'errors', 'helps', 'nextsongs',\n",
       "       'roll adverts', 'save settingss', 'submit downgrades',\n",
       "       'submit upgrades', 'thumbs downs', 'thumbs ups', 'label', 'puts_freq',\n",
       "       'gets_freq', 'addfrd_freq', 'adlist_freq', 'err_freq', 'help_freq',\n",
       "       'ads_freq', 'set_freq', 'upgrd_freq', 'dwngrd_freq', 'thmdwn_freq',\n",
       "       'thmup_freq'],\n",
       "      dtype='object')"
      ]
     },
     "execution_count": 335,
     "metadata": {},
     "output_type": "execute_result"
    }
   ],
   "source": [
    "df_n.columns"
   ]
  },
  {
   "cell_type": "code",
   "execution_count": 336,
   "metadata": {
    "ExecuteTime": {
     "end_time": "2020-02-18T11:42:56.900461Z",
     "start_time": "2020-02-18T11:42:56.894176Z"
    }
   },
   "outputs": [],
   "source": [
    "retain_col_list= ['userId','gender','paid','gets_freq', 'addfrd_freq', 'adlist_freq','help_freq',\n",
    "       'ads_freq', 'set_freq', 'upgrd_freq', 'dwngrd_freq','thmdwn_freq', 'label']\n",
    "df_n = df_n[retain_col_list]"
   ]
  },
  {
   "cell_type": "code",
   "execution_count": 337,
   "metadata": {
    "ExecuteTime": {
     "end_time": "2020-02-18T11:42:56.922259Z",
     "start_time": "2020-02-18T11:42:56.903008Z"
    }
   },
   "outputs": [
    {
     "name": "stdout",
     "output_type": "stream",
     "text": [
      "(225, 13)\n"
     ]
    },
    {
     "data": {
      "text/html": [
       "<div>\n",
       "<style scoped>\n",
       "    .dataframe tbody tr th:only-of-type {\n",
       "        vertical-align: middle;\n",
       "    }\n",
       "\n",
       "    .dataframe tbody tr th {\n",
       "        vertical-align: top;\n",
       "    }\n",
       "\n",
       "    .dataframe thead th {\n",
       "        text-align: right;\n",
       "    }\n",
       "</style>\n",
       "<table border=\"1\" class=\"dataframe\">\n",
       "  <thead>\n",
       "    <tr style=\"text-align: right;\">\n",
       "      <th></th>\n",
       "      <th>userId</th>\n",
       "      <th>gender</th>\n",
       "      <th>paid</th>\n",
       "      <th>gets_freq</th>\n",
       "      <th>addfrd_freq</th>\n",
       "      <th>adlist_freq</th>\n",
       "      <th>help_freq</th>\n",
       "      <th>ads_freq</th>\n",
       "      <th>set_freq</th>\n",
       "      <th>upgrd_freq</th>\n",
       "      <th>dwngrd_freq</th>\n",
       "      <th>thmdwn_freq</th>\n",
       "      <th>label</th>\n",
       "    </tr>\n",
       "  </thead>\n",
       "  <tbody>\n",
       "    <tr>\n",
       "      <th>0</th>\n",
       "      <td>100010</td>\n",
       "      <td>F</td>\n",
       "      <td>0</td>\n",
       "      <td>1.222062</td>\n",
       "      <td>0.071886</td>\n",
       "      <td>0.125801</td>\n",
       "      <td>0.035943</td>\n",
       "      <td>0.934518</td>\n",
       "      <td>0.000000</td>\n",
       "      <td>0.00000</td>\n",
       "      <td>0.0</td>\n",
       "      <td>0.089858</td>\n",
       "      <td>0</td>\n",
       "    </tr>\n",
       "    <tr>\n",
       "      <th>1</th>\n",
       "      <td>200002</td>\n",
       "      <td>M</td>\n",
       "      <td>1</td>\n",
       "      <td>0.599361</td>\n",
       "      <td>0.057082</td>\n",
       "      <td>0.114164</td>\n",
       "      <td>0.028541</td>\n",
       "      <td>0.099893</td>\n",
       "      <td>0.000000</td>\n",
       "      <td>0.01427</td>\n",
       "      <td>0.0</td>\n",
       "      <td>0.085623</td>\n",
       "      <td>0</td>\n",
       "    </tr>\n",
       "    <tr>\n",
       "      <th>2</th>\n",
       "      <td>125</td>\n",
       "      <td>M</td>\n",
       "      <td>0</td>\n",
       "      <td>0.028044</td>\n",
       "      <td>0.000000</td>\n",
       "      <td>0.000000</td>\n",
       "      <td>0.000000</td>\n",
       "      <td>0.014022</td>\n",
       "      <td>0.000000</td>\n",
       "      <td>0.00000</td>\n",
       "      <td>0.0</td>\n",
       "      <td>0.000000</td>\n",
       "      <td>1</td>\n",
       "    </tr>\n",
       "    <tr>\n",
       "      <th>3</th>\n",
       "      <td>124</td>\n",
       "      <td>F</td>\n",
       "      <td>0</td>\n",
       "      <td>2.105569</td>\n",
       "      <td>0.562498</td>\n",
       "      <td>0.896957</td>\n",
       "      <td>0.174831</td>\n",
       "      <td>0.030405</td>\n",
       "      <td>0.045608</td>\n",
       "      <td>0.00000</td>\n",
       "      <td>0.0</td>\n",
       "      <td>0.311655</td>\n",
       "      <td>0</td>\n",
       "    </tr>\n",
       "    <tr>\n",
       "      <th>4</th>\n",
       "      <td>51</td>\n",
       "      <td>M</td>\n",
       "      <td>0</td>\n",
       "      <td>6.476203</td>\n",
       "      <td>1.439156</td>\n",
       "      <td>2.672719</td>\n",
       "      <td>0.616781</td>\n",
       "      <td>0.000000</td>\n",
       "      <td>0.051398</td>\n",
       "      <td>0.00000</td>\n",
       "      <td>0.0</td>\n",
       "      <td>1.079367</td>\n",
       "      <td>1</td>\n",
       "    </tr>\n",
       "  </tbody>\n",
       "</table>\n",
       "</div>"
      ],
      "text/plain": [
       "   userId gender  paid  gets_freq  addfrd_freq  adlist_freq  help_freq  \\\n",
       "0  100010      F     0   1.222062     0.071886     0.125801   0.035943   \n",
       "1  200002      M     1   0.599361     0.057082     0.114164   0.028541   \n",
       "2     125      M     0   0.028044     0.000000     0.000000   0.000000   \n",
       "3     124      F     0   2.105569     0.562498     0.896957   0.174831   \n",
       "4      51      M     0   6.476203     1.439156     2.672719   0.616781   \n",
       "\n",
       "   ads_freq  set_freq  upgrd_freq  dwngrd_freq  thmdwn_freq  label  \n",
       "0  0.934518  0.000000     0.00000          0.0     0.089858      0  \n",
       "1  0.099893  0.000000     0.01427          0.0     0.085623      0  \n",
       "2  0.014022  0.000000     0.00000          0.0     0.000000      1  \n",
       "3  0.030405  0.045608     0.00000          0.0     0.311655      0  \n",
       "4  0.000000  0.051398     0.00000          0.0     1.079367      1  "
      ]
     },
     "execution_count": 337,
     "metadata": {},
     "output_type": "execute_result"
    }
   ],
   "source": [
    "print(df_n.shape)\n",
    "df_n.head()"
   ]
  },
  {
   "cell_type": "code",
   "execution_count": 338,
   "metadata": {
    "ExecuteTime": {
     "end_time": "2020-02-18T11:42:56.936823Z",
     "start_time": "2020-02-18T11:42:56.924903Z"
    }
   },
   "outputs": [],
   "source": [
    "df_n.to_json('sparkify_after_wrangling.json',orient='records')"
   ]
  },
  {
   "cell_type": "markdown",
   "metadata": {},
   "source": [
    "# 特征工程\n",
    "主要思路：通过提取用户行为的关键字，计算每种行为的出现频率，来定义行为特征。通过是否取消关注，定义标签"
   ]
  },
  {
   "cell_type": "markdown",
   "metadata": {},
   "source": [
    "## 数据加载"
   ]
  },
  {
   "cell_type": "code",
   "execution_count": 339,
   "metadata": {
    "ExecuteTime": {
     "end_time": "2020-02-18T11:42:56.949541Z",
     "start_time": "2020-02-18T11:42:56.939477Z"
    }
   },
   "outputs": [],
   "source": [
    "# create a Spark session\n",
    "spark = SparkSession.builder \\\n",
    "    .master(\"local\") \\\n",
    "    .appName(\"Sparkify after wrangling\") \\\n",
    "    .getOrCreate()"
   ]
  },
  {
   "cell_type": "code",
   "execution_count": 340,
   "metadata": {
    "ExecuteTime": {
     "end_time": "2020-02-18T11:42:57.036734Z",
     "start_time": "2020-02-18T11:42:56.951985Z"
    }
   },
   "outputs": [],
   "source": [
    "df_new = spark.read.json('sparkify_after_wrangling.json')"
   ]
  },
  {
   "cell_type": "code",
   "execution_count": 341,
   "metadata": {
    "ExecuteTime": {
     "end_time": "2020-02-18T11:42:57.097463Z",
     "start_time": "2020-02-18T11:42:57.039373Z"
    }
   },
   "outputs": [
    {
     "data": {
      "text/plain": [
       "Row(addfrd_freq=0.0718860008, adlist_freq=0.1258005014, ads_freq=0.9345180102, dwngrd_freq=0.0, gender='F', gets_freq=1.2220620133, help_freq=0.0359430004, label=0, paid=0, set_freq=0.0, thmdwn_freq=0.089857501, upgrd_freq=0.0, userId='100010')"
      ]
     },
     "execution_count": 341,
     "metadata": {},
     "output_type": "execute_result"
    }
   ],
   "source": [
    "df_new.head()"
   ]
  },
  {
   "cell_type": "markdown",
   "metadata": {
    "ExecuteTime": {
     "end_time": "2020-02-12T10:10:53.830238Z",
     "start_time": "2020-02-12T10:10:53.827260Z"
    }
   },
   "source": [
    "### 标签转换"
   ]
  },
  {
   "cell_type": "code",
   "execution_count": 342,
   "metadata": {
    "ExecuteTime": {
     "end_time": "2020-02-18T11:42:57.231142Z",
     "start_time": "2020-02-18T11:42:57.100264Z"
    }
   },
   "outputs": [],
   "source": [
    "indexer = StringIndexer(inputCol='gender',outputCol='Numgender')\n",
    "df_new = indexer.fit(df_new).transform(df_new)"
   ]
  },
  {
   "cell_type": "code",
   "execution_count": 343,
   "metadata": {
    "ExecuteTime": {
     "end_time": "2020-02-18T11:42:57.328373Z",
     "start_time": "2020-02-18T11:42:57.233943Z"
    }
   },
   "outputs": [
    {
     "data": {
      "text/plain": [
       "Row(addfrd_freq=0.0718860008, adlist_freq=0.1258005014, ads_freq=0.9345180102, dwngrd_freq=0.0, gender='F', gets_freq=1.2220620133, help_freq=0.0359430004, label=0, paid=0, set_freq=0.0, thmdwn_freq=0.089857501, upgrd_freq=0.0, userId='100010', Numgender=1.0)"
      ]
     },
     "execution_count": 343,
     "metadata": {},
     "output_type": "execute_result"
    }
   ],
   "source": [
    "df_new.head()"
   ]
  },
  {
   "cell_type": "code",
   "execution_count": 344,
   "metadata": {
    "ExecuteTime": {
     "end_time": "2020-02-18T11:42:57.339290Z",
     "start_time": "2020-02-18T11:42:57.331117Z"
    }
   },
   "outputs": [
    {
     "data": {
      "text/plain": [
       "['addfrd_freq',\n",
       " 'adlist_freq',\n",
       " 'ads_freq',\n",
       " 'dwngrd_freq',\n",
       " 'gender',\n",
       " 'gets_freq',\n",
       " 'help_freq',\n",
       " 'label',\n",
       " 'paid',\n",
       " 'set_freq',\n",
       " 'thmdwn_freq',\n",
       " 'upgrd_freq',\n",
       " 'userId',\n",
       " 'Numgender']"
      ]
     },
     "execution_count": 344,
     "metadata": {},
     "output_type": "execute_result"
    }
   ],
   "source": [
    "df_new.columns"
   ]
  },
  {
   "cell_type": "markdown",
   "metadata": {},
   "source": [
    "### 向量转换"
   ]
  },
  {
   "cell_type": "code",
   "execution_count": 345,
   "metadata": {
    "ExecuteTime": {
     "end_time": "2020-02-18T11:42:57.352358Z",
     "start_time": "2020-02-18T11:42:57.341909Z"
    }
   },
   "outputs": [],
   "source": [
    "col_names=['paid','addfrd_freq','adlist_freq','ads_freq','gets_freq','help_freq',\\\n",
    "           'set_freq','thmdwn_freq','upgrd_freq','dwngrd_freq','Numgender']\n",
    "\n",
    "assembler = VectorAssembler(inputCols=col_names, outputCol='Numfeatures')"
   ]
  },
  {
   "cell_type": "code",
   "execution_count": 346,
   "metadata": {
    "ExecuteTime": {
     "end_time": "2020-02-18T11:42:57.378202Z",
     "start_time": "2020-02-18T11:42:57.355039Z"
    }
   },
   "outputs": [],
   "source": [
    "df_new = assembler.transform(df_new)"
   ]
  },
  {
   "cell_type": "code",
   "execution_count": 347,
   "metadata": {
    "ExecuteTime": {
     "end_time": "2020-02-18T11:42:57.467470Z",
     "start_time": "2020-02-18T11:42:57.380631Z"
    }
   },
   "outputs": [
    {
     "data": {
      "text/plain": [
       "Row(addfrd_freq=0.0718860008, adlist_freq=0.1258005014, ads_freq=0.9345180102, dwngrd_freq=0.0, gender='F', gets_freq=1.2220620133, help_freq=0.0359430004, label=0, paid=0, set_freq=0.0, thmdwn_freq=0.089857501, upgrd_freq=0.0, userId='100010', Numgender=1.0, Numfeatures=DenseVector([0.0, 0.0719, 0.1258, 0.9345, 1.2221, 0.0359, 0.0, 0.0899, 0.0, 0.0, 1.0]))"
      ]
     },
     "execution_count": 347,
     "metadata": {},
     "output_type": "execute_result"
    }
   ],
   "source": [
    "df_new.head()"
   ]
  },
  {
   "cell_type": "markdown",
   "metadata": {},
   "source": [
    "### 标准化"
   ]
  },
  {
   "cell_type": "code",
   "execution_count": 348,
   "metadata": {
    "ExecuteTime": {
     "end_time": "2020-02-18T11:42:57.483172Z",
     "start_time": "2020-02-18T11:42:57.472405Z"
    }
   },
   "outputs": [],
   "source": [
    "scaler = StandardScaler(inputCol='Numfeatures',outputCol='features',withStd=True)"
   ]
  },
  {
   "cell_type": "code",
   "execution_count": 349,
   "metadata": {
    "ExecuteTime": {
     "end_time": "2020-02-18T11:42:57.602145Z",
     "start_time": "2020-02-18T11:42:57.487109Z"
    }
   },
   "outputs": [],
   "source": [
    "scalermodel = scaler.fit(df_new)\n",
    "df_new = scalermodel.transform(df_new)"
   ]
  },
  {
   "cell_type": "code",
   "execution_count": 350,
   "metadata": {
    "ExecuteTime": {
     "end_time": "2020-02-18T11:42:57.710426Z",
     "start_time": "2020-02-18T11:42:57.606329Z"
    },
    "scrolled": true
   },
   "outputs": [
    {
     "data": {
      "text/plain": [
       "Row(addfrd_freq=0.0718860008, adlist_freq=0.1258005014, ads_freq=0.9345180102, dwngrd_freq=0.0, gender='F', gets_freq=1.2220620133, help_freq=0.0359430004, label=0, paid=0, set_freq=0.0, thmdwn_freq=0.089857501, upgrd_freq=0.0, userId='100010', Numgender=1.0, Numfeatures=DenseVector([0.0, 0.0719, 0.1258, 0.9345, 1.2221, 0.0359, 0.0, 0.0899, 0.0, 0.0, 1.0]), features=DenseVector([0.0, 0.2521, 0.2696, 2.5813, 0.9251, 0.3379, 0.0, 0.4621, 0.0, 0.0, 2.0013]))"
      ]
     },
     "execution_count": 350,
     "metadata": {},
     "output_type": "execute_result"
    }
   ],
   "source": [
    "df_new.head()"
   ]
  },
  {
   "cell_type": "markdown",
   "metadata": {},
   "source": [
    "# 机器学习建模"
   ]
  },
  {
   "cell_type": "markdown",
   "metadata": {},
   "source": [
    "## 拆分数据集"
   ]
  },
  {
   "cell_type": "code",
   "execution_count": 351,
   "metadata": {
    "ExecuteTime": {
     "end_time": "2020-02-18T11:42:57.828956Z",
     "start_time": "2020-02-18T11:42:57.717626Z"
    }
   },
   "outputs": [
    {
     "data": {
      "text/plain": [
       "Row(label=0, features=DenseVector([0.0, 0.2521, 0.2696, 2.5813, 0.9251, 0.3379, 0.0, 0.4621, 0.0, 0.0, 2.0013]))"
      ]
     },
     "execution_count": 351,
     "metadata": {},
     "output_type": "execute_result"
    }
   ],
   "source": [
    "data1 = df_new.select(col('label').alias('label'),\n",
    "                     col('features').alias('features'))\n",
    "data1.head()"
   ]
  },
  {
   "cell_type": "code",
   "execution_count": 352,
   "metadata": {
    "ExecuteTime": {
     "end_time": "2020-02-18T11:42:57.844181Z",
     "start_time": "2020-02-18T11:42:57.831662Z"
    }
   },
   "outputs": [],
   "source": [
    "train,test,validation = data1.randomSplit([0.6,0.2,0.2],seed=10)"
   ]
  },
  {
   "cell_type": "markdown",
   "metadata": {
    "ExecuteTime": {
     "end_time": "2020-02-15T03:32:46.113323Z",
     "start_time": "2020-02-15T03:32:46.102877Z"
    }
   },
   "source": [
    "## 天真预测器\n",
    "假设全部用户都为潜在流失用户时，计算基准准确率。后期进行监督学习后，模型的准确率应明显优于基准准确率。"
   ]
  },
  {
   "cell_type": "markdown",
   "metadata": {},
   "source": [
    "### 预测1"
   ]
  },
  {
   "cell_type": "code",
   "execution_count": 353,
   "metadata": {
    "ExecuteTime": {
     "end_time": "2020-02-18T11:42:57.861407Z",
     "start_time": "2020-02-18T11:42:57.846384Z"
    }
   },
   "outputs": [],
   "source": [
    "#在test集中添加天真预测列，值全设置为1.0\n",
    "all_cancel = test.withColumn('prediction',lit(1.0))"
   ]
  },
  {
   "cell_type": "code",
   "execution_count": 354,
   "metadata": {
    "ExecuteTime": {
     "end_time": "2020-02-18T11:42:57.873540Z",
     "start_time": "2020-02-18T11:42:57.864492Z"
    }
   },
   "outputs": [],
   "source": [
    "#设置评估器\n",
    "evaluator = MulticlassClassificationEvaluator(predictionCol='prediction')"
   ]
  },
  {
   "cell_type": "code",
   "execution_count": 355,
   "metadata": {
    "ExecuteTime": {
     "end_time": "2020-02-18T11:42:58.296402Z",
     "start_time": "2020-02-18T11:42:57.876454Z"
    }
   },
   "outputs": [
    {
     "name": "stdout",
     "output_type": "stream",
     "text": [
      "Accuracy of naive evaluator: 0.27906976744186046\n",
      "F1Score of naive evaluator: 0.12177589852008457\n"
     ]
    }
   ],
   "source": [
    "naive_accuracy = evaluator.evaluate(all_cancel,{evaluator.metricName:'accuracy'})\n",
    "naive_f1 = evaluator.evaluate(all_cancel,{evaluator.metricName:'f1'})\n",
    "\n",
    "print('Accuracy of naive evaluator:',naive_accuracy)\n",
    "print('F1Score of naive evaluator:',naive_f1)"
   ]
  },
  {
   "cell_type": "markdown",
   "metadata": {},
   "source": [
    "### 预测2"
   ]
  },
  {
   "cell_type": "code",
   "execution_count": 356,
   "metadata": {
    "ExecuteTime": {
     "end_time": "2020-02-18T11:42:58.347949Z",
     "start_time": "2020-02-18T11:42:58.303069Z"
    }
   },
   "outputs": [],
   "source": [
    "#在test集中添加天真预测列，值全设置为0.0\n",
    "all_notcancel = test.withColumn('prediction',lit(0.0))"
   ]
  },
  {
   "cell_type": "code",
   "execution_count": 357,
   "metadata": {
    "ExecuteTime": {
     "end_time": "2020-02-18T11:42:58.373773Z",
     "start_time": "2020-02-18T11:42:58.364662Z"
    }
   },
   "outputs": [],
   "source": [
    "#设置评估器\n",
    "evaluator = MulticlassClassificationEvaluator(predictionCol='prediction')"
   ]
  },
  {
   "cell_type": "code",
   "execution_count": 358,
   "metadata": {
    "ExecuteTime": {
     "end_time": "2020-02-18T11:42:58.723663Z",
     "start_time": "2020-02-18T11:42:58.379324Z"
    }
   },
   "outputs": [
    {
     "name": "stdout",
     "output_type": "stream",
     "text": [
      "Accuracy of naive evaluator: 0.7209302325581395\n",
      "F1Score of naive evaluator: 0.6040226272784412\n"
     ]
    }
   ],
   "source": [
    "naive_accuracy = evaluator.evaluate(all_notcancel,{evaluator.metricName:'accuracy'})\n",
    "naive_f1 = evaluator.evaluate(all_notcancel,{evaluator.metricName:'f1'})\n",
    "\n",
    "print('Accuracy of naive evaluator:',naive_accuracy)\n",
    "print('F1Score of naive evaluator:',naive_f1)"
   ]
  },
  {
   "cell_type": "markdown",
   "metadata": {},
   "source": [
    "## 定义函数"
   ]
  },
  {
   "cell_type": "code",
   "execution_count": 359,
   "metadata": {
    "ExecuteTime": {
     "end_time": "2020-02-18T11:42:58.730427Z",
     "start_time": "2020-02-18T11:42:58.726534Z"
    }
   },
   "outputs": [],
   "source": [
    "#定义函数，用于k-fold交叉验证\n",
    "def crossval(estimator,paramGrid):\n",
    "    crossval = CrossValidator(estimator=estimator,\n",
    "                             estimatorParamMaps=paramGrid,\n",
    "                             evaluator = MulticlassClassificationEvaluator(metricName='f1'),\n",
    "                             numFolds = 3)\n",
    "    return crossval"
   ]
  },
  {
   "cell_type": "code",
   "execution_count": 360,
   "metadata": {
    "ExecuteTime": {
     "end_time": "2020-02-18T11:42:58.749191Z",
     "start_time": "2020-02-18T11:42:58.734408Z"
    }
   },
   "outputs": [],
   "source": [
    "#定义函数，用于model训练和效果输出\n",
    "def fit_transforms_accuracy(crossval):\n",
    "    \n",
    "    #模型fit\n",
    "    model = crossval.fit(train)\n",
    "    \n",
    "    #模型各参数平均准确率\n",
    "    params_accuracy_ontrain = model.avgMetrics  \n",
    "    \n",
    "    #模型加载验证集\n",
    "    result = model.transform(validation)\n",
    "    \n",
    "    evaluator = MulticlassClassificationEvaluator(predictionCol='prediction')\n",
    "    \n",
    "    accuracy = evaluator.evaluate(result,{evaluator.metricName:'accuracy'})\n",
    "    f1score = evaluator.evaluate(result,{evaluator.metricName:'f1'})\n",
    "\n",
    "\n",
    "\n",
    "    print('The average F1Score on training dataset for different parameters are: \\n',params_accuracy_ontrain)\n",
    "    print('\\n')\n",
    "    print('The accuracy on validation dataset is: ',accuracy)\n",
    "    print('The F1Score on validation dataset is: ',f1score)\n",
    "    \n",
    "    return model"
   ]
  },
  {
   "cell_type": "code",
   "execution_count": 361,
   "metadata": {
    "ExecuteTime": {
     "end_time": "2020-02-18T11:42:58.758734Z",
     "start_time": "2020-02-18T11:42:58.751466Z"
    }
   },
   "outputs": [],
   "source": [
    "def test_model(model):\n",
    "    \n",
    "    test_result = model.transform(test)\n",
    "\n",
    "    evaluator = MulticlassClassificationEvaluator(predictionCol='prediction')\n",
    "\n",
    "    test_accuracy = evaluator.evaluate(test_result,{evaluator.metricName:'accuracy'})\n",
    "    test_f1score = evaluator.evaluate(test_result,{evaluator.metricName:'f1'})\n",
    "\n",
    "\n",
    "    print('The accuracy on testing dataset is: ',test_accuracy)\n",
    "    print('The F1Score on testing dataset is: ',test_f1score)"
   ]
  },
  {
   "cell_type": "markdown",
   "metadata": {},
   "source": [
    "## 监督学习"
   ]
  },
  {
   "cell_type": "markdown",
   "metadata": {},
   "source": [
    "### 决策树"
   ]
  },
  {
   "cell_type": "code",
   "execution_count": 362,
   "metadata": {
    "ExecuteTime": {
     "end_time": "2020-02-18T11:42:58.770665Z",
     "start_time": "2020-02-18T11:42:58.761741Z"
    }
   },
   "outputs": [],
   "source": [
    "dt = DecisionTreeClassifier()\n",
    "paramGrid0 = ParamGridBuilder().build()"
   ]
  },
  {
   "cell_type": "code",
   "execution_count": 363,
   "metadata": {
    "ExecuteTime": {
     "end_time": "2020-02-18T11:42:58.780745Z",
     "start_time": "2020-02-18T11:42:58.772898Z"
    }
   },
   "outputs": [],
   "source": [
    "#k-fold交叉验证\n",
    "crossval0 = crossval(dt,paramGrid0)"
   ]
  },
  {
   "cell_type": "code",
   "execution_count": 364,
   "metadata": {
    "ExecuteTime": {
     "end_time": "2020-02-18T11:43:01.469826Z",
     "start_time": "2020-02-18T11:42:58.784107Z"
    }
   },
   "outputs": [
    {
     "name": "stdout",
     "output_type": "stream",
     "text": [
      "The average F1Score on training dataset for different parameters are: \n",
      " [0.7286737279591661]\n",
      "\n",
      "\n",
      "The accuracy on validation dataset is:  0.7547169811320755\n",
      "The F1Score on validation dataset is:  0.7372083452842659\n"
     ]
    }
   ],
   "source": [
    "# model训练和效果输出\n",
    "dt_model = fit_transforms_accuracy(crossval0)"
   ]
  },
  {
   "cell_type": "code",
   "execution_count": 365,
   "metadata": {
    "ExecuteTime": {
     "end_time": "2020-02-18T11:43:01.717726Z",
     "start_time": "2020-02-18T11:43:01.472036Z"
    }
   },
   "outputs": [
    {
     "name": "stdout",
     "output_type": "stream",
     "text": [
      "The accuracy on testing dataset is:  0.7441860465116279\n",
      "The F1Score on testing dataset is:  0.7200716125614278\n"
     ]
    }
   ],
   "source": [
    "test_model(dt_model)"
   ]
  },
  {
   "cell_type": "markdown",
   "metadata": {},
   "source": [
    "### 逻辑回归"
   ]
  },
  {
   "cell_type": "code",
   "execution_count": 366,
   "metadata": {
    "ExecuteTime": {
     "end_time": "2020-02-18T11:43:01.729492Z",
     "start_time": "2020-02-18T11:43:01.720239Z"
    }
   },
   "outputs": [],
   "source": [
    "lr =LogisticRegression(maxIter=10,regParam=0.0)"
   ]
  },
  {
   "cell_type": "code",
   "execution_count": 367,
   "metadata": {
    "ExecuteTime": {
     "end_time": "2020-02-18T11:43:01.738088Z",
     "start_time": "2020-02-18T11:43:01.731947Z"
    }
   },
   "outputs": [],
   "source": [
    "paramGrid1 = ParamGridBuilder().addGrid(lr.maxIter,[5,6,7,8,9])\\\n",
    "                            .addGrid(lr.regParam,[0.0,0.1])\\\n",
    "                            .build()"
   ]
  },
  {
   "cell_type": "code",
   "execution_count": 368,
   "metadata": {
    "ExecuteTime": {
     "end_time": "2020-02-18T11:43:01.754475Z",
     "start_time": "2020-02-18T11:43:01.741223Z"
    }
   },
   "outputs": [],
   "source": [
    "#k-fold交叉验证\n",
    "crossval1 = crossval(lr,paramGrid1)"
   ]
  },
  {
   "cell_type": "code",
   "execution_count": 369,
   "metadata": {
    "ExecuteTime": {
     "end_time": "2020-02-18T11:43:11.386287Z",
     "start_time": "2020-02-18T11:43:01.756787Z"
    }
   },
   "outputs": [
    {
     "name": "stdout",
     "output_type": "stream",
     "text": [
      "The average F1Score on training dataset for different parameters are: \n",
      " [0.6748027502153798, 0.6636559632951321, 0.6958945912070956, 0.6636559632951321, 0.6904606893895564, 0.6636559632951321, 0.6878865831990876, 0.6636559632951321, 0.6704573892993055, 0.6636559632951321]\n",
      "\n",
      "\n",
      "The accuracy on validation dataset is:  0.8490566037735849\n",
      "The F1Score on validation dataset is:  0.8216336575647486\n"
     ]
    }
   ],
   "source": [
    "# model训练和效果输出\n",
    "lr_model = fit_transforms_accuracy(crossval1)"
   ]
  },
  {
   "cell_type": "code",
   "execution_count": 370,
   "metadata": {
    "ExecuteTime": {
     "end_time": "2020-02-18T11:43:11.624638Z",
     "start_time": "2020-02-18T11:43:11.389131Z"
    }
   },
   "outputs": [
    {
     "name": "stdout",
     "output_type": "stream",
     "text": [
      "The accuracy on testing dataset is:  0.7674418604651163\n",
      "The F1Score on testing dataset is:  0.7005352528608343\n"
     ]
    }
   ],
   "source": [
    "test_model(lr_model)"
   ]
  },
  {
   "cell_type": "markdown",
   "metadata": {},
   "source": [
    "### 随机森林"
   ]
  },
  {
   "cell_type": "code",
   "execution_count": 371,
   "metadata": {
    "ExecuteTime": {
     "end_time": "2020-02-18T11:43:11.637647Z",
     "start_time": "2020-02-18T11:43:11.626871Z"
    }
   },
   "outputs": [],
   "source": [
    "rf = RandomForestClassifier(labelCol='label',featuresCol='features',numTrees=8)"
   ]
  },
  {
   "cell_type": "code",
   "execution_count": 372,
   "metadata": {
    "ExecuteTime": {
     "end_time": "2020-02-18T11:43:11.646795Z",
     "start_time": "2020-02-18T11:43:11.640332Z"
    }
   },
   "outputs": [],
   "source": [
    "paramGrid2 = ParamGridBuilder().addGrid(rf.numTrees,[5,6,7,8,9,10,11,12,13,14]).build()"
   ]
  },
  {
   "cell_type": "code",
   "execution_count": 373,
   "metadata": {
    "ExecuteTime": {
     "end_time": "2020-02-18T11:43:11.663039Z",
     "start_time": "2020-02-18T11:43:11.649504Z"
    }
   },
   "outputs": [],
   "source": [
    "#k-fold交叉验证\n",
    "crossval2 = crossval(rf,paramGrid2)"
   ]
  },
  {
   "cell_type": "code",
   "execution_count": 374,
   "metadata": {
    "ExecuteTime": {
     "end_time": "2020-02-18T11:43:23.236479Z",
     "start_time": "2020-02-18T11:43:11.665868Z"
    }
   },
   "outputs": [
    {
     "name": "stdout",
     "output_type": "stream",
     "text": [
      "The average F1Score on training dataset for different parameters are: \n",
      " [0.6694003980380699, 0.6626881518692829, 0.6780646980201886, 0.6325297695958391, 0.648452188091357, 0.699140515306015, 0.6841090036257798, 0.6703996316818265, 0.6652851209703009, 0.6866514301630566]\n",
      "\n",
      "\n",
      "The accuracy on validation dataset is:  0.7735849056603774\n",
      "The F1Score on validation dataset is:  0.7077478924126857\n"
     ]
    }
   ],
   "source": [
    "# model训练和效果输出\n",
    "rf_model = fit_transforms_accuracy(crossval2)"
   ]
  },
  {
   "cell_type": "code",
   "execution_count": 375,
   "metadata": {
    "ExecuteTime": {
     "end_time": "2020-02-18T11:43:23.492114Z",
     "start_time": "2020-02-18T11:43:23.239375Z"
    }
   },
   "outputs": [
    {
     "name": "stdout",
     "output_type": "stream",
     "text": [
      "The accuracy on testing dataset is:  0.7906976744186046\n",
      "The F1Score on testing dataset is:  0.7582228037827871\n"
     ]
    }
   ],
   "source": [
    "test_model(rf_model)"
   ]
  },
  {
   "cell_type": "markdown",
   "metadata": {},
   "source": [
    "### 支持向量机"
   ]
  },
  {
   "cell_type": "code",
   "execution_count": 376,
   "metadata": {
    "ExecuteTime": {
     "end_time": "2020-02-18T11:43:23.505243Z",
     "start_time": "2020-02-18T11:43:23.494988Z"
    }
   },
   "outputs": [],
   "source": [
    "lsvc = LinearSVC(maxIter=10,regParam=0.1)"
   ]
  },
  {
   "cell_type": "code",
   "execution_count": 377,
   "metadata": {
    "ExecuteTime": {
     "end_time": "2020-02-18T11:43:23.513000Z",
     "start_time": "2020-02-18T11:43:23.507792Z"
    }
   },
   "outputs": [],
   "source": [
    "paramGrid3 = ParamGridBuilder().addGrid(lsvc.maxIter,[4,5,7,8])\\\n",
    "                                .addGrid(lsvc.regParam,[0.0,0.1,0.2,0.3])\\\n",
    "                                .build()"
   ]
  },
  {
   "cell_type": "code",
   "execution_count": 378,
   "metadata": {
    "ExecuteTime": {
     "end_time": "2020-02-18T11:43:23.528602Z",
     "start_time": "2020-02-18T11:43:23.517056Z"
    }
   },
   "outputs": [],
   "source": [
    "#k-fold交叉验证\n",
    "crossval3 = crossval(lsvc,paramGrid3)"
   ]
  },
  {
   "cell_type": "code",
   "execution_count": 379,
   "metadata": {
    "ExecuteTime": {
     "end_time": "2020-02-18T11:43:39.784681Z",
     "start_time": "2020-02-18T11:43:23.532096Z"
    }
   },
   "outputs": [
    {
     "name": "stdout",
     "output_type": "stream",
     "text": [
      "The average F1Score on training dataset for different parameters are: \n",
      " [0.6674998071389759, 0.6756690565535923, 0.6674998071389759, 0.6756690565535923, 0.6674998071389759, 0.6674998071389759, 0.6674998071389759, 0.6712424971974555, 0.6674998071389759, 0.6674998071389759, 0.6674998071389759, 0.6674998071389759, 0.6674998071389759, 0.6674998071389759, 0.6674998071389759, 0.6674998071389759]\n",
      "\n",
      "\n",
      "The accuracy on validation dataset is:  0.8113207547169812\n",
      "The F1Score on validation dataset is:  0.726808176100629\n"
     ]
    }
   ],
   "source": [
    "# model训练和效果输出\n",
    "lsvc_model = fit_transforms_accuracy(crossval3)"
   ]
  },
  {
   "cell_type": "code",
   "execution_count": 380,
   "metadata": {
    "ExecuteTime": {
     "end_time": "2020-02-18T11:43:40.047779Z",
     "start_time": "2020-02-18T11:43:39.791789Z"
    }
   },
   "outputs": [
    {
     "name": "stdout",
     "output_type": "stream",
     "text": [
      "The accuracy on testing dataset is:  0.7209302325581395\n",
      "The F1Score on testing dataset is:  0.6040226272784412\n"
     ]
    }
   ],
   "source": [
    "test_model(lsvc_model)"
   ]
  },
  {
   "cell_type": "markdown",
   "metadata": {},
   "source": [
    "### 提升树"
   ]
  },
  {
   "cell_type": "code",
   "execution_count": 381,
   "metadata": {
    "ExecuteTime": {
     "end_time": "2020-02-18T11:43:40.062200Z",
     "start_time": "2020-02-18T11:43:40.050676Z"
    }
   },
   "outputs": [],
   "source": [
    "gbt = GBTClassifier(labelCol='label',featuresCol='features',maxIter=10)"
   ]
  },
  {
   "cell_type": "code",
   "execution_count": 382,
   "metadata": {
    "ExecuteTime": {
     "end_time": "2020-02-18T11:43:40.071597Z",
     "start_time": "2020-02-18T11:43:40.065882Z"
    }
   },
   "outputs": [],
   "source": [
    "paramGrid4 = ParamGridBuilder().addGrid(gbt.maxIter,[1,2,3,5,8,10]).build()"
   ]
  },
  {
   "cell_type": "code",
   "execution_count": 383,
   "metadata": {
    "ExecuteTime": {
     "end_time": "2020-02-18T11:43:40.086402Z",
     "start_time": "2020-02-18T11:43:40.075025Z"
    }
   },
   "outputs": [],
   "source": [
    "#k-fold交叉验证\n",
    "crossval4 = crossval(gbt,paramGrid4)"
   ]
  },
  {
   "cell_type": "code",
   "execution_count": 384,
   "metadata": {
    "ExecuteTime": {
     "end_time": "2020-02-18T11:43:56.269824Z",
     "start_time": "2020-02-18T11:43:40.089298Z"
    }
   },
   "outputs": [
    {
     "name": "stdout",
     "output_type": "stream",
     "text": [
      "The average F1Score on training dataset for different parameters are: \n",
      " [0.7286737279591661, 0.7286737279591661, 0.7233880626900708, 0.7128117109372485, 0.7128117109372485, 0.7128117109372485]\n",
      "\n",
      "\n",
      "The accuracy on validation dataset is:  0.7547169811320755\n",
      "The F1Score on validation dataset is:  0.7372083452842659\n"
     ]
    }
   ],
   "source": [
    "# model训练和效果输出\n",
    "gbt_model = fit_transforms_accuracy(crossval4)"
   ]
  },
  {
   "cell_type": "code",
   "execution_count": 385,
   "metadata": {
    "ExecuteTime": {
     "end_time": "2020-02-18T11:43:56.523503Z",
     "start_time": "2020-02-18T11:43:56.276978Z"
    }
   },
   "outputs": [
    {
     "name": "stdout",
     "output_type": "stream",
     "text": [
      "The accuracy on testing dataset is:  0.7441860465116279\n",
      "The F1Score on testing dataset is:  0.7200716125614278\n"
     ]
    }
   ],
   "source": [
    "test_model(gbt_model)"
   ]
  },
  {
   "cell_type": "markdown",
   "metadata": {},
   "source": [
    "# 项目总结"
   ]
  },
  {
   "cell_type": "markdown",
   "metadata": {},
   "source": [
    "## 模型总结\n",
    "逻辑回归>决策树=提升树>随机森林>支持向量机"
   ]
  },
  {
   "cell_type": "markdown",
   "metadata": {},
   "source": [
    "- 决策树：DecisionTreeClassifier()，无参数输入\n",
    "\t- accuracy：验证集0.755，测试集0.744\n",
    "\t- F1Score： 训练集0.729，验证集0.737，测试集0.720\n",
    "- 逻辑回归：LogisticRegression(maxIter=6 regParam=0.0)，其中maxiter表示最大迭代数量，当其取值为6时获得最优表现，regParam表示正则化的参数，取值为0时表现最优。\n",
    "\t- accuracy：验证集0.849，测试集0.767\n",
    "\t- F1Score： 训练集0.700，验证集0.821，测试集0.701\n",
    "- 随机森林：RandomForestClassifier(numTrees=10)，numTrees表示应用决策树的数量，取值为8时，表现最优。\n",
    "\t- accuracy：验证集0.774，测试集0.791\n",
    "\t- F1Score： 训练集0.700，验证集0.708，测试集0.758\n",
    "- 支持向量机：LinearSVC(maxIter=4，regParam=0.1)，其中maxiter表示最大迭代数量，当其取值为4时获得最优表现，regParam表示正则化的参数，取值为0时表现最优。\n",
    "\t- accuracy：验证集0.811，测试集0.721\n",
    "\t- F1Score： 训练集0.676，验证集0.727，测试集0.604\n",
    "- 提升树：GBTClassifier(maxIter=2)，其中maxiter表示最大迭代数量，取值为1或2时获得最优表现。\n",
    "\t- accuracy：验证集0.755，测试集0.744\n",
    "\t- F1Score： 训练集0.729，验证集0.737，测试集0.720"
   ]
  },
  {
   "cell_type": "markdown",
   "metadata": {},
   "source": [
    "## 项目回顾\n",
    "- 本项目主要进行了`数据评估和清洗、探索性数据分析、特征工程、机器学习建模`4个部分的流程内容。\n",
    "- 通过观察和分析用户数据，以用户取消关注的行为定义客户流失(label)，以客户的交互行为作为监督学习特征(features)，进而以此建模进行监督学习，并最终筛选出表现最优的模型。"
   ]
  },
  {
   "cell_type": "markdown",
   "metadata": {
    "ExecuteTime": {
     "end_time": "2020-02-18T10:42:37.733905Z",
     "start_time": "2020-02-18T10:39:32.142Z"
    }
   },
   "source": [
    "- 本项目先后经过了**`数据加载、评估和清洗、可视化探索分析、特征工程、建模和优化`**几个步骤，并在不断修改的过程中，逐渐获得更符合预期的结果。\n",
    "- 在项目进行过程中，思路清晰。但实现的过程中**`充满挑战`**，如：\n",
    "\t- 如在分析feature选择的取舍时，如何**`综合考虑选择逻辑、模型训练效率问题`**；\n",
    "\t- 在可视化数据分析过程中，何时使用spark进行数据聚合，何时将数据转换为pandas的DataFrame格式，从而更方便高效的输出可视化图形；\n",
    "\t- 如在数据分析的过程中，如何将重复的功能变为**`自定义函数`**，符合“**`DRY`**”原则，用更少的代码，更方便快捷的达到预期效果；\n",
    "\t- 如在严谨性方面，考虑到未流失和流失用户在**`注册天数`**上的客观不一致性，会导致前者数据量明显大，而不适合直接以各feature数据量的多少作为训练模型的依据，应加以处理后获得用户的行为频率，以此作为features才更符合实际情况，由处理过的features训练的模型，才能更适合项目落地。"
   ]
  },
  {
   "cell_type": "markdown",
   "metadata": {},
   "source": [
    "## 局限性"
   ]
  },
  {
   "cell_type": "markdown",
   "metadata": {},
   "source": [
    "- 一是客观**`数据集规模`**较小，难免会影响模型训练的准确性；\n",
    "- 二是特征工程和监督学习或有更好的处理方式，比如采用其他机器学习模型进行建模；\n",
    "- 三是训练结果，F1Score在70~80%并非十分理想，后续进一步挖掘数据特征(如地域、艺术家)，仍有继续提高的可能。"
   ]
  }
 ],
 "metadata": {
  "kernelspec": {
   "display_name": "Python 3",
   "language": "python",
   "name": "python3"
  },
  "language_info": {
   "codemirror_mode": {
    "name": "ipython",
    "version": 3
   },
   "file_extension": ".py",
   "mimetype": "text/x-python",
   "name": "python",
   "nbconvert_exporter": "python",
   "pygments_lexer": "ipython3",
   "version": "3.7.1"
  },
  "toc": {
   "base_numbering": "0",
   "nav_menu": {},
   "number_sections": true,
   "sideBar": true,
   "skip_h1_title": false,
   "title_cell": "目录",
   "title_sidebar": "Contents",
   "toc_cell": true,
   "toc_position": {
    "height": "581px",
    "left": "43px",
    "top": "110px",
    "width": "225px"
   },
   "toc_section_display": true,
   "toc_window_display": false
  }
 },
 "nbformat": 4,
 "nbformat_minor": 2
}
