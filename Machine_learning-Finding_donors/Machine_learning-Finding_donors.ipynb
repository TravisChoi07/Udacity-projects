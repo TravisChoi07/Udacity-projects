<<<<<<< HEAD
{
 "cells": [
  {
   "cell_type": "markdown",
   "metadata": {
    "hide_input": true
   },
   "source": [
    "# 为*CharityML*寻找捐献者(监督学习项目)"
   ]
  },
  {
   "cell_type": "markdown",
   "metadata": {},
   "source": [
    "## 背景和说明\n",
    "\n",
    "- 在本项目中，将使用1994年美国人口普查收集的数据，选用若干个**监督学习**算法，以准确地建模被调查者的收入。\n",
    "- 根据建模的初步结果，从中选择出最佳的候选算法，并进一步优化该算法以最好地建模这些数据。\n",
    "- 目标是建立一个能够准确地预测被调查者年收入是否超过50000美元的模型。这种类型的任务会出现在那些依赖于捐款而存在的非营利性组织。\n",
    "- 了解人群的收入情况可以帮助一个非营利性的机构更好地了解他们要多大的捐赠，或是否他们应该接触这些人。虽然我们很难直接从公开的资源中推断出一个人的一般收入阶层，但是我们可以（也正是我们将要做的）从其他的一些公开的可获得的资源中获得一些特征从而推断出该值。\n",
    "\n",
    "这个项目的数据集来自[UCI机器学习知识库](https://archive.ics.uci.edu/ml/datasets/Census+Income)。这个数据集是由Ron Kohavi和Barry Becker在发表文章_\"Scaling Up the Accuracy of Naive-Bayes Classifiers: A Decision-Tree Hybrid\"_之后捐赠的，你可以在Ron Kohavi提供的[在线版本](https://www.aaai.org/Papers/KDD/1996/KDD96-033.pdf)中找到这个文章。我们在这里探索的数据集相比于原有的数据集有一些小小的改变，比如说移除了特征`'fnlwgt'` 以及一些遗失的或者是格式不正确的记录。"
   ]
  },
  {
   "cell_type": "markdown",
   "metadata": {
    "toc": true
   },
   "source": [
    "<h1>项目目录<span class=\"tocSkip\"></span></h1>\n",
    "<div class=\"toc\"><ul class=\"toc-item\"><li><span><a href=\"#为CharityML寻找捐献者(监督学习项目)\" data-toc-modified-id=\"为CharityML寻找捐献者(监督学习项目)-1\"><span class=\"toc-item-num\">1&nbsp;&nbsp;</span>为<em>CharityML</em>寻找捐献者(监督学习项目)</a></span><ul class=\"toc-item\"><li><span><a href=\"#背景和说明\" data-toc-modified-id=\"背景和说明-1.1\"><span class=\"toc-item-num\">1.1&nbsp;&nbsp;</span>背景和说明</a></span></li><li><span><a href=\"#探索数据\" data-toc-modified-id=\"探索数据-1.2\"><span class=\"toc-item-num\">1.2&nbsp;&nbsp;</span>探索数据</a></span><ul class=\"toc-item\"><li><span><a href=\"#练习：数据探索\" data-toc-modified-id=\"练习：数据探索-1.2.1\"><span class=\"toc-item-num\">1.2.1&nbsp;&nbsp;</span>练习：数据探索</a></span></li></ul></li><li><span><a href=\"#准备数据\" data-toc-modified-id=\"准备数据-1.3\"><span class=\"toc-item-num\">1.3&nbsp;&nbsp;</span>准备数据</a></span><ul class=\"toc-item\"><li><span><a href=\"#获得特征和标签\" data-toc-modified-id=\"获得特征和标签-1.3.1\"><span class=\"toc-item-num\">1.3.1&nbsp;&nbsp;</span>获得特征和标签</a></span></li><li><span><a href=\"#转换倾斜的连续特征\" data-toc-modified-id=\"转换倾斜的连续特征-1.3.2\"><span class=\"toc-item-num\">1.3.2&nbsp;&nbsp;</span>转换倾斜的连续特征</a></span></li><li><span><a href=\"#归一化数字特征\" data-toc-modified-id=\"归一化数字特征-1.3.3\"><span class=\"toc-item-num\">1.3.3&nbsp;&nbsp;</span>归一化数字特征</a></span></li><li><span><a href=\"#数据预处理\" data-toc-modified-id=\"数据预处理-1.3.4\"><span class=\"toc-item-num\">1.3.4&nbsp;&nbsp;</span>数据预处理</a></span></li><li><span><a href=\"#混洗和切分数据\" data-toc-modified-id=\"混洗和切分数据-1.3.5\"><span class=\"toc-item-num\">1.3.5&nbsp;&nbsp;</span>混洗和切分数据</a></span></li></ul></li><li><span><a href=\"#评价模型性能\" data-toc-modified-id=\"评价模型性能-1.4\"><span class=\"toc-item-num\">1.4&nbsp;&nbsp;</span>评价模型性能</a></span><ul class=\"toc-item\"><li><span><a href=\"#评价方法和朴素的预测器\" data-toc-modified-id=\"评价方法和朴素的预测器-1.4.1\"><span class=\"toc-item-num\">1.4.1&nbsp;&nbsp;</span>评价方法和朴素的预测器</a></span></li><li><span><a href=\"#天真的预测器的性能\" data-toc-modified-id=\"天真的预测器的性能-1.4.2\"><span class=\"toc-item-num\">1.4.2&nbsp;&nbsp;</span>天真的预测器的性能</a></span></li></ul></li><li><span><a href=\"#监督学习模型\" data-toc-modified-id=\"监督学习模型-1.5\"><span class=\"toc-item-num\">1.5&nbsp;&nbsp;</span>监督学习模型</a></span><ul class=\"toc-item\"><li><span><a href=\"#模型应用\" data-toc-modified-id=\"模型应用-1.5.1\"><span class=\"toc-item-num\">1.5.1&nbsp;&nbsp;</span>模型应用</a></span></li><li><span><a href=\"#模型1\" data-toc-modified-id=\"模型1-1.5.2\"><span class=\"toc-item-num\">1.5.2&nbsp;&nbsp;</span>模型1</a></span></li><li><span><a href=\"#模型2\" data-toc-modified-id=\"模型2-1.5.3\"><span class=\"toc-item-num\">1.5.3&nbsp;&nbsp;</span>模型2</a></span></li><li><span><a href=\"#模型3\" data-toc-modified-id=\"模型3-1.5.4\"><span class=\"toc-item-num\">1.5.4&nbsp;&nbsp;</span>模型3</a></span></li><li><span><a href=\"#创建训练和预测流水线\" data-toc-modified-id=\"创建训练和预测流水线-1.5.5\"><span class=\"toc-item-num\">1.5.5&nbsp;&nbsp;</span>创建训练和预测流水线</a></span></li><li><span><a href=\"#初始模型的评估\" data-toc-modified-id=\"初始模型的评估-1.5.6\"><span class=\"toc-item-num\">1.5.6&nbsp;&nbsp;</span>初始模型的评估</a></span></li></ul></li><li><span><a href=\"#提高效果\" data-toc-modified-id=\"提高效果-1.6\"><span class=\"toc-item-num\">1.6&nbsp;&nbsp;</span>提高效果</a></span><ul class=\"toc-item\"><li><span><a href=\"#选择最佳的模型\" data-toc-modified-id=\"选择最佳的模型-1.6.1\"><span class=\"toc-item-num\">1.6.1&nbsp;&nbsp;</span>选择最佳的模型</a></span></li><li><span><a href=\"#解释模型\" data-toc-modified-id=\"解释模型-1.6.2\"><span class=\"toc-item-num\">1.6.2&nbsp;&nbsp;</span>解释模型</a></span></li><li><span><a href=\"#模型调优\" data-toc-modified-id=\"模型调优-1.6.3\"><span class=\"toc-item-num\">1.6.3&nbsp;&nbsp;</span>模型调优</a></span></li><li><span><a href=\"#最终模型评估\" data-toc-modified-id=\"最终模型评估-1.6.4\"><span class=\"toc-item-num\">1.6.4&nbsp;&nbsp;</span>最终模型评估</a></span><ul class=\"toc-item\"><li><span><a href=\"#模型表现结果:\" data-toc-modified-id=\"模型表现结果:-1.6.4.1\"><span class=\"toc-item-num\">1.6.4.1&nbsp;&nbsp;</span>模型表现结果:</a></span></li></ul></li></ul></li><li><span><a href=\"#特征的重要性\" data-toc-modified-id=\"特征的重要性-1.7\"><span class=\"toc-item-num\">1.7&nbsp;&nbsp;</span>特征的重要性</a></span><ul class=\"toc-item\"><li><span><a href=\"#观察特征相关性\" data-toc-modified-id=\"观察特征相关性-1.7.1\"><span class=\"toc-item-num\">1.7.1&nbsp;&nbsp;</span>观察特征相关性</a></span></li><li><span><a href=\"#提取特征重要性\" data-toc-modified-id=\"提取特征重要性-1.7.2\"><span class=\"toc-item-num\">1.7.2&nbsp;&nbsp;</span>提取特征重要性</a></span></li><li><span><a href=\"#提取特征重要性\" data-toc-modified-id=\"提取特征重要性-1.7.3\"><span class=\"toc-item-num\">1.7.3&nbsp;&nbsp;</span>提取特征重要性</a></span></li><li><span><a href=\"#特征选择\" data-toc-modified-id=\"特征选择-1.7.4\"><span class=\"toc-item-num\">1.7.4&nbsp;&nbsp;</span>特征选择</a></span></li><li><span><a href=\"#特征选择的影响\" data-toc-modified-id=\"特征选择的影响-1.7.5\"><span class=\"toc-item-num\">1.7.5&nbsp;&nbsp;</span>特征选择的影响</a></span></li><li><span><a href=\"#在测试集上测试模型\" data-toc-modified-id=\"在测试集上测试模型-1.7.6\"><span class=\"toc-item-num\">1.7.6&nbsp;&nbsp;</span>在测试集上测试模型</a></span></li></ul></li><li><span><a href=\"#总结\" data-toc-modified-id=\"总结-1.8\"><span class=\"toc-item-num\">1.8&nbsp;&nbsp;</span>总结</a></span></li></ul></li></ul></div>"
   ]
  },
  {
   "cell_type": "markdown",
   "metadata": {},
   "source": [
    "----\n",
    "## 探索数据\n",
    "数据集的最后一列`'income'`将是需要预测的列（表示被调查者的年收入会大于或者是最多50,000美元），人口普查数据中的每一列都将是关于被调查者的特征。"
   ]
  },
  {
   "cell_type": "code",
   "execution_count": 1,
   "metadata": {
    "ExecuteTime": {
     "end_time": "2020-03-23T12:44:13.663363Z",
     "start_time": "2020-03-23T12:44:02.096217Z"
    }
   },
   "outputs": [
    {
     "data": {
      "text/html": [
       "<div>\n",
       "<style scoped>\n",
       "    .dataframe tbody tr th:only-of-type {\n",
       "        vertical-align: middle;\n",
       "    }\n",
       "\n",
       "    .dataframe tbody tr th {\n",
       "        vertical-align: top;\n",
       "    }\n",
       "\n",
       "    .dataframe thead th {\n",
       "        text-align: right;\n",
       "    }\n",
       "</style>\n",
       "<table border=\"1\" class=\"dataframe\">\n",
       "  <thead>\n",
       "    <tr style=\"text-align: right;\">\n",
       "      <th></th>\n",
       "      <th>age</th>\n",
       "      <th>workclass</th>\n",
       "      <th>education_level</th>\n",
       "      <th>education-num</th>\n",
       "      <th>marital-status</th>\n",
       "      <th>occupation</th>\n",
       "      <th>relationship</th>\n",
       "      <th>race</th>\n",
       "      <th>sex</th>\n",
       "      <th>capital-gain</th>\n",
       "      <th>capital-loss</th>\n",
       "      <th>hours-per-week</th>\n",
       "      <th>native-country</th>\n",
       "      <th>income</th>\n",
       "    </tr>\n",
       "  </thead>\n",
       "  <tbody>\n",
       "    <tr>\n",
       "      <th>15194</th>\n",
       "      <td>21</td>\n",
       "      <td>State-gov</td>\n",
       "      <td>Some-college</td>\n",
       "      <td>10.0</td>\n",
       "      <td>Never-married</td>\n",
       "      <td>Prof-specialty</td>\n",
       "      <td>Own-child</td>\n",
       "      <td>White</td>\n",
       "      <td>Male</td>\n",
       "      <td>0.0</td>\n",
       "      <td>0.0</td>\n",
       "      <td>20.0</td>\n",
       "      <td>United-States</td>\n",
       "      <td>&lt;=50K</td>\n",
       "    </tr>\n",
       "    <tr>\n",
       "      <th>1905</th>\n",
       "      <td>37</td>\n",
       "      <td>Private</td>\n",
       "      <td>Bachelors</td>\n",
       "      <td>13.0</td>\n",
       "      <td>Married-civ-spouse</td>\n",
       "      <td>Other-service</td>\n",
       "      <td>Wife</td>\n",
       "      <td>Asian-Pac-Islander</td>\n",
       "      <td>Female</td>\n",
       "      <td>0.0</td>\n",
       "      <td>0.0</td>\n",
       "      <td>30.0</td>\n",
       "      <td>United-States</td>\n",
       "      <td>&gt;50K</td>\n",
       "    </tr>\n",
       "    <tr>\n",
       "      <th>38792</th>\n",
       "      <td>49</td>\n",
       "      <td>Private</td>\n",
       "      <td>Masters</td>\n",
       "      <td>14.0</td>\n",
       "      <td>Divorced</td>\n",
       "      <td>Sales</td>\n",
       "      <td>Unmarried</td>\n",
       "      <td>Other</td>\n",
       "      <td>Female</td>\n",
       "      <td>0.0</td>\n",
       "      <td>0.0</td>\n",
       "      <td>20.0</td>\n",
       "      <td>Peru</td>\n",
       "      <td>&lt;=50K</td>\n",
       "    </tr>\n",
       "  </tbody>\n",
       "</table>\n",
       "</div>"
      ],
      "text/plain": [
       "       age   workclass education_level  education-num       marital-status  \\\n",
       "15194   21   State-gov    Some-college           10.0        Never-married   \n",
       "1905    37     Private       Bachelors           13.0   Married-civ-spouse   \n",
       "38792   49     Private         Masters           14.0             Divorced   \n",
       "\n",
       "            occupation relationship                 race      sex  \\\n",
       "15194   Prof-specialty    Own-child                White     Male   \n",
       "1905     Other-service         Wife   Asian-Pac-Islander   Female   \n",
       "38792            Sales    Unmarried                Other   Female   \n",
       "\n",
       "       capital-gain  capital-loss  hours-per-week  native-country income  \n",
       "15194           0.0           0.0            20.0   United-States  <=50K  \n",
       "1905            0.0           0.0            30.0   United-States   >50K  \n",
       "38792           0.0           0.0            20.0            Peru  <=50K  "
      ]
     },
     "execution_count": 1,
     "metadata": {},
     "output_type": "execute_result"
    }
   ],
   "source": [
    "# 为这个项目导入需要的库\n",
    "import numpy as np\n",
    "import pandas as pd\n",
    "from time import time\n",
    "from IPython.display import display # 允许为DataFrame使用display()\n",
    "\n",
    "# 导入附加的可视化代码visuals.py\n",
    "import visuals as vs\n",
    "\n",
    "# 为notebook提供更加漂亮的可视化\n",
    "%matplotlib inline\n",
    "\n",
    "# 导入人口普查数据\n",
    "data = pd.read_csv(\"census.csv\")\n",
    "\n",
    "# 查看数据样本\n",
    "data.sample(3)"
   ]
  },
  {
   "cell_type": "markdown",
   "metadata": {},
   "source": [
    "### 练习：数据探索\n",
    "对数据集进行粗略的探索，将计算以下量：\n",
    "\n",
    "- 总的记录数量，`'n_records'`\n",
    "- 年收入大于50,000美元的人数，`'n_greater_50k'`.\n",
    "- 年收入最多为50,000美元的人数 `'n_at_most_50k'`.\n",
    "- 年收入大于50,000美元的人所占的比例， `'greater_percent'`.\n",
    "\n",
    "**提示：** 注意`'income'`条目的格式 "
   ]
  },
  {
   "cell_type": "code",
   "execution_count": 2,
   "metadata": {
    "ExecuteTime": {
     "end_time": "2020-03-23T12:46:34.863371Z",
     "start_time": "2020-03-23T12:46:34.813093Z"
    }
   },
   "outputs": [
    {
     "name": "stdout",
     "output_type": "stream",
     "text": [
      "Total number of records: 45222\n",
      "Individuals making more than $50,000: 11208\n",
      "Individuals making at most $50,000: 34014\n",
      "Percentage of individuals making more than $50,000: 24.78%\n"
     ]
    }
   ],
   "source": [
    "# 总的记录数\n",
    "n_records = data.shape[0]\n",
    "\n",
    "# 被调查者的收入大于$50,000的人数\n",
    "n_greater_50k = data.query('income == \">50K\"').shape[0]\n",
    "\n",
    "# 被调查者的收入最多为$50,000的人数\n",
    "n_at_most_50k = data.query('income == \"<=50K\"').shape[0]\n",
    "\n",
    "# 被调查者收入大于$50,000所占的比例\n",
    "greater_percent = n_greater_50k/n_records\n",
    "\n",
    "print (\"Total number of records: {}\".format(n_records))\n",
    "print (\"Individuals making more than $50,000: {}\".format(n_greater_50k))\n",
    "print (\"Individuals making at most $50,000: {}\".format(n_at_most_50k))\n",
    "print (\"Percentage of individuals making more than $50,000: {:.2f}%\".format(greater_percent*100))"
   ]
  },
  {
   "cell_type": "markdown",
   "metadata": {},
   "source": [
    "----\n",
    "## 准备数据\n",
    "- 在数据能够被作为输入提供给机器学习算法之前，通常需要将数据清洗、格式化、重新组织 ，即进行**数据预处理**。\n",
    "\n",
    "- 而本数据集，没有我们必须处理的无效或丢失的条目，不过由于某一些特征存在的特性，必须进行一定的调整。这个预处理可以极大地帮助提升几乎所有的学习算法的结果和预测能力。\n",
    "\n",
    "### 获得特征和标签\n",
    "`income` 列是标签，记录一个人的年收入是否高于50K。 因此将其从数据中剥离出来，单独存放。"
   ]
  },
  {
   "cell_type": "code",
   "execution_count": 3,
   "metadata": {
    "ExecuteTime": {
     "end_time": "2020-03-23T12:49:34.152174Z",
     "start_time": "2020-03-23T12:49:34.143323Z"
    }
   },
   "outputs": [],
   "source": [
    "# 将数据切分成特征和对应的标签\n",
    "income_raw = data['income']\n",
    "features_raw = data.drop('income', axis = 1)"
   ]
  },
  {
   "cell_type": "markdown",
   "metadata": {},
   "source": [
    "### 转换倾斜的连续特征\n",
    "\n",
    "- 转换原因：一个数据集往往存在数值集中的情况，存在极大值或者极小值的不均匀分布的的特征。算法对这种分布的数据会十分敏感，并且如果这种数据没有能够很好地规一化处理会使得算法表现不佳。\n",
    "- 在人口普查数据集的两个特征符合这个描述：'`capital-gain'`和`'capital-loss'`。"
   ]
  },
  {
   "cell_type": "code",
   "execution_count": 5,
   "metadata": {
    "ExecuteTime": {
     "end_time": "2020-03-23T12:56:38.848964Z",
     "start_time": "2020-03-23T12:56:38.453201Z"
    },
    "scrolled": true
   },
   "outputs": [
    {
     "data": {
      "image/png": "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\n",
      "text/plain": [
       "<Figure size 792x360 with 2 Axes>"
      ]
     },
     "metadata": {
      "needs_background": "light"
     },
     "output_type": "display_data"
    }
   ],
   "source": [
    "# 可视化 'capital-gain'和'capital-loss' 两个特征\n",
    "vs.distribution(features_raw)"
   ]
  },
  {
   "cell_type": "markdown",
   "metadata": {},
   "source": [
    "- 对于高度倾斜分布的特征如`'capital-gain'`和`'capital-loss'`，常见的做法是对数据施加一个<a href=\"https://en.wikipedia.org/wiki/Data_transformation_(statistics)\">对数转换</a>，将数据转换成对数，这样非常大和非常小的值不会对学习算法产生负面的影响。并且使用对数变换显著降低了由于异常值所造成的数据范围异常。\n",
    "\n",
    "- 注意：但是在应用这个变换时必须小心：因为0的对数是没有定义的，所以我们必须先将数据处理成一个比0稍微大一点的数以成功完成对数转换。"
   ]
  },
  {
   "cell_type": "code",
   "execution_count": 6,
   "metadata": {
    "ExecuteTime": {
     "end_time": "2020-03-23T12:57:32.669792Z",
     "start_time": "2020-03-23T12:57:32.260453Z"
    }
   },
   "outputs": [
    {
     "data": {
      "image/png": "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\n",
      "text/plain": [
       "<Figure size 792x360 with 2 Axes>"
      ]
     },
     "metadata": {
      "needs_background": "light"
     },
     "output_type": "display_data"
    }
   ],
   "source": [
    "# 对于倾斜的数据使用Log转换\n",
    "skewed = ['capital-gain', 'capital-loss']\n",
    "features_raw[skewed] = data[skewed].apply(lambda x: np.log(x + 1))\n",
    "\n",
    "# 可视化对数转换后 'capital-gain'和'capital-loss' 两个特征\n",
    "vs.distribution(features_raw, transformed = True)"
   ]
  },
  {
   "cell_type": "markdown",
   "metadata": {},
   "source": [
    "### 归一化数字特征\n",
    "**归一化原因**：\n",
    "- 除了对于高度倾斜的特征施加转换，对数值特征施加一些形式的缩放通常会是一个好的习惯。在数据上面施加一个缩放并不会改变数据分布的形式（比如上面说的'capital-gain' or 'capital-loss'）\n",
    "- 归一化保证了每一个特征在使用监督学习器的时候能够被平等的对待。注意一旦使用了缩放，观察数据的原始形式不再具有它本来的意义了，就像下面的例子展示的。运行下面的代码单元来规一化每一个数字特征。\n",
    "- 此处将使用[`sklearn.preprocessing.MinMaxScaler`](http://scikit-learn.org/stable/modules/generated/sklearn.preprocessing.MinMaxScaler.html)来完成归一化。"
   ]
  },
  {
   "cell_type": "code",
   "execution_count": 10,
   "metadata": {
    "ExecuteTime": {
     "end_time": "2020-03-23T13:04:05.583990Z",
     "start_time": "2020-03-23T13:04:05.526998Z"
    }
   },
   "outputs": [
    {
     "name": "stderr",
     "output_type": "stream",
     "text": [
      "/Users/cuichuanmin/anaconda3/lib/python3.7/site-packages/sklearn/preprocessing/data.py:323: DataConversionWarning: Data with input dtype int64, float64 were all converted to float64 by MinMaxScaler.\n",
      "  return self.partial_fit(X, y)\n"
     ]
    },
    {
     "data": {
      "text/html": [
       "<div>\n",
       "<style scoped>\n",
       "    .dataframe tbody tr th:only-of-type {\n",
       "        vertical-align: middle;\n",
       "    }\n",
       "\n",
       "    .dataframe tbody tr th {\n",
       "        vertical-align: top;\n",
       "    }\n",
       "\n",
       "    .dataframe thead th {\n",
       "        text-align: right;\n",
       "    }\n",
       "</style>\n",
       "<table border=\"1\" class=\"dataframe\">\n",
       "  <thead>\n",
       "    <tr style=\"text-align: right;\">\n",
       "      <th></th>\n",
       "      <th>age</th>\n",
       "      <th>workclass</th>\n",
       "      <th>education_level</th>\n",
       "      <th>education-num</th>\n",
       "      <th>marital-status</th>\n",
       "      <th>occupation</th>\n",
       "      <th>relationship</th>\n",
       "      <th>race</th>\n",
       "      <th>sex</th>\n",
       "      <th>capital-gain</th>\n",
       "      <th>capital-loss</th>\n",
       "      <th>hours-per-week</th>\n",
       "      <th>native-country</th>\n",
       "    </tr>\n",
       "  </thead>\n",
       "  <tbody>\n",
       "    <tr>\n",
       "      <th>0</th>\n",
       "      <td>0.301370</td>\n",
       "      <td>State-gov</td>\n",
       "      <td>Bachelors</td>\n",
       "      <td>0.800000</td>\n",
       "      <td>Never-married</td>\n",
       "      <td>Adm-clerical</td>\n",
       "      <td>Not-in-family</td>\n",
       "      <td>White</td>\n",
       "      <td>Male</td>\n",
       "      <td>0.02174</td>\n",
       "      <td>0.0</td>\n",
       "      <td>0.397959</td>\n",
       "      <td>United-States</td>\n",
       "    </tr>\n",
       "    <tr>\n",
       "      <th>1</th>\n",
       "      <td>0.452055</td>\n",
       "      <td>Self-emp-not-inc</td>\n",
       "      <td>Bachelors</td>\n",
       "      <td>0.800000</td>\n",
       "      <td>Married-civ-spouse</td>\n",
       "      <td>Exec-managerial</td>\n",
       "      <td>Husband</td>\n",
       "      <td>White</td>\n",
       "      <td>Male</td>\n",
       "      <td>0.00000</td>\n",
       "      <td>0.0</td>\n",
       "      <td>0.122449</td>\n",
       "      <td>United-States</td>\n",
       "    </tr>\n",
       "    <tr>\n",
       "      <th>2</th>\n",
       "      <td>0.287671</td>\n",
       "      <td>Private</td>\n",
       "      <td>HS-grad</td>\n",
       "      <td>0.533333</td>\n",
       "      <td>Divorced</td>\n",
       "      <td>Handlers-cleaners</td>\n",
       "      <td>Not-in-family</td>\n",
       "      <td>White</td>\n",
       "      <td>Male</td>\n",
       "      <td>0.00000</td>\n",
       "      <td>0.0</td>\n",
       "      <td>0.397959</td>\n",
       "      <td>United-States</td>\n",
       "    </tr>\n",
       "  </tbody>\n",
       "</table>\n",
       "</div>"
      ],
      "text/plain": [
       "        age          workclass education_level  education-num  \\\n",
       "0  0.301370          State-gov       Bachelors       0.800000   \n",
       "1  0.452055   Self-emp-not-inc       Bachelors       0.800000   \n",
       "2  0.287671            Private         HS-grad       0.533333   \n",
       "\n",
       "        marital-status          occupation    relationship    race    sex  \\\n",
       "0        Never-married        Adm-clerical   Not-in-family   White   Male   \n",
       "1   Married-civ-spouse     Exec-managerial         Husband   White   Male   \n",
       "2             Divorced   Handlers-cleaners   Not-in-family   White   Male   \n",
       "\n",
       "   capital-gain  capital-loss  hours-per-week  native-country  \n",
       "0       0.02174           0.0        0.397959   United-States  \n",
       "1       0.00000           0.0        0.122449   United-States  \n",
       "2       0.00000           0.0        0.397959   United-States  "
      ]
     },
     "execution_count": 10,
     "metadata": {},
     "output_type": "execute_result"
    }
   ],
   "source": [
    "from sklearn.preprocessing import MinMaxScaler\n",
    "\n",
    "# 初始化一个 scaler，并将它施加到特征上\n",
    "scaler = MinMaxScaler()\n",
    "numerical = ['age', 'education-num', 'capital-gain', 'capital-loss', 'hours-per-week']\n",
    "features_raw[numerical] = scaler.fit_transform(data[numerical])\n",
    "\n",
    "# 显示三个经过缩放的样例记录\n",
    "features_raw.head(3)"
   ]
  },
  {
   "cell_type": "markdown",
   "metadata": {},
   "source": [
    "### 数据预处理\n",
    "\n",
    "- 从上面的**数据探索**中的表中，可以看到有几个属性的记录是非数字。通常情况下，学习算法期望输入是数字的，这要求非数字的特征（称为类别变量）被转换。\n",
    "- 转换类别变量的一种流行的方法是使用**独热编码**方案。独热编码为每一个非数字特征的每一个可能的类别创建一个_“虚拟”_变量。例如，假设`someFeature`有三个可能的取值`A`，`B`或者`C`。我们将把这个特征编码成`someFeature_A`, `someFeature_B`和`someFeature_C`.\n",
    "\n",
    "| 特征X |                    | 特征X_A | 特征X_B | 特征X_C |\n",
    "| :-: |                            | :-: | :-: | :-: |\n",
    "|  B  |  | 0 | 1 | 0 |\n",
    "|  C  | ----> 独热编码 ----> | 0 | 0 | 1 |\n",
    "|  A  |  | 1 | 0 | 0 |\n",
    "\n",
    "此外，对于非数字的特征，需要将非数字的标签`'income'`转换成数值以保证学习算法能够正常工作。因为这个标签只有两种可能的类别（\"<=50K\"和\">50K\"），我们不必要使用独热编码，可以直接将他们编码分别成两个类`0`和`1`，将在下方实现以下功能：\n",
    "- 使用[`pandas.get_dummies()`](http://pandas.pydata.org/pandas-docs/stable/generated/pandas.get_dummies.html?highlight=get_dummies#pandas.get_dummies)对`'features_raw'`数据来施加一个独热编码。\n",
    "- 将目标标签`'income_raw'`转换成数字项。\n",
    "- 将\"<=50K\"转换成`0`；将\">50K\"转换成`1`。"
   ]
  },
  {
   "cell_type": "code",
   "execution_count": 11,
   "metadata": {
    "ExecuteTime": {
     "end_time": "2020-03-23T13:09:12.288202Z",
     "start_time": "2020-03-23T13:09:12.163502Z"
    },
    "scrolled": true
   },
   "outputs": [
    {
     "name": "stdout",
     "output_type": "stream",
     "text": [
      "103 total features after one-hot encoding.\n",
      "['age', 'education-num', 'capital-gain', 'capital-loss', 'hours-per-week', 'workclass_ Federal-gov', 'workclass_ Local-gov', 'workclass_ Private', 'workclass_ Self-emp-inc', 'workclass_ Self-emp-not-inc', 'workclass_ State-gov', 'workclass_ Without-pay', 'education_level_ 10th', 'education_level_ 11th', 'education_level_ 12th', 'education_level_ 1st-4th', 'education_level_ 5th-6th', 'education_level_ 7th-8th', 'education_level_ 9th', 'education_level_ Assoc-acdm', 'education_level_ Assoc-voc', 'education_level_ Bachelors', 'education_level_ Doctorate', 'education_level_ HS-grad', 'education_level_ Masters', 'education_level_ Preschool', 'education_level_ Prof-school', 'education_level_ Some-college', 'marital-status_ Divorced', 'marital-status_ Married-AF-spouse', 'marital-status_ Married-civ-spouse', 'marital-status_ Married-spouse-absent', 'marital-status_ Never-married', 'marital-status_ Separated', 'marital-status_ Widowed', 'occupation_ Adm-clerical', 'occupation_ Armed-Forces', 'occupation_ Craft-repair', 'occupation_ Exec-managerial', 'occupation_ Farming-fishing', 'occupation_ Handlers-cleaners', 'occupation_ Machine-op-inspct', 'occupation_ Other-service', 'occupation_ Priv-house-serv', 'occupation_ Prof-specialty', 'occupation_ Protective-serv', 'occupation_ Sales', 'occupation_ Tech-support', 'occupation_ Transport-moving', 'relationship_ Husband', 'relationship_ Not-in-family', 'relationship_ Other-relative', 'relationship_ Own-child', 'relationship_ Unmarried', 'relationship_ Wife', 'race_ Amer-Indian-Eskimo', 'race_ Asian-Pac-Islander', 'race_ Black', 'race_ Other', 'race_ White', 'sex_ Female', 'sex_ Male', 'native-country_ Cambodia', 'native-country_ Canada', 'native-country_ China', 'native-country_ Columbia', 'native-country_ Cuba', 'native-country_ Dominican-Republic', 'native-country_ Ecuador', 'native-country_ El-Salvador', 'native-country_ England', 'native-country_ France', 'native-country_ Germany', 'native-country_ Greece', 'native-country_ Guatemala', 'native-country_ Haiti', 'native-country_ Holand-Netherlands', 'native-country_ Honduras', 'native-country_ Hong', 'native-country_ Hungary', 'native-country_ India', 'native-country_ Iran', 'native-country_ Ireland', 'native-country_ Italy', 'native-country_ Jamaica', 'native-country_ Japan', 'native-country_ Laos', 'native-country_ Mexico', 'native-country_ Nicaragua', 'native-country_ Outlying-US(Guam-USVI-etc)', 'native-country_ Peru', 'native-country_ Philippines', 'native-country_ Poland', 'native-country_ Portugal', 'native-country_ Puerto-Rico', 'native-country_ Scotland', 'native-country_ South', 'native-country_ Taiwan', 'native-country_ Thailand', 'native-country_ Trinadad&Tobago', 'native-country_ United-States', 'native-country_ Vietnam', 'native-country_ Yugoslavia']\n"
     ]
    }
   ],
   "source": [
    "# 使用pandas.get_dummies()对'features_raw'数据进行独热编码\n",
    "features = pd.get_dummies(features_raw)\n",
    "\n",
    "# 将'income_raw'编码成数字值,阳性为0，阴性为1\n",
    "income = income_raw.map({'<=50K':0,'>50K':1})\n",
    "\n",
    "# 打印经过独热编码之后的特征数量\n",
    "encoded = list(features.columns)\n",
    "print (\"{} total features after one-hot encoding.\".format(len(encoded)))\n",
    "\n",
    "# 移除下面一行的注释以观察编码的特征名字\n",
    "print (encoded)"
   ]
  },
  {
   "cell_type": "markdown",
   "metadata": {},
   "source": [
    "### 混洗和切分数据\n",
    "现在所有的**分类变量**已被转换成数值特征，而且所有的数值特征已被归一化。现在将数据（包括特征和标签）切分成训练和测试集。其中80%的数据将用于训练和20%的数据用于测试。然后再进一步把训练数据分为训练集和验证集，用来选择和优化模型。\n"
   ]
  },
  {
   "cell_type": "code",
   "execution_count": 12,
   "metadata": {
    "ExecuteTime": {
     "end_time": "2020-03-23T13:12:06.289184Z",
     "start_time": "2020-03-23T13:12:02.636332Z"
    }
   },
   "outputs": [
    {
     "name": "stdout",
     "output_type": "stream",
     "text": [
      "Training set has 28941 samples.\n",
      "Validation set has 7236 samples.\n",
      "Testing set has 9045 samples.\n"
     ]
    }
   ],
   "source": [
    "# 导入 train_test_split\n",
    "from sklearn.model_selection import train_test_split\n",
    "\n",
    "# 将'features'和'income'数据切分成训练集和测试集\n",
    "X_train, X_test, y_train, y_test = train_test_split(features, income, test_size = 0.2, random_state = 0,\n",
    "                                                    stratify = income)\n",
    "# 将'X_train'和'y_train'进一步切分为训练集和验证集\n",
    "X_train, X_val, y_train, y_val = train_test_split(X_train, y_train, test_size=0.2, random_state=0,\n",
    "                                                    stratify = y_train)\n",
    "\n",
    "# 显示切分的结果\n",
    "print (\"Training set has {} samples.\".format(X_train.shape[0]))\n",
    "print (\"Validation set has {} samples.\".format(X_val.shape[0]))\n",
    "print (\"Testing set has {} samples.\".format(X_test.shape[0]))"
   ]
  },
  {
   "cell_type": "code",
   "execution_count": 13,
   "metadata": {
    "ExecuteTime": {
     "end_time": "2020-03-23T13:12:06.331170Z",
     "start_time": "2020-03-23T13:12:06.301446Z"
    }
   },
   "outputs": [
    {
     "name": "stdout",
     "output_type": "stream",
     "text": [
      "(28941, 103)\n",
      "(28941,)\n",
      "(7236, 103)\n",
      "(7236,)\n",
      "(9045, 103)\n",
      "(9045,)\n"
     ]
    }
   ],
   "source": [
    "print(X_train.shape)\n",
    "print(y_train.shape)\n",
    "print(X_val.shape)\n",
    "print(y_val.shape)\n",
    "print(X_test.shape)\n",
    "print(y_test.shape)"
   ]
  },
  {
   "cell_type": "markdown",
   "metadata": {},
   "source": [
    "## 评价模型性能\n",
    "本部分将尝试四种不同的算法，并确定哪一个能够最好地建模数据。四种算法包含一个*天真的预测器* 和三个监督学习器。"
   ]
  },
  {
   "cell_type": "markdown",
   "metadata": {},
   "source": [
    "### 评价方法和朴素的预测器\n",
    "*CharityML*通过他们的研究人员知道被调查者的年收入大于\\$50,000最有可能向他们捐款。因为这个原因*CharityML*对于准确预测谁能够获得\\$50,000以上收入尤其有兴趣。这样看起来使用**准确率**作为评价模型的标准是合适的。另外，把*没有*收入大于\\$50,000的人识别成年收入大于\\$50,000对于*CharityML*来说是有害的，因为他想要找到的是有意愿捐款的用户。这样，我们期望的模型具有准确预测那些能够年收入大于\\$50,000的能力比模型去**查全**这些被调查者*更重要*。我们能够使用**F-beta score**作为评价指标，这样能够同时考虑查准率和查全率：\n",
    "\n",
    "$$ F_{\\beta} = (1 + \\beta^2) \\cdot \\frac{precision \\cdot recall}{\\left( \\beta^2 \\cdot precision \\right) + recall} $$\n",
    "\n",
    "\n",
    "尤其是，当 $\\beta = 0.5$ 的时候更多的强调查准率，这叫做**F$_{0.5}$ score** （或者为了简单叫做F-score）。"
   ]
  },
  {
   "cell_type": "markdown",
   "metadata": {},
   "source": [
    "### 天真的预测器的性能\n",
    "\n",
    "- 通过查看收入超过和不超过 \\$50,000 的人数，我们能发现多数被调查者年收入没有超过 \\$50,000。如果我们简单地预测说*“这个人的收入没有超过 \\$50,000”*，我们就可以得到一个 准确率超过 50% 的预测。这样我们甚至不用看数据就能做到一个准确率超过 50%。这样一个预测被称作是天真的。\n",
    "\n",
    "- 通常对数据使用一个*天真的预测器*是十分重要的，这样能够帮助建立一个模型表现是否好的基准。 使用下面的代码单元计算天真的预测器的相关性能。将你的计算结果赋值给`'accuracy'`, `‘precision’`, `‘recall’` 和 `'fscore'`，这些值会在后面作为参照基准。\n",
    "\n",
    "*如果我们选择一个无论什么情况都预测被调查者年收入大于 \\$50,000 的模型，计算这个模型在**验证集上**的准确率，查准率，查全率和 F-score *  \n"
   ]
  },
  {
   "cell_type": "code",
   "execution_count": 14,
   "metadata": {
    "ExecuteTime": {
     "end_time": "2020-03-23T13:15:42.464270Z",
     "start_time": "2020-03-23T13:15:42.451285Z"
    }
   },
   "outputs": [
    {
     "data": {
      "text/plain": [
       "5463    0\n",
       "Name: income, dtype: int64"
      ]
     },
     "execution_count": 14,
     "metadata": {},
     "output_type": "execute_result"
    }
   ],
   "source": [
    "y_train.sample()"
   ]
  },
  {
   "cell_type": "code",
   "execution_count": 15,
   "metadata": {
    "ExecuteTime": {
     "end_time": "2020-03-23T13:15:42.928295Z",
     "start_time": "2020-03-23T13:15:42.917988Z"
    }
   },
   "outputs": [
    {
     "data": {
      "text/plain": [
       "21768"
      ]
     },
     "execution_count": 15,
     "metadata": {},
     "output_type": "execute_result"
    }
   ],
   "source": [
    "y_train.shape[0]-y_train.sum()"
   ]
  },
  {
   "cell_type": "code",
   "execution_count": 16,
   "metadata": {
    "ExecuteTime": {
     "end_time": "2020-03-23T13:15:43.655912Z",
     "start_time": "2020-03-23T13:15:43.642572Z"
    }
   },
   "outputs": [
    {
     "name": "stdout",
     "output_type": "stream",
     "text": [
      "Naive Predictor on validation data: \n",
      "     Accuracy score: 0.2478 \n",
      "     Precision: 0.2478 \n",
      "     Recall: 1.0000 \n",
      "     F-score: 0.2917\n"
     ]
    }
   ],
   "source": [
    "#不能使用scikit-learn，你需要根据公式自己实现相关计算。\n",
    "#我们简单地预测“这个人的收入超过 $50,000”\n",
    "\n",
    "#真阳性\n",
    "r_pos = y_train.sum()\n",
    "#假阳性\n",
    "f_pos = y_train.shape[0]-r_pos\n",
    "#真阴性\n",
    "r_neg = 0\n",
    "#假阴性\n",
    "f_neg = 0\n",
    "\n",
    "\n",
    "# 计算准确率\n",
    "accuracy = (r_pos+r_neg)/y_train.shape[0]\n",
    "\n",
    "# 计算查准率 Precision\n",
    "precision =  r_pos/(r_pos+f_pos)\n",
    "\n",
    "# 计算查全率 Recall\n",
    "recall = r_pos/(r_pos+f_neg)\n",
    "\n",
    "# 使用上面的公式，设置beta=0.5，计算F-score\n",
    "fscore = (1+0.5*0.5)*precision*recall/(0.5*0.5*precision+recall)\n",
    "\n",
    "# 打印结果\n",
    "print (\"Naive Predictor on validation data: \\n \\\n",
    "    Accuracy score: {:.4f} \\n \\\n",
    "    Precision: {:.4f} \\n \\\n",
    "    Recall: {:.4f} \\n \\\n",
    "    F-score: {:.4f}\".format(accuracy, precision, recall, fscore))"
   ]
  },
  {
   "cell_type": "markdown",
   "metadata": {},
   "source": [
    "## 监督学习模型\n",
    "### 模型应用\n",
    "\n",
    "- [`scikit-learn`](http://scikit-learn.org/stable/supervised_learning.html) 中存在以下监督学习模型：\n",
    "    - 高斯朴素贝叶斯 (GaussianNB)\n",
    "    - 决策树 (DecisionTree) √\n",
    "    - 集成方法 (Bagging, AdaBoost, Random Forest, Gradient Boosting)√\n",
    "    - K近邻 (K Nearest Neighbors)\n",
    "    - 随机梯度下降分类器 (SGDC)\n",
    "    - 支撑向量机 (SVM)√\n",
    "    - Logistic回归（LogisticRegression）\n",
    "\n",
    "将选择三个适合本问题的模型，并在下方进行建模。"
   ]
  },
  {
   "cell_type": "markdown",
   "metadata": {},
   "source": [
    "### 模型1\n",
    "\n",
    "- **模型名称**：决策树 (DecisionTree)\n",
    "\n",
    "\n",
    "- **该模型在真实世界的一个应用场景举例**：通过性别和收入是否>30w，推测用户是否买车。引用出处：https://blog.csdn.net/weixin_42488570/article/details/80745681\n",
    "\n",
    "\n",
    "- **这个模型的优势**：底层算法简单易理解，易于解释和维护，主干分支以熵增最大值来确定，来确定主要影响因素，再进一步细分，计算效率高，不易受到异常值影响。当针对既有(带标签的)数据集进行分类时，会有较好的表现预期，尤其选择适当超参数：max_depth、min_sample_split、min_samples_leaf、max_feature时，表现较好。\n",
    "\n",
    "\n",
    "- **这个模型的缺点**：不支持在线更新，新样本出现后要全部重建，超参数设置具有盲目性，当max_depth过大/min_samples_leaf过小时，容易过拟合，相反则容易欠拟合。\n",
    "\n",
    "\n",
    "- **此模型适合本问题的原因**：既有数据的二元分类问题，仅若干个features，计算量相对不大。"
   ]
  },
  {
   "cell_type": "markdown",
   "metadata": {},
   "source": [
    "### 模型2\n",
    "\n",
    "- **模型名称**:集成方法(AdaBoost)\n",
    "\n",
    "\n",
    "- **该模型在真实世界的一个应用场景举例**:人脸识别，引用来自：https://www.cnblogs.com/dylancao/p/8990464.html\n",
    "\n",
    "\n",
    "- **这个模型的优势**:能从简单模型出发，对每个数据都多次进行评估和分类，并按照前一次模型分类的错误进一步建模迭代，步步为营，减少过拟合的情况，由此提高模型的准确率，拟合效果好。\n",
    "\n",
    "\n",
    "- **这个模型的缺点**：占用内存较大，且当数据中存在异常值时，模型会加重错误的权重分配，导致分类过敏感，效果变差。\n",
    "\n",
    "\n",
    "- **此模型适合本问题的原因**：二元分类问题，可以从简单模型出发，逐步减少错误率，进一步细分探索模型。"
   ]
  },
  {
   "cell_type": "markdown",
   "metadata": {},
   "source": [
    "### 模型3\n",
    "\n",
    "- **模型名称**:支撑向量机 (SVM)\n",
    "\n",
    "\n",
    "- **该模型在真实世界的一个应用场景举例**：从民生数据调查生活满意度。出处： http://www.doc88.com/p-3088400710850.html\n",
    "\n",
    "\n",
    "- **这个模型的优势**：可以解决较高维度的问题，不易出现过拟合。选择合适的核函数，表现较好。\n",
    "\n",
    "\n",
    "- **这个模型的缺点**：回答：计算量大，较耗时，部分问题找核函数和超参数的调整较困难。\n",
    "\n",
    "\n",
    "- **此模型适合本问题的原因**：数据量较适中，即保证计算速度，又保证准确率。"
   ]
  },
  {
   "cell_type": "markdown",
   "metadata": {},
   "source": [
    "### 创建训练和预测流水线\n",
    "\n",
    " - 从[`sklearn.metrics`](http://scikit-learn.org/stable/modules/classes.html#sklearn-metrics-metrics)中导入`fbeta_score`和`accuracy_score`。\n",
    " - 用训练集拟合学习器，并记录训练时间。\n",
    " - 对训练集的前300个数据点和验证集进行预测并记录预测时间。\n",
    " - 计算预测训练集的前300个数据点的准确率和F-score。\n",
    " - 计算预测验证集的准确率和F-score。"
   ]
  },
  {
   "cell_type": "code",
   "execution_count": 17,
   "metadata": {
    "ExecuteTime": {
     "end_time": "2020-03-23T13:24:30.741413Z",
     "start_time": "2020-03-23T13:24:30.729264Z"
    }
   },
   "outputs": [],
   "source": [
    "# 从sklearn中导入两个评价指标 - fbeta_score和accuracy_score\n",
    "from sklearn.metrics import fbeta_score, accuracy_score\n",
    "\n",
    "def train_predict(learner, sample_size, X_train, y_train, X_val, y_val): \n",
    "    '''\n",
    "    inputs:\n",
    "       - learner: the learning algorithm to be trained and predicted on\n",
    "       - sample_size: the size of samples (number) to be drawn from training set\n",
    "       - X_train: features training set\n",
    "       - y_train: income training set\n",
    "       - X_val: features validation set\n",
    "       - y_val: income validation set\n",
    "    '''\n",
    "    \n",
    "    results = {}\n",
    "    \n",
    "    # 使用sample_size大小的训练数据来拟合学习器\n",
    "    X_train_sample = X_train[0:sample_size]\n",
    "    y_train_sample = y_train[0:sample_size]\n",
    "    \n",
    "    # Fit the learner to the training data using slicing with 'sample_size'\n",
    "    start = time() # 获得程序开始时间\n",
    "    learner = learner.fit(X_train_sample,y_train_sample)\n",
    "    end = time() # 获得程序结束时间\n",
    "    \n",
    "    # 计算训练时间\n",
    "    results['train_time'] = end - start\n",
    "    \n",
    "    # 得到在验证集上的预测值\n",
    "    # 然后得到对前300个训练数据的预测结果\n",
    "    start = time() # 获得程序开始时间\n",
    "    predictions_val = learner.predict(X_val)\n",
    "    predictions_train = learner.predict(X_train[0:300])\n",
    "    end = time() # 获得程序结束时间\n",
    "    \n",
    "    # 计算预测用时\n",
    "    results['pred_time'] = end - start\n",
    "            \n",
    "    # 计算在最前面的300个训练数据的准确率\n",
    "    results['acc_train'] = accuracy_score(y_train[0:300],predictions_train)\n",
    "        \n",
    "    # 计算在验证上的准确率\n",
    "    results['acc_val'] = accuracy_score(y_val,predictions_val)\n",
    "    \n",
    "    # 计算在最前面300个训练数据上的F-score\n",
    "    results['f_train'] = fbeta_score(y_train[0:300],predictions_train,beta=0.5)\n",
    "        \n",
    "    # 计算验证集上的F-score\n",
    "    results['f_val'] = fbeta_score(y_val,predictions_val,beta=0.5)\n",
    "       \n",
    "    # 成功\n",
    "    print (\"{} trained on {} samples.\".format(learner.__class__.__name__, sample_size))\n",
    "        \n",
    "    # 返回结果\n",
    "    return results"
   ]
  },
  {
   "cell_type": "markdown",
   "metadata": {},
   "source": [
    "### 初始模型的评估\n",
    "**步骤细节：**\n",
    "\n",
    "- 导入三个监督学习模型。   \n",
    "\n",
    "\n",
    "- 初始化三个模型并存储在`'clf_A'`，`'clf_B'`和`'clf_C'`中。\n",
    "  - 使用模型的默认参数值，在接下来的部分中你将需要对某一个模型的参数进行调整。             \n",
    "  - 设置`random_state`  。       \n",
    "  \n",
    "  \n",
    "- 计算1%， 10%， 100%的训练数据分别对应多少个数据点，并将这些值存储在`'samples_1'`, `'samples_10'`, `'samples_100'`中\n",
    "\n"
   ]
  },
  {
   "cell_type": "code",
   "execution_count": 19,
   "metadata": {
    "ExecuteTime": {
     "end_time": "2020-03-23T13:28:15.324919Z",
     "start_time": "2020-03-23T13:26:47.331144Z"
    }
   },
   "outputs": [
    {
     "name": "stdout",
     "output_type": "stream",
     "text": [
      "DecisionTreeClassifier trained on 289 samples.\n",
      "DecisionTreeClassifier trained on 2894 samples.\n",
      "DecisionTreeClassifier trained on 28941 samples.\n",
      "AdaBoostClassifier trained on 289 samples.\n",
      "AdaBoostClassifier trained on 2894 samples.\n",
      "AdaBoostClassifier trained on 28941 samples.\n",
      "SVC trained on 289 samples.\n"
     ]
    },
    {
     "name": "stderr",
     "output_type": "stream",
     "text": [
      "/Users/cuichuanmin/anaconda3/lib/python3.7/site-packages/sklearn/svm/base.py:196: FutureWarning: The default value of gamma will change from 'auto' to 'scale' in version 0.22 to account better for unscaled features. Set gamma explicitly to 'auto' or 'scale' to avoid this warning.\n",
      "  \"avoid this warning.\", FutureWarning)\n",
      "/Users/cuichuanmin/anaconda3/lib/python3.7/site-packages/sklearn/metrics/classification.py:1143: UndefinedMetricWarning: F-score is ill-defined and being set to 0.0 due to no predicted samples.\n",
      "  'precision', 'predicted', average, warn_for)\n",
      "/Users/cuichuanmin/anaconda3/lib/python3.7/site-packages/sklearn/svm/base.py:196: FutureWarning: The default value of gamma will change from 'auto' to 'scale' in version 0.22 to account better for unscaled features. Set gamma explicitly to 'auto' or 'scale' to avoid this warning.\n",
      "  \"avoid this warning.\", FutureWarning)\n",
      "/Users/cuichuanmin/anaconda3/lib/python3.7/site-packages/sklearn/metrics/classification.py:1143: UndefinedMetricWarning: F-score is ill-defined and being set to 0.0 due to no predicted samples.\n",
      "  'precision', 'predicted', average, warn_for)\n",
      "/Users/cuichuanmin/anaconda3/lib/python3.7/site-packages/sklearn/svm/base.py:196: FutureWarning: The default value of gamma will change from 'auto' to 'scale' in version 0.22 to account better for unscaled features. Set gamma explicitly to 'auto' or 'scale' to avoid this warning.\n",
      "  \"avoid this warning.\", FutureWarning)\n"
     ]
    },
    {
     "name": "stdout",
     "output_type": "stream",
     "text": [
      "SVC trained on 2894 samples.\n"
     ]
    },
    {
     "name": "stderr",
     "output_type": "stream",
     "text": [
      "/Users/cuichuanmin/anaconda3/lib/python3.7/site-packages/sklearn/metrics/classification.py:1143: UndefinedMetricWarning: F-score is ill-defined and being set to 0.0 due to no predicted samples.\n",
      "  'precision', 'predicted', average, warn_for)\n"
     ]
    },
    {
     "name": "stdout",
     "output_type": "stream",
     "text": [
      "SVC trained on 28941 samples.\n"
     ]
    },
    {
     "data": {
      "image/png": "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\n",
      "text/plain": [
       "<Figure size 792x504 with 6 Axes>"
      ]
     },
     "metadata": {
      "needs_background": "light"
     },
     "output_type": "display_data"
    }
   ],
   "source": [
    "# 从sklearn中导入三个监督学习模型\n",
    "from sklearn.tree import DecisionTreeClassifier\n",
    "from sklearn.ensemble import AdaBoostClassifier\n",
    "from sklearn.svm import SVC\n",
    "\n",
    "# 初始化三个模型\n",
    "clf_A = DecisionTreeClassifier(max_depth=7,min_samples_leaf=5,random_state=42)\n",
    "clf_B = AdaBoostClassifier(base_estimator=DecisionTreeClassifier(max_depth=3),n_estimators=4)\n",
    "clf_C = SVC(kernel='poly',degree=4,C=0.2)\n",
    "\n",
    "# 计算1%， 10%， 100%的训练数据分别对应多少点\n",
    "samples_1 = int(X_train.shape[0]*0.01)\n",
    "samples_10 = int(X_train.shape[0]*0.1)\n",
    "samples_100 = int(X_train.shape[0])\n",
    "\n",
    "# 收集学习器的结果\n",
    "results = {}\n",
    "for clf in [clf_A, clf_B, clf_C]:\n",
    "    clf_name = clf.__class__.__name__\n",
    "    results[clf_name] = {}\n",
    "    for i, samples in enumerate([samples_1, samples_10, samples_100]):\n",
    "        results[clf_name][i] = train_predict(clf, samples, X_train, y_train, X_val, y_val)\n",
    "\n",
    "# 对选择的三个模型得到的评价结果进行可视化\n",
    "vs.evaluate(results, accuracy, fscore)\n"
   ]
  },
  {
   "cell_type": "markdown",
   "metadata": {},
   "source": [
    "----\n",
    "## 提高效果\n",
    "\n",
    "从三个有监督的学习模型中选择 *最好的* 模型来训练数据。进而在整个训练集（`X_train`和`y_train`）上使用网格搜索优化，通过调节参数以获得相比模型优化之前更好的 F-score。"
   ]
  },
  {
   "cell_type": "markdown",
   "metadata": {},
   "source": [
    "### 选择最佳的模型"
   ]
  },
  {
   "cell_type": "markdown",
   "metadata": {},
   "source": [
    "通过以上初步探索，**`AdaBoostClassifier模型`**综合表现最好，尤其在将整个训练集都参与fit时，其在accuracy score、F0.2Score均有较好的表现，预测效果较好，且训练时间较短，适合该数据。"
   ]
  },
  {
   "cell_type": "markdown",
   "metadata": {},
   "source": [
    "### 解释模型"
   ]
  },
  {
   "cell_type": "markdown",
   "metadata": {},
   "source": [
    "**`AdaBoostClassifier模型`** 的工作过程是循序渐进的，这种循序渐进指的是首先用弱分类器最大限度的拟合数据，使错误最小化，并由此开始迭代。在每一次迭代中, 弱分类器的训练数据的分布是一样的，但是用多个弱分类器依次对数据进行分类时，当次分类会在前一次分类出现的错误基础上，重新分配权重，增加被错分数据的权重值后，需满足correct数据的权重=incorrect数据的权重。重新分配权重之后，再次引入弱分类器，仍然以出错率最小的原则进行分类，由此快速迭代分类效果，减少无用功。最终汇总时，将采取类似“举手表决”的形式，对每个数据的分类进行综合“投票”，获得票数较多的一方即决定了数据的最终分类。"
   ]
  },
  {
   "cell_type": "markdown",
   "metadata": {},
   "source": [
    "### 模型调优\n",
    "调节选择的模型的参数。使用网格搜索（GridSearchCV）调整模型的重要参数\n",
    "\n",
    "- 导入[`sklearn.model_selection.GridSearchCV`](http://scikit-learn.org/stable/modules/generated/sklearn.model_selection.GridSearchCV.html) 和 [`sklearn.metrics.make_scorer`](http://scikit-learn.org/stable/modules/generated/sklearn.metrics.make_scorer.html).\n",
    "\n",
    "\n",
    "- 初始化分类器，并将其存储在`clf`中。\n",
    "\n",
    "- 设置`random_state`。\n",
    "\n",
    "- 创建一个对于这个模型调整参数的字典。\n",
    " \n",
    "- 使用`make_scorer`来创建一个`fbeta_score`评分对象（设置$\\beta = 0.5$）\n",
    "。\n",
    "- 在分类器clf上用'scorer'作为评价函数运行网格搜索，并将结果存储在grid_obj中。\n",
    "\n",
    "- 用训练集（X_train, y_train）训练grid search object,并将结果存储在`grid_fit`中。\n"
   ]
  },
  {
   "cell_type": "code",
   "execution_count": 20,
   "metadata": {
    "ExecuteTime": {
     "end_time": "2020-03-23T13:35:50.675291Z",
     "start_time": "2020-03-23T13:35:41.149048Z"
    }
   },
   "outputs": [
    {
     "name": "stderr",
     "output_type": "stream",
     "text": [
      "/Users/cuichuanmin/anaconda3/lib/python3.7/site-packages/sklearn/model_selection/_split.py:2053: FutureWarning: You should specify a value for 'cv' instead of relying on the default value. The default value will change from 3 to 5 in version 0.22.\n",
      "  warnings.warn(CV_WARNING, FutureWarning)\n"
     ]
    },
    {
     "name": "stdout",
     "output_type": "stream",
     "text": [
      "best_clf\n",
      "------\n",
      "AdaBoostClassifier(algorithm='SAMME.R',\n",
      "          base_estimator=DecisionTreeClassifier(class_weight=None, criterion='gini', max_depth=4,\n",
      "            max_features=None, max_leaf_nodes=None,\n",
      "            min_impurity_decrease=0.0, min_impurity_split=None,\n",
      "            min_samples_leaf=1, min_samples_split=2,\n",
      "            min_weight_fraction_leaf=0.0, presort=False, random_state=None,\n",
      "            splitter='best'),\n",
      "          learning_rate=1.0, n_estimators=8, random_state=42)\n",
      "\n",
      "Unoptimized model\n",
      "------\n",
      "Accuracy score on validation data: 0.8697\n",
      "F-score on validation data: 0.7463\n",
      "\n",
      "Optimized Model\n",
      "------\n",
      "Final accuracy score on the validation data: 0.8700\n",
      "Final F-score on the validation data: 0.7508\n"
     ]
    }
   ],
   "source": [
    "# 导入'GridSearchCV', 'make_scorer'和其他一些需要的库\n",
    "from sklearn.model_selection import GridSearchCV\n",
    "from sklearn.metrics import make_scorer\n",
    "\n",
    "# 初始化分类器\n",
    "clf = AdaBoostClassifier(base_estimator=DecisionTreeClassifier(max_depth=4),random_state=42)\n",
    "\n",
    "# 创建你希望调节的参数列表\n",
    "parameters = {'n_estimators':[2,4,6,8,10]}\n",
    "\n",
    "# 创建一个fbeta_score打分对象\n",
    "scorer = make_scorer(fbeta_score,beta=0.5)\n",
    "\n",
    "# 在分类器上使用网格搜索，使用'scorer'作为评价函数\n",
    "grid_obj = GridSearchCV(clf,parameters,scoring=scorer)\n",
    "\n",
    "# 用训练数据拟合网格搜索对象并找到最佳参数\n",
    "grid_fit=grid_obj.fit(X_train,y_train)\n",
    "\n",
    "# 得到estimator\n",
    "best_clf = grid_obj.best_estimator_\n",
    "\n",
    "# 使用没有调优的模型做预测\n",
    "predictions = (clf.fit(X_train, y_train)).predict(X_val)\n",
    "best_predictions = best_clf.predict(X_val)\n",
    "\n",
    "# 输出调优后的模型\n",
    "print (\"best_clf\\n------\")\n",
    "print (best_clf)\n",
    "\n",
    "# 输出调参前和调参后的分数\n",
    "print (\"\\nUnoptimized model\\n------\")\n",
    "print (\"Accuracy score on validation data: {:.4f}\".format(accuracy_score(y_val, predictions)))\n",
    "print (\"F-score on validation data: {:.4f}\".format(fbeta_score(y_val, predictions, beta = 0.5)))\n",
    "print (\"\\nOptimized Model\\n------\")\n",
    "print (\"Final accuracy score on the validation data: {:.4f}\".format(accuracy_score(y_val, best_predictions)))\n",
    "print (\"Final F-score on the validation data: {:.4f}\".format(fbeta_score(y_val, best_predictions, beta = 0.5)))"
   ]
  },
  {
   "cell_type": "markdown",
   "metadata": {},
   "source": [
    "### 最终模型评估\n"
   ]
  },
  {
   "cell_type": "markdown",
   "metadata": {},
   "source": [
    "#### 模型表现结果:\n",
    " \n",
    "| 评价指标         |  未优化的模型        | 优化的模型        |\n",
    "| :------------: |  :---------------: | :-------------: | \n",
    "| 准确率          |              0.8697      |                 0.8700\n",
    "| F-score        |              0.7463       |                 0.7508"
   ]
  },
  {
   "cell_type": "markdown",
   "metadata": {},
   "source": [
    "优化之后模型变的更好，虽然只是略微改善。"
   ]
  },
  {
   "cell_type": "markdown",
   "metadata": {},
   "source": [
    "----\n",
    "## 特征的重要性\n",
    "\n",
    "- 使用监督学习算法的一个重要的任务是决定哪些特征能够提供最强的预测能力。专注于少量的有效特征和标签之间的关系，我们能够更加简单地理解这些现象，这在很多情况下都是十分有用的。在这个项目的情境下这表示我们希望选择一小部分特征，这些特征能够在预测被调查者是否年收入大于$50,000这个问题上有很强的预测能力。\n",
    "\n",
    "\n",
    "- 选择一个有 `'feature_importance_'` 属性的scikit学习分类器（例如 AdaBoost，随机森林）。`'feature_importance_'` 属性是对特征的重要性排序的函数。"
   ]
  },
  {
   "cell_type": "markdown",
   "metadata": {},
   "source": [
    "### 观察特征相关性\n",
    "观察13项特征，从逻辑上猜测最重要的5项特征。"
   ]
  },
  {
   "cell_type": "code",
   "execution_count": 21,
   "metadata": {
    "ExecuteTime": {
     "end_time": "2020-03-23T13:38:29.666057Z",
     "start_time": "2020-03-23T13:38:29.556627Z"
    }
   },
   "outputs": [
    {
     "data": {
      "text/html": [
       "<div>\n",
       "<style scoped>\n",
       "    .dataframe tbody tr th:only-of-type {\n",
       "        vertical-align: middle;\n",
       "    }\n",
       "\n",
       "    .dataframe tbody tr th {\n",
       "        vertical-align: top;\n",
       "    }\n",
       "\n",
       "    .dataframe thead th {\n",
       "        text-align: right;\n",
       "    }\n",
       "</style>\n",
       "<table border=\"1\" class=\"dataframe\">\n",
       "  <thead>\n",
       "    <tr style=\"text-align: right;\">\n",
       "      <th></th>\n",
       "      <th>age</th>\n",
       "      <th>workclass</th>\n",
       "      <th>education_level</th>\n",
       "      <th>education-num</th>\n",
       "      <th>marital-status</th>\n",
       "      <th>occupation</th>\n",
       "      <th>relationship</th>\n",
       "      <th>race</th>\n",
       "      <th>sex</th>\n",
       "      <th>capital-gain</th>\n",
       "      <th>capital-loss</th>\n",
       "      <th>hours-per-week</th>\n",
       "      <th>native-country</th>\n",
       "      <th>income</th>\n",
       "    </tr>\n",
       "  </thead>\n",
       "  <tbody>\n",
       "    <tr>\n",
       "      <th>1368</th>\n",
       "      <td>37</td>\n",
       "      <td>Private</td>\n",
       "      <td>Masters</td>\n",
       "      <td>14.0</td>\n",
       "      <td>Divorced</td>\n",
       "      <td>Exec-managerial</td>\n",
       "      <td>Unmarried</td>\n",
       "      <td>White</td>\n",
       "      <td>Male</td>\n",
       "      <td>0.0</td>\n",
       "      <td>0.0</td>\n",
       "      <td>60.0</td>\n",
       "      <td>United-States</td>\n",
       "      <td>&gt;50K</td>\n",
       "    </tr>\n",
       "    <tr>\n",
       "      <th>28118</th>\n",
       "      <td>57</td>\n",
       "      <td>Private</td>\n",
       "      <td>HS-grad</td>\n",
       "      <td>9.0</td>\n",
       "      <td>Married-civ-spouse</td>\n",
       "      <td>Other-service</td>\n",
       "      <td>Husband</td>\n",
       "      <td>White</td>\n",
       "      <td>Male</td>\n",
       "      <td>0.0</td>\n",
       "      <td>0.0</td>\n",
       "      <td>78.0</td>\n",
       "      <td>United-States</td>\n",
       "      <td>&lt;=50K</td>\n",
       "    </tr>\n",
       "    <tr>\n",
       "      <th>146</th>\n",
       "      <td>29</td>\n",
       "      <td>Private</td>\n",
       "      <td>HS-grad</td>\n",
       "      <td>9.0</td>\n",
       "      <td>Divorced</td>\n",
       "      <td>Craft-repair</td>\n",
       "      <td>Not-in-family</td>\n",
       "      <td>White</td>\n",
       "      <td>Male</td>\n",
       "      <td>0.0</td>\n",
       "      <td>0.0</td>\n",
       "      <td>60.0</td>\n",
       "      <td>United-States</td>\n",
       "      <td>&lt;=50K</td>\n",
       "    </tr>\n",
       "    <tr>\n",
       "      <th>41363</th>\n",
       "      <td>33</td>\n",
       "      <td>Private</td>\n",
       "      <td>Assoc-voc</td>\n",
       "      <td>11.0</td>\n",
       "      <td>Married-civ-spouse</td>\n",
       "      <td>Craft-repair</td>\n",
       "      <td>Husband</td>\n",
       "      <td>White</td>\n",
       "      <td>Male</td>\n",
       "      <td>0.0</td>\n",
       "      <td>0.0</td>\n",
       "      <td>40.0</td>\n",
       "      <td>United-States</td>\n",
       "      <td>&lt;=50K</td>\n",
       "    </tr>\n",
       "    <tr>\n",
       "      <th>32449</th>\n",
       "      <td>23</td>\n",
       "      <td>Private</td>\n",
       "      <td>HS-grad</td>\n",
       "      <td>9.0</td>\n",
       "      <td>Never-married</td>\n",
       "      <td>Craft-repair</td>\n",
       "      <td>Not-in-family</td>\n",
       "      <td>White</td>\n",
       "      <td>Male</td>\n",
       "      <td>0.0</td>\n",
       "      <td>0.0</td>\n",
       "      <td>40.0</td>\n",
       "      <td>United-States</td>\n",
       "      <td>&lt;=50K</td>\n",
       "    </tr>\n",
       "  </tbody>\n",
       "</table>\n",
       "</div>"
      ],
      "text/plain": [
       "       age workclass education_level  education-num       marital-status  \\\n",
       "1368    37   Private         Masters           14.0             Divorced   \n",
       "28118   57   Private         HS-grad            9.0   Married-civ-spouse   \n",
       "146     29   Private         HS-grad            9.0             Divorced   \n",
       "41363   33   Private       Assoc-voc           11.0   Married-civ-spouse   \n",
       "32449   23   Private         HS-grad            9.0        Never-married   \n",
       "\n",
       "             occupation    relationship    race    sex  capital-gain  \\\n",
       "1368    Exec-managerial       Unmarried   White   Male           0.0   \n",
       "28118     Other-service         Husband   White   Male           0.0   \n",
       "146        Craft-repair   Not-in-family   White   Male           0.0   \n",
       "41363      Craft-repair         Husband   White   Male           0.0   \n",
       "32449      Craft-repair   Not-in-family   White   Male           0.0   \n",
       "\n",
       "       capital-loss  hours-per-week  native-country income  \n",
       "1368            0.0            60.0   United-States   >50K  \n",
       "28118           0.0            78.0   United-States  <=50K  \n",
       "146             0.0            60.0   United-States  <=50K  \n",
       "41363           0.0            40.0   United-States  <=50K  \n",
       "32449           0.0            40.0   United-States  <=50K  "
      ]
     },
     "execution_count": 21,
     "metadata": {},
     "output_type": "execute_result"
    }
   ],
   "source": [
    "data.sample(5)"
   ]
  },
  {
   "cell_type": "markdown",
   "metadata": {},
   "source": [
    "**分析和推测最重要的5个特征：**\n",
    "- 特征1: 年龄age，年级越大越趋于更有能力和资源，赢得更好的收入\n",
    "- 特征2: 教育水平education_level，教育水平越高越趋于收入高\n",
    "- 特征3: 性别sex，一般来说，男性收入偏高\n",
    "- 特征4: 职业occupation，不同的职业，收入水平有明显区别\n",
    "- 特征5: 是否结婚marital-status，一般来说，结婚的人群收入水平偏高"
   ]
  },
  {
   "cell_type": "markdown",
   "metadata": {},
   "source": [
    "### 提取特征重要性\n",
    "\n",
    "**主要步骤：**\n",
    "\n",
    " - 在整个训练集上训练监督学习模型。\n",
    " - 使用模型中的 `'feature_importances_'`提取特征的重要性。"
   ]
  },
  {
   "cell_type": "code",
   "execution_count": 22,
   "metadata": {
    "ExecuteTime": {
     "end_time": "2020-03-23T13:42:22.713700Z",
     "start_time": "2020-03-23T13:42:22.002076Z"
    }
   },
   "outputs": [
    {
     "data": {
      "image/png": "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\n",
      "text/plain": [
       "<Figure size 648x360 with 1 Axes>"
      ]
     },
     "metadata": {
      "needs_background": "light"
     },
     "output_type": "display_data"
    }
   ],
   "source": [
    "# 选择\"提升树\"算法，在训练集上训练监督学习模型\n",
    "model = AdaBoostClassifier(base_estimator=DecisionTreeClassifier(max_depth=3),n_estimators=8)\n",
    "model.fit(X_train,y_train)\n",
    "# 提取特征重要性\n",
    "importances = model.feature_importances_\n",
    "\n",
    "# 绘图\n",
    "vs.feature_plot(importances, X_train, y_train)"
   ]
  },
  {
   "cell_type": "markdown",
   "metadata": {},
   "source": [
    "### 提取特征重要性\n",
    "观察上面创建的可视化图像，得到5个用于预测被调查者年收入是否大于$50,000最相关的特征，并与前述中个人的分析推测对比，得出以下结论："
   ]
  },
  {
   "cell_type": "markdown",
   "metadata": {},
   "source": [
    "\n",
    "- 这五个特征的权重加和为0.55，超过半数。\n",
    "- 除了年龄和是否结婚2个特征外，其他的均不匹配。\n",
    "- 实际结果与我的选择较接近，但是我认为教育水平对收入影响较大，而实际受教育年数影响更为突出。我认为性别和职业对收入影响较大，但实际并未有如此大的影响。\n"
   ]
  },
  {
   "cell_type": "markdown",
   "metadata": {},
   "source": [
    "### 特征选择\n",
    "\n",
    "- 从上面的可视化结果，可以看到前五个最重要的特征贡献了数据中**所有**特征中超过一半的重要性。\n",
    "- 因此考虑用可用特征的一个子集，可以尝试**减小特征空间**，简化模型需要学习的信息，而且这样在训练和预测的时间也会更少。使用更少的特征来训练模型。"
   ]
  },
  {
   "cell_type": "code",
   "execution_count": 23,
   "metadata": {
    "ExecuteTime": {
     "end_time": "2020-03-23T13:51:01.657011Z",
     "start_time": "2020-03-23T13:51:01.469431Z"
    }
   },
   "outputs": [
    {
     "name": "stdout",
     "output_type": "stream",
     "text": [
      "Final Model trained on full data\n",
      "------\n",
      "Accuracy on validation data: 0.8700\n",
      "F-score on validation data: 0.7508\n",
      "\n",
      "Final Model trained on reduced data\n",
      "------\n",
      "Accuracy on validation data: 0.8411\n",
      "F-score on validation data: 0.6852\n"
     ]
    }
   ],
   "source": [
    "# 导入克隆模型的功能\n",
    "from sklearn.base import clone\n",
    "\n",
    "# 减小特征空间\n",
    "X_train_reduced = X_train[X_train.columns.values[(np.argsort(importances)[::-1])[:5]]]\n",
    "X_val_reduced = X_val[X_val.columns.values[(np.argsort(importances)[::-1])[:5]]]\n",
    "\n",
    "# 在前面的网格搜索的基础上训练一个“最好的”模型\n",
    "clf_on_reduced = (clone(best_clf)).fit(X_train_reduced, y_train)\n",
    "\n",
    "# 做一个新的预测\n",
    "reduced_predictions = clf_on_reduced.predict(X_val_reduced)\n",
    "\n",
    "# 对于每一个版本的数据汇报最终模型的分数\n",
    "print (\"Final Model trained on full data\\n------\")\n",
    "print (\"Accuracy on validation data: {:.4f}\".format(accuracy_score(y_val, best_predictions)))\n",
    "print (\"F-score on validation data: {:.4f}\".format(fbeta_score(y_val, best_predictions, beta = 0.5)))\n",
    "print (\"\\nFinal Model trained on reduced data\\n------\")\n",
    "print (\"Accuracy on validation data: {:.4f}\".format(accuracy_score(y_val, reduced_predictions)))\n",
    "print (\"F-score on validation data: {:.4f}\".format(fbeta_score(y_val, reduced_predictions, beta = 0.5)))"
   ]
  },
  {
   "cell_type": "markdown",
   "metadata": {},
   "source": [
    "### 特征选择的影响\n"
   ]
  },
  {
   "cell_type": "markdown",
   "metadata": {},
   "source": [
    "**模型训练结果：** 只使用5个特征的模型，相比应用所有特征数据的模型，其F-score和准确率均有所下降，尤其F-score下降较大，但总体表现尚可。\n",
    "所以，若不得不考虑训练时间，我会选择使用部分特征数据做为训练集。"
   ]
  },
  {
   "cell_type": "markdown",
   "metadata": {},
   "source": [
    "### 在测试集上测试模型\n",
    "\n",
    "*使用表现最好的模型，在测试集上测试，计算出准确率和 F-score。*\n",
    "*观察测试结果*\n",
    "\n",
    "**注意：**测试集只能用一次。"
   ]
  },
  {
   "cell_type": "code",
   "execution_count": 24,
   "metadata": {
    "ExecuteTime": {
     "end_time": "2020-03-23T13:53:59.435627Z",
     "start_time": "2020-03-23T13:53:59.186009Z"
    },
    "scrolled": true
   },
   "outputs": [
    {
     "name": "stdout",
     "output_type": "stream",
     "text": [
      "Accuracy: 0.8558319513543394\n",
      "F-score: 0.7246989224593282\n"
     ]
    },
    {
     "data": {
      "image/png": "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\n",
      "text/plain": [
       "<Figure size 648x360 with 1 Axes>"
      ]
     },
     "metadata": {
      "needs_background": "light"
     },
     "output_type": "display_data"
    }
   ],
   "source": [
    "# Test your model on testing data and report accuracy and F score\n",
    "y_test_pred = model.predict(X_test)\n",
    "\n",
    "print('Accuracy:',accuracy_score(y_test, y_test_pred))\n",
    "print('F-score:',fbeta_score(y_test, y_test_pred, beta = 0.5))\n",
    "\n",
    "# 提取特征重要性\n",
    "importances = model.feature_importances_\n",
    "\n",
    "# 绘图\n",
    "vs.feature_plot(importances, X_train, y_train)"
   ]
  },
  {
   "cell_type": "markdown",
   "metadata": {},
   "source": [
    "## 总结"
   ]
  },
  {
   "cell_type": "markdown",
   "metadata": {},
   "source": [
    "- 在建模的过程中，本项目选取了3种监督学习模型：决策树 (DecisionTree)、集成方法(AdaBoost)、支撑向量机 (SVM)。\n",
    "\n",
    "\n",
    "- 在初始模型评估中，将训练集的数据按照1%，10%，100%的比例，与验证集的数据相结合，分别对3个模型在训练时间、准确率、Fscore上进行比较。结果显示：\n",
    "    - 训练时间: SVM > DecisionTree > AdaBoost\n",
    "    - 准确率: AdaBoost > DecisionTree > SVM\n",
    "    - Fscore: AdaBoost > DecisionTree > SVM\n",
    "    \n",
    "    \n",
    "- 显然“提升树”集成方法具有压倒性的优势，训练时间最短，训练效果最好。按照100%训练集训练的结果，无论在训练集还是验证集上，其准确率都在0.8以上，Fscore也接近0.8。远远高于天真预测器的表现（准确率：0.2478，Fscore:0.2917）\n",
    "- 在模型调优之后，提升树模型的表现进一步提高，最终其表现结果：\n",
    "    - 验证集：Accuracy=0.8700，Fscore=0.7508\n",
    "    - 测试集：Accuracy=0.8558，Fscore=0.7247\n",
    "   \n",
    "   \n",
    "- 提取特征重要性：发现age、hour_per_week、education-num、capital-loss、marital-status_Married-civ-spouse这5个特征最为关键，在预测是否为sponsor时，占到过半的权重（0.55）。"
   ]
  }
 ],
 "metadata": {
  "anaconda-cloud": {},
  "kernelspec": {
   "display_name": "Python 3",
   "language": "python",
   "name": "python3"
  },
  "language_info": {
   "codemirror_mode": {
    "name": "ipython",
    "version": 3
   },
   "file_extension": ".py",
   "mimetype": "text/x-python",
   "name": "python",
   "nbconvert_exporter": "python",
   "pygments_lexer": "ipython3",
   "version": "3.7.1"
  },
  "toc": {
   "base_numbering": 1,
   "nav_menu": {},
   "number_sections": true,
   "sideBar": true,
   "skip_h1_title": false,
   "title_cell": "项目目录",
   "title_sidebar": "Contents",
   "toc_cell": true,
   "toc_position": {
    "height": "calc(100% - 180px)",
    "left": "10px",
    "top": "150px",
    "width": "288px"
   },
   "toc_section_display": true,
   "toc_window_display": true
  }
 },
 "nbformat": 4,
 "nbformat_minor": 1
}
||||||| merged common ancestors
=======
{
 "cells": [
  {
   "cell_type": "markdown",
   "metadata": {
    "hide_input": true
   },
   "source": [
    "# 为*CharityML*寻找捐献者(监督学习项目)"
   ]
  },
  {
   "cell_type": "markdown",
   "metadata": {},
   "source": [
    "## 背景和说明\n",
    "\n",
    "- 在本项目中，将使用1994年美国人口普查收集的数据，选用若干个**监督学习**算法，以准确地建模被调查者的收入。\n",
    "- 根据建模的初步结果，从中选择出最佳的候选算法，并进一步优化该算法以最好地建模这些数据。\n",
    "- 目标是建立一个能够准确地预测被调查者年收入是否超过50000美元的模型。这种类型的任务会出现在那些依赖于捐款而存在的非营利性组织。\n",
    "- 了解人群的收入情况可以帮助一个非营利性的机构更好地了解他们要多大的捐赠，或是否他们应该接触这些人。虽然我们很难直接从公开的资源中推断出一个人的一般收入阶层，但是我们可以（也正是我们将要做的）从其他的一些公开的可获得的资源中获得一些特征从而推断出该值。\n",
    "\n",
    "这个项目的数据集来自[UCI机器学习知识库](https://archive.ics.uci.edu/ml/datasets/Census+Income)。这个数据集是由Ron Kohavi和Barry Becker在发表文章_\"Scaling Up the Accuracy of Naive-Bayes Classifiers: A Decision-Tree Hybrid\"_之后捐赠的，你可以在Ron Kohavi提供的[在线版本](https://www.aaai.org/Papers/KDD/1996/KDD96-033.pdf)中找到这个文章。我们在这里探索的数据集相比于原有的数据集有一些小小的改变，比如说移除了特征`'fnlwgt'` 以及一些遗失的或者是格式不正确的记录。"
   ]
  },
  {
   "cell_type": "markdown",
   "metadata": {
    "toc": true
   },
   "source": [
    "<h1>项目目录<span class=\"tocSkip\"></span></h1>\n",
    "<div class=\"toc\"><ul class=\"toc-item\"><li><span><a href=\"#为CharityML寻找捐献者(监督学习项目)\" data-toc-modified-id=\"为CharityML寻找捐献者(监督学习项目)-1\"><span class=\"toc-item-num\">1&nbsp;&nbsp;</span>为<em>CharityML</em>寻找捐献者(监督学习项目)</a></span><ul class=\"toc-item\"><li><span><a href=\"#背景和说明\" data-toc-modified-id=\"背景和说明-1.1\"><span class=\"toc-item-num\">1.1&nbsp;&nbsp;</span>背景和说明</a></span></li><li><span><a href=\"#探索数据\" data-toc-modified-id=\"探索数据-1.2\"><span class=\"toc-item-num\">1.2&nbsp;&nbsp;</span>探索数据</a></span><ul class=\"toc-item\"><li><span><a href=\"#练习：数据探索\" data-toc-modified-id=\"练习：数据探索-1.2.1\"><span class=\"toc-item-num\">1.2.1&nbsp;&nbsp;</span>练习：数据探索</a></span></li></ul></li><li><span><a href=\"#准备数据\" data-toc-modified-id=\"准备数据-1.3\"><span class=\"toc-item-num\">1.3&nbsp;&nbsp;</span>准备数据</a></span><ul class=\"toc-item\"><li><span><a href=\"#获得特征和标签\" data-toc-modified-id=\"获得特征和标签-1.3.1\"><span class=\"toc-item-num\">1.3.1&nbsp;&nbsp;</span>获得特征和标签</a></span></li><li><span><a href=\"#转换倾斜的连续特征\" data-toc-modified-id=\"转换倾斜的连续特征-1.3.2\"><span class=\"toc-item-num\">1.3.2&nbsp;&nbsp;</span>转换倾斜的连续特征</a></span></li><li><span><a href=\"#归一化数字特征\" data-toc-modified-id=\"归一化数字特征-1.3.3\"><span class=\"toc-item-num\">1.3.3&nbsp;&nbsp;</span>归一化数字特征</a></span></li><li><span><a href=\"#数据预处理\" data-toc-modified-id=\"数据预处理-1.3.4\"><span class=\"toc-item-num\">1.3.4&nbsp;&nbsp;</span>数据预处理</a></span></li><li><span><a href=\"#混洗和切分数据\" data-toc-modified-id=\"混洗和切分数据-1.3.5\"><span class=\"toc-item-num\">1.3.5&nbsp;&nbsp;</span>混洗和切分数据</a></span></li></ul></li><li><span><a href=\"#评价模型性能\" data-toc-modified-id=\"评价模型性能-1.4\"><span class=\"toc-item-num\">1.4&nbsp;&nbsp;</span>评价模型性能</a></span><ul class=\"toc-item\"><li><span><a href=\"#评价方法和朴素的预测器\" data-toc-modified-id=\"评价方法和朴素的预测器-1.4.1\"><span class=\"toc-item-num\">1.4.1&nbsp;&nbsp;</span>评价方法和朴素的预测器</a></span></li><li><span><a href=\"#天真的预测器的性能\" data-toc-modified-id=\"天真的预测器的性能-1.4.2\"><span class=\"toc-item-num\">1.4.2&nbsp;&nbsp;</span>天真的预测器的性能</a></span></li></ul></li><li><span><a href=\"#监督学习模型\" data-toc-modified-id=\"监督学习模型-1.5\"><span class=\"toc-item-num\">1.5&nbsp;&nbsp;</span>监督学习模型</a></span><ul class=\"toc-item\"><li><span><a href=\"#模型应用\" data-toc-modified-id=\"模型应用-1.5.1\"><span class=\"toc-item-num\">1.5.1&nbsp;&nbsp;</span>模型应用</a></span></li><li><span><a href=\"#模型1\" data-toc-modified-id=\"模型1-1.5.2\"><span class=\"toc-item-num\">1.5.2&nbsp;&nbsp;</span>模型1</a></span></li><li><span><a href=\"#模型2\" data-toc-modified-id=\"模型2-1.5.3\"><span class=\"toc-item-num\">1.5.3&nbsp;&nbsp;</span>模型2</a></span></li><li><span><a href=\"#模型3\" data-toc-modified-id=\"模型3-1.5.4\"><span class=\"toc-item-num\">1.5.4&nbsp;&nbsp;</span>模型3</a></span></li><li><span><a href=\"#创建训练和预测流水线\" data-toc-modified-id=\"创建训练和预测流水线-1.5.5\"><span class=\"toc-item-num\">1.5.5&nbsp;&nbsp;</span>创建训练和预测流水线</a></span></li><li><span><a href=\"#初始模型的评估\" data-toc-modified-id=\"初始模型的评估-1.5.6\"><span class=\"toc-item-num\">1.5.6&nbsp;&nbsp;</span>初始模型的评估</a></span></li></ul></li><li><span><a href=\"#提高效果\" data-toc-modified-id=\"提高效果-1.6\"><span class=\"toc-item-num\">1.6&nbsp;&nbsp;</span>提高效果</a></span><ul class=\"toc-item\"><li><span><a href=\"#选择最佳的模型\" data-toc-modified-id=\"选择最佳的模型-1.6.1\"><span class=\"toc-item-num\">1.6.1&nbsp;&nbsp;</span>选择最佳的模型</a></span></li><li><span><a href=\"#解释模型\" data-toc-modified-id=\"解释模型-1.6.2\"><span class=\"toc-item-num\">1.6.2&nbsp;&nbsp;</span>解释模型</a></span></li><li><span><a href=\"#模型调优\" data-toc-modified-id=\"模型调优-1.6.3\"><span class=\"toc-item-num\">1.6.3&nbsp;&nbsp;</span>模型调优</a></span></li><li><span><a href=\"#最终模型评估\" data-toc-modified-id=\"最终模型评估-1.6.4\"><span class=\"toc-item-num\">1.6.4&nbsp;&nbsp;</span>最终模型评估</a></span><ul class=\"toc-item\"><li><span><a href=\"#模型表现结果:\" data-toc-modified-id=\"模型表现结果:-1.6.4.1\"><span class=\"toc-item-num\">1.6.4.1&nbsp;&nbsp;</span>模型表现结果:</a></span></li></ul></li></ul></li><li><span><a href=\"#特征的重要性\" data-toc-modified-id=\"特征的重要性-1.7\"><span class=\"toc-item-num\">1.7&nbsp;&nbsp;</span>特征的重要性</a></span><ul class=\"toc-item\"><li><span><a href=\"#观察特征相关性\" data-toc-modified-id=\"观察特征相关性-1.7.1\"><span class=\"toc-item-num\">1.7.1&nbsp;&nbsp;</span>观察特征相关性</a></span></li><li><span><a href=\"#提取特征重要性\" data-toc-modified-id=\"提取特征重要性-1.7.2\"><span class=\"toc-item-num\">1.7.2&nbsp;&nbsp;</span>提取特征重要性</a></span></li><li><span><a href=\"#提取特征重要性\" data-toc-modified-id=\"提取特征重要性-1.7.3\"><span class=\"toc-item-num\">1.7.3&nbsp;&nbsp;</span>提取特征重要性</a></span></li><li><span><a href=\"#特征选择\" data-toc-modified-id=\"特征选择-1.7.4\"><span class=\"toc-item-num\">1.7.4&nbsp;&nbsp;</span>特征选择</a></span></li><li><span><a href=\"#特征选择的影响\" data-toc-modified-id=\"特征选择的影响-1.7.5\"><span class=\"toc-item-num\">1.7.5&nbsp;&nbsp;</span>特征选择的影响</a></span></li><li><span><a href=\"#在测试集上测试模型\" data-toc-modified-id=\"在测试集上测试模型-1.7.6\"><span class=\"toc-item-num\">1.7.6&nbsp;&nbsp;</span>在测试集上测试模型</a></span></li></ul></li><li><span><a href=\"#总结\" data-toc-modified-id=\"总结-1.8\"><span class=\"toc-item-num\">1.8&nbsp;&nbsp;</span>总结</a></span></li></ul></li></ul></div>"
   ]
  },
  {
   "cell_type": "markdown",
   "metadata": {},
   "source": [
    "----\n",
    "## 探索数据\n",
    "数据集的最后一列`'income'`将是需要预测的列（表示被调查者的年收入会大于或者是最多50,000美元），人口普查数据中的每一列都将是关于被调查者的特征。"
   ]
  },
  {
   "cell_type": "code",
   "execution_count": 1,
   "metadata": {
    "ExecuteTime": {
     "end_time": "2020-03-23T12:44:13.663363Z",
     "start_time": "2020-03-23T12:44:02.096217Z"
    }
   },
   "outputs": [
    {
     "data": {
      "text/html": [
       "<div>\n",
       "<style scoped>\n",
       "    .dataframe tbody tr th:only-of-type {\n",
       "        vertical-align: middle;\n",
       "    }\n",
       "\n",
       "    .dataframe tbody tr th {\n",
       "        vertical-align: top;\n",
       "    }\n",
       "\n",
       "    .dataframe thead th {\n",
       "        text-align: right;\n",
       "    }\n",
       "</style>\n",
       "<table border=\"1\" class=\"dataframe\">\n",
       "  <thead>\n",
       "    <tr style=\"text-align: right;\">\n",
       "      <th></th>\n",
       "      <th>age</th>\n",
       "      <th>workclass</th>\n",
       "      <th>education_level</th>\n",
       "      <th>education-num</th>\n",
       "      <th>marital-status</th>\n",
       "      <th>occupation</th>\n",
       "      <th>relationship</th>\n",
       "      <th>race</th>\n",
       "      <th>sex</th>\n",
       "      <th>capital-gain</th>\n",
       "      <th>capital-loss</th>\n",
       "      <th>hours-per-week</th>\n",
       "      <th>native-country</th>\n",
       "      <th>income</th>\n",
       "    </tr>\n",
       "  </thead>\n",
       "  <tbody>\n",
       "    <tr>\n",
       "      <th>15194</th>\n",
       "      <td>21</td>\n",
       "      <td>State-gov</td>\n",
       "      <td>Some-college</td>\n",
       "      <td>10.0</td>\n",
       "      <td>Never-married</td>\n",
       "      <td>Prof-specialty</td>\n",
       "      <td>Own-child</td>\n",
       "      <td>White</td>\n",
       "      <td>Male</td>\n",
       "      <td>0.0</td>\n",
       "      <td>0.0</td>\n",
       "      <td>20.0</td>\n",
       "      <td>United-States</td>\n",
       "      <td>&lt;=50K</td>\n",
       "    </tr>\n",
       "    <tr>\n",
       "      <th>1905</th>\n",
       "      <td>37</td>\n",
       "      <td>Private</td>\n",
       "      <td>Bachelors</td>\n",
       "      <td>13.0</td>\n",
       "      <td>Married-civ-spouse</td>\n",
       "      <td>Other-service</td>\n",
       "      <td>Wife</td>\n",
       "      <td>Asian-Pac-Islander</td>\n",
       "      <td>Female</td>\n",
       "      <td>0.0</td>\n",
       "      <td>0.0</td>\n",
       "      <td>30.0</td>\n",
       "      <td>United-States</td>\n",
       "      <td>&gt;50K</td>\n",
       "    </tr>\n",
       "    <tr>\n",
       "      <th>38792</th>\n",
       "      <td>49</td>\n",
       "      <td>Private</td>\n",
       "      <td>Masters</td>\n",
       "      <td>14.0</td>\n",
       "      <td>Divorced</td>\n",
       "      <td>Sales</td>\n",
       "      <td>Unmarried</td>\n",
       "      <td>Other</td>\n",
       "      <td>Female</td>\n",
       "      <td>0.0</td>\n",
       "      <td>0.0</td>\n",
       "      <td>20.0</td>\n",
       "      <td>Peru</td>\n",
       "      <td>&lt;=50K</td>\n",
       "    </tr>\n",
       "  </tbody>\n",
       "</table>\n",
       "</div>"
      ],
      "text/plain": [
       "       age   workclass education_level  education-num       marital-status  \\\n",
       "15194   21   State-gov    Some-college           10.0        Never-married   \n",
       "1905    37     Private       Bachelors           13.0   Married-civ-spouse   \n",
       "38792   49     Private         Masters           14.0             Divorced   \n",
       "\n",
       "            occupation relationship                 race      sex  \\\n",
       "15194   Prof-specialty    Own-child                White     Male   \n",
       "1905     Other-service         Wife   Asian-Pac-Islander   Female   \n",
       "38792            Sales    Unmarried                Other   Female   \n",
       "\n",
       "       capital-gain  capital-loss  hours-per-week  native-country income  \n",
       "15194           0.0           0.0            20.0   United-States  <=50K  \n",
       "1905            0.0           0.0            30.0   United-States   >50K  \n",
       "38792           0.0           0.0            20.0            Peru  <=50K  "
      ]
     },
     "execution_count": 1,
     "metadata": {},
     "output_type": "execute_result"
    }
   ],
   "source": [
    "# 为这个项目导入需要的库\n",
    "import numpy as np\n",
    "import pandas as pd\n",
    "from time import time\n",
    "from IPython.display import display # 允许为DataFrame使用display()\n",
    "\n",
    "# 导入附加的可视化代码visuals.py\n",
    "import visuals as vs\n",
    "\n",
    "# 为notebook提供更加漂亮的可视化\n",
    "%matplotlib inline\n",
    "\n",
    "# 导入人口普查数据\n",
    "data = pd.read_csv(\"census.csv\")\n",
    "\n",
    "# 查看数据样本\n",
    "data.sample(3)"
   ]
  },
  {
   "cell_type": "markdown",
   "metadata": {},
   "source": [
    "### 练习：数据探索\n",
    "对数据集进行粗略的探索，将计算以下量：\n",
    "\n",
    "- 总的记录数量，`'n_records'`\n",
    "- 年收入大于50,000美元的人数，`'n_greater_50k'`.\n",
    "- 年收入最多为50,000美元的人数 `'n_at_most_50k'`.\n",
    "- 年收入大于50,000美元的人所占的比例， `'greater_percent'`.\n",
    "\n",
    "**提示：** 注意`'income'`条目的格式 "
   ]
  },
  {
   "cell_type": "code",
   "execution_count": 2,
   "metadata": {
    "ExecuteTime": {
     "end_time": "2020-03-23T12:46:34.863371Z",
     "start_time": "2020-03-23T12:46:34.813093Z"
    }
   },
   "outputs": [
    {
     "name": "stdout",
     "output_type": "stream",
     "text": [
      "Total number of records: 45222\n",
      "Individuals making more than $50,000: 11208\n",
      "Individuals making at most $50,000: 34014\n",
      "Percentage of individuals making more than $50,000: 24.78%\n"
     ]
    }
   ],
   "source": [
    "# 总的记录数\n",
    "n_records = data.shape[0]\n",
    "\n",
    "# 被调查者的收入大于$50,000的人数\n",
    "n_greater_50k = data.query('income == \">50K\"').shape[0]\n",
    "\n",
    "# 被调查者的收入最多为$50,000的人数\n",
    "n_at_most_50k = data.query('income == \"<=50K\"').shape[0]\n",
    "\n",
    "# 被调查者收入大于$50,000所占的比例\n",
    "greater_percent = n_greater_50k/n_records\n",
    "\n",
    "print (\"Total number of records: {}\".format(n_records))\n",
    "print (\"Individuals making more than $50,000: {}\".format(n_greater_50k))\n",
    "print (\"Individuals making at most $50,000: {}\".format(n_at_most_50k))\n",
    "print (\"Percentage of individuals making more than $50,000: {:.2f}%\".format(greater_percent*100))"
   ]
  },
  {
   "cell_type": "markdown",
   "metadata": {},
   "source": [
    "----\n",
    "## 准备数据\n",
    "- 在数据能够被作为输入提供给机器学习算法之前，通常需要将数据清洗、格式化、重新组织 ，即进行**数据预处理**。\n",
    "\n",
    "- 而本数据集，没有我们必须处理的无效或丢失的条目，不过由于某一些特征存在的特性，必须进行一定的调整。这个预处理可以极大地帮助提升几乎所有的学习算法的结果和预测能力。\n",
    "\n",
    "### 获得特征和标签\n",
    "`income` 列是标签，记录一个人的年收入是否高于50K。 因此将其从数据中剥离出来，单独存放。"
   ]
  },
  {
   "cell_type": "code",
   "execution_count": 3,
   "metadata": {
    "ExecuteTime": {
     "end_time": "2020-03-23T12:49:34.152174Z",
     "start_time": "2020-03-23T12:49:34.143323Z"
    }
   },
   "outputs": [],
   "source": [
    "# 将数据切分成特征和对应的标签\n",
    "income_raw = data['income']\n",
    "features_raw = data.drop('income', axis = 1)"
   ]
  },
  {
   "cell_type": "markdown",
   "metadata": {},
   "source": [
    "### 转换倾斜的连续特征\n",
    "\n",
    "- 转换原因：一个数据集往往存在数值集中的情况，存在极大值或者极小值的不均匀分布的的特征。算法对这种分布的数据会十分敏感，并且如果这种数据没有能够很好地规一化处理会使得算法表现不佳。\n",
    "- 在人口普查数据集的两个特征符合这个描述：'`capital-gain'`和`'capital-loss'`。"
   ]
  },
  {
   "cell_type": "code",
   "execution_count": 5,
   "metadata": {
    "ExecuteTime": {
     "end_time": "2020-03-23T12:56:38.848964Z",
     "start_time": "2020-03-23T12:56:38.453201Z"
    },
    "scrolled": true
   },
   "outputs": [
    {
     "data": {
      "image/png": "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\n",
      "text/plain": [
       "<Figure size 792x360 with 2 Axes>"
      ]
     },
     "metadata": {
      "needs_background": "light"
     },
     "output_type": "display_data"
    }
   ],
   "source": [
    "# 可视化 'capital-gain'和'capital-loss' 两个特征\n",
    "vs.distribution(features_raw)"
   ]
  },
  {
   "cell_type": "markdown",
   "metadata": {},
   "source": [
    "- 对于高度倾斜分布的特征如`'capital-gain'`和`'capital-loss'`，常见的做法是对数据施加一个<a href=\"https://en.wikipedia.org/wiki/Data_transformation_(statistics)\">对数转换</a>，将数据转换成对数，这样非常大和非常小的值不会对学习算法产生负面的影响。并且使用对数变换显著降低了由于异常值所造成的数据范围异常。\n",
    "\n",
    "- 注意：但是在应用这个变换时必须小心：因为0的对数是没有定义的，所以我们必须先将数据处理成一个比0稍微大一点的数以成功完成对数转换。"
   ]
  },
  {
   "cell_type": "code",
   "execution_count": 6,
   "metadata": {
    "ExecuteTime": {
     "end_time": "2020-03-23T12:57:32.669792Z",
     "start_time": "2020-03-23T12:57:32.260453Z"
    }
   },
   "outputs": [
    {
     "data": {
      "image/png": "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\n",
      "text/plain": [
       "<Figure size 792x360 with 2 Axes>"
      ]
     },
     "metadata": {
      "needs_background": "light"
     },
     "output_type": "display_data"
    }
   ],
   "source": [
    "# 对于倾斜的数据使用Log转换\n",
    "skewed = ['capital-gain', 'capital-loss']\n",
    "features_raw[skewed] = data[skewed].apply(lambda x: np.log(x + 1))\n",
    "\n",
    "# 可视化对数转换后 'capital-gain'和'capital-loss' 两个特征\n",
    "vs.distribution(features_raw, transformed = True)"
   ]
  },
  {
   "cell_type": "markdown",
   "metadata": {},
   "source": [
    "### 归一化数字特征\n",
    "**归一化原因**：\n",
    "- 除了对于高度倾斜的特征施加转换，对数值特征施加一些形式的缩放通常会是一个好的习惯。在数据上面施加一个缩放并不会改变数据分布的形式（比如上面说的'capital-gain' or 'capital-loss'）\n",
    "- 归一化保证了每一个特征在使用监督学习器的时候能够被平等的对待。注意一旦使用了缩放，观察数据的原始形式不再具有它本来的意义了，就像下面的例子展示的。运行下面的代码单元来规一化每一个数字特征。\n",
    "- 此处将使用[`sklearn.preprocessing.MinMaxScaler`](http://scikit-learn.org/stable/modules/generated/sklearn.preprocessing.MinMaxScaler.html)来完成归一化。"
   ]
  },
  {
   "cell_type": "code",
   "execution_count": 10,
   "metadata": {
    "ExecuteTime": {
     "end_time": "2020-03-23T13:04:05.583990Z",
     "start_time": "2020-03-23T13:04:05.526998Z"
    }
   },
   "outputs": [
    {
     "name": "stderr",
     "output_type": "stream",
     "text": [
      "/Users/cuichuanmin/anaconda3/lib/python3.7/site-packages/sklearn/preprocessing/data.py:323: DataConversionWarning: Data with input dtype int64, float64 were all converted to float64 by MinMaxScaler.\n",
      "  return self.partial_fit(X, y)\n"
     ]
    },
    {
     "data": {
      "text/html": [
       "<div>\n",
       "<style scoped>\n",
       "    .dataframe tbody tr th:only-of-type {\n",
       "        vertical-align: middle;\n",
       "    }\n",
       "\n",
       "    .dataframe tbody tr th {\n",
       "        vertical-align: top;\n",
       "    }\n",
       "\n",
       "    .dataframe thead th {\n",
       "        text-align: right;\n",
       "    }\n",
       "</style>\n",
       "<table border=\"1\" class=\"dataframe\">\n",
       "  <thead>\n",
       "    <tr style=\"text-align: right;\">\n",
       "      <th></th>\n",
       "      <th>age</th>\n",
       "      <th>workclass</th>\n",
       "      <th>education_level</th>\n",
       "      <th>education-num</th>\n",
       "      <th>marital-status</th>\n",
       "      <th>occupation</th>\n",
       "      <th>relationship</th>\n",
       "      <th>race</th>\n",
       "      <th>sex</th>\n",
       "      <th>capital-gain</th>\n",
       "      <th>capital-loss</th>\n",
       "      <th>hours-per-week</th>\n",
       "      <th>native-country</th>\n",
       "    </tr>\n",
       "  </thead>\n",
       "  <tbody>\n",
       "    <tr>\n",
       "      <th>0</th>\n",
       "      <td>0.301370</td>\n",
       "      <td>State-gov</td>\n",
       "      <td>Bachelors</td>\n",
       "      <td>0.800000</td>\n",
       "      <td>Never-married</td>\n",
       "      <td>Adm-clerical</td>\n",
       "      <td>Not-in-family</td>\n",
       "      <td>White</td>\n",
       "      <td>Male</td>\n",
       "      <td>0.02174</td>\n",
       "      <td>0.0</td>\n",
       "      <td>0.397959</td>\n",
       "      <td>United-States</td>\n",
       "    </tr>\n",
       "    <tr>\n",
       "      <th>1</th>\n",
       "      <td>0.452055</td>\n",
       "      <td>Self-emp-not-inc</td>\n",
       "      <td>Bachelors</td>\n",
       "      <td>0.800000</td>\n",
       "      <td>Married-civ-spouse</td>\n",
       "      <td>Exec-managerial</td>\n",
       "      <td>Husband</td>\n",
       "      <td>White</td>\n",
       "      <td>Male</td>\n",
       "      <td>0.00000</td>\n",
       "      <td>0.0</td>\n",
       "      <td>0.122449</td>\n",
       "      <td>United-States</td>\n",
       "    </tr>\n",
       "    <tr>\n",
       "      <th>2</th>\n",
       "      <td>0.287671</td>\n",
       "      <td>Private</td>\n",
       "      <td>HS-grad</td>\n",
       "      <td>0.533333</td>\n",
       "      <td>Divorced</td>\n",
       "      <td>Handlers-cleaners</td>\n",
       "      <td>Not-in-family</td>\n",
       "      <td>White</td>\n",
       "      <td>Male</td>\n",
       "      <td>0.00000</td>\n",
       "      <td>0.0</td>\n",
       "      <td>0.397959</td>\n",
       "      <td>United-States</td>\n",
       "    </tr>\n",
       "  </tbody>\n",
       "</table>\n",
       "</div>"
      ],
      "text/plain": [
       "        age          workclass education_level  education-num  \\\n",
       "0  0.301370          State-gov       Bachelors       0.800000   \n",
       "1  0.452055   Self-emp-not-inc       Bachelors       0.800000   \n",
       "2  0.287671            Private         HS-grad       0.533333   \n",
       "\n",
       "        marital-status          occupation    relationship    race    sex  \\\n",
       "0        Never-married        Adm-clerical   Not-in-family   White   Male   \n",
       "1   Married-civ-spouse     Exec-managerial         Husband   White   Male   \n",
       "2             Divorced   Handlers-cleaners   Not-in-family   White   Male   \n",
       "\n",
       "   capital-gain  capital-loss  hours-per-week  native-country  \n",
       "0       0.02174           0.0        0.397959   United-States  \n",
       "1       0.00000           0.0        0.122449   United-States  \n",
       "2       0.00000           0.0        0.397959   United-States  "
      ]
     },
     "execution_count": 10,
     "metadata": {},
     "output_type": "execute_result"
    }
   ],
   "source": [
    "from sklearn.preprocessing import MinMaxScaler\n",
    "\n",
    "# 初始化一个 scaler，并将它施加到特征上\n",
    "scaler = MinMaxScaler()\n",
    "numerical = ['age', 'education-num', 'capital-gain', 'capital-loss', 'hours-per-week']\n",
    "features_raw[numerical] = scaler.fit_transform(data[numerical])\n",
    "\n",
    "# 显示三个经过缩放的样例记录\n",
    "features_raw.head(3)"
   ]
  },
  {
   "cell_type": "markdown",
   "metadata": {},
   "source": [
    "### 数据预处理\n",
    "\n",
    "- 从上面的**数据探索**中的表中，可以看到有几个属性的记录是非数字。通常情况下，学习算法期望输入是数字的，这要求非数字的特征（称为类别变量）被转换。\n",
    "- 转换类别变量的一种流行的方法是使用**独热编码**方案。独热编码为每一个非数字特征的每一个可能的类别创建一个_“虚拟”_变量。例如，假设`someFeature`有三个可能的取值`A`，`B`或者`C`。我们将把这个特征编码成`someFeature_A`, `someFeature_B`和`someFeature_C`.\n",
    "\n",
    "| 特征X |                    | 特征X_A | 特征X_B | 特征X_C |\n",
    "| :-: |                            | :-: | :-: | :-: |\n",
    "|  B  |  | 0 | 1 | 0 |\n",
    "|  C  | ----> 独热编码 ----> | 0 | 0 | 1 |\n",
    "|  A  |  | 1 | 0 | 0 |\n",
    "\n",
    "此外，对于非数字的特征，需要将非数字的标签`'income'`转换成数值以保证学习算法能够正常工作。因为这个标签只有两种可能的类别（\"<=50K\"和\">50K\"），我们不必要使用独热编码，可以直接将他们编码分别成两个类`0`和`1`，将在下方实现以下功能：\n",
    "- 使用[`pandas.get_dummies()`](http://pandas.pydata.org/pandas-docs/stable/generated/pandas.get_dummies.html?highlight=get_dummies#pandas.get_dummies)对`'features_raw'`数据来施加一个独热编码。\n",
    "- 将目标标签`'income_raw'`转换成数字项。\n",
    "- 将\"<=50K\"转换成`0`；将\">50K\"转换成`1`。"
   ]
  },
  {
   "cell_type": "code",
   "execution_count": 11,
   "metadata": {
    "ExecuteTime": {
     "end_time": "2020-03-23T13:09:12.288202Z",
     "start_time": "2020-03-23T13:09:12.163502Z"
    },
    "scrolled": true
   },
   "outputs": [
    {
     "name": "stdout",
     "output_type": "stream",
     "text": [
      "103 total features after one-hot encoding.\n",
      "['age', 'education-num', 'capital-gain', 'capital-loss', 'hours-per-week', 'workclass_ Federal-gov', 'workclass_ Local-gov', 'workclass_ Private', 'workclass_ Self-emp-inc', 'workclass_ Self-emp-not-inc', 'workclass_ State-gov', 'workclass_ Without-pay', 'education_level_ 10th', 'education_level_ 11th', 'education_level_ 12th', 'education_level_ 1st-4th', 'education_level_ 5th-6th', 'education_level_ 7th-8th', 'education_level_ 9th', 'education_level_ Assoc-acdm', 'education_level_ Assoc-voc', 'education_level_ Bachelors', 'education_level_ Doctorate', 'education_level_ HS-grad', 'education_level_ Masters', 'education_level_ Preschool', 'education_level_ Prof-school', 'education_level_ Some-college', 'marital-status_ Divorced', 'marital-status_ Married-AF-spouse', 'marital-status_ Married-civ-spouse', 'marital-status_ Married-spouse-absent', 'marital-status_ Never-married', 'marital-status_ Separated', 'marital-status_ Widowed', 'occupation_ Adm-clerical', 'occupation_ Armed-Forces', 'occupation_ Craft-repair', 'occupation_ Exec-managerial', 'occupation_ Farming-fishing', 'occupation_ Handlers-cleaners', 'occupation_ Machine-op-inspct', 'occupation_ Other-service', 'occupation_ Priv-house-serv', 'occupation_ Prof-specialty', 'occupation_ Protective-serv', 'occupation_ Sales', 'occupation_ Tech-support', 'occupation_ Transport-moving', 'relationship_ Husband', 'relationship_ Not-in-family', 'relationship_ Other-relative', 'relationship_ Own-child', 'relationship_ Unmarried', 'relationship_ Wife', 'race_ Amer-Indian-Eskimo', 'race_ Asian-Pac-Islander', 'race_ Black', 'race_ Other', 'race_ White', 'sex_ Female', 'sex_ Male', 'native-country_ Cambodia', 'native-country_ Canada', 'native-country_ China', 'native-country_ Columbia', 'native-country_ Cuba', 'native-country_ Dominican-Republic', 'native-country_ Ecuador', 'native-country_ El-Salvador', 'native-country_ England', 'native-country_ France', 'native-country_ Germany', 'native-country_ Greece', 'native-country_ Guatemala', 'native-country_ Haiti', 'native-country_ Holand-Netherlands', 'native-country_ Honduras', 'native-country_ Hong', 'native-country_ Hungary', 'native-country_ India', 'native-country_ Iran', 'native-country_ Ireland', 'native-country_ Italy', 'native-country_ Jamaica', 'native-country_ Japan', 'native-country_ Laos', 'native-country_ Mexico', 'native-country_ Nicaragua', 'native-country_ Outlying-US(Guam-USVI-etc)', 'native-country_ Peru', 'native-country_ Philippines', 'native-country_ Poland', 'native-country_ Portugal', 'native-country_ Puerto-Rico', 'native-country_ Scotland', 'native-country_ South', 'native-country_ Taiwan', 'native-country_ Thailand', 'native-country_ Trinadad&Tobago', 'native-country_ United-States', 'native-country_ Vietnam', 'native-country_ Yugoslavia']\n"
     ]
    }
   ],
   "source": [
    "# 使用pandas.get_dummies()对'features_raw'数据进行独热编码\n",
    "features = pd.get_dummies(features_raw)\n",
    "\n",
    "# 将'income_raw'编码成数字值,阳性为0，阴性为1\n",
    "income = income_raw.map({'<=50K':0,'>50K':1})\n",
    "\n",
    "# 打印经过独热编码之后的特征数量\n",
    "encoded = list(features.columns)\n",
    "print (\"{} total features after one-hot encoding.\".format(len(encoded)))\n",
    "\n",
    "# 移除下面一行的注释以观察编码的特征名字\n",
    "print (encoded)"
   ]
  },
  {
   "cell_type": "markdown",
   "metadata": {},
   "source": [
    "### 混洗和切分数据\n",
    "现在所有的**分类变量**已被转换成数值特征，而且所有的数值特征已被归一化。现在将数据（包括特征和标签）切分成训练和测试集。其中80%的数据将用于训练和20%的数据用于测试。然后再进一步把训练数据分为训练集和验证集，用来选择和优化模型。\n"
   ]
  },
  {
   "cell_type": "code",
   "execution_count": 12,
   "metadata": {
    "ExecuteTime": {
     "end_time": "2020-03-23T13:12:06.289184Z",
     "start_time": "2020-03-23T13:12:02.636332Z"
    }
   },
   "outputs": [
    {
     "name": "stdout",
     "output_type": "stream",
     "text": [
      "Training set has 28941 samples.\n",
      "Validation set has 7236 samples.\n",
      "Testing set has 9045 samples.\n"
     ]
    }
   ],
   "source": [
    "# 导入 train_test_split\n",
    "from sklearn.model_selection import train_test_split\n",
    "\n",
    "# 将'features'和'income'数据切分成训练集和测试集\n",
    "X_train, X_test, y_train, y_test = train_test_split(features, income, test_size = 0.2, random_state = 0,\n",
    "                                                    stratify = income)\n",
    "# 将'X_train'和'y_train'进一步切分为训练集和验证集\n",
    "X_train, X_val, y_train, y_val = train_test_split(X_train, y_train, test_size=0.2, random_state=0,\n",
    "                                                    stratify = y_train)\n",
    "\n",
    "# 显示切分的结果\n",
    "print (\"Training set has {} samples.\".format(X_train.shape[0]))\n",
    "print (\"Validation set has {} samples.\".format(X_val.shape[0]))\n",
    "print (\"Testing set has {} samples.\".format(X_test.shape[0]))"
   ]
  },
  {
   "cell_type": "code",
   "execution_count": 13,
   "metadata": {
    "ExecuteTime": {
     "end_time": "2020-03-23T13:12:06.331170Z",
     "start_time": "2020-03-23T13:12:06.301446Z"
    }
   },
   "outputs": [
    {
     "name": "stdout",
     "output_type": "stream",
     "text": [
      "(28941, 103)\n",
      "(28941,)\n",
      "(7236, 103)\n",
      "(7236,)\n",
      "(9045, 103)\n",
      "(9045,)\n"
     ]
    }
   ],
   "source": [
    "print(X_train.shape)\n",
    "print(y_train.shape)\n",
    "print(X_val.shape)\n",
    "print(y_val.shape)\n",
    "print(X_test.shape)\n",
    "print(y_test.shape)"
   ]
  },
  {
   "cell_type": "markdown",
   "metadata": {},
   "source": [
    "## 评价模型性能\n",
    "本部分将尝试四种不同的算法，并确定哪一个能够最好地建模数据。四种算法包含一个*天真的预测器* 和三个监督学习器。"
   ]
  },
  {
   "cell_type": "markdown",
   "metadata": {},
   "source": [
    "### 评价方法和朴素的预测器\n",
    "*CharityML*通过他们的研究人员知道被调查者的年收入大于\\$50,000最有可能向他们捐款。因为这个原因*CharityML*对于准确预测谁能够获得\\$50,000以上收入尤其有兴趣。这样看起来使用**准确率**作为评价模型的标准是合适的。另外，把*没有*收入大于\\$50,000的人识别成年收入大于\\$50,000对于*CharityML*来说是有害的，因为他想要找到的是有意愿捐款的用户。这样，我们期望的模型具有准确预测那些能够年收入大于\\$50,000的能力比模型去**查全**这些被调查者*更重要*。我们能够使用**F-beta score**作为评价指标，这样能够同时考虑查准率和查全率：\n",
    "\n",
    "$$ F_{\\beta} = (1 + \\beta^2) \\cdot \\frac{precision \\cdot recall}{\\left( \\beta^2 \\cdot precision \\right) + recall} $$\n",
    "\n",
    "\n",
    "尤其是，当 $\\beta = 0.5$ 的时候更多的强调查准率，这叫做**F$_{0.5}$ score** （或者为了简单叫做F-score）。"
   ]
  },
  {
   "cell_type": "markdown",
   "metadata": {},
   "source": [
    "### 天真的预测器的性能\n",
    "\n",
    "- 通过查看收入超过和不超过 \\$50,000 的人数，我们能发现多数被调查者年收入没有超过 \\$50,000。如果我们简单地预测说*“这个人的收入没有超过 \\$50,000”*，我们就可以得到一个 准确率超过 50% 的预测。这样我们甚至不用看数据就能做到一个准确率超过 50%。这样一个预测被称作是天真的。\n",
    "\n",
    "- 通常对数据使用一个*天真的预测器*是十分重要的，这样能够帮助建立一个模型表现是否好的基准。 使用下面的代码单元计算天真的预测器的相关性能。将你的计算结果赋值给`'accuracy'`, `‘precision’`, `‘recall’` 和 `'fscore'`，这些值会在后面作为参照基准。\n",
    "\n",
    "*如果我们选择一个无论什么情况都预测被调查者年收入大于 \\$50,000 的模型，计算这个模型在**验证集上**的准确率，查准率，查全率和 F-score *  \n"
   ]
  },
  {
   "cell_type": "code",
   "execution_count": 14,
   "metadata": {
    "ExecuteTime": {
     "end_time": "2020-03-23T13:15:42.464270Z",
     "start_time": "2020-03-23T13:15:42.451285Z"
    }
   },
   "outputs": [
    {
     "data": {
      "text/plain": [
       "5463    0\n",
       "Name: income, dtype: int64"
      ]
     },
     "execution_count": 14,
     "metadata": {},
     "output_type": "execute_result"
    }
   ],
   "source": [
    "y_train.sample()"
   ]
  },
  {
   "cell_type": "code",
   "execution_count": 15,
   "metadata": {
    "ExecuteTime": {
     "end_time": "2020-03-23T13:15:42.928295Z",
     "start_time": "2020-03-23T13:15:42.917988Z"
    }
   },
   "outputs": [
    {
     "data": {
      "text/plain": [
       "21768"
      ]
     },
     "execution_count": 15,
     "metadata": {},
     "output_type": "execute_result"
    }
   ],
   "source": [
    "y_train.shape[0]-y_train.sum()"
   ]
  },
  {
   "cell_type": "code",
   "execution_count": 16,
   "metadata": {
    "ExecuteTime": {
     "end_time": "2020-03-23T13:15:43.655912Z",
     "start_time": "2020-03-23T13:15:43.642572Z"
    }
   },
   "outputs": [
    {
     "name": "stdout",
     "output_type": "stream",
     "text": [
      "Naive Predictor on validation data: \n",
      "     Accuracy score: 0.2478 \n",
      "     Precision: 0.2478 \n",
      "     Recall: 1.0000 \n",
      "     F-score: 0.2917\n"
     ]
    }
   ],
   "source": [
    "#不能使用scikit-learn，你需要根据公式自己实现相关计算。\n",
    "#我们简单地预测“这个人的收入超过 $50,000”\n",
    "\n",
    "#真阳性\n",
    "r_pos = y_train.sum()\n",
    "#假阳性\n",
    "f_pos = y_train.shape[0]-r_pos\n",
    "#真阴性\n",
    "r_neg = 0\n",
    "#假阴性\n",
    "f_neg = 0\n",
    "\n",
    "\n",
    "# 计算准确率\n",
    "accuracy = (r_pos+r_neg)/y_train.shape[0]\n",
    "\n",
    "# 计算查准率 Precision\n",
    "precision =  r_pos/(r_pos+f_pos)\n",
    "\n",
    "# 计算查全率 Recall\n",
    "recall = r_pos/(r_pos+f_neg)\n",
    "\n",
    "# 使用上面的公式，设置beta=0.5，计算F-score\n",
    "fscore = (1+0.5*0.5)*precision*recall/(0.5*0.5*precision+recall)\n",
    "\n",
    "# 打印结果\n",
    "print (\"Naive Predictor on validation data: \\n \\\n",
    "    Accuracy score: {:.4f} \\n \\\n",
    "    Precision: {:.4f} \\n \\\n",
    "    Recall: {:.4f} \\n \\\n",
    "    F-score: {:.4f}\".format(accuracy, precision, recall, fscore))"
   ]
  },
  {
   "cell_type": "markdown",
   "metadata": {},
   "source": [
    "## 监督学习模型\n",
    "### 模型应用\n",
    "\n",
    "- [`scikit-learn`](http://scikit-learn.org/stable/supervised_learning.html) 中存在以下监督学习模型：\n",
    "    - 高斯朴素贝叶斯 (GaussianNB)\n",
    "    - 决策树 (DecisionTree) √\n",
    "    - 集成方法 (Bagging, AdaBoost, Random Forest, Gradient Boosting)√\n",
    "    - K近邻 (K Nearest Neighbors)\n",
    "    - 随机梯度下降分类器 (SGDC)\n",
    "    - 支撑向量机 (SVM)√\n",
    "    - Logistic回归（LogisticRegression）\n",
    "\n",
    "将选择三个适合本问题的模型，并在下方进行建模。"
   ]
  },
  {
   "cell_type": "markdown",
   "metadata": {},
   "source": [
    "### 模型1\n",
    "\n",
    "- **模型名称**：决策树 (DecisionTree)\n",
    "\n",
    "\n",
    "- **该模型在真实世界的一个应用场景举例**：通过性别和收入是否>30w，推测用户是否买车。引用出处：https://blog.csdn.net/weixin_42488570/article/details/80745681\n",
    "\n",
    "\n",
    "- **这个模型的优势**：底层算法简单易理解，易于解释和维护，主干分支以熵增最大值来确定，来确定主要影响因素，再进一步细分，计算效率高，不易受到异常值影响。当针对既有(带标签的)数据集进行分类时，会有较好的表现预期，尤其选择适当超参数：max_depth、min_sample_split、min_samples_leaf、max_feature时，表现较好。\n",
    "\n",
    "\n",
    "- **这个模型的缺点**：不支持在线更新，新样本出现后要全部重建，超参数设置具有盲目性，当max_depth过大/min_samples_leaf过小时，容易过拟合，相反则容易欠拟合。\n",
    "\n",
    "\n",
    "- **此模型适合本问题的原因**：既有数据的二元分类问题，仅若干个features，计算量相对不大。"
   ]
  },
  {
   "cell_type": "markdown",
   "metadata": {},
   "source": [
    "### 模型2\n",
    "\n",
    "- **模型名称**:集成方法(AdaBoost)\n",
    "\n",
    "\n",
    "- **该模型在真实世界的一个应用场景举例**:人脸识别，引用来自：https://www.cnblogs.com/dylancao/p/8990464.html\n",
    "\n",
    "\n",
    "- **这个模型的优势**:能从简单模型出发，对每个数据都多次进行评估和分类，并按照前一次模型分类的错误进一步建模迭代，步步为营，减少过拟合的情况，由此提高模型的准确率，拟合效果好。\n",
    "\n",
    "\n",
    "- **这个模型的缺点**：占用内存较大，且当数据中存在异常值时，模型会加重错误的权重分配，导致分类过敏感，效果变差。\n",
    "\n",
    "\n",
    "- **此模型适合本问题的原因**：二元分类问题，可以从简单模型出发，逐步减少错误率，进一步细分探索模型。"
   ]
  },
  {
   "cell_type": "markdown",
   "metadata": {},
   "source": [
    "### 模型3\n",
    "\n",
    "- **模型名称**:支撑向量机 (SVM)\n",
    "\n",
    "\n",
    "- **该模型在真实世界的一个应用场景举例**：从民生数据调查生活满意度。出处： http://www.doc88.com/p-3088400710850.html\n",
    "\n",
    "\n",
    "- **这个模型的优势**：可以解决较高维度的问题，不易出现过拟合。选择合适的核函数，表现较好。\n",
    "\n",
    "\n",
    "- **这个模型的缺点**：回答：计算量大，较耗时，部分问题找核函数和超参数的调整较困难。\n",
    "\n",
    "\n",
    "- **此模型适合本问题的原因**：数据量较适中，即保证计算速度，又保证准确率。"
   ]
  },
  {
   "cell_type": "markdown",
   "metadata": {},
   "source": [
    "### 创建训练和预测流水线\n",
    "\n",
    " - 从[`sklearn.metrics`](http://scikit-learn.org/stable/modules/classes.html#sklearn-metrics-metrics)中导入`fbeta_score`和`accuracy_score`。\n",
    " - 用训练集拟合学习器，并记录训练时间。\n",
    " - 对训练集的前300个数据点和验证集进行预测并记录预测时间。\n",
    " - 计算预测训练集的前300个数据点的准确率和F-score。\n",
    " - 计算预测验证集的准确率和F-score。"
   ]
  },
  {
   "cell_type": "code",
   "execution_count": 17,
   "metadata": {
    "ExecuteTime": {
     "end_time": "2020-03-23T13:24:30.741413Z",
     "start_time": "2020-03-23T13:24:30.729264Z"
    }
   },
   "outputs": [],
   "source": [
    "# 从sklearn中导入两个评价指标 - fbeta_score和accuracy_score\n",
    "from sklearn.metrics import fbeta_score, accuracy_score\n",
    "\n",
    "def train_predict(learner, sample_size, X_train, y_train, X_val, y_val): \n",
    "    '''\n",
    "    inputs:\n",
    "       - learner: the learning algorithm to be trained and predicted on\n",
    "       - sample_size: the size of samples (number) to be drawn from training set\n",
    "       - X_train: features training set\n",
    "       - y_train: income training set\n",
    "       - X_val: features validation set\n",
    "       - y_val: income validation set\n",
    "    '''\n",
    "    \n",
    "    results = {}\n",
    "    \n",
    "    # 使用sample_size大小的训练数据来拟合学习器\n",
    "    X_train_sample = X_train[0:sample_size]\n",
    "    y_train_sample = y_train[0:sample_size]\n",
    "    \n",
    "    # Fit the learner to the training data using slicing with 'sample_size'\n",
    "    start = time() # 获得程序开始时间\n",
    "    learner = learner.fit(X_train_sample,y_train_sample)\n",
    "    end = time() # 获得程序结束时间\n",
    "    \n",
    "    # 计算训练时间\n",
    "    results['train_time'] = end - start\n",
    "    \n",
    "    # 得到在验证集上的预测值\n",
    "    # 然后得到对前300个训练数据的预测结果\n",
    "    start = time() # 获得程序开始时间\n",
    "    predictions_val = learner.predict(X_val)\n",
    "    predictions_train = learner.predict(X_train[0:300])\n",
    "    end = time() # 获得程序结束时间\n",
    "    \n",
    "    # 计算预测用时\n",
    "    results['pred_time'] = end - start\n",
    "            \n",
    "    # 计算在最前面的300个训练数据的准确率\n",
    "    results['acc_train'] = accuracy_score(y_train[0:300],predictions_train)\n",
    "        \n",
    "    # 计算在验证上的准确率\n",
    "    results['acc_val'] = accuracy_score(y_val,predictions_val)\n",
    "    \n",
    "    # 计算在最前面300个训练数据上的F-score\n",
    "    results['f_train'] = fbeta_score(y_train[0:300],predictions_train,beta=0.5)\n",
    "        \n",
    "    # 计算验证集上的F-score\n",
    "    results['f_val'] = fbeta_score(y_val,predictions_val,beta=0.5)\n",
    "       \n",
    "    # 成功\n",
    "    print (\"{} trained on {} samples.\".format(learner.__class__.__name__, sample_size))\n",
    "        \n",
    "    # 返回结果\n",
    "    return results"
   ]
  },
  {
   "cell_type": "markdown",
   "metadata": {},
   "source": [
    "### 初始模型的评估\n",
    "**步骤细节：**\n",
    "\n",
    "- 导入三个监督学习模型。   \n",
    "\n",
    "\n",
    "- 初始化三个模型并存储在`'clf_A'`，`'clf_B'`和`'clf_C'`中。\n",
    "  - 使用模型的默认参数值，在接下来的部分中你将需要对某一个模型的参数进行调整。             \n",
    "  - 设置`random_state`  。       \n",
    "  \n",
    "  \n",
    "- 计算1%， 10%， 100%的训练数据分别对应多少个数据点，并将这些值存储在`'samples_1'`, `'samples_10'`, `'samples_100'`中\n",
    "\n"
   ]
  },
  {
   "cell_type": "code",
   "execution_count": 19,
   "metadata": {
    "ExecuteTime": {
     "end_time": "2020-03-23T13:28:15.324919Z",
     "start_time": "2020-03-23T13:26:47.331144Z"
    }
   },
   "outputs": [
    {
     "name": "stdout",
     "output_type": "stream",
     "text": [
      "DecisionTreeClassifier trained on 289 samples.\n",
      "DecisionTreeClassifier trained on 2894 samples.\n",
      "DecisionTreeClassifier trained on 28941 samples.\n",
      "AdaBoostClassifier trained on 289 samples.\n",
      "AdaBoostClassifier trained on 2894 samples.\n",
      "AdaBoostClassifier trained on 28941 samples.\n",
      "SVC trained on 289 samples.\n"
     ]
    },
    {
     "name": "stderr",
     "output_type": "stream",
     "text": [
      "/Users/cuichuanmin/anaconda3/lib/python3.7/site-packages/sklearn/svm/base.py:196: FutureWarning: The default value of gamma will change from 'auto' to 'scale' in version 0.22 to account better for unscaled features. Set gamma explicitly to 'auto' or 'scale' to avoid this warning.\n",
      "  \"avoid this warning.\", FutureWarning)\n",
      "/Users/cuichuanmin/anaconda3/lib/python3.7/site-packages/sklearn/metrics/classification.py:1143: UndefinedMetricWarning: F-score is ill-defined and being set to 0.0 due to no predicted samples.\n",
      "  'precision', 'predicted', average, warn_for)\n",
      "/Users/cuichuanmin/anaconda3/lib/python3.7/site-packages/sklearn/svm/base.py:196: FutureWarning: The default value of gamma will change from 'auto' to 'scale' in version 0.22 to account better for unscaled features. Set gamma explicitly to 'auto' or 'scale' to avoid this warning.\n",
      "  \"avoid this warning.\", FutureWarning)\n",
      "/Users/cuichuanmin/anaconda3/lib/python3.7/site-packages/sklearn/metrics/classification.py:1143: UndefinedMetricWarning: F-score is ill-defined and being set to 0.0 due to no predicted samples.\n",
      "  'precision', 'predicted', average, warn_for)\n",
      "/Users/cuichuanmin/anaconda3/lib/python3.7/site-packages/sklearn/svm/base.py:196: FutureWarning: The default value of gamma will change from 'auto' to 'scale' in version 0.22 to account better for unscaled features. Set gamma explicitly to 'auto' or 'scale' to avoid this warning.\n",
      "  \"avoid this warning.\", FutureWarning)\n"
     ]
    },
    {
     "name": "stdout",
     "output_type": "stream",
     "text": [
      "SVC trained on 2894 samples.\n"
     ]
    },
    {
     "name": "stderr",
     "output_type": "stream",
     "text": [
      "/Users/cuichuanmin/anaconda3/lib/python3.7/site-packages/sklearn/metrics/classification.py:1143: UndefinedMetricWarning: F-score is ill-defined and being set to 0.0 due to no predicted samples.\n",
      "  'precision', 'predicted', average, warn_for)\n"
     ]
    },
    {
     "name": "stdout",
     "output_type": "stream",
     "text": [
      "SVC trained on 28941 samples.\n"
     ]
    },
    {
     "data": {
      "image/png": "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\n",
      "text/plain": [
       "<Figure size 792x504 with 6 Axes>"
      ]
     },
     "metadata": {
      "needs_background": "light"
     },
     "output_type": "display_data"
    }
   ],
   "source": [
    "# 从sklearn中导入三个监督学习模型\n",
    "from sklearn.tree import DecisionTreeClassifier\n",
    "from sklearn.ensemble import AdaBoostClassifier\n",
    "from sklearn.svm import SVC\n",
    "\n",
    "# 初始化三个模型\n",
    "clf_A = DecisionTreeClassifier(max_depth=7,min_samples_leaf=5,random_state=42)\n",
    "clf_B = AdaBoostClassifier(base_estimator=DecisionTreeClassifier(max_depth=3),n_estimators=4)\n",
    "clf_C = SVC(kernel='poly',degree=4,C=0.2)\n",
    "\n",
    "# 计算1%， 10%， 100%的训练数据分别对应多少点\n",
    "samples_1 = int(X_train.shape[0]*0.01)\n",
    "samples_10 = int(X_train.shape[0]*0.1)\n",
    "samples_100 = int(X_train.shape[0])\n",
    "\n",
    "# 收集学习器的结果\n",
    "results = {}\n",
    "for clf in [clf_A, clf_B, clf_C]:\n",
    "    clf_name = clf.__class__.__name__\n",
    "    results[clf_name] = {}\n",
    "    for i, samples in enumerate([samples_1, samples_10, samples_100]):\n",
    "        results[clf_name][i] = train_predict(clf, samples, X_train, y_train, X_val, y_val)\n",
    "\n",
    "# 对选择的三个模型得到的评价结果进行可视化\n",
    "vs.evaluate(results, accuracy, fscore)\n"
   ]
  },
  {
   "cell_type": "markdown",
   "metadata": {},
   "source": [
    "----\n",
    "## 提高效果\n",
    "\n",
    "从三个有监督的学习模型中选择 *最好的* 模型来训练数据。进而在整个训练集（`X_train`和`y_train`）上使用网格搜索优化，通过调节参数以获得相比模型优化之前更好的 F-score。"
   ]
  },
  {
   "cell_type": "markdown",
   "metadata": {},
   "source": [
    "### 选择最佳的模型"
   ]
  },
  {
   "cell_type": "markdown",
   "metadata": {},
   "source": [
    "通过以上初步探索，**`AdaBoostClassifier模型`**综合表现最好，尤其在将整个训练集都参与fit时，其在accuracy score、F0.2Score均有较好的表现，预测效果较好，且训练时间较短，适合该数据。"
   ]
  },
  {
   "cell_type": "markdown",
   "metadata": {},
   "source": [
    "### 解释模型"
   ]
  },
  {
   "cell_type": "markdown",
   "metadata": {},
   "source": [
    "**`AdaBoostClassifier模型`** 的工作过程是循序渐进的，这种循序渐进指的是首先用弱分类器最大限度的拟合数据，使错误最小化，并由此开始迭代。在每一次迭代中, 弱分类器的训练数据的分布是一样的，但是用多个弱分类器依次对数据进行分类时，当次分类会在前一次分类出现的错误基础上，重新分配权重，增加被错分数据的权重值后，需满足correct数据的权重=incorrect数据的权重。重新分配权重之后，再次引入弱分类器，仍然以出错率最小的原则进行分类，由此快速迭代分类效果，减少无用功。最终汇总时，将采取类似“举手表决”的形式，对每个数据的分类进行综合“投票”，获得票数较多的一方即决定了数据的最终分类。"
   ]
  },
  {
   "cell_type": "markdown",
   "metadata": {},
   "source": [
    "### 模型调优\n",
    "调节选择的模型的参数。使用网格搜索（GridSearchCV）调整模型的重要参数\n",
    "\n",
    "- 导入[`sklearn.model_selection.GridSearchCV`](http://scikit-learn.org/stable/modules/generated/sklearn.model_selection.GridSearchCV.html) 和 [`sklearn.metrics.make_scorer`](http://scikit-learn.org/stable/modules/generated/sklearn.metrics.make_scorer.html).\n",
    "\n",
    "\n",
    "- 初始化分类器，并将其存储在`clf`中。\n",
    "\n",
    "- 设置`random_state`。\n",
    "\n",
    "- 创建一个对于这个模型调整参数的字典。\n",
    " \n",
    "- 使用`make_scorer`来创建一个`fbeta_score`评分对象（设置$\\beta = 0.5$）\n",
    "。\n",
    "- 在分类器clf上用'scorer'作为评价函数运行网格搜索，并将结果存储在grid_obj中。\n",
    "\n",
    "- 用训练集（X_train, y_train）训练grid search object,并将结果存储在`grid_fit`中。\n"
   ]
  },
  {
   "cell_type": "code",
   "execution_count": 20,
   "metadata": {
    "ExecuteTime": {
     "end_time": "2020-03-23T13:35:50.675291Z",
     "start_time": "2020-03-23T13:35:41.149048Z"
    }
   },
   "outputs": [
    {
     "name": "stderr",
     "output_type": "stream",
     "text": [
      "/Users/cuichuanmin/anaconda3/lib/python3.7/site-packages/sklearn/model_selection/_split.py:2053: FutureWarning: You should specify a value for 'cv' instead of relying on the default value. The default value will change from 3 to 5 in version 0.22.\n",
      "  warnings.warn(CV_WARNING, FutureWarning)\n"
     ]
    },
    {
     "name": "stdout",
     "output_type": "stream",
     "text": [
      "best_clf\n",
      "------\n",
      "AdaBoostClassifier(algorithm='SAMME.R',\n",
      "          base_estimator=DecisionTreeClassifier(class_weight=None, criterion='gini', max_depth=4,\n",
      "            max_features=None, max_leaf_nodes=None,\n",
      "            min_impurity_decrease=0.0, min_impurity_split=None,\n",
      "            min_samples_leaf=1, min_samples_split=2,\n",
      "            min_weight_fraction_leaf=0.0, presort=False, random_state=None,\n",
      "            splitter='best'),\n",
      "          learning_rate=1.0, n_estimators=8, random_state=42)\n",
      "\n",
      "Unoptimized model\n",
      "------\n",
      "Accuracy score on validation data: 0.8697\n",
      "F-score on validation data: 0.7463\n",
      "\n",
      "Optimized Model\n",
      "------\n",
      "Final accuracy score on the validation data: 0.8700\n",
      "Final F-score on the validation data: 0.7508\n"
     ]
    }
   ],
   "source": [
    "# 导入'GridSearchCV', 'make_scorer'和其他一些需要的库\n",
    "from sklearn.model_selection import GridSearchCV\n",
    "from sklearn.metrics import make_scorer\n",
    "\n",
    "# 初始化分类器\n",
    "clf = AdaBoostClassifier(base_estimator=DecisionTreeClassifier(max_depth=4),random_state=42)\n",
    "\n",
    "# 创建你希望调节的参数列表\n",
    "parameters = {'n_estimators':[2,4,6,8,10]}\n",
    "\n",
    "# 创建一个fbeta_score打分对象\n",
    "scorer = make_scorer(fbeta_score,beta=0.5)\n",
    "\n",
    "# 在分类器上使用网格搜索，使用'scorer'作为评价函数\n",
    "grid_obj = GridSearchCV(clf,parameters,scoring=scorer)\n",
    "\n",
    "# 用训练数据拟合网格搜索对象并找到最佳参数\n",
    "grid_fit=grid_obj.fit(X_train,y_train)\n",
    "\n",
    "# 得到estimator\n",
    "best_clf = grid_obj.best_estimator_\n",
    "\n",
    "# 使用没有调优的模型做预测\n",
    "predictions = (clf.fit(X_train, y_train)).predict(X_val)\n",
    "best_predictions = best_clf.predict(X_val)\n",
    "\n",
    "# 输出调优后的模型\n",
    "print (\"best_clf\\n------\")\n",
    "print (best_clf)\n",
    "\n",
    "# 输出调参前和调参后的分数\n",
    "print (\"\\nUnoptimized model\\n------\")\n",
    "print (\"Accuracy score on validation data: {:.4f}\".format(accuracy_score(y_val, predictions)))\n",
    "print (\"F-score on validation data: {:.4f}\".format(fbeta_score(y_val, predictions, beta = 0.5)))\n",
    "print (\"\\nOptimized Model\\n------\")\n",
    "print (\"Final accuracy score on the validation data: {:.4f}\".format(accuracy_score(y_val, best_predictions)))\n",
    "print (\"Final F-score on the validation data: {:.4f}\".format(fbeta_score(y_val, best_predictions, beta = 0.5)))"
   ]
  },
  {
   "cell_type": "markdown",
   "metadata": {},
   "source": [
    "### 最终模型评估\n"
   ]
  },
  {
   "cell_type": "markdown",
   "metadata": {},
   "source": [
    "#### 模型表现结果:\n",
    " \n",
    "| 评价指标         |  未优化的模型        | 优化的模型        |\n",
    "| :------------: |  :---------------: | :-------------: | \n",
    "| 准确率          |              0.8697      |                 0.8700\n",
    "| F-score        |              0.7463       |                 0.7508"
   ]
  },
  {
   "cell_type": "markdown",
   "metadata": {},
   "source": [
    "优化之后模型变的更好，虽然只是略微改善。"
   ]
  },
  {
   "cell_type": "markdown",
   "metadata": {},
   "source": [
    "----\n",
    "## 特征的重要性\n",
    "\n",
    "- 使用监督学习算法的一个重要的任务是决定哪些特征能够提供最强的预测能力。专注于少量的有效特征和标签之间的关系，我们能够更加简单地理解这些现象，这在很多情况下都是十分有用的。在这个项目的情境下这表示我们希望选择一小部分特征，这些特征能够在预测被调查者是否年收入大于$50,000这个问题上有很强的预测能力。\n",
    "\n",
    "\n",
    "- 选择一个有 `'feature_importance_'` 属性的scikit学习分类器（例如 AdaBoost，随机森林）。`'feature_importance_'` 属性是对特征的重要性排序的函数。"
   ]
  },
  {
   "cell_type": "markdown",
   "metadata": {},
   "source": [
    "### 观察特征相关性\n",
    "观察13项特征，从逻辑上猜测最重要的5项特征。"
   ]
  },
  {
   "cell_type": "code",
   "execution_count": 21,
   "metadata": {
    "ExecuteTime": {
     "end_time": "2020-03-23T13:38:29.666057Z",
     "start_time": "2020-03-23T13:38:29.556627Z"
    }
   },
   "outputs": [
    {
     "data": {
      "text/html": [
       "<div>\n",
       "<style scoped>\n",
       "    .dataframe tbody tr th:only-of-type {\n",
       "        vertical-align: middle;\n",
       "    }\n",
       "\n",
       "    .dataframe tbody tr th {\n",
       "        vertical-align: top;\n",
       "    }\n",
       "\n",
       "    .dataframe thead th {\n",
       "        text-align: right;\n",
       "    }\n",
       "</style>\n",
       "<table border=\"1\" class=\"dataframe\">\n",
       "  <thead>\n",
       "    <tr style=\"text-align: right;\">\n",
       "      <th></th>\n",
       "      <th>age</th>\n",
       "      <th>workclass</th>\n",
       "      <th>education_level</th>\n",
       "      <th>education-num</th>\n",
       "      <th>marital-status</th>\n",
       "      <th>occupation</th>\n",
       "      <th>relationship</th>\n",
       "      <th>race</th>\n",
       "      <th>sex</th>\n",
       "      <th>capital-gain</th>\n",
       "      <th>capital-loss</th>\n",
       "      <th>hours-per-week</th>\n",
       "      <th>native-country</th>\n",
       "      <th>income</th>\n",
       "    </tr>\n",
       "  </thead>\n",
       "  <tbody>\n",
       "    <tr>\n",
       "      <th>1368</th>\n",
       "      <td>37</td>\n",
       "      <td>Private</td>\n",
       "      <td>Masters</td>\n",
       "      <td>14.0</td>\n",
       "      <td>Divorced</td>\n",
       "      <td>Exec-managerial</td>\n",
       "      <td>Unmarried</td>\n",
       "      <td>White</td>\n",
       "      <td>Male</td>\n",
       "      <td>0.0</td>\n",
       "      <td>0.0</td>\n",
       "      <td>60.0</td>\n",
       "      <td>United-States</td>\n",
       "      <td>&gt;50K</td>\n",
       "    </tr>\n",
       "    <tr>\n",
       "      <th>28118</th>\n",
       "      <td>57</td>\n",
       "      <td>Private</td>\n",
       "      <td>HS-grad</td>\n",
       "      <td>9.0</td>\n",
       "      <td>Married-civ-spouse</td>\n",
       "      <td>Other-service</td>\n",
       "      <td>Husband</td>\n",
       "      <td>White</td>\n",
       "      <td>Male</td>\n",
       "      <td>0.0</td>\n",
       "      <td>0.0</td>\n",
       "      <td>78.0</td>\n",
       "      <td>United-States</td>\n",
       "      <td>&lt;=50K</td>\n",
       "    </tr>\n",
       "    <tr>\n",
       "      <th>146</th>\n",
       "      <td>29</td>\n",
       "      <td>Private</td>\n",
       "      <td>HS-grad</td>\n",
       "      <td>9.0</td>\n",
       "      <td>Divorced</td>\n",
       "      <td>Craft-repair</td>\n",
       "      <td>Not-in-family</td>\n",
       "      <td>White</td>\n",
       "      <td>Male</td>\n",
       "      <td>0.0</td>\n",
       "      <td>0.0</td>\n",
       "      <td>60.0</td>\n",
       "      <td>United-States</td>\n",
       "      <td>&lt;=50K</td>\n",
       "    </tr>\n",
       "    <tr>\n",
       "      <th>41363</th>\n",
       "      <td>33</td>\n",
       "      <td>Private</td>\n",
       "      <td>Assoc-voc</td>\n",
       "      <td>11.0</td>\n",
       "      <td>Married-civ-spouse</td>\n",
       "      <td>Craft-repair</td>\n",
       "      <td>Husband</td>\n",
       "      <td>White</td>\n",
       "      <td>Male</td>\n",
       "      <td>0.0</td>\n",
       "      <td>0.0</td>\n",
       "      <td>40.0</td>\n",
       "      <td>United-States</td>\n",
       "      <td>&lt;=50K</td>\n",
       "    </tr>\n",
       "    <tr>\n",
       "      <th>32449</th>\n",
       "      <td>23</td>\n",
       "      <td>Private</td>\n",
       "      <td>HS-grad</td>\n",
       "      <td>9.0</td>\n",
       "      <td>Never-married</td>\n",
       "      <td>Craft-repair</td>\n",
       "      <td>Not-in-family</td>\n",
       "      <td>White</td>\n",
       "      <td>Male</td>\n",
       "      <td>0.0</td>\n",
       "      <td>0.0</td>\n",
       "      <td>40.0</td>\n",
       "      <td>United-States</td>\n",
       "      <td>&lt;=50K</td>\n",
       "    </tr>\n",
       "  </tbody>\n",
       "</table>\n",
       "</div>"
      ],
      "text/plain": [
       "       age workclass education_level  education-num       marital-status  \\\n",
       "1368    37   Private         Masters           14.0             Divorced   \n",
       "28118   57   Private         HS-grad            9.0   Married-civ-spouse   \n",
       "146     29   Private         HS-grad            9.0             Divorced   \n",
       "41363   33   Private       Assoc-voc           11.0   Married-civ-spouse   \n",
       "32449   23   Private         HS-grad            9.0        Never-married   \n",
       "\n",
       "             occupation    relationship    race    sex  capital-gain  \\\n",
       "1368    Exec-managerial       Unmarried   White   Male           0.0   \n",
       "28118     Other-service         Husband   White   Male           0.0   \n",
       "146        Craft-repair   Not-in-family   White   Male           0.0   \n",
       "41363      Craft-repair         Husband   White   Male           0.0   \n",
       "32449      Craft-repair   Not-in-family   White   Male           0.0   \n",
       "\n",
       "       capital-loss  hours-per-week  native-country income  \n",
       "1368            0.0            60.0   United-States   >50K  \n",
       "28118           0.0            78.0   United-States  <=50K  \n",
       "146             0.0            60.0   United-States  <=50K  \n",
       "41363           0.0            40.0   United-States  <=50K  \n",
       "32449           0.0            40.0   United-States  <=50K  "
      ]
     },
     "execution_count": 21,
     "metadata": {},
     "output_type": "execute_result"
    }
   ],
   "source": [
    "data.sample(5)"
   ]
  },
  {
   "cell_type": "markdown",
   "metadata": {},
   "source": [
    "**分析和推测最重要的5个特征：**\n",
    "- 特征1: 年龄age，年级越大越趋于更有能力和资源，赢得更好的收入\n",
    "- 特征2: 教育水平education_level，教育水平越高越趋于收入高\n",
    "- 特征3: 性别sex，一般来说，男性收入偏高\n",
    "- 特征4: 职业occupation，不同的职业，收入水平有明显区别\n",
    "- 特征5: 是否结婚marital-status，一般来说，结婚的人群收入水平偏高"
   ]
  },
  {
   "cell_type": "markdown",
   "metadata": {},
   "source": [
    "### 提取特征重要性\n",
    "\n",
    "**主要步骤：**\n",
    "\n",
    " - 在整个训练集上训练监督学习模型。\n",
    " - 使用模型中的 `'feature_importances_'`提取特征的重要性。"
   ]
  },
  {
   "cell_type": "code",
   "execution_count": 22,
   "metadata": {
    "ExecuteTime": {
     "end_time": "2020-03-23T13:42:22.713700Z",
     "start_time": "2020-03-23T13:42:22.002076Z"
    }
   },
   "outputs": [
    {
     "data": {
      "image/png": "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\n",
      "text/plain": [
       "<Figure size 648x360 with 1 Axes>"
      ]
     },
     "metadata": {
      "needs_background": "light"
     },
     "output_type": "display_data"
    }
   ],
   "source": [
    "# 选择\"提升树\"算法，在训练集上训练监督学习模型\n",
    "model = AdaBoostClassifier(base_estimator=DecisionTreeClassifier(max_depth=3),n_estimators=8)\n",
    "model.fit(X_train,y_train)\n",
    "# 提取特征重要性\n",
    "importances = model.feature_importances_\n",
    "\n",
    "# 绘图\n",
    "vs.feature_plot(importances, X_train, y_train)"
   ]
  },
  {
   "cell_type": "markdown",
   "metadata": {},
   "source": [
    "### 提取特征重要性\n",
    "观察上面创建的可视化图像，得到5个用于预测被调查者年收入是否大于$50,000最相关的特征，并与前述中个人的分析推测对比，得出以下结论："
   ]
  },
  {
   "cell_type": "markdown",
   "metadata": {},
   "source": [
    "\n",
    "- 这五个特征的权重加和为0.55，超过半数。\n",
    "- 除了年龄和是否结婚2个特征外，其他的均不匹配。\n",
    "- 实际结果与我的选择较接近，但是我认为教育水平对收入影响较大，而实际受教育年数影响更为突出。我认为性别和职业对收入影响较大，但实际并未有如此大的影响。\n"
   ]
  },
  {
   "cell_type": "markdown",
   "metadata": {},
   "source": [
    "### 特征选择\n",
    "\n",
    "- 从上面的可视化结果，可以看到前五个最重要的特征贡献了数据中**所有**特征中超过一半的重要性。\n",
    "- 因此考虑用可用特征的一个子集，可以尝试**减小特征空间**，简化模型需要学习的信息，而且这样在训练和预测的时间也会更少。使用更少的特征来训练模型。"
   ]
  },
  {
   "cell_type": "code",
   "execution_count": 23,
   "metadata": {
    "ExecuteTime": {
     "end_time": "2020-03-23T13:51:01.657011Z",
     "start_time": "2020-03-23T13:51:01.469431Z"
    }
   },
   "outputs": [
    {
     "name": "stdout",
     "output_type": "stream",
     "text": [
      "Final Model trained on full data\n",
      "------\n",
      "Accuracy on validation data: 0.8700\n",
      "F-score on validation data: 0.7508\n",
      "\n",
      "Final Model trained on reduced data\n",
      "------\n",
      "Accuracy on validation data: 0.8411\n",
      "F-score on validation data: 0.6852\n"
     ]
    }
   ],
   "source": [
    "# 导入克隆模型的功能\n",
    "from sklearn.base import clone\n",
    "\n",
    "# 减小特征空间\n",
    "X_train_reduced = X_train[X_train.columns.values[(np.argsort(importances)[::-1])[:5]]]\n",
    "X_val_reduced = X_val[X_val.columns.values[(np.argsort(importances)[::-1])[:5]]]\n",
    "\n",
    "# 在前面的网格搜索的基础上训练一个“最好的”模型\n",
    "clf_on_reduced = (clone(best_clf)).fit(X_train_reduced, y_train)\n",
    "\n",
    "# 做一个新的预测\n",
    "reduced_predictions = clf_on_reduced.predict(X_val_reduced)\n",
    "\n",
    "# 对于每一个版本的数据汇报最终模型的分数\n",
    "print (\"Final Model trained on full data\\n------\")\n",
    "print (\"Accuracy on validation data: {:.4f}\".format(accuracy_score(y_val, best_predictions)))\n",
    "print (\"F-score on validation data: {:.4f}\".format(fbeta_score(y_val, best_predictions, beta = 0.5)))\n",
    "print (\"\\nFinal Model trained on reduced data\\n------\")\n",
    "print (\"Accuracy on validation data: {:.4f}\".format(accuracy_score(y_val, reduced_predictions)))\n",
    "print (\"F-score on validation data: {:.4f}\".format(fbeta_score(y_val, reduced_predictions, beta = 0.5)))"
   ]
  },
  {
   "cell_type": "markdown",
   "metadata": {},
   "source": [
    "### 特征选择的影响\n"
   ]
  },
  {
   "cell_type": "markdown",
   "metadata": {},
   "source": [
    "**模型训练结果：** 只使用5个特征的模型，相比应用所有特征数据的模型，其F-score和准确率均有所下降，尤其F-score下降较大，但总体表现尚可。\n",
    "所以，若不得不考虑训练时间，我会选择使用部分特征数据做为训练集。"
   ]
  },
  {
   "cell_type": "markdown",
   "metadata": {},
   "source": [
    "### 在测试集上测试模型\n",
    "\n",
    "*使用表现最好的模型，在测试集上测试，计算出准确率和 F-score。*\n",
    "*观察测试结果*\n",
    "\n",
    "**注意：**测试集只能用一次。"
   ]
  },
  {
   "cell_type": "code",
   "execution_count": 24,
   "metadata": {
    "ExecuteTime": {
     "end_time": "2020-03-23T13:53:59.435627Z",
     "start_time": "2020-03-23T13:53:59.186009Z"
    },
    "scrolled": true
   },
   "outputs": [
    {
     "name": "stdout",
     "output_type": "stream",
     "text": [
      "Accuracy: 0.8558319513543394\n",
      "F-score: 0.7246989224593282\n"
     ]
    },
    {
     "data": {
      "image/png": "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\n",
      "text/plain": [
       "<Figure size 648x360 with 1 Axes>"
      ]
     },
     "metadata": {
      "needs_background": "light"
     },
     "output_type": "display_data"
    }
   ],
   "source": [
    "# Test your model on testing data and report accuracy and F score\n",
    "y_test_pred = model.predict(X_test)\n",
    "\n",
    "print('Accuracy:',accuracy_score(y_test, y_test_pred))\n",
    "print('F-score:',fbeta_score(y_test, y_test_pred, beta = 0.5))\n",
    "\n",
    "# 提取特征重要性\n",
    "importances = model.feature_importances_\n",
    "\n",
    "# 绘图\n",
    "vs.feature_plot(importances, X_train, y_train)"
   ]
  },
  {
   "cell_type": "markdown",
   "metadata": {},
   "source": [
    "## 总结"
   ]
  },
  {
   "cell_type": "code",
   "execution_count": 25,
   "metadata": {
    "ExecuteTime": {
     "end_time": "2020-03-23T14:01:53.123205Z",
     "start_time": "2020-03-23T14:01:53.117799Z"
    }
   },
   "outputs": [],
   "source": [
    "#待补充\n",
    "# 训练集的表现：\n",
    "# 测试集的表现：\n",
    "# Final accuracy score on the validation data: 0.8700\n",
    "# Final F-score on the validation data: 0.7508"
   ]
  }
 ],
 "metadata": {
  "anaconda-cloud": {},
  "kernelspec": {
   "display_name": "Python 3",
   "language": "python",
   "name": "python3"
  },
  "language_info": {
   "codemirror_mode": {
    "name": "ipython",
    "version": 3
   },
   "file_extension": ".py",
   "mimetype": "text/x-python",
   "name": "python",
   "nbconvert_exporter": "python",
   "pygments_lexer": "ipython3",
   "version": "3.7.1"
  },
  "toc": {
   "base_numbering": 1,
   "nav_menu": {},
   "number_sections": true,
   "sideBar": true,
   "skip_h1_title": false,
   "title_cell": "项目目录",
   "title_sidebar": "Contents",
   "toc_cell": true,
   "toc_position": {
    "height": "calc(100% - 180px)",
    "left": "10px",
    "top": "150px",
    "width": "288px"
   },
   "toc_section_display": true,
   "toc_window_display": false
  }
 },
 "nbformat": 4,
 "nbformat_minor": 1
}
>>>>>>> bebacebcf1a7d4998f0d177cc45a95f4b2494fea
