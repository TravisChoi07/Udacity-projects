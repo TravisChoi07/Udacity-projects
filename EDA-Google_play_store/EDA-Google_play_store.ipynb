{
 "cells": [
  {
   "cell_type": "markdown",
   "metadata": {},
   "source": [
    "# Google Apps 商店的数据分析"
   ]
  },
  {
   "cell_type": "markdown",
   "metadata": {},
   "source": [
    "## 简介\n",
    "\n",
    "相信大家对移动应用商店都不陌生吧。Google Play Store（Google Play商店）是谷歌官方的软件应用商店，拥有上架软件数十万款，下载量更是突破了20亿次，为了手机用户提供了极为广泛的应用选择，很受大家的欢迎。\n",
    "\n"
   ]
  },
  {
   "cell_type": "markdown",
   "metadata": {},
   "source": [
    "本数据集(googleplaystore.csv)包含了 Google Play 商店中 App 的数据。该数据是Kaggle中 [Google Play Store Apps](https://www.kaggle.com/lava18/google-play-store-apps) 的一部分，其中包含 Google Play 商店中 10k+ 应用软件的信息。\n",
    "\n",
    "数据中的变量含义解释：\n",
    "```\n",
    "App: 应用的名称，字符变量。\n",
    "Category: 应用所属的分类，字符变量。\n",
    "Rating: 某应用的用户评分，数值变量。\n",
    "Reviews: 某应用获得的用户评论数量，数值变量。\n",
    "Size: 某应用的所占存储空间的大小，字符变量。\n",
    "Installs: 用户安装和下载某应用的次数，字符变量。\n",
    "Type: 付费或免费，分类变量。\n",
    "Price: 价格，字符变量。\n",
    "Content Rating: 应用商店针对内容给出的年龄评级组 - Children / Mature 21+ / Adult，分类变量。\n",
    "Genres: 类型/流派，一个应用可以属于多个流派，比如音乐、游戏、家庭等，字符变量。\n",
    "Last Updated: 应用最新更新的日期，字符变量。\n",
    "Current Ver: 当前应用的版本，字符变量。\n",
    "Android Ver: 安装该应用所需要的最低安卓版本，字符变量。\n",
    "\n",
    "```"
   ]
  },
  {
   "cell_type": "markdown",
   "metadata": {},
   "source": [
    "## 项目完成指南\n",
    "\n",
    "\n",
    "\n",
    "本项目中的数据分析流程已经给出，但代码将完全由你自己进行书写，如果你无法完成本项目，说明你目前的能力并不足以完成 数据分析(进阶)纳米学位，建议先进行 数据分析（入门）纳米学位的学习，掌握进阶课程的先修知识。\n",
    "\n",
    "对于数据分析过程的记录也是数据分析报告的一个重要部分，你可以自己在需要的位置插入Markdown cell，记录你在数据分析中的关键步骤和推理过程。比如：数据有什么样的特点，统计数据的含义是什么，你从可视化中可以得出什么结论，下一步分析是什么，为什么执行这种分析。如果你无法做到这一点，你也无法通过本项目。\n",
    "\n",
    "\n",
    "> **小贴士**: 像这样的引用部分旨在为学员提供实用指导，帮助学员了解并使用 Jupyter notebook"
   ]
  },
  {
   "cell_type": "markdown",
   "metadata": {},
   "source": [
    "## 1. 提出问题\n",
    "\n",
    "在此项目中，你将以一名数据分析师的身份执行数据的探索性分析。你将了解数据分析过程的基本流程。在你分析数据之前，请先思考几个你需要了解的关于 Google 商店中应用的问题，例如，最受欢迎（下载量最高）的 Apps 有什么特征？哪些 App 的评分更高？\n",
    "\n",
    "**问题**：请写下你感兴趣的问题，请确保这些问题能够由现有的数据进行回答。\n",
    "（为了确保学习的效果，请确保你的数据分析报告中能够包含2幅可视化和1个相关性分析。）\n",
    "\n",
    "**答案**：\n",
    "\n",
    "1， App的评价数量与评分有何关系，相关性如何？\n",
    "\n",
    "2，评论数最多的5个App是什么？\n",
    "\n",
    "3，评分的分布形态是什么样子的，评分的均值是多少？ \n",
    "\n",
    "4，付费与不付费App，哪种平均评分更高？\n",
    "\n",
    "\n",
    "\n",
    "> **小贴士**: 双击上框，文本就会发生变化，所有格式都会被清除，以便你编辑该文本块。该文本块是用 [Markdown](http://daringfireball.net/projects/markdown/syntax)编写的，该语言使用纯文本语法，能用页眉、链接、斜体等来规范文本格式。在纳米学位课程中，你也会用到 Markdown。编辑后，可使用 **Shift** + **Enter** 或 **Shift** + **Return** 运行上该框，使其呈现出编辑好的文本格式。"
   ]
  },
  {
   "cell_type": "markdown",
   "metadata": {},
   "source": [
    "## 2. 数据评估和清理"
   ]
  },
  {
   "cell_type": "markdown",
   "metadata": {},
   "source": [
    "> **小贴士**: 运行代码框的方法与编辑上方的 Markdown 框的格式类似，你只需点击代码框，按下键盘快捷键 **Shift** + **Enter** 或 **Shift** + **Return** ，或者你也可先选择代码框，然后点击工具栏的 **运行** 按钮来运行代码。运行代码框时，相应单元左侧的信息会出现星号，即 `In [*]:`，若代码执行完毕，星号则会变为某个数字，如 `In [1]`。如果代码运行后有输出结果，输出将会以 `Out [1]:` 的形式出现，其中的数字将与 \"In\" 中的数字相对应。"
   ]
  },
  {
   "cell_type": "code",
   "execution_count": 295,
   "metadata": {},
   "outputs": [
    {
     "name": "stdout",
     "output_type": "stream",
     "text": [
      "/bin/sh: wget: command not found\r\n"
     ]
    }
   ],
   "source": [
    "# 请先运行此代码块，以确保在可视化中可以显示中文\n",
    "!rm -rf ~/.cache/matplotlib/fontList.json\n",
    "!wget http://d.xiazaiziti.com/en_fonts/fonts/s/SimHei.ttf -O /opt/conda/lib/python3.6/site-packages/matplotlib/mpl-data/fonts/ttf/SimHei.ttf\n",
    "import matplotlib.pyplot as plt \n",
    "\n",
    "plt.rcParams['font.sans-serif']=['SimHei'] #用来正常显示中文标签\n",
    "plt.rcParams['axes.unicode_minus']=False #用来正常显示负号"
   ]
  },
  {
   "cell_type": "code",
   "execution_count": 296,
   "metadata": {},
   "outputs": [],
   "source": [
    "# TO DO: load pacakges\n",
    "import pandas as pd\n",
    "import numpy as np\n",
    "import matplotlib.pyplot as plt\n",
    "%matplotlib inline"
   ]
  },
  {
   "cell_type": "code",
   "execution_count": 297,
   "metadata": {},
   "outputs": [
    {
     "data": {
      "text/html": [
       "<div>\n",
       "<style scoped>\n",
       "    .dataframe tbody tr th:only-of-type {\n",
       "        vertical-align: middle;\n",
       "    }\n",
       "\n",
       "    .dataframe tbody tr th {\n",
       "        vertical-align: top;\n",
       "    }\n",
       "\n",
       "    .dataframe thead th {\n",
       "        text-align: right;\n",
       "    }\n",
       "</style>\n",
       "<table border=\"1\" class=\"dataframe\">\n",
       "  <thead>\n",
       "    <tr style=\"text-align: right;\">\n",
       "      <th></th>\n",
       "      <th>App</th>\n",
       "      <th>Category</th>\n",
       "      <th>Rating</th>\n",
       "      <th>Reviews</th>\n",
       "      <th>Size</th>\n",
       "      <th>Installs</th>\n",
       "      <th>Type</th>\n",
       "      <th>Price</th>\n",
       "      <th>Content Rating</th>\n",
       "      <th>Genres</th>\n",
       "      <th>Last Updated</th>\n",
       "      <th>Current Ver</th>\n",
       "      <th>Android Ver</th>\n",
       "    </tr>\n",
       "  </thead>\n",
       "  <tbody>\n",
       "    <tr>\n",
       "      <th>0</th>\n",
       "      <td>Photo Editor &amp; Candy Camera &amp; Grid &amp; ScrapBook</td>\n",
       "      <td>ART_AND_DESIGN</td>\n",
       "      <td>4.1</td>\n",
       "      <td>159</td>\n",
       "      <td>19M</td>\n",
       "      <td>10,000+</td>\n",
       "      <td>Free</td>\n",
       "      <td>0</td>\n",
       "      <td>Everyone</td>\n",
       "      <td>Art &amp; Design</td>\n",
       "      <td>January 7, 2018</td>\n",
       "      <td>1.0.0</td>\n",
       "      <td>4.0.3 and up</td>\n",
       "    </tr>\n",
       "    <tr>\n",
       "      <th>1</th>\n",
       "      <td>Coloring book moana</td>\n",
       "      <td>ART_AND_DESIGN</td>\n",
       "      <td>3.9</td>\n",
       "      <td>967</td>\n",
       "      <td>14M</td>\n",
       "      <td>500,000+</td>\n",
       "      <td>Free</td>\n",
       "      <td>0</td>\n",
       "      <td>Everyone</td>\n",
       "      <td>Art &amp; Design;Pretend Play</td>\n",
       "      <td>January 15, 2018</td>\n",
       "      <td>2.0.0</td>\n",
       "      <td>4.0.3 and up</td>\n",
       "    </tr>\n",
       "  </tbody>\n",
       "</table>\n",
       "</div>"
      ],
      "text/plain": [
       "                                              App        Category  Rating  \\\n",
       "0  Photo Editor & Candy Camera & Grid & ScrapBook  ART_AND_DESIGN     4.1   \n",
       "1                             Coloring book moana  ART_AND_DESIGN     3.9   \n",
       "\n",
       "  Reviews Size  Installs  Type Price Content Rating  \\\n",
       "0     159  19M   10,000+  Free     0       Everyone   \n",
       "1     967  14M  500,000+  Free     0       Everyone   \n",
       "\n",
       "                      Genres      Last Updated Current Ver   Android Ver  \n",
       "0               Art & Design   January 7, 2018       1.0.0  4.0.3 and up  \n",
       "1  Art & Design;Pretend Play  January 15, 2018       2.0.0  4.0.3 and up  "
      ]
     },
     "execution_count": 297,
     "metadata": {},
     "output_type": "execute_result"
    }
   ],
   "source": [
    "# TO DO: load the dataset\n",
    "df = pd.read_csv('googleplaystore.csv')\n",
    "df.head(2)"
   ]
  },
  {
   "cell_type": "code",
   "execution_count": 298,
   "metadata": {},
   "outputs": [
    {
     "name": "stdout",
     "output_type": "stream",
     "text": [
      "<class 'pandas.core.frame.DataFrame'>\n",
      "RangeIndex: 10841 entries, 0 to 10840\n",
      "Data columns (total 13 columns):\n",
      "App               10841 non-null object\n",
      "Category          10841 non-null object\n",
      "Rating            9367 non-null float64\n",
      "Reviews           10841 non-null object\n",
      "Size              10841 non-null object\n",
      "Installs          10841 non-null object\n",
      "Type              10840 non-null object\n",
      "Price             10841 non-null object\n",
      "Content Rating    10840 non-null object\n",
      "Genres            10841 non-null object\n",
      "Last Updated      10841 non-null object\n",
      "Current Ver       10833 non-null object\n",
      "Android Ver       10838 non-null object\n",
      "dtypes: float64(1), object(12)\n",
      "memory usage: 1.1+ MB\n"
     ]
    }
   ],
   "source": [
    "# TO DO: check the dataset general info\n",
    "df.info()"
   ]
  },
  {
   "cell_type": "code",
   "execution_count": 299,
   "metadata": {},
   "outputs": [
    {
     "data": {
      "text/plain": [
       "(10841, 13)"
      ]
     },
     "execution_count": 299,
     "metadata": {},
     "output_type": "execute_result"
    }
   ],
   "source": [
    "df.shape\n"
   ]
  },
  {
   "cell_type": "markdown",
   "metadata": {},
   "source": [
    "> 1.1删除多余列"
   ]
  },
  {
   "cell_type": "code",
   "execution_count": 300,
   "metadata": {},
   "outputs": [
    {
     "data": {
      "text/plain": [
       "Index(['App', 'Category', 'Rating', 'Reviews', 'Size', 'Installs', 'Type',\n",
       "       'Price', 'Content Rating', 'Genres', 'Last Updated', 'Current Ver',\n",
       "       'Android Ver'],\n",
       "      dtype='object')"
      ]
     },
     "execution_count": 300,
     "metadata": {},
     "output_type": "execute_result"
    }
   ],
   "source": [
    "df.columns"
   ]
  },
  {
   "cell_type": "code",
   "execution_count": 301,
   "metadata": {},
   "outputs": [],
   "source": [
    "df.drop(columns = ['Category','Content Rating', 'Last Updated', 'Current Ver', 'Android Ver','Size'], axis=1, inplace = True)\n",
    "#删除认为无太大分析意义的列"
   ]
  },
  {
   "cell_type": "code",
   "execution_count": 302,
   "metadata": {},
   "outputs": [
    {
     "data": {
      "text/html": [
       "<div>\n",
       "<style scoped>\n",
       "    .dataframe tbody tr th:only-of-type {\n",
       "        vertical-align: middle;\n",
       "    }\n",
       "\n",
       "    .dataframe tbody tr th {\n",
       "        vertical-align: top;\n",
       "    }\n",
       "\n",
       "    .dataframe thead th {\n",
       "        text-align: right;\n",
       "    }\n",
       "</style>\n",
       "<table border=\"1\" class=\"dataframe\">\n",
       "  <thead>\n",
       "    <tr style=\"text-align: right;\">\n",
       "      <th></th>\n",
       "      <th>App</th>\n",
       "      <th>Rating</th>\n",
       "      <th>Reviews</th>\n",
       "      <th>Installs</th>\n",
       "      <th>Type</th>\n",
       "      <th>Price</th>\n",
       "      <th>Genres</th>\n",
       "    </tr>\n",
       "  </thead>\n",
       "  <tbody>\n",
       "    <tr>\n",
       "      <th>2994</th>\n",
       "      <td>GollerCepte 1903</td>\n",
       "      <td>4.7</td>\n",
       "      <td>25172</td>\n",
       "      <td>500,000+</td>\n",
       "      <td>Free</td>\n",
       "      <td>0</td>\n",
       "      <td>Sports</td>\n",
       "    </tr>\n",
       "  </tbody>\n",
       "</table>\n",
       "</div>"
      ],
      "text/plain": [
       "                   App  Rating Reviews  Installs  Type Price  Genres\n",
       "2994  GollerCepte 1903     4.7   25172  500,000+  Free     0  Sports"
      ]
     },
     "execution_count": 302,
     "metadata": {},
     "output_type": "execute_result"
    }
   ],
   "source": [
    "df.sample()"
   ]
  },
  {
   "cell_type": "markdown",
   "metadata": {},
   "source": [
    "> 2.2 删除重复行"
   ]
  },
  {
   "cell_type": "code",
   "execution_count": 303,
   "metadata": {},
   "outputs": [
    {
     "data": {
      "text/plain": [
       "491"
      ]
     },
     "execution_count": 303,
     "metadata": {},
     "output_type": "execute_result"
    }
   ],
   "source": [
    "df.duplicated().sum() #查看重复项数量"
   ]
  },
  {
   "cell_type": "code",
   "execution_count": 304,
   "metadata": {},
   "outputs": [
    {
     "data": {
      "text/plain": [
       "(10841, 7)"
      ]
     },
     "execution_count": 304,
     "metadata": {},
     "output_type": "execute_result"
    }
   ],
   "source": [
    "df.shape"
   ]
  },
  {
   "cell_type": "code",
   "execution_count": 305,
   "metadata": {},
   "outputs": [],
   "source": [
    "df.drop_duplicates(inplace=True) #删除重复项"
   ]
  },
  {
   "cell_type": "code",
   "execution_count": 306,
   "metadata": {},
   "outputs": [
    {
     "data": {
      "text/plain": [
       "(10350, 7)"
      ]
     },
     "execution_count": 306,
     "metadata": {},
     "output_type": "execute_result"
    }
   ],
   "source": [
    "df.shape"
   ]
  },
  {
   "cell_type": "markdown",
   "metadata": {},
   "source": [
    "> 删除存在空值NaN的行"
   ]
  },
  {
   "cell_type": "code",
   "execution_count": 307,
   "metadata": {},
   "outputs": [
    {
     "data": {
      "text/plain": [
       "App            0\n",
       "Rating      1465\n",
       "Reviews        0\n",
       "Installs       0\n",
       "Type           1\n",
       "Price          0\n",
       "Genres         0\n",
       "dtype: int64"
      ]
     },
     "execution_count": 307,
     "metadata": {},
     "output_type": "execute_result"
    }
   ],
   "source": [
    "df.isnull().sum()#查看空值情况"
   ]
  },
  {
   "cell_type": "code",
   "execution_count": 308,
   "metadata": {},
   "outputs": [],
   "source": [
    "df.dropna(inplace=True) #删除空值所在行"
   ]
  },
  {
   "cell_type": "code",
   "execution_count": 309,
   "metadata": {},
   "outputs": [
    {
     "data": {
      "text/plain": [
       "App         0\n",
       "Rating      0\n",
       "Reviews     0\n",
       "Installs    0\n",
       "Type        0\n",
       "Price       0\n",
       "Genres      0\n",
       "dtype: int64"
      ]
     },
     "execution_count": 309,
     "metadata": {},
     "output_type": "execute_result"
    }
   ],
   "source": [
    "df.isnull().sum()#核实删除情况"
   ]
  },
  {
   "cell_type": "markdown",
   "metadata": {},
   "source": [
    ">再次检查整个数据"
   ]
  },
  {
   "cell_type": "code",
   "execution_count": 310,
   "metadata": {},
   "outputs": [
    {
     "name": "stdout",
     "output_type": "stream",
     "text": [
      "---column: App---\n",
      "ROBLOX                                            8\n",
      "8 Ball Pool                                       7\n",
      "Zombie Catchers                                   6\n",
      "Helix Jump                                        6\n",
      "Bubble Shooter                                    6\n",
      "Bowmasters                                        5\n",
      "Angry Birds Classic                               5\n",
      "Duolingo: Learn Languages Free                    5\n",
      "Candy Crush Saga                                  5\n",
      "slither.io                                        5\n",
      "Subway Surfers                                    5\n",
      "Granny                                            5\n",
      "Zombie Tsunami                                    5\n",
      "Farm Heroes Saga                                  5\n",
      "Temple Run 2                                      5\n",
      "BeautyPlus - Easy Photo Editor & Selfie Camera    4\n",
      "PUBG MOBILE                                       4\n",
      "Hangouts                                          4\n",
      "Google Photos                                     4\n",
      "Hill Climb Racing                                 4\n",
      "Name: App, dtype: int64\n",
      "\n",
      "\n",
      "---column: Rating---\n",
      "4.4    1031\n",
      "4.3    1016\n",
      "4.5     976\n",
      "4.2     886\n",
      "4.6     767\n",
      "4.1     656\n",
      "4.0     539\n",
      "4.7     482\n",
      "3.9     372\n",
      "3.8     293\n",
      "5.0     271\n",
      "3.7     231\n",
      "4.8     228\n",
      "3.6     169\n",
      "3.5     157\n",
      "3.4     127\n",
      "3.3     101\n",
      "4.9      87\n",
      "3.0      82\n",
      "3.1      69\n",
      "Name: Rating, dtype: int64\n",
      "\n",
      "\n",
      "---column: Reviews---\n",
      "2     82\n",
      "3     76\n",
      "4     74\n",
      "5     74\n",
      "1     67\n",
      "7     62\n",
      "6     60\n",
      "8     55\n",
      "12    51\n",
      "10    45\n",
      "11    39\n",
      "9     38\n",
      "13    37\n",
      "17    35\n",
      "19    33\n",
      "16    31\n",
      "14    30\n",
      "20    28\n",
      "25    27\n",
      "21    27\n",
      "Name: Reviews, dtype: int64\n",
      "\n",
      "\n",
      "---column: Installs---\n",
      "1,000,000+        1485\n",
      "10,000,000+       1128\n",
      "100,000+          1110\n",
      "10,000+            989\n",
      "1,000+             697\n",
      "5,000,000+         682\n",
      "500,000+           516\n",
      "50,000+            462\n",
      "5,000+             426\n",
      "100,000,000+       368\n",
      "100+               303\n",
      "50,000,000+        272\n",
      "500+               199\n",
      "10+                 69\n",
      "500,000,000+        61\n",
      "50+                 56\n",
      "1,000,000,000+      49\n",
      "5+                   9\n",
      "1+                   3\n",
      "Free                 1\n",
      "Name: Installs, dtype: int64\n",
      "\n",
      "\n",
      "---column: Type---\n",
      "Free    8272\n",
      "Paid     612\n",
      "0          1\n",
      "Name: Type, dtype: int64\n",
      "\n",
      "\n",
      "---column: Price---\n",
      "0          8272\n",
      "$2.99       110\n",
      "$0.99       105\n",
      "$4.99        68\n",
      "$1.99        59\n",
      "$3.99        55\n",
      "$1.49        31\n",
      "$2.49        20\n",
      "$5.99        14\n",
      "$9.99        14\n",
      "$6.99        12\n",
      "$399.99      11\n",
      "$4.49         9\n",
      "$14.99        8\n",
      "$7.99         7\n",
      "$3.49         7\n",
      "$12.99        4\n",
      "$8.99         4\n",
      "$29.99        4\n",
      "$19.99        4\n",
      "Name: Price, dtype: int64\n",
      "\n",
      "\n",
      "---column: Genres---\n",
      "Tools               732\n",
      "Entertainment       497\n",
      "Education           445\n",
      "Action              349\n",
      "Productivity        334\n",
      "Finance             317\n",
      "Personalization     310\n",
      "Communication       307\n",
      "Photography         304\n",
      "Lifestyle           304\n",
      "Medical             302\n",
      "Sports              299\n",
      "Business            270\n",
      "Health & Fitness    262\n",
      "Social              244\n",
      "News & Magazines    214\n",
      "Arcade              205\n",
      "Travel & Local      204\n",
      "Shopping            201\n",
      "Simulation          193\n",
      "Name: Genres, dtype: int64\n",
      "\n",
      "\n"
     ]
    }
   ],
   "source": [
    "#查看各columns的概况\n",
    "def scan_column():\n",
    "    for c in df.columns:\n",
    "        print('---column: {}---'.format(c))\n",
    "        print(df[c].value_counts().nlargest(20)) #查看每一列情况，按照次数由多到少，仅显示最多的20项\n",
    "        print('\\n')\n",
    "scan_column()        "
   ]
  },
  {
   "cell_type": "markdown",
   "metadata": {},
   "source": [
    "通过查看各columns情况，发现以下2个问题：\n",
    "\n",
    "1，App一列中，同一个名称存在出现不止一次的情况，甚至最多存在8次\n",
    "\n",
    "2，Type一列中，出现了一个0，该行应该是坏数据\n",
    "\n",
    "3，Install列中，出现一个free，该行应该是坏数据"
   ]
  },
  {
   "cell_type": "code",
   "execution_count": 311,
   "metadata": {},
   "outputs": [
    {
     "data": {
      "text/plain": [
       "688"
      ]
     },
     "execution_count": 311,
     "metadata": {},
     "output_type": "execute_result"
    }
   ],
   "source": [
    "df.duplicated(subset='App').sum() #一共多出了688行"
   ]
  },
  {
   "cell_type": "code",
   "execution_count": 312,
   "metadata": {},
   "outputs": [
    {
     "data": {
      "text/html": [
       "<div>\n",
       "<style scoped>\n",
       "    .dataframe tbody tr th:only-of-type {\n",
       "        vertical-align: middle;\n",
       "    }\n",
       "\n",
       "    .dataframe tbody tr th {\n",
       "        vertical-align: top;\n",
       "    }\n",
       "\n",
       "    .dataframe thead th {\n",
       "        text-align: right;\n",
       "    }\n",
       "</style>\n",
       "<table border=\"1\" class=\"dataframe\">\n",
       "  <thead>\n",
       "    <tr style=\"text-align: right;\">\n",
       "      <th></th>\n",
       "      <th>App</th>\n",
       "      <th>Rating</th>\n",
       "      <th>Reviews</th>\n",
       "      <th>Installs</th>\n",
       "      <th>Type</th>\n",
       "      <th>Price</th>\n",
       "      <th>Genres</th>\n",
       "    </tr>\n",
       "  </thead>\n",
       "  <tbody>\n",
       "    <tr>\n",
       "      <th>1679</th>\n",
       "      <td>Granny</td>\n",
       "      <td>4.5</td>\n",
       "      <td>1135631</td>\n",
       "      <td>50,000,000+</td>\n",
       "      <td>Free</td>\n",
       "      <td>0</td>\n",
       "      <td>Arcade</td>\n",
       "    </tr>\n",
       "    <tr>\n",
       "      <th>1724</th>\n",
       "      <td>Granny</td>\n",
       "      <td>4.5</td>\n",
       "      <td>1137271</td>\n",
       "      <td>50,000,000+</td>\n",
       "      <td>Free</td>\n",
       "      <td>0</td>\n",
       "      <td>Arcade</td>\n",
       "    </tr>\n",
       "    <tr>\n",
       "      <th>1754</th>\n",
       "      <td>Granny</td>\n",
       "      <td>4.5</td>\n",
       "      <td>1137267</td>\n",
       "      <td>50,000,000+</td>\n",
       "      <td>Free</td>\n",
       "      <td>0</td>\n",
       "      <td>Arcade</td>\n",
       "    </tr>\n",
       "    <tr>\n",
       "      <th>1901</th>\n",
       "      <td>Granny</td>\n",
       "      <td>4.5</td>\n",
       "      <td>1138239</td>\n",
       "      <td>50,000,000+</td>\n",
       "      <td>Free</td>\n",
       "      <td>0</td>\n",
       "      <td>Arcade</td>\n",
       "    </tr>\n",
       "    <tr>\n",
       "      <th>4148</th>\n",
       "      <td>Granny</td>\n",
       "      <td>4.5</td>\n",
       "      <td>1128805</td>\n",
       "      <td>50,000,000+</td>\n",
       "      <td>Free</td>\n",
       "      <td>0</td>\n",
       "      <td>Arcade</td>\n",
       "    </tr>\n",
       "  </tbody>\n",
       "</table>\n",
       "</div>"
      ],
      "text/plain": [
       "         App  Rating  Reviews     Installs  Type Price  Genres\n",
       "1679  Granny     4.5  1135631  50,000,000+  Free     0  Arcade\n",
       "1724  Granny     4.5  1137271  50,000,000+  Free     0  Arcade\n",
       "1754  Granny     4.5  1137267  50,000,000+  Free     0  Arcade\n",
       "1901  Granny     4.5  1138239  50,000,000+  Free     0  Arcade\n",
       "4148  Granny     4.5  1128805  50,000,000+  Free     0  Arcade"
      ]
     },
     "execution_count": 312,
     "metadata": {},
     "output_type": "execute_result"
    }
   ],
   "source": [
    "df.query('App ==\"Granny\" ')#随意选取其中一个存在重复的App，查看具体情况。发现除了Reviews一项不同，其他都一致"
   ]
  },
  {
   "cell_type": "code",
   "execution_count": 313,
   "metadata": {},
   "outputs": [],
   "source": [
    "df.sort_values(by=['App','Reviews'], ascending=False,inplace=True) #先对APP进行排序，再对Reviews进行排序，降序排列"
   ]
  },
  {
   "cell_type": "code",
   "execution_count": 314,
   "metadata": {},
   "outputs": [],
   "source": [
    "df.drop_duplicates(subset = 'App', inplace=True) #针对App列values相同的项，进行去重"
   ]
  },
  {
   "cell_type": "code",
   "execution_count": 315,
   "metadata": {},
   "outputs": [
    {
     "data": {
      "text/plain": [
       "0"
      ]
     },
     "execution_count": 315,
     "metadata": {},
     "output_type": "execute_result"
    }
   ],
   "source": [
    "df.duplicated(subset='App').sum()  #再次查重核实去重效果"
   ]
  },
  {
   "cell_type": "code",
   "execution_count": 316,
   "metadata": {},
   "outputs": [
    {
     "data": {
      "text/html": [
       "<div>\n",
       "<style scoped>\n",
       "    .dataframe tbody tr th:only-of-type {\n",
       "        vertical-align: middle;\n",
       "    }\n",
       "\n",
       "    .dataframe tbody tr th {\n",
       "        vertical-align: top;\n",
       "    }\n",
       "\n",
       "    .dataframe thead th {\n",
       "        text-align: right;\n",
       "    }\n",
       "</style>\n",
       "<table border=\"1\" class=\"dataframe\">\n",
       "  <thead>\n",
       "    <tr style=\"text-align: right;\">\n",
       "      <th></th>\n",
       "      <th>App</th>\n",
       "      <th>Rating</th>\n",
       "      <th>Reviews</th>\n",
       "      <th>Installs</th>\n",
       "      <th>Type</th>\n",
       "      <th>Price</th>\n",
       "      <th>Genres</th>\n",
       "    </tr>\n",
       "  </thead>\n",
       "  <tbody>\n",
       "    <tr>\n",
       "      <th>10472</th>\n",
       "      <td>Life Made WI-Fi Touchscreen Photo Frame</td>\n",
       "      <td>19.0</td>\n",
       "      <td>3.0M</td>\n",
       "      <td>Free</td>\n",
       "      <td>0</td>\n",
       "      <td>Everyone</td>\n",
       "      <td>February 11, 2018</td>\n",
       "    </tr>\n",
       "  </tbody>\n",
       "</table>\n",
       "</div>"
      ],
      "text/plain": [
       "                                           App  Rating Reviews Installs Type  \\\n",
       "10472  Life Made WI-Fi Touchscreen Photo Frame    19.0    3.0M     Free    0   \n",
       "\n",
       "          Price             Genres  \n",
       "10472  Everyone  February 11, 2018  "
      ]
     },
     "execution_count": 316,
     "metadata": {},
     "output_type": "execute_result"
    }
   ],
   "source": [
    "df.query('Type == \"0\"') #查看Type为0的一行的具体情况，发现该行数据的确存在数据异常"
   ]
  },
  {
   "cell_type": "code",
   "execution_count": 317,
   "metadata": {},
   "outputs": [
    {
     "data": {
      "text/plain": [
       "(8197, 7)"
      ]
     },
     "execution_count": 317,
     "metadata": {},
     "output_type": "execute_result"
    }
   ],
   "source": [
    "df.shape"
   ]
  },
  {
   "cell_type": "code",
   "execution_count": 318,
   "metadata": {},
   "outputs": [],
   "source": [
    "df.drop([10472], axis=0,inplace=True) #删除该行，解决上面的2，3两个问题"
   ]
  },
  {
   "cell_type": "code",
   "execution_count": 319,
   "metadata": {},
   "outputs": [
    {
     "data": {
      "text/plain": [
       "(8196, 7)"
      ]
     },
     "execution_count": 319,
     "metadata": {},
     "output_type": "execute_result"
    }
   ],
   "source": [
    "df.shape"
   ]
  },
  {
   "cell_type": "code",
   "execution_count": 320,
   "metadata": {},
   "outputs": [
    {
     "name": "stdout",
     "output_type": "stream",
     "text": [
      "---column: App---\n",
      "Space Shooter : Galaxy Attack                                                               1\n",
      "BN Pro ArialXL-b Neon HD Text                                                               1\n",
      "Knightfall™ AR                                                                              1\n",
      "Oral-B App                                                                                  1\n",
      "Tee and Mo Bath Time Free                                                                   1\n",
      "ePay.bg                                                                                     1\n",
      "Photo Collage - InstaMag                                                                    1\n",
      "HTC Sense Input - CZ                                                                        1\n",
      "Fayr - Co-Parenting Simplified                                                              1\n",
      "O Multiple - App Cloner, Duals APP, tarallel                                                1\n",
      "Trulia Mortgage Calculators                                                                 1\n",
      "DG Phone Call Task Switcher                                                                 1\n",
      "Notepad & To do list                                                                        1\n",
      "theScore esports                                                                            1\n",
      "Newton Mail - Email App for Gmail, Outlook, IMAP                                            1\n",
      "FotMob - Live Soccer Scores                                                                 1\n",
      "Blood Pressure Diary                                                                        1\n",
      "Scanning body and undressing people                                                         1\n",
      "Used car is the first car - used car purchase, used car quotation, dealer information to    1\n",
      "Bono’s Pit Bar-B-Q                                                                          1\n",
      "Name: App, dtype: int64\n",
      "\n",
      "\n",
      "---column: Rating---\n",
      "4.3    897\n",
      "4.4    897\n",
      "4.5    849\n",
      "4.2    811\n",
      "4.6    683\n",
      "4.1    621\n",
      "4.0    513\n",
      "4.7    438\n",
      "3.9    359\n",
      "3.8    286\n",
      "5.0    271\n",
      "3.7    224\n",
      "4.8    221\n",
      "3.6    167\n",
      "3.5    156\n",
      "3.4    126\n",
      "3.3    100\n",
      "4.9     85\n",
      "3.0     81\n",
      "3.1     69\n",
      "Name: Rating, dtype: int64\n",
      "\n",
      "\n",
      "---column: Reviews---\n",
      "2     82\n",
      "3     76\n",
      "4     74\n",
      "5     74\n",
      "1     67\n",
      "7     62\n",
      "6     60\n",
      "8     55\n",
      "12    51\n",
      "10    45\n",
      "11    39\n",
      "9     38\n",
      "13    37\n",
      "17    35\n",
      "19    33\n",
      "16    31\n",
      "14    30\n",
      "20    28\n",
      "25    27\n",
      "21    27\n",
      "Name: Reviews, dtype: int64\n",
      "\n",
      "\n",
      "---column: Installs---\n",
      "1,000,000+        1416\n",
      "100,000+          1095\n",
      "10,000+            986\n",
      "10,000,000+        934\n",
      "1,000+             697\n",
      "5,000,000+         608\n",
      "500,000+           504\n",
      "50,000+            457\n",
      "5,000+             425\n",
      "100+               303\n",
      "50,000,000+        203\n",
      "500+               199\n",
      "100,000,000+       188\n",
      "10+                 69\n",
      "50+                 56\n",
      "500,000,000+        24\n",
      "1,000,000,000+      20\n",
      "5+                   9\n",
      "1+                   3\n",
      "Name: Installs, dtype: int64\n",
      "\n",
      "\n",
      "---column: Type---\n",
      "Free    7592\n",
      "Paid     604\n",
      "Name: Type, dtype: int64\n",
      "\n",
      "\n",
      "---column: Price---\n",
      "0          7592\n",
      "$2.99       109\n",
      "$0.99       104\n",
      "$4.99        68\n",
      "$1.99        59\n",
      "$3.99        52\n",
      "$1.49        31\n",
      "$2.49        20\n",
      "$5.99        14\n",
      "$9.99        14\n",
      "$399.99      11\n",
      "$6.99        11\n",
      "$4.49         9\n",
      "$14.99        8\n",
      "$7.99         7\n",
      "$3.49         7\n",
      "$12.99        4\n",
      "$8.99         4\n",
      "$19.99        4\n",
      "$29.99        4\n",
      "Name: Price, dtype: int64\n",
      "\n",
      "\n",
      "---column: Genres---\n",
      "Tools               718\n",
      "Entertainment       471\n",
      "Education           429\n",
      "Finance             302\n",
      "Productivity        301\n",
      "Lifestyle           300\n",
      "Personalization     298\n",
      "Action              292\n",
      "Medical             290\n",
      "Sports              266\n",
      "Photography         263\n",
      "Business            263\n",
      "Communication       256\n",
      "Health & Fitness    244\n",
      "News & Magazines    204\n",
      "Social              203\n",
      "Simulation          187\n",
      "Travel & Local      186\n",
      "Shopping            180\n",
      "Arcade              171\n",
      "Name: Genres, dtype: int64\n",
      "\n",
      "\n"
     ]
    }
   ],
   "source": [
    "scan_column() #再次查看各column情况，确认无明显异常数据"
   ]
  },
  {
   "cell_type": "code",
   "execution_count": 321,
   "metadata": {},
   "outputs": [],
   "source": [
    "df.to_csv('cleanned_google_app.csv') #将更改后的df储存"
   ]
  },
  {
   "cell_type": "markdown",
   "metadata": {},
   "source": [
    "## 3. 数据探索分析"
   ]
  },
  {
   "cell_type": "code",
   "execution_count": 322,
   "metadata": {},
   "outputs": [],
   "source": [
    "import pandas as pd\n",
    "import numpy as np\n",
    "import matplotlib.pyplot as plt\n"
   ]
  },
  {
   "cell_type": "code",
   "execution_count": 323,
   "metadata": {},
   "outputs": [
    {
     "data": {
      "text/html": [
       "<div>\n",
       "<style scoped>\n",
       "    .dataframe tbody tr th:only-of-type {\n",
       "        vertical-align: middle;\n",
       "    }\n",
       "\n",
       "    .dataframe tbody tr th {\n",
       "        vertical-align: top;\n",
       "    }\n",
       "\n",
       "    .dataframe thead th {\n",
       "        text-align: right;\n",
       "    }\n",
       "</style>\n",
       "<table border=\"1\" class=\"dataframe\">\n",
       "  <thead>\n",
       "    <tr style=\"text-align: right;\">\n",
       "      <th></th>\n",
       "      <th>App</th>\n",
       "      <th>Rating</th>\n",
       "      <th>Reviews</th>\n",
       "      <th>Installs</th>\n",
       "      <th>Type</th>\n",
       "      <th>Price</th>\n",
       "      <th>Genres</th>\n",
       "    </tr>\n",
       "  </thead>\n",
       "  <tbody>\n",
       "    <tr>\n",
       "      <th>78</th>\n",
       "      <td>Best Car Wallpapers</td>\n",
       "      <td>4.5</td>\n",
       "      <td>994</td>\n",
       "      <td>100,000+</td>\n",
       "      <td>Free</td>\n",
       "      <td>0</td>\n",
       "      <td>Auto &amp; Vehicles</td>\n",
       "    </tr>\n",
       "    <tr>\n",
       "      <th>9587</th>\n",
       "      <td>HAWK – Force of an Arcade Shooter. Shoot 'em up</td>\n",
       "      <td>4.6</td>\n",
       "      <td>190274</td>\n",
       "      <td>5,000,000+</td>\n",
       "      <td>Free</td>\n",
       "      <td>0</td>\n",
       "      <td>Arcade</td>\n",
       "    </tr>\n",
       "    <tr>\n",
       "      <th>1596</th>\n",
       "      <td>PASS by KT (formerly KT certified)</td>\n",
       "      <td>3.5</td>\n",
       "      <td>7869</td>\n",
       "      <td>1,000,000+</td>\n",
       "      <td>Free</td>\n",
       "      <td>0</td>\n",
       "      <td>Lifestyle</td>\n",
       "    </tr>\n",
       "  </tbody>\n",
       "</table>\n",
       "</div>"
      ],
      "text/plain": [
       "                                                  App  Rating Reviews  \\\n",
       "78                                Best Car Wallpapers     4.5     994   \n",
       "9587  HAWK – Force of an Arcade Shooter. Shoot 'em up     4.6  190274   \n",
       "1596               PASS by KT (formerly KT certified)     3.5    7869   \n",
       "\n",
       "        Installs  Type Price           Genres  \n",
       "78      100,000+  Free     0  Auto & Vehicles  \n",
       "9587  5,000,000+  Free     0           Arcade  \n",
       "1596  1,000,000+  Free     0        Lifestyle  "
      ]
     },
     "execution_count": 323,
     "metadata": {},
     "output_type": "execute_result"
    }
   ],
   "source": [
    "df.sample(3)"
   ]
  },
  {
   "cell_type": "code",
   "execution_count": 324,
   "metadata": {},
   "outputs": [
    {
     "name": "stdout",
     "output_type": "stream",
     "text": [
      "<class 'pandas.core.frame.DataFrame'>\n",
      "Int64Index: 8196 entries, 882 to 8532\n",
      "Data columns (total 7 columns):\n",
      "App         8196 non-null object\n",
      "Rating      8196 non-null float64\n",
      "Reviews     8196 non-null object\n",
      "Installs    8196 non-null object\n",
      "Type        8196 non-null object\n",
      "Price       8196 non-null object\n",
      "Genres      8196 non-null object\n",
      "dtypes: float64(1), object(6)\n",
      "memory usage: 512.2+ KB\n"
     ]
    }
   ],
   "source": [
    "df.info()"
   ]
  },
  {
   "cell_type": "code",
   "execution_count": 325,
   "metadata": {},
   "outputs": [
    {
     "data": {
      "text/plain": [
       "(8196, 7)"
      ]
     },
     "execution_count": 325,
     "metadata": {},
     "output_type": "execute_result"
    }
   ],
   "source": [
    "df.shape"
   ]
  },
  {
   "cell_type": "code",
   "execution_count": 326,
   "metadata": {},
   "outputs": [
    {
     "data": {
      "text/html": [
       "<div>\n",
       "<style scoped>\n",
       "    .dataframe tbody tr th:only-of-type {\n",
       "        vertical-align: middle;\n",
       "    }\n",
       "\n",
       "    .dataframe tbody tr th {\n",
       "        vertical-align: top;\n",
       "    }\n",
       "\n",
       "    .dataframe thead th {\n",
       "        text-align: right;\n",
       "    }\n",
       "</style>\n",
       "<table border=\"1\" class=\"dataframe\">\n",
       "  <thead>\n",
       "    <tr style=\"text-align: right;\">\n",
       "      <th></th>\n",
       "      <th>Rating</th>\n",
       "    </tr>\n",
       "  </thead>\n",
       "  <tbody>\n",
       "    <tr>\n",
       "      <th>count</th>\n",
       "      <td>8196.000000</td>\n",
       "    </tr>\n",
       "    <tr>\n",
       "      <th>mean</th>\n",
       "      <td>4.173084</td>\n",
       "    </tr>\n",
       "    <tr>\n",
       "      <th>std</th>\n",
       "      <td>0.536522</td>\n",
       "    </tr>\n",
       "    <tr>\n",
       "      <th>min</th>\n",
       "      <td>1.000000</td>\n",
       "    </tr>\n",
       "    <tr>\n",
       "      <th>25%</th>\n",
       "      <td>4.000000</td>\n",
       "    </tr>\n",
       "    <tr>\n",
       "      <th>50%</th>\n",
       "      <td>4.300000</td>\n",
       "    </tr>\n",
       "    <tr>\n",
       "      <th>75%</th>\n",
       "      <td>4.500000</td>\n",
       "    </tr>\n",
       "    <tr>\n",
       "      <th>max</th>\n",
       "      <td>5.000000</td>\n",
       "    </tr>\n",
       "  </tbody>\n",
       "</table>\n",
       "</div>"
      ],
      "text/plain": [
       "            Rating\n",
       "count  8196.000000\n",
       "mean      4.173084\n",
       "std       0.536522\n",
       "min       1.000000\n",
       "25%       4.000000\n",
       "50%       4.300000\n",
       "75%       4.500000\n",
       "max       5.000000"
      ]
     },
     "execution_count": 326,
     "metadata": {},
     "output_type": "execute_result"
    }
   ],
   "source": [
    "df.describe()"
   ]
  },
  {
   "cell_type": "markdown",
   "metadata": {},
   "source": [
    "> 经过查看数据类型，发现Reviews一列为object类型，应将其转换为int"
   ]
  },
  {
   "cell_type": "code",
   "execution_count": 327,
   "metadata": {},
   "outputs": [],
   "source": [
    "df['Reviews'] = df['Reviews'].astype(int)"
   ]
  },
  {
   "cell_type": "code",
   "execution_count": 328,
   "metadata": {},
   "outputs": [
    {
     "name": "stdout",
     "output_type": "stream",
     "text": [
      "<class 'pandas.core.frame.DataFrame'>\n",
      "Int64Index: 8196 entries, 882 to 8532\n",
      "Data columns (total 7 columns):\n",
      "App         8196 non-null object\n",
      "Rating      8196 non-null float64\n",
      "Reviews     8196 non-null int64\n",
      "Installs    8196 non-null object\n",
      "Type        8196 non-null object\n",
      "Price       8196 non-null object\n",
      "Genres      8196 non-null object\n",
      "dtypes: float64(1), int64(1), object(5)\n",
      "memory usage: 512.2+ KB\n"
     ]
    }
   ],
   "source": [
    "df.info()"
   ]
  },
  {
   "cell_type": "code",
   "execution_count": 329,
   "metadata": {},
   "outputs": [
    {
     "data": {
      "text/html": [
       "<div>\n",
       "<style scoped>\n",
       "    .dataframe tbody tr th:only-of-type {\n",
       "        vertical-align: middle;\n",
       "    }\n",
       "\n",
       "    .dataframe tbody tr th {\n",
       "        vertical-align: top;\n",
       "    }\n",
       "\n",
       "    .dataframe thead th {\n",
       "        text-align: right;\n",
       "    }\n",
       "</style>\n",
       "<table border=\"1\" class=\"dataframe\">\n",
       "  <thead>\n",
       "    <tr style=\"text-align: right;\">\n",
       "      <th></th>\n",
       "      <th>Rating</th>\n",
       "      <th>Reviews</th>\n",
       "    </tr>\n",
       "  </thead>\n",
       "  <tbody>\n",
       "    <tr>\n",
       "      <th>count</th>\n",
       "      <td>8196.000000</td>\n",
       "      <td>8.196000e+03</td>\n",
       "    </tr>\n",
       "    <tr>\n",
       "      <th>mean</th>\n",
       "      <td>4.173084</td>\n",
       "      <td>2.552483e+05</td>\n",
       "    </tr>\n",
       "    <tr>\n",
       "      <th>std</th>\n",
       "      <td>0.536522</td>\n",
       "      <td>1.985679e+06</td>\n",
       "    </tr>\n",
       "    <tr>\n",
       "      <th>min</th>\n",
       "      <td>1.000000</td>\n",
       "      <td>1.000000e+00</td>\n",
       "    </tr>\n",
       "    <tr>\n",
       "      <th>25%</th>\n",
       "      <td>4.000000</td>\n",
       "      <td>1.260000e+02</td>\n",
       "    </tr>\n",
       "    <tr>\n",
       "      <th>50%</th>\n",
       "      <td>4.300000</td>\n",
       "      <td>3.004000e+03</td>\n",
       "    </tr>\n",
       "    <tr>\n",
       "      <th>75%</th>\n",
       "      <td>4.500000</td>\n",
       "      <td>4.371950e+04</td>\n",
       "    </tr>\n",
       "    <tr>\n",
       "      <th>max</th>\n",
       "      <td>5.000000</td>\n",
       "      <td>7.815831e+07</td>\n",
       "    </tr>\n",
       "  </tbody>\n",
       "</table>\n",
       "</div>"
      ],
      "text/plain": [
       "            Rating       Reviews\n",
       "count  8196.000000  8.196000e+03\n",
       "mean      4.173084  2.552483e+05\n",
       "std       0.536522  1.985679e+06\n",
       "min       1.000000  1.000000e+00\n",
       "25%       4.000000  1.260000e+02\n",
       "50%       4.300000  3.004000e+03\n",
       "75%       4.500000  4.371950e+04\n",
       "max       5.000000  7.815831e+07"
      ]
     },
     "execution_count": 329,
     "metadata": {},
     "output_type": "execute_result"
    }
   ],
   "source": [
    "df.describe()"
   ]
  },
  {
   "cell_type": "markdown",
   "metadata": {},
   "source": [
    "> 尝试将数据可视化"
   ]
  },
  {
   "cell_type": "code",
   "execution_count": 330,
   "metadata": {},
   "outputs": [
    {
     "data": {
      "image/png": "[encoded data removed]",
      "text/plain": [
       "<Figure size 648x432 with 1 Axes>"
      ]
     },
     "metadata": {
      "needs_background": "light"
     },
     "output_type": "display_data"
    }
   ],
   "source": [
    "df.plot.scatter('Rating', 'Reviews',alpha = 0.5,figsize = (9,6));  #Rating , Reviews 两列直接的散点图\n",
    "plt.xlabel('Rating',fontsize = 18)\n",
    "plt.ylabel('Reviews',fontsize = 18)\n",
    "plt.title('The relationshape between Rating and Reviews ',fontsize = 20);"
   ]
  },
  {
   "cell_type": "code",
   "execution_count": 331,
   "metadata": {},
   "outputs": [
    {
     "data": {
      "text/plain": [
       "0.05509815000877059"
      ]
     },
     "execution_count": 331,
     "metadata": {},
     "output_type": "execute_result"
    }
   ],
   "source": [
    "df['Rating'].corr(df['Reviews']) #计算相关性"
   ]
  },
  {
   "cell_type": "code",
   "execution_count": 332,
   "metadata": {},
   "outputs": [
    {
     "data": {
      "text/html": [
       "<div>\n",
       "<style scoped>\n",
       "    .dataframe tbody tr th:only-of-type {\n",
       "        vertical-align: middle;\n",
       "    }\n",
       "\n",
       "    .dataframe tbody tr th {\n",
       "        vertical-align: top;\n",
       "    }\n",
       "\n",
       "    .dataframe thead th {\n",
       "        text-align: right;\n",
       "    }\n",
       "</style>\n",
       "<table border=\"1\" class=\"dataframe\">\n",
       "  <thead>\n",
       "    <tr style=\"text-align: right;\">\n",
       "      <th></th>\n",
       "      <th>App</th>\n",
       "      <th>Rating</th>\n",
       "      <th>Reviews</th>\n",
       "      <th>Installs</th>\n",
       "      <th>Type</th>\n",
       "      <th>Price</th>\n",
       "      <th>Genres</th>\n",
       "    </tr>\n",
       "  </thead>\n",
       "  <tbody>\n",
       "    <tr>\n",
       "      <th>882</th>\n",
       "      <td>🔥 Football Wallpapers 4K | Full HD Backgrounds 😍</td>\n",
       "      <td>4.7</td>\n",
       "      <td>11661</td>\n",
       "      <td>1,000,000+</td>\n",
       "      <td>Free</td>\n",
       "      <td>0</td>\n",
       "      <td>Entertainment</td>\n",
       "    </tr>\n",
       "    <tr>\n",
       "      <th>7559</th>\n",
       "      <td>📏 Smart Ruler ↔️ cm/inch measuring for homework!</td>\n",
       "      <td>4.0</td>\n",
       "      <td>19</td>\n",
       "      <td>10,000+</td>\n",
       "      <td>Free</td>\n",
       "      <td>0</td>\n",
       "      <td>Tools</td>\n",
       "    </tr>\n",
       "    <tr>\n",
       "      <th>2575</th>\n",
       "      <td>💘 WhatsLov: Smileys of love, stickers and GIF</td>\n",
       "      <td>4.6</td>\n",
       "      <td>22098</td>\n",
       "      <td>1,000,000+</td>\n",
       "      <td>Free</td>\n",
       "      <td>0</td>\n",
       "      <td>Social</td>\n",
       "    </tr>\n",
       "  </tbody>\n",
       "</table>\n",
       "</div>"
      ],
      "text/plain": [
       "                                                   App  Rating  Reviews  \\\n",
       "882   🔥 Football Wallpapers 4K | Full HD Backgrounds 😍     4.7    11661   \n",
       "7559  📏 Smart Ruler ↔️ cm/inch measuring for homework!     4.0       19   \n",
       "2575     💘 WhatsLov: Smileys of love, stickers and GIF     4.6    22098   \n",
       "\n",
       "        Installs  Type Price         Genres  \n",
       "882   1,000,000+  Free     0  Entertainment  \n",
       "7559     10,000+  Free     0          Tools  \n",
       "2575  1,000,000+  Free     0         Social  "
      ]
     },
     "execution_count": 332,
     "metadata": {},
     "output_type": "execute_result"
    }
   ],
   "source": [
    "df.head(3)"
   ]
  },
  {
   "cell_type": "code",
   "execution_count": 333,
   "metadata": {},
   "outputs": [
    {
     "data": {
      "image/png": "[encoded data removed]",
      "text/plain": [
       "<Figure size 648x432 with 1 Axes>"
      ]
     },
     "metadata": {
      "needs_background": "light"
     },
     "output_type": "display_data"
    }
   ],
   "source": [
    "df.sort_values(by=['Reviews'], ascending = False)[:5].plot.bar('App','Reviews',figsize = (9,6));  #画出App评论数最多的Top5\n",
    "\n",
    "plt.xlabel('App name',fontsize = 18)\n",
    "plt.ylabel('Reviews count',fontsize = 18)\n",
    "plt.title('The 5 most Reviews count App ',fontsize = 25);"
   ]
  },
  {
   "cell_type": "code",
   "execution_count": 334,
   "metadata": {},
   "outputs": [
    {
     "data": {
      "text/plain": [
       "4.173084431429965"
      ]
     },
     "execution_count": 334,
     "metadata": {},
     "output_type": "execute_result"
    },
    {
     "data": {
      "image/png": "[encoded data removed]",
      "text/plain": [
       "<Figure size 576x432 with 1 Axes>"
      ]
     },
     "metadata": {
      "needs_background": "light"
     },
     "output_type": "display_data"
    }
   ],
   "source": [
    "df['Rating'].plot.hist(bins=60, figsize = (8,6)); #评分的分布形态\n",
    "Rating_mean = df['Rating'].mean()\n",
    "plt.axvline(Rating_mean, color='r')\n",
    "\n",
    "plt.xlabel('Rating',fontsize = 18)\n",
    "plt.ylabel('Frequency',fontsize = 18)\n",
    "plt.title('The distribution of Rating ',fontsize = 20)\n",
    "\n",
    "Rating_mean"
   ]
  },
  {
   "cell_type": "code",
   "execution_count": 335,
   "metadata": {},
   "outputs": [
    {
     "data": {
      "text/plain": [
       "Type\n",
       "Free    4.166201\n",
       "Paid    4.259603\n",
       "Name: Rating, dtype: float64"
      ]
     },
     "execution_count": 335,
     "metadata": {},
     "output_type": "execute_result"
    },
    {
     "data": {
      "image/png": "[encoded data removed]",
      "text/plain": [
       "<Figure size 576x360 with 1 Axes>"
      ]
     },
     "metadata": {
      "needs_background": "light"
     },
     "output_type": "display_data"
    }
   ],
   "source": [
    "df.groupby('Type')['Rating'].mean().plot.bar(figsize = (8,5)); #对不同类别的app，进行分数对比\n",
    "\n",
    "plt.xlabel('Type',fontsize = 18)\n",
    "plt.ylabel('Mean Reviews',fontsize = 18)\n",
    "plt.title('The mean reviews of different types App ',fontsize = 20)\n",
    "\n",
    "df.groupby('Type')['Rating'].mean()"
   ]
  },
  {
   "cell_type": "markdown",
   "metadata": {},
   "source": [
    "在数据的探索性分析中，请确保你对数据分析中的关键步骤和推理过程进行了记录。你可以自己插入code cell和markdown cell来组织你的报告。"
   ]
  },
  {
   "cell_type": "markdown",
   "metadata": {},
   "source": [
    "## 4. 得出结论"
   ]
  },
  {
   "cell_type": "markdown",
   "metadata": {},
   "source": [
    "**问题**：上面的分析能够回答你提出的问题？通过这些分析你能够得出哪些结论？\n",
    "\n",
    "**答案**：\n",
    "\n",
    "1，App的评价数量与评分无明显线性相关关系，二者的相关系数仅为0.055。\n",
    "\n",
    "2，评论数最多的5个App是：Facebook，WhatsApp Messenger，Instagram，Messenger – Text and Video Chat for Free，Clash of Clans\n",
    "\n",
    "3，评分的分布形态近似为正态分布，且为左偏态，评分均值为4.17分\n",
    "                \n",
    "4，从评论分数上看，付费App的评价稍好，付费的App评分均值为4.26，而免费的App评分均值为4.17。"
   ]
  },
  {
   "cell_type": "markdown",
   "metadata": {},
   "source": [
    "## 反思"
   ]
  },
  {
   "cell_type": "markdown",
   "metadata": {},
   "source": [
    "**问题**：在你的分析和总结过程中是否存在逻辑严谨。是否有改进的空间? 你可以从下面的一些角度进行思考：\n",
    "1. 数据集是否完整，包含所有想要分析的数据？\n",
    "2. 在对数据进行处理的时候，你的操作（例如删除/填充缺失值）是否可能影响结论？\n",
    "3. 是否还有其他变量（本数据中没有）能够对你的分析有帮助？\n",
    "4. 在得出结论时，你是否混淆了相关性和因果性？\n",
    "\n",
    "**答案**：\n",
    "\n",
    "1，数据集并不十分完整，尚未包含所以想要分析的数据。\n",
    "\n",
    "2，数据清洗时，由于删除了部分缺失值，这难免会减少样本数量，对数据分析及其结论的得出会产生影响。\n",
    "\n",
    "3，有，如若有对应用户卸载数的数据和在试用用户的数据，便可更好的分析App的受欢迎程度。\n",
    "\n",
    "4，否，在得出结论时，仅对数据结果进行描述和相关性分析，并未做任何因果分析。"
   ]
  },
  {
   "cell_type": "markdown",
   "metadata": {},
   "source": [
    "恭喜你完成了此项目！这只是数据分析过程的一个样本：从生成问题、整理数据、探索数据到得出结论。在数据分析(进阶)纳米学位中，你将会学到更多高级的数据分析方法和技术，如果你感兴趣的话，我们鼓励你继续学习后续的课程，掌握更多的数据分析的高级技能！"
   ]
  },
  {
   "cell_type": "markdown",
   "metadata": {},
   "source": [
    "> 若想与他人分享我们的分析结果，除了向他们提供 jupyter Notebook (.ipynb) 文件的副本外，我们还可以将 Notebook 输出导出为一种甚至那些未安装 Python 的人都能打开的形式。从左上方的“文件”菜单，前往“下载为”子菜单。然后你可以选择一个可以更普遍查看的格式，例如 HTML (.html) 。你可能需要额外软件包或软件来执行这些导出。"
   ]
  }
 ],
 "metadata": {
  "kernelspec": {
   "display_name": "Python 3",
   "language": "python",
   "name": "python3"
  },
  "language_info": {
   "codemirror_mode": {
    "name": "ipython",
    "version": 3
   },
   "file_extension": ".py",
   "mimetype": "text/x-python",
   "name": "python",
   "nbconvert_exporter": "python",
   "pygments_lexer": "ipython3",
   "version": "3.7.1"
  }
 },
 "nbformat": 4,
 "nbformat_minor": 2
}
