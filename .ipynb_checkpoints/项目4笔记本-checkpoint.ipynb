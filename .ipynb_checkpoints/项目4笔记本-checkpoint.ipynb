{
 "cells": [
  {
   "cell_type": "markdown",
   "metadata": {},
   "source": [
    "<a id='wrangling'></a>\n",
    "## 鏁版嵁鏁寸悊\n",
    "\n",
    "> **鎻愮ず**锛氬湪鎶ュ憡鐨勮繖涓€閮ㄥ垎涓浇鍏ユ暟鎹紝妫€鏌ョ畝娲佸害锛岀劧鍚庢暣鐞嗗拰娓呯悊鏁版嵁闆嗭紝浠ヤ究杩涜鍒嗘瀽銆傝鍔″繀灏嗘楠や粩缁嗗綊妗ｏ紝骞剁‘瀹氭竻鐞嗗喅绛栨槸鍚︽纭€俓n\n",
    "### 甯歌灞炴€�"
   ]
  },
  {
   "cell_type": "markdown",
   "metadata": {},
   "source": [
    "<a id='wrangling'></a>\n",
    "## 鏁版嵁鏁寸悊\n",
    "\n",
    "> **鎻愮ず**锛氬湪鎶ュ憡鐨勮繖涓€閮ㄥ垎涓浇鍏ユ暟鎹紝妫€鏌ョ畝娲佸害锛岀劧鍚庢暣鐞嗗拰娓呯悊鏁版嵁闆嗭紝浠ヤ究杩涜鍒嗘瀽銆傝鍔″繀灏嗘楠や粩缁嗗綊妗ｏ紝骞剁‘瀹氭竻鐞嗗喅绛栨槸鍚︽纭€俓n\n",
    "### 甯歌灞炴€�"
   ]
  },
  {
   "cell_type": "code",
   "execution_count": null,
   "metadata": {},
   "outputs": [],
   "source": [
    "# 鐢ㄨ繖涓瀵逛綘璁″垝浣跨敤鐨勬墍鏈夋暟鎹寘杩涜璁剧疆\n",
    "#   瀵煎叆璇彞銆俓n\n",
    "# 鍔″繀鍖呭惈涓€涓€榤agic word鈥欙紙甯︽湁鈥�%鈥濈殑***锛夛紝浠ヤ究灏嗕綘鐨勮鍥綷n#   涓� notebook 淇濇寔涓€鑷淬€傚叧浜庢洿澶氫俊鎭紝璇疯闂缃戦〉锛歕n#   http://ipython.readthedocs.io/en/stable/interactive/magics.html\n"
   ]
  },
  {
   "cell_type": "markdown",
   "metadata": {},
   "source": [
    "<a id='wrangling'></a>\n",
    "## 鏁版嵁鏁寸悊\n",
    "\n",
    "> **鎻愮ず**锛氬湪鎶ュ憡鐨勮繖涓€閮ㄥ垎涓浇鍏ユ暟鎹紝妫€鏌ョ畝娲佸害锛岀劧鍚庢暣鐞嗗拰娓呯悊鏁版嵁闆嗭紝浠ヤ究杩涜鍒嗘瀽銆傝鍔″繀灏嗘楠や粩缁嗗綊妗ｏ紝骞剁‘瀹氭竻鐞嗗喅绛栨槸鍚︽纭€俓n\n",
    "### 甯歌灞炴€�"
   ]
  },
  {
   "cell_type": "code",
   "execution_count": null,
   "metadata": {},
   "outputs": [],
   "source": []
  },
  {
   "cell_type": "markdown",
   "metadata": {},
   "source": [
    "> **"
   ]
  },
  {
   "cell_type": "code",
   "execution_count": null,
   "metadata": {},
   "outputs": [],
   "source": [
    "# 鍦ㄨ璁烘暟鎹粨鏋勫拰闇€瑕佽В鍐崇殑浠讳綍闂涔嬪悗锛孿n#   鍦ㄦ湰閮ㄥ垎鐨勭浜屽皬閮ㄥ垎杩涜杩欎簺娓呯悊姝ラ銆俓n"
   ]
  },
  {
   "cell_type": "markdown",
   "metadata": {},
   "source": [
    "<a id='eda'></a>\n",
    "## 鎺㈢储鎬ф暟鎹垎鏋怽n\n",
    "> **鎻愮ず**鍦ㄤ綘瀹屾垚鏁版嵁鏁寸悊鍜屾竻鐞嗕箣鍚庯紝鐜板湪鍙互杩涜鎺㈢储鎬ф暟鎹垎鏋愪簡銆備綘闇€瑕佽绠楃粺璁″€硷紝鍒涘缓鍙鍖栧浘琛紝瑙ｅ喅浣犲湪涓€寮€濮嬬殑绠€浠嬮儴鍒嗕腑鎻愬嚭鐨勭爺绌堕棶棰樸€傛垜浠帹鑽愪綘閲囩敤绯荤粺鍖栨柟娉曘€備竴娆″彧鎺㈢储涓€涓彉閲忥紝鐒跺悗鎺㈢储鍙橀噺涔嬮棿鐨勫叧绯汇€俓n\n",
    "### 鐮旂┒闂 1锛堣鏇挎崲杩欎竴鏍囬鍚嶇О銆� 锛�"
   ]
  },
  {
   "cell_type": "code",
   "execution_count": null,
   "metadata": {},
   "outputs": [],
   "source": [
    "# 鐢ㄨ繖涓唬鐮佹鍜屽叾瀹冧唬鐮佹鎺㈢储鏁版嵁銆傝鍔″繀璁板緱娣诲姞\n",
    "#   Markdown 妗嗭紝浠ヤ究璁板綍浣犵殑瑙傚療鍜岃皟鏌ョ粨鏋溿€俓n"
   ]
  },
  {
   "cell_type": "markdown",
   "metadata": {},
   "source": [
    "### 鐮旂┒闂 2锛堣鏇挎崲杩欎竴鏍囬鍚嶇О銆傦級"
   ]
  },
  {
   "cell_type": "code",
   "execution_count": null,
   "metadata": {},
   "outputs": [],
   "source": [
    "# 渶瑕佹坊鍔犳洿澶氭爣棰樸€俓n"
   ]
  },
  {
   "cell_type": "markdown",
   "metadata": {},
   "source": [
    "<a id='conclusions'></a>\n",
    "## \n"
   ]
  },
  {
   "cell_type": "code",
   "execution_count": null,
   "metadata": {},
   "outputs": [],
   "source": [
    "from subprocess import call\n",
    "call(['python', '-m', 'nbconvert', 'Investigate_a_Dataset.ipynb'])"
   ]
  }
 ],
 "metadata": {
  "kernelspec": {
   "display_name": "Python 3",
   "language": "python",
   "name": "python3"
  },
  "language_info": {
   "codemirror_mode": {
    "name": "ipython",
    "version": 3
   },
   "file_extension": ".py",
   "mimetype": "text/x-python",
   "name": "python",
   "nbconvert_exporter": "python",
   "pygments_lexer": "ipython3",
   "version": "3.7.1"
  }
 },
 "nbformat": 4,
 "nbformat_minor": 2
}
